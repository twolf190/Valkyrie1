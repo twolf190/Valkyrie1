{
 "cells": [
  {
   "cell_type": "code",
   "execution_count": 1,
   "id": "9e32357c",
   "metadata": {},
   "outputs": [],
   "source": [
    "import pandas as pd\n",
    "import matplotlib.pyplot as plt\n",
    "import seaborn as sns\n",
    "import os\n",
    "import numpy as np"
   ]
  },
  {
   "cell_type": "code",
   "execution_count": 2,
   "id": "4a35a697",
   "metadata": {},
   "outputs": [],
   "source": [
    "def df_transformation(df):\n",
    "    df_temp = df[features]\n",
    "    df_temp['datetime'] = df_temp.datetime.dt.strftime('%Y-%m-%d %H:%M:%S').astype('datetime64[ns]')\n",
    "\n",
    "    output = df_temp.groupby(by=[\"datetime\"], dropna=False).mean().reset_index()\n",
    "    \n",
    "    return output "
   ]
  },
  {
   "cell_type": "code",
   "execution_count": 3,
   "id": "f0d64658",
   "metadata": {},
   "outputs": [],
   "source": [
    "# Create a custom function for data transformation\n",
    "# May as well import all of these features into the initial dataframe, you can cut it down..\n",
    "# ..when you do the X,y train/test split\n",
    "features = ['datetime',\n",
    "          'latitude',\n",
    "          'longitude',\n",
    "          'absoluteAltitude', \n",
    "          'magneticHeading',\n",
    "          'trueHeading', \n",
    "          'groundSpeed', \n",
    "          'trueAirspeed',\n",
    "          'pitch', \n",
    "          'roll',\n",
    "          'yaw',\n",
    "          'angleOfAttack',\n",
    "          'flightPathAngle',\n",
    "          'verticalFlightPathAngle',\n",
    "          'horizontalFlightPathAngle',\n",
    "          'rollAcceleration',\n",
    "          'pitchAcceleration',\n",
    "          'yawAcceleration',\n",
    "          'e1N1ng',\n",
    "          'e2N1ng',\n",
    "          'e1N2nf',\n",
    "          'e2N2nf',\n",
    "          'mainRotorRpm',\n",
    "          'tailRotorRpm',\n",
    "          'mainRotorTorque',\n",
    "          'e1Itt',\n",
    "          'e2Itt',\n",
    "          'mainRotorInducedInflow',\n",
    "          'flightDirectorPitch',\n",
    "          'flightDirectorRoll',\n",
    "          'climbOrDescentRate', \n",
    "          'hasWeightOnWheels',\n",
    "          'turnRate to degPerSec',\n",
    "          'cyclicPositionPitch',\n",
    "          'cyclicPositionRoll',\n",
    "          'collectivePosition',\n",
    "          'antiTorquePedalPosition',\n",
    "          'throttlePosition',\n",
    "          'e1Torque',\n",
    "          'e2Torque',\n",
    "]\n"
   ]
  },
  {
   "cell_type": "code",
   "execution_count": 4,
   "id": "347c0f85",
   "metadata": {},
   "outputs": [
    {
     "name": "stderr",
     "output_type": "stream",
     "text": [
      "C:\\Users\\twolf\\AppData\\Local\\Temp\\ipykernel_17520\\17026926.py:3: SettingWithCopyWarning: \n",
      "A value is trying to be set on a copy of a slice from a DataFrame.\n",
      "Try using .loc[row_indexer,col_indexer] = value instead\n",
      "\n",
      "See the caveats in the documentation: https://pandas.pydata.org/pandas-docs/stable/user_guide/indexing.html#returning-a-view-versus-a-copy\n",
      "  df_temp['datetime'] = df_temp.datetime.dt.strftime('%Y-%m-%d %H:%M:%S').astype('datetime64[ns]')\n",
      "C:\\Users\\twolf\\AppData\\Local\\Temp\\ipykernel_17520\\17026926.py:3: SettingWithCopyWarning: \n",
      "A value is trying to be set on a copy of a slice from a DataFrame.\n",
      "Try using .loc[row_indexer,col_indexer] = value instead\n",
      "\n",
      "See the caveats in the documentation: https://pandas.pydata.org/pandas-docs/stable/user_guide/indexing.html#returning-a-view-versus-a-copy\n",
      "  df_temp['datetime'] = df_temp.datetime.dt.strftime('%Y-%m-%d %H:%M:%S').astype('datetime64[ns]')\n",
      "C:\\Users\\twolf\\AppData\\Local\\Temp\\ipykernel_17520\\17026926.py:3: SettingWithCopyWarning: \n",
      "A value is trying to be set on a copy of a slice from a DataFrame.\n",
      "Try using .loc[row_indexer,col_indexer] = value instead\n",
      "\n",
      "See the caveats in the documentation: https://pandas.pydata.org/pandas-docs/stable/user_guide/indexing.html#returning-a-view-versus-a-copy\n",
      "  df_temp['datetime'] = df_temp.datetime.dt.strftime('%Y-%m-%d %H:%M:%S').astype('datetime64[ns]')\n",
      "C:\\Users\\twolf\\AppData\\Local\\Temp\\ipykernel_17520\\17026926.py:3: SettingWithCopyWarning: \n",
      "A value is trying to be set on a copy of a slice from a DataFrame.\n",
      "Try using .loc[row_indexer,col_indexer] = value instead\n",
      "\n",
      "See the caveats in the documentation: https://pandas.pydata.org/pandas-docs/stable/user_guide/indexing.html#returning-a-view-versus-a-copy\n",
      "  df_temp['datetime'] = df_temp.datetime.dt.strftime('%Y-%m-%d %H:%M:%S').astype('datetime64[ns]')\n",
      "C:\\Users\\twolf\\AppData\\Local\\Temp\\ipykernel_17520\\17026926.py:3: SettingWithCopyWarning: \n",
      "A value is trying to be set on a copy of a slice from a DataFrame.\n",
      "Try using .loc[row_indexer,col_indexer] = value instead\n",
      "\n",
      "See the caveats in the documentation: https://pandas.pydata.org/pandas-docs/stable/user_guide/indexing.html#returning-a-view-versus-a-copy\n",
      "  df_temp['datetime'] = df_temp.datetime.dt.strftime('%Y-%m-%d %H:%M:%S').astype('datetime64[ns]')\n",
      "C:\\Users\\twolf\\AppData\\Local\\Temp\\ipykernel_17520\\17026926.py:3: SettingWithCopyWarning: \n",
      "A value is trying to be set on a copy of a slice from a DataFrame.\n",
      "Try using .loc[row_indexer,col_indexer] = value instead\n",
      "\n",
      "See the caveats in the documentation: https://pandas.pydata.org/pandas-docs/stable/user_guide/indexing.html#returning-a-view-versus-a-copy\n",
      "  df_temp['datetime'] = df_temp.datetime.dt.strftime('%Y-%m-%d %H:%M:%S').astype('datetime64[ns]')\n"
     ]
    }
   ],
   "source": [
    "# reading files from 9/19 dataset\n",
    "df1 = pd.read_csv('SimData_2022.09.19_16.00.36.csv.roar.csv',\n",
    "                parse_dates = {'datetime': ['date', 'time']},\n",
    "                low_memory=False)\n",
    "df1 = df_transformation(df1)\n",
    "\n",
    "\n",
    "df2 = pd.read_csv('SimData_2022.09.19_16.38.20.csv.roar.csv',\n",
    "                parse_dates = {'datetime': ['date', 'time']},\n",
    "                low_memory=False)\n",
    "df2 = df_transformation(df2)\n",
    "\n",
    "\n",
    "df3 = pd.read_csv('SimData_2022.09.19_17.51.37.csv.roar.csv',\n",
    "                parse_dates = {'datetime': ['date', 'time']},\n",
    "                low_memory=False)\n",
    "df3 = df_transformation(df3)\n",
    "\n",
    "\n",
    "\n",
    "# reading files from 9/20 dataset\n",
    "first_file = pd.read_csv('SimData_2022.09.20_16.22.07.csv.roar.csv',\n",
    "                parse_dates = {'datetime': ['date', 'time']},\n",
    "                low_memory=False)\n",
    "first_file = df_transformation(first_file)\n",
    "\n",
    "\n",
    "second_file = pd.read_csv('SimData_2022.09.20_16.28.31.csv.roar.csv',\n",
    "                parse_dates = {'datetime': ['date', 'time']},\n",
    "                low_memory=False)\n",
    "second_file = df_transformation(second_file)\n",
    "\n",
    "\n",
    "# reading file from 9/22 dataset\n",
    "df4 = pd.read_csv('SimData_2022.09.22_17.11.56.csv.roar.csv',\n",
    "                parse_dates = {'datetime': ['date', 'time']},\n",
    "                low_memory=False)\n",
    "df4 = df_transformation(df4)"
   ]
  },
  {
   "cell_type": "code",
   "execution_count": 5,
   "id": "7b09d503",
   "metadata": {},
   "outputs": [],
   "source": [
    "#Combine files\n",
    "df = pd.concat([first_file,second_file, df1, df2, df3, df4]).reset_index()"
   ]
  },
  {
   "cell_type": "markdown",
   "id": "fb8486ff",
   "metadata": {},
   "source": [
    "# Dataframe for Surface Taxi Maneuver"
   ]
  },
  {
   "cell_type": "code",
   "execution_count": 6,
   "id": "00d8225d",
   "metadata": {},
   "outputs": [],
   "source": [
    "df_s = df.copy()\n",
    "df_s['surface'] = 0\n",
    "\n",
    "df_s.loc[(df_s['datetime'].between('2022-09-19 21:53:50' , '2022-09-19 21:55:55' , inclusive='both')),['surface']] = 1\n",
    "df_s.loc[(df_s['datetime'].between('2022-09-19 22:04:00' , '2022-09-19 22:06:39' , inclusive='both')),['surface']] = 1\n",
    "df_s.loc[(df_s['datetime'].between('2022-09-20 20:25:50' , '2022-09-20 20:27:54' , inclusive='both')),['surface']] = 1\n",
    "df_s.loc[(df_s['datetime'].between('2022-09-22 21:16:37' , '2022-09-22 21:19:56' , inclusive='both')),['surface']] = 1\n",
    "df_s.loc[(df_s['datetime'].between('2022-09-22 21:43:16' , '2022-09-22 21:43:41' , inclusive='both')),['surface']] = 1"
   ]
  },
  {
   "cell_type": "code",
   "execution_count": 7,
   "id": "a1cebf52",
   "metadata": {},
   "outputs": [
    {
     "data": {
      "text/plain": [
       "0    6583\n",
       "1     637\n",
       "Name: surface, dtype: int64"
      ]
     },
     "execution_count": 7,
     "metadata": {},
     "output_type": "execute_result"
    }
   ],
   "source": [
    "df_s['surface'].value_counts()"
   ]
  },
  {
   "cell_type": "markdown",
   "id": "f0464f81",
   "metadata": {},
   "source": [
    "# Edit DF for ML, Class Balance, Select features"
   ]
  },
  {
   "cell_type": "code",
   "execution_count": 8,
   "id": "abe706b0",
   "metadata": {},
   "outputs": [],
   "source": [
    "#Edit the model features to whatever you want to include in your model\n",
    "all_features = [ 'hasWeightOnWheels',\n",
    "            'absoluteAltitude',\n",
    "                 'magneticHeading', \n",
    "                 'groundSpeed', \n",
    "                 'climbOrDescentRate',\n",
    "                 'turnRate to degPerSec',\n",
    "                 'cyclicPositionPitch',\n",
    "                 'cyclicPositionRoll',\n",
    "                 'collectivePosition',\n",
    "                 'antiTorquePedalPosition',\n",
    "                 'throttlePosition',\n",
    "                 'e1Torque',\n",
    "                 'e2Torque', 'surface']\n",
    "\n",
    "df_s = df_s[all_features]"
   ]
  },
  {
   "cell_type": "code",
   "execution_count": 9,
   "id": "09a7287f",
   "metadata": {},
   "outputs": [],
   "source": [
    "df1 = df_s[(df_s['surface'] == 0)].sample(n=637, replace=False, random_state=123458)\n",
    "df2 = pd.concat([df_s[(df_s['surface'] == 1)], df1], ignore_index = True)\n",
    "df2 = df2.sample(frac=1)"
   ]
  },
  {
   "cell_type": "code",
   "execution_count": 10,
   "id": "aec12635",
   "metadata": {},
   "outputs": [
    {
     "data": {
      "text/plain": [
       "1    637\n",
       "0    637\n",
       "Name: surface, dtype: int64"
      ]
     },
     "execution_count": 10,
     "metadata": {},
     "output_type": "execute_result"
    }
   ],
   "source": [
    "df2['surface'].value_counts()"
   ]
  },
  {
   "cell_type": "code",
   "execution_count": 11,
   "id": "62909df0",
   "metadata": {},
   "outputs": [
    {
     "data": {
      "text/html": [
       "<div>\n",
       "<style scoped>\n",
       "    .dataframe tbody tr th:only-of-type {\n",
       "        vertical-align: middle;\n",
       "    }\n",
       "\n",
       "    .dataframe tbody tr th {\n",
       "        vertical-align: top;\n",
       "    }\n",
       "\n",
       "    .dataframe thead th {\n",
       "        text-align: right;\n",
       "    }\n",
       "</style>\n",
       "<table border=\"1\" class=\"dataframe\">\n",
       "  <thead>\n",
       "    <tr style=\"text-align: right;\">\n",
       "      <th></th>\n",
       "      <th>hasWeightOnWheels</th>\n",
       "      <th>absoluteAltitude</th>\n",
       "      <th>magneticHeading</th>\n",
       "      <th>groundSpeed</th>\n",
       "      <th>climbOrDescentRate</th>\n",
       "      <th>turnRate to degPerSec</th>\n",
       "      <th>cyclicPositionPitch</th>\n",
       "      <th>cyclicPositionRoll</th>\n",
       "      <th>collectivePosition</th>\n",
       "      <th>antiTorquePedalPosition</th>\n",
       "      <th>throttlePosition</th>\n",
       "      <th>e1Torque</th>\n",
       "      <th>e2Torque</th>\n",
       "      <th>surface</th>\n",
       "    </tr>\n",
       "  </thead>\n",
       "  <tbody>\n",
       "    <tr>\n",
       "      <th>154</th>\n",
       "      <td>1.0</td>\n",
       "      <td>0.386531</td>\n",
       "      <td>270.137857</td>\n",
       "      <td>11.604612</td>\n",
       "      <td>-0.721184</td>\n",
       "      <td>0.933694</td>\n",
       "      <td>-32.757939</td>\n",
       "      <td>-5.767143</td>\n",
       "      <td>36.149816</td>\n",
       "      <td>3.176469</td>\n",
       "      <td>45.626163</td>\n",
       "      <td>38.395143</td>\n",
       "      <td>38.395143</td>\n",
       "      <td>1</td>\n",
       "    </tr>\n",
       "    <tr>\n",
       "      <th>1244</th>\n",
       "      <td>0.0</td>\n",
       "      <td>2252.375208</td>\n",
       "      <td>153.137229</td>\n",
       "      <td>102.187854</td>\n",
       "      <td>-1103.274125</td>\n",
       "      <td>3.000000</td>\n",
       "      <td>-17.399354</td>\n",
       "      <td>-2.241854</td>\n",
       "      <td>30.872062</td>\n",
       "      <td>30.169167</td>\n",
       "      <td>50.784771</td>\n",
       "      <td>45.805604</td>\n",
       "      <td>45.805604</td>\n",
       "      <td>0</td>\n",
       "    </tr>\n",
       "    <tr>\n",
       "      <th>501</th>\n",
       "      <td>1.0</td>\n",
       "      <td>0.308684</td>\n",
       "      <td>70.627342</td>\n",
       "      <td>13.338237</td>\n",
       "      <td>-2.059053</td>\n",
       "      <td>0.533342</td>\n",
       "      <td>-8.020974</td>\n",
       "      <td>0.779316</td>\n",
       "      <td>35.620632</td>\n",
       "      <td>2.590316</td>\n",
       "      <td>45.569395</td>\n",
       "      <td>38.162632</td>\n",
       "      <td>38.162632</td>\n",
       "      <td>1</td>\n",
       "    </tr>\n",
       "    <tr>\n",
       "      <th>379</th>\n",
       "      <td>1.0</td>\n",
       "      <td>0.355952</td>\n",
       "      <td>58.757595</td>\n",
       "      <td>10.210238</td>\n",
       "      <td>0.744452</td>\n",
       "      <td>0.217405</td>\n",
       "      <td>-1.231905</td>\n",
       "      <td>4.186310</td>\n",
       "      <td>34.004381</td>\n",
       "      <td>0.104762</td>\n",
       "      <td>44.446929</td>\n",
       "      <td>36.164571</td>\n",
       "      <td>36.164571</td>\n",
       "      <td>1</td>\n",
       "    </tr>\n",
       "    <tr>\n",
       "      <th>149</th>\n",
       "      <td>1.0</td>\n",
       "      <td>0.315208</td>\n",
       "      <td>267.120458</td>\n",
       "      <td>3.133375</td>\n",
       "      <td>1.089000</td>\n",
       "      <td>-0.109771</td>\n",
       "      <td>-31.177250</td>\n",
       "      <td>-2.347958</td>\n",
       "      <td>35.475104</td>\n",
       "      <td>-4.042250</td>\n",
       "      <td>44.951687</td>\n",
       "      <td>36.602688</td>\n",
       "      <td>36.602688</td>\n",
       "      <td>1</td>\n",
       "    </tr>\n",
       "  </tbody>\n",
       "</table>\n",
       "</div>"
      ],
      "text/plain": [
       "      hasWeightOnWheels  absoluteAltitude  magneticHeading  groundSpeed  \\\n",
       "154                 1.0          0.386531       270.137857    11.604612   \n",
       "1244                0.0       2252.375208       153.137229   102.187854   \n",
       "501                 1.0          0.308684        70.627342    13.338237   \n",
       "379                 1.0          0.355952        58.757595    10.210238   \n",
       "149                 1.0          0.315208       267.120458     3.133375   \n",
       "\n",
       "      climbOrDescentRate  turnRate to degPerSec  cyclicPositionPitch  \\\n",
       "154            -0.721184               0.933694           -32.757939   \n",
       "1244        -1103.274125               3.000000           -17.399354   \n",
       "501            -2.059053               0.533342            -8.020974   \n",
       "379             0.744452               0.217405            -1.231905   \n",
       "149             1.089000              -0.109771           -31.177250   \n",
       "\n",
       "      cyclicPositionRoll  collectivePosition  antiTorquePedalPosition  \\\n",
       "154            -5.767143           36.149816                 3.176469   \n",
       "1244           -2.241854           30.872062                30.169167   \n",
       "501             0.779316           35.620632                 2.590316   \n",
       "379             4.186310           34.004381                 0.104762   \n",
       "149            -2.347958           35.475104                -4.042250   \n",
       "\n",
       "      throttlePosition   e1Torque   e2Torque  surface  \n",
       "154          45.626163  38.395143  38.395143        1  \n",
       "1244         50.784771  45.805604  45.805604        0  \n",
       "501          45.569395  38.162632  38.162632        1  \n",
       "379          44.446929  36.164571  36.164571        1  \n",
       "149          44.951687  36.602688  36.602688        1  "
      ]
     },
     "execution_count": 11,
     "metadata": {},
     "output_type": "execute_result"
    }
   ],
   "source": [
    "df2.head()"
   ]
  },
  {
   "cell_type": "code",
   "execution_count": 12,
   "id": "15f3bd25",
   "metadata": {},
   "outputs": [
    {
     "data": {
      "text/html": [
       "<div>\n",
       "<style scoped>\n",
       "    .dataframe tbody tr th:only-of-type {\n",
       "        vertical-align: middle;\n",
       "    }\n",
       "\n",
       "    .dataframe tbody tr th {\n",
       "        vertical-align: top;\n",
       "    }\n",
       "\n",
       "    .dataframe thead th {\n",
       "        text-align: right;\n",
       "    }\n",
       "</style>\n",
       "<table border=\"1\" class=\"dataframe\">\n",
       "  <thead>\n",
       "    <tr style=\"text-align: right;\">\n",
       "      <th></th>\n",
       "      <th>hasWeightOnWheels</th>\n",
       "      <th>surface</th>\n",
       "    </tr>\n",
       "  </thead>\n",
       "  <tbody>\n",
       "    <tr>\n",
       "      <th>154</th>\n",
       "      <td>1.0</td>\n",
       "      <td>1</td>\n",
       "    </tr>\n",
       "    <tr>\n",
       "      <th>1244</th>\n",
       "      <td>0.0</td>\n",
       "      <td>0</td>\n",
       "    </tr>\n",
       "    <tr>\n",
       "      <th>501</th>\n",
       "      <td>1.0</td>\n",
       "      <td>1</td>\n",
       "    </tr>\n",
       "    <tr>\n",
       "      <th>379</th>\n",
       "      <td>1.0</td>\n",
       "      <td>1</td>\n",
       "    </tr>\n",
       "    <tr>\n",
       "      <th>149</th>\n",
       "      <td>1.0</td>\n",
       "      <td>1</td>\n",
       "    </tr>\n",
       "    <tr>\n",
       "      <th>...</th>\n",
       "      <td>...</td>\n",
       "      <td>...</td>\n",
       "    </tr>\n",
       "    <tr>\n",
       "      <th>1087</th>\n",
       "      <td>1.0</td>\n",
       "      <td>0</td>\n",
       "    </tr>\n",
       "    <tr>\n",
       "      <th>646</th>\n",
       "      <td>1.0</td>\n",
       "      <td>0</td>\n",
       "    </tr>\n",
       "    <tr>\n",
       "      <th>625</th>\n",
       "      <td>1.0</td>\n",
       "      <td>1</td>\n",
       "    </tr>\n",
       "    <tr>\n",
       "      <th>526</th>\n",
       "      <td>1.0</td>\n",
       "      <td>1</td>\n",
       "    </tr>\n",
       "    <tr>\n",
       "      <th>1186</th>\n",
       "      <td>0.0</td>\n",
       "      <td>0</td>\n",
       "    </tr>\n",
       "  </tbody>\n",
       "</table>\n",
       "<p>1274 rows × 2 columns</p>\n",
       "</div>"
      ],
      "text/plain": [
       "      hasWeightOnWheels  surface\n",
       "154                 1.0        1\n",
       "1244                0.0        0\n",
       "501                 1.0        1\n",
       "379                 1.0        1\n",
       "149                 1.0        1\n",
       "...                 ...      ...\n",
       "1087                1.0        0\n",
       "646                 1.0        0\n",
       "625                 1.0        1\n",
       "526                 1.0        1\n",
       "1186                0.0        0\n",
       "\n",
       "[1274 rows x 2 columns]"
      ]
     },
     "execution_count": 12,
     "metadata": {},
     "output_type": "execute_result"
    }
   ],
   "source": [
    "df2[['hasWeightOnWheels','surface']]"
   ]
  },
  {
   "cell_type": "markdown",
   "id": "53c5d243",
   "metadata": {},
   "source": [
    "# SVM Surface Taxi"
   ]
  },
  {
   "cell_type": "code",
   "execution_count": 13,
   "id": "5882f597",
   "metadata": {},
   "outputs": [],
   "source": [
    "from sklearn.metrics import confusion_matrix\n",
    "from sklearn.model_selection import train_test_split\n",
    "from sklearn.metrics import accuracy_score, ConfusionMatrixDisplay, confusion_matrix, classification_report\n",
    "from sklearn.model_selection import GridSearchCV\n",
    "from sklearn.svm import SVC\n",
    "from sklearn.preprocessing import StandardScaler, MinMaxScaler, RobustScaler\n",
    "from sklearn.utils import resample"
   ]
  },
  {
   "cell_type": "code",
   "execution_count": 27,
   "id": "90d3b302",
   "metadata": {},
   "outputs": [],
   "source": [
    "#Edit the model features to whatever you want to include in your model\n",
    "model_features = [ 'hasWeightOnWheels',\n",
    "            'absoluteAltitude',\n",
    "                 'magneticHeading', \n",
    "                 'groundSpeed', \n",
    "                 'climbOrDescentRate',\n",
    "                 'turnRate to degPerSec',\n",
    "                 'cyclicPositionPitch',\n",
    "                 'cyclicPositionRoll',\n",
    "                 'collectivePosition',\n",
    "                 'antiTorquePedalPosition',\n",
    "                 'throttlePosition',\n",
    "                 'e1Torque',\n",
    "                 'e2Torque']\n",
    "\n",
    "#X is predictor features, y is classifier \n",
    "X = df2[model_features]\n",
    "y = df2['surface']\n",
    "X_train, X_test, y_train, y_test = train_test_split(X, y, test_size=0.33, random_state=516516)"
   ]
  },
  {
   "cell_type": "code",
   "execution_count": 28,
   "id": "753d8db2",
   "metadata": {},
   "outputs": [
    {
     "name": "stdout",
     "output_type": "stream",
     "text": [
      "Accuracy of SVM classifier on training set: 0.97\n",
      "Accuracy of SVM classifier on test set: 0.9596\n"
     ]
    }
   ],
   "source": [
    "#SVC\n",
    "scaler = MinMaxScaler()\n",
    "X_train = scaler.fit_transform(X_train)\n",
    "X_test = scaler.transform(X_test)\n",
    "\n",
    "\n",
    "svm = SVC()\n",
    "\n",
    "\n",
    "svm.fit(X_train, y_train)\n",
    "print('Accuracy of SVM classifier on training set: {:.2f}'\n",
    "     .format(svm.score(X_train, y_train)))\n",
    "print('Accuracy of SVM classifier on test set: {:.4f}'\n",
    "     .format(svm.score(X_test, y_test)))"
   ]
  },
  {
   "cell_type": "code",
   "execution_count": 16,
   "id": "6d7b3852",
   "metadata": {},
   "outputs": [],
   "source": [
    "y_pred=svm.predict(X_test)"
   ]
  },
  {
   "cell_type": "code",
   "execution_count": 17,
   "id": "d7770502",
   "metadata": {},
   "outputs": [
    {
     "data": {
      "image/png": "[encoded data removed]",
      "text/plain": [
       "<Figure size 800x500 with 2 Axes>"
      ]
     },
     "metadata": {},
     "output_type": "display_data"
    }
   ],
   "source": [
    "fig, ax = plt.subplots(figsize=(8, 5))\n",
    "cmp = ConfusionMatrixDisplay(confusion_matrix(y_test, y_pred), display_labels = ['Not_Surface_Taxi', 'Surface_Taxi'])\n",
    "cmp.plot(ax=ax)\n",
    "plt.show()"
   ]
  },
  {
   "cell_type": "code",
   "execution_count": 18,
   "id": "ec52afd6",
   "metadata": {},
   "outputs": [
    {
     "data": {
      "text/plain": [
       "1    215\n",
       "0    206\n",
       "Name: surface, dtype: int64"
      ]
     },
     "execution_count": 18,
     "metadata": {},
     "output_type": "execute_result"
    }
   ],
   "source": [
    "#Verify display labels are right\n",
    "y_test.value_counts()"
   ]
  },
  {
   "cell_type": "code",
   "execution_count": 29,
   "id": "1192009e",
   "metadata": {},
   "outputs": [],
   "source": [
    "import pickle"
   ]
  },
  {
   "cell_type": "code",
   "execution_count": 30,
   "id": "ca7859ba",
   "metadata": {},
   "outputs": [],
   "source": [
    "pickle.dump(svm, open('surface_minmax_svm.pkl', 'wb'))"
   ]
  },
  {
   "cell_type": "code",
   "execution_count": 32,
   "id": "56c157ff",
   "metadata": {},
   "outputs": [],
   "source": [
    "pickle.dump(scaler, open('surface_minmax_scaler.pkl', 'wb'))"
   ]
  },
  {
   "cell_type": "code",
   "execution_count": null,
   "id": "0f6e876b",
   "metadata": {},
   "outputs": [],
   "source": []
  },
  {
   "cell_type": "code",
   "execution_count": null,
   "id": "7eb45390",
   "metadata": {},
   "outputs": [],
   "source": []
  },
  {
   "cell_type": "code",
   "execution_count": null,
   "id": "122cbda5",
   "metadata": {},
   "outputs": [],
   "source": []
  },
  {
   "cell_type": "code",
   "execution_count": null,
   "id": "6358f78d",
   "metadata": {},
   "outputs": [],
   "source": []
  },
  {
   "cell_type": "code",
   "execution_count": 19,
   "id": "9a46351d",
   "metadata": {},
   "outputs": [],
   "source": [
    "#Edit the model features to whatever you want to include in your model\n",
    "model_features = [ 'hasWeightOnWheels',\n",
    "            'absoluteAltitude',\n",
    "                 'magneticHeading', \n",
    "                 'groundSpeed', \n",
    "                 'climbOrDescentRate',\n",
    "                 'turnRate to degPerSec',\n",
    "                 'cyclicPositionPitch',\n",
    "                 'cyclicPositionRoll',\n",
    "                 'collectivePosition',\n",
    "                 'antiTorquePedalPosition',\n",
    "                 'throttlePosition',\n",
    "                 'e1Torque',\n",
    "                 'e2Torque']\n",
    "\n",
    "#X is predictor features, y is classifier \n",
    "X = df2[model_features]\n",
    "y = df2['surface']\n",
    "X_train, X_test, y_train, y_test = train_test_split(X, y, test_size=0.33, random_state=516516)"
   ]
  },
  {
   "cell_type": "code",
   "execution_count": 20,
   "id": "818a7f60",
   "metadata": {},
   "outputs": [
    {
     "name": "stdout",
     "output_type": "stream",
     "text": [
      "Accuracy of SVM classifier on training set: 0.98\n",
      "Accuracy of SVM classifier on test set: 0.9620\n"
     ]
    }
   ],
   "source": [
    "#SVM standard \n",
    "scaler = StandardScaler()\n",
    "X_train = scaler.fit_transform(X_train)\n",
    "X_test = scaler.transform(X_test)\n",
    "\n",
    "svm = SVC()\n",
    "#y_pred=svm.predict(X_test)\n",
    "\n",
    "svm.fit(X_train, y_train)\n",
    "print('Accuracy of SVM classifier on training set: {:.2f}'\n",
    "     .format(svm.score(X_train, y_train)))\n",
    "print('Accuracy of SVM classifier on test set: {:.4f}'\n",
    "     .format(svm.score(X_test, y_test)))\n"
   ]
  },
  {
   "cell_type": "code",
   "execution_count": 21,
   "id": "22861f53",
   "metadata": {},
   "outputs": [],
   "source": [
    "y_pred=svm.predict(X_test)"
   ]
  },
  {
   "cell_type": "code",
   "execution_count": 22,
   "id": "3d13c507",
   "metadata": {},
   "outputs": [
    {
     "data": {
      "image/png": "[encoded data removed]",
      "text/plain": [
       "<Figure size 800x500 with 2 Axes>"
      ]
     },
     "metadata": {},
     "output_type": "display_data"
    }
   ],
   "source": [
    "fig, ax = plt.subplots(figsize=(8, 5))\n",
    "cmp = ConfusionMatrixDisplay(confusion_matrix(y_test, y_pred), display_labels = ['Not_Surface_Taxi', 'Surface_Taxi'])\n",
    "cmp.plot(ax=ax)\n",
    "plt.show()"
   ]
  },
  {
   "cell_type": "code",
   "execution_count": null,
   "id": "7e02e797",
   "metadata": {},
   "outputs": [],
   "source": []
  },
  {
   "cell_type": "code",
   "execution_count": 23,
   "id": "1c352c8b",
   "metadata": {},
   "outputs": [],
   "source": [
    "#Edit the model features to whatever you want to include in your model\n",
    "model_features = [ 'hasWeightOnWheels',\n",
    "            'absoluteAltitude',\n",
    "                 'magneticHeading', \n",
    "                 'groundSpeed', \n",
    "                 'climbOrDescentRate',\n",
    "                 'turnRate to degPerSec',\n",
    "                 'cyclicPositionPitch',\n",
    "                 'cyclicPositionRoll',\n",
    "                 'collectivePosition',\n",
    "                 'antiTorquePedalPosition',\n",
    "                 'throttlePosition',\n",
    "                 'e1Torque',\n",
    "                 'e2Torque']\n",
    "\n",
    "#X is predictor features, y is classifier \n",
    "X = df2[model_features]\n",
    "y = df2['surface']\n",
    "X_train, X_test, y_train, y_test = train_test_split(X, y, test_size=0.33, random_state=516516)"
   ]
  },
  {
   "cell_type": "code",
   "execution_count": 24,
   "id": "7d8b5383",
   "metadata": {},
   "outputs": [
    {
     "name": "stdout",
     "output_type": "stream",
     "text": [
      "Accuracy of SVM classifier on training set: 0.81\n",
      "Accuracy of SVM classifier on test set: 0.7886\n"
     ]
    }
   ],
   "source": [
    "#SVM standard \n",
    "scaler = RobustScaler()\n",
    "X_train = scaler.fit_transform(X_train)\n",
    "X_test = scaler.transform(X_test)\n",
    "\n",
    "svm = SVC()\n",
    "#y_pred=svm.predict(X_test)\n",
    "\n",
    "svm.fit(X_train, y_train)\n",
    "print('Accuracy of SVM classifier on training set: {:.2f}'\n",
    "     .format(svm.score(X_train, y_train)))\n",
    "print('Accuracy of SVM classifier on test set: {:.4f}'\n",
    "     .format(svm.score(X_test, y_test)))\n"
   ]
  },
  {
   "cell_type": "code",
   "execution_count": 25,
   "id": "17ee81c2",
   "metadata": {},
   "outputs": [],
   "source": [
    "y_pred=svm.predict(X_test)"
   ]
  },
  {
   "cell_type": "code",
   "execution_count": 26,
   "id": "b643d3ff",
   "metadata": {},
   "outputs": [
    {
     "data": {
      "image/png": "[encoded data removed]",
      "text/plain": [
       "<Figure size 800x500 with 2 Axes>"
      ]
     },
     "metadata": {},
     "output_type": "display_data"
    }
   ],
   "source": [
    "fig, ax = plt.subplots(figsize=(8, 5))\n",
    "cmp = ConfusionMatrixDisplay(confusion_matrix(y_test, y_pred), display_labels = ['Not_Surface_Taxi', 'Surface_Taxi'])\n",
    "cmp.plot(ax=ax)\n",
    "plt.show()"
   ]
  },
  {
   "cell_type": "code",
   "execution_count": null,
   "id": "a42f5c0d",
   "metadata": {},
   "outputs": [],
   "source": []
  },
  {
   "cell_type": "markdown",
   "id": "7d5612bf",
   "metadata": {},
   "source": [
    "# Load New Data For Validation"
   ]
  },
  {
   "cell_type": "code",
   "execution_count": 33,
   "id": "5211d546",
   "metadata": {},
   "outputs": [],
   "source": [
    "# May as well import all of these features into the initial dataframe, you can cut it down..\n",
    "# ..when you do the X,y train/test split\n",
    "features = ['datetime',\n",
    "          'latitude',\n",
    "          'longitude',\n",
    "          'absoluteAltitude', \n",
    "          'magneticHeading',\n",
    "          'trueHeading', \n",
    "          'groundSpeed', \n",
    "          'trueAirspeed',\n",
    "          'pitch', \n",
    "          'roll',\n",
    "          'yaw',\n",
    "          'angleOfAttack',\n",
    "          'flightPathAngle',\n",
    "          'verticalFlightPathAngle',\n",
    "          'horizontalFlightPathAngle',\n",
    "          'rollAcceleration',\n",
    "          'pitchAcceleration',\n",
    "          'yawAcceleration',\n",
    "          'e1N1ng',\n",
    "          'e2N1ng',\n",
    "          'e1N2nf',\n",
    "          'e2N2nf',\n",
    "          'mainRotorRpm',\n",
    "          'tailRotorRpm',\n",
    "          'mainRotorTorque',\n",
    "          'e1Itt',\n",
    "          'e2Itt',\n",
    "          'mainRotorInducedInflow',\n",
    "          'flightDirectorPitch',\n",
    "          'flightDirectorRoll',\n",
    "          'climbOrDescentRate', \n",
    "          'hasWeightOnWheels',\n",
    "          'turnRate to degPerSec',\n",
    "          'cyclicPositionPitch',\n",
    "          'cyclicPositionRoll',\n",
    "          'collectivePosition',\n",
    "          'antiTorquePedalPosition',\n",
    "          'throttlePosition',\n",
    "          'e1Torque',\n",
    "          'e2Torque',\n",
    "]\n"
   ]
  },
  {
   "cell_type": "code",
   "execution_count": 34,
   "id": "02c205b7",
   "metadata": {},
   "outputs": [
    {
     "name": "stderr",
     "output_type": "stream",
     "text": [
      "C:\\Users\\twolf\\AppData\\Local\\Temp\\ipykernel_17520\\17026926.py:3: SettingWithCopyWarning: \n",
      "A value is trying to be set on a copy of a slice from a DataFrame.\n",
      "Try using .loc[row_indexer,col_indexer] = value instead\n",
      "\n",
      "See the caveats in the documentation: https://pandas.pydata.org/pandas-docs/stable/user_guide/indexing.html#returning-a-view-versus-a-copy\n",
      "  df_temp['datetime'] = df_temp.datetime.dt.strftime('%Y-%m-%d %H:%M:%S').astype('datetime64[ns]')\n"
     ]
    }
   ],
   "source": [
    "# reading files from 10/20 dataset\n",
    "dfN = pd.read_csv('SimData_2022.10.27_17.55.06.csv.roar.csv',\n",
    "                parse_dates = {'datetime': ['date', 'time']},\n",
    "                low_memory=False)\n",
    "dfN = df_transformation(dfN)"
   ]
  },
  {
   "cell_type": "code",
   "execution_count": 35,
   "id": "4b00930c",
   "metadata": {},
   "outputs": [
    {
     "data": {
      "text/html": [
       "<div>\n",
       "<style scoped>\n",
       "    .dataframe tbody tr th:only-of-type {\n",
       "        vertical-align: middle;\n",
       "    }\n",
       "\n",
       "    .dataframe tbody tr th {\n",
       "        vertical-align: top;\n",
       "    }\n",
       "\n",
       "    .dataframe thead th {\n",
       "        text-align: right;\n",
       "    }\n",
       "</style>\n",
       "<table border=\"1\" class=\"dataframe\">\n",
       "  <thead>\n",
       "    <tr style=\"text-align: right;\">\n",
       "      <th></th>\n",
       "      <th>datetime</th>\n",
       "      <th>latitude</th>\n",
       "      <th>longitude</th>\n",
       "      <th>absoluteAltitude</th>\n",
       "      <th>magneticHeading</th>\n",
       "      <th>trueHeading</th>\n",
       "      <th>groundSpeed</th>\n",
       "      <th>trueAirspeed</th>\n",
       "      <th>pitch</th>\n",
       "      <th>roll</th>\n",
       "      <th>...</th>\n",
       "      <th>climbOrDescentRate</th>\n",
       "      <th>hasWeightOnWheels</th>\n",
       "      <th>turnRate to degPerSec</th>\n",
       "      <th>cyclicPositionPitch</th>\n",
       "      <th>cyclicPositionRoll</th>\n",
       "      <th>collectivePosition</th>\n",
       "      <th>antiTorquePedalPosition</th>\n",
       "      <th>throttlePosition</th>\n",
       "      <th>e1Torque</th>\n",
       "      <th>e2Torque</th>\n",
       "    </tr>\n",
       "  </thead>\n",
       "  <tbody>\n",
       "    <tr>\n",
       "      <th>0</th>\n",
       "      <td>2022-10-27 21:55:13</td>\n",
       "      <td>21.313929</td>\n",
       "      <td>-157.922891</td>\n",
       "      <td>0.870909</td>\n",
       "      <td>134.719545</td>\n",
       "      <td>144.159182</td>\n",
       "      <td>0.449000</td>\n",
       "      <td>4.332081</td>\n",
       "      <td>0.586455</td>\n",
       "      <td>-0.350455</td>\n",
       "      <td>...</td>\n",
       "      <td>12.618455</td>\n",
       "      <td>0.000000</td>\n",
       "      <td>-0.214636</td>\n",
       "      <td>1.155455</td>\n",
       "      <td>6.131182</td>\n",
       "      <td>39.020636</td>\n",
       "      <td>3.475909</td>\n",
       "      <td>0.000000</td>\n",
       "      <td>-5.230545</td>\n",
       "      <td>-5.230545</td>\n",
       "    </tr>\n",
       "    <tr>\n",
       "      <th>1</th>\n",
       "      <td>2022-10-27 21:55:14</td>\n",
       "      <td>21.313928</td>\n",
       "      <td>-157.922887</td>\n",
       "      <td>6.472619</td>\n",
       "      <td>132.314905</td>\n",
       "      <td>141.754690</td>\n",
       "      <td>1.674000</td>\n",
       "      <td>5.335079</td>\n",
       "      <td>1.496333</td>\n",
       "      <td>-0.672667</td>\n",
       "      <td>...</td>\n",
       "      <td>221.704976</td>\n",
       "      <td>0.000000</td>\n",
       "      <td>-0.999024</td>\n",
       "      <td>-5.519619</td>\n",
       "      <td>0.719667</td>\n",
       "      <td>41.945690</td>\n",
       "      <td>3.433810</td>\n",
       "      <td>0.000000</td>\n",
       "      <td>-5.113571</td>\n",
       "      <td>-5.113571</td>\n",
       "    </tr>\n",
       "    <tr>\n",
       "      <th>2</th>\n",
       "      <td>2022-10-27 21:55:15</td>\n",
       "      <td>21.313926</td>\n",
       "      <td>-157.922876</td>\n",
       "      <td>10.811778</td>\n",
       "      <td>127.513511</td>\n",
       "      <td>136.953289</td>\n",
       "      <td>2.736089</td>\n",
       "      <td>5.568375</td>\n",
       "      <td>2.619756</td>\n",
       "      <td>-0.767600</td>\n",
       "      <td>...</td>\n",
       "      <td>313.391089</td>\n",
       "      <td>0.000000</td>\n",
       "      <td>-2.070711</td>\n",
       "      <td>-3.777622</td>\n",
       "      <td>-3.853044</td>\n",
       "      <td>30.654422</td>\n",
       "      <td>3.319000</td>\n",
       "      <td>0.000000</td>\n",
       "      <td>-2.735644</td>\n",
       "      <td>-2.735644</td>\n",
       "    </tr>\n",
       "    <tr>\n",
       "      <th>3</th>\n",
       "      <td>2022-10-27 21:55:16</td>\n",
       "      <td>21.313924</td>\n",
       "      <td>-157.922867</td>\n",
       "      <td>2.150000</td>\n",
       "      <td>123.090535</td>\n",
       "      <td>132.530326</td>\n",
       "      <td>0.773209</td>\n",
       "      <td>7.594625</td>\n",
       "      <td>0.613023</td>\n",
       "      <td>0.213791</td>\n",
       "      <td>...</td>\n",
       "      <td>-234.672465</td>\n",
       "      <td>0.093023</td>\n",
       "      <td>-2.402744</td>\n",
       "      <td>18.029047</td>\n",
       "      <td>-2.357721</td>\n",
       "      <td>3.893837</td>\n",
       "      <td>3.245419</td>\n",
       "      <td>0.000000</td>\n",
       "      <td>-1.523651</td>\n",
       "      <td>-1.523651</td>\n",
       "    </tr>\n",
       "    <tr>\n",
       "      <th>4</th>\n",
       "      <td>2022-10-27 21:55:17</td>\n",
       "      <td>21.313923</td>\n",
       "      <td>-157.922866</td>\n",
       "      <td>0.218750</td>\n",
       "      <td>120.877275</td>\n",
       "      <td>130.317100</td>\n",
       "      <td>0.186050</td>\n",
       "      <td>1.535733</td>\n",
       "      <td>-0.038750</td>\n",
       "      <td>-0.042225</td>\n",
       "      <td>...</td>\n",
       "      <td>-206.549975</td>\n",
       "      <td>0.725000</td>\n",
       "      <td>-2.181100</td>\n",
       "      <td>-3.997700</td>\n",
       "      <td>2.004950</td>\n",
       "      <td>3.652075</td>\n",
       "      <td>3.135700</td>\n",
       "      <td>0.000000</td>\n",
       "      <td>-0.729425</td>\n",
       "      <td>-0.729425</td>\n",
       "    </tr>\n",
       "    <tr>\n",
       "      <th>...</th>\n",
       "      <td>...</td>\n",
       "      <td>...</td>\n",
       "      <td>...</td>\n",
       "      <td>...</td>\n",
       "      <td>...</td>\n",
       "      <td>...</td>\n",
       "      <td>...</td>\n",
       "      <td>...</td>\n",
       "      <td>...</td>\n",
       "      <td>...</td>\n",
       "      <td>...</td>\n",
       "      <td>...</td>\n",
       "      <td>...</td>\n",
       "      <td>...</td>\n",
       "      <td>...</td>\n",
       "      <td>...</td>\n",
       "      <td>...</td>\n",
       "      <td>...</td>\n",
       "      <td>...</td>\n",
       "      <td>...</td>\n",
       "      <td>...</td>\n",
       "    </tr>\n",
       "    <tr>\n",
       "      <th>1412</th>\n",
       "      <td>2022-10-27 22:18:45</td>\n",
       "      <td>21.323876</td>\n",
       "      <td>-157.923547</td>\n",
       "      <td>0.170000</td>\n",
       "      <td>256.499000</td>\n",
       "      <td>265.940000</td>\n",
       "      <td>0.000000</td>\n",
       "      <td>0.000000</td>\n",
       "      <td>-1.168000</td>\n",
       "      <td>0.777000</td>\n",
       "      <td>...</td>\n",
       "      <td>0.000000</td>\n",
       "      <td>1.000000</td>\n",
       "      <td>0.000000</td>\n",
       "      <td>-85.666515</td>\n",
       "      <td>4.159000</td>\n",
       "      <td>3.455000</td>\n",
       "      <td>9.319000</td>\n",
       "      <td>44.236000</td>\n",
       "      <td>35.611000</td>\n",
       "      <td>35.611000</td>\n",
       "    </tr>\n",
       "    <tr>\n",
       "      <th>1413</th>\n",
       "      <td>2022-10-27 22:18:46</td>\n",
       "      <td>21.323876</td>\n",
       "      <td>-157.923547</td>\n",
       "      <td>0.169677</td>\n",
       "      <td>256.442839</td>\n",
       "      <td>265.883710</td>\n",
       "      <td>0.024000</td>\n",
       "      <td>0.023986</td>\n",
       "      <td>-1.160774</td>\n",
       "      <td>0.803935</td>\n",
       "      <td>...</td>\n",
       "      <td>-0.003323</td>\n",
       "      <td>1.000000</td>\n",
       "      <td>-0.013871</td>\n",
       "      <td>-85.837323</td>\n",
       "      <td>3.738645</td>\n",
       "      <td>3.455000</td>\n",
       "      <td>9.319000</td>\n",
       "      <td>21.404516</td>\n",
       "      <td>22.875581</td>\n",
       "      <td>22.875581</td>\n",
       "    </tr>\n",
       "    <tr>\n",
       "      <th>1414</th>\n",
       "      <td>2022-10-27 22:18:47</td>\n",
       "      <td>21.323876</td>\n",
       "      <td>-157.923547</td>\n",
       "      <td>0.160000</td>\n",
       "      <td>256.137879</td>\n",
       "      <td>265.578424</td>\n",
       "      <td>0.022152</td>\n",
       "      <td>0.022658</td>\n",
       "      <td>-1.102970</td>\n",
       "      <td>0.983303</td>\n",
       "      <td>...</td>\n",
       "      <td>-0.126000</td>\n",
       "      <td>1.000000</td>\n",
       "      <td>-0.071091</td>\n",
       "      <td>-86.047061</td>\n",
       "      <td>3.724848</td>\n",
       "      <td>3.455000</td>\n",
       "      <td>9.318727</td>\n",
       "      <td>0.000000</td>\n",
       "      <td>-3.935182</td>\n",
       "      <td>-3.935182</td>\n",
       "    </tr>\n",
       "    <tr>\n",
       "      <th>1415</th>\n",
       "      <td>2022-10-27 22:18:48</td>\n",
       "      <td>21.323876</td>\n",
       "      <td>-157.923547</td>\n",
       "      <td>0.156061</td>\n",
       "      <td>256.184030</td>\n",
       "      <td>265.624606</td>\n",
       "      <td>0.011970</td>\n",
       "      <td>0.012747</td>\n",
       "      <td>-1.024848</td>\n",
       "      <td>0.979788</td>\n",
       "      <td>...</td>\n",
       "      <td>-0.314152</td>\n",
       "      <td>1.000000</td>\n",
       "      <td>-0.029000</td>\n",
       "      <td>-86.138788</td>\n",
       "      <td>4.372000</td>\n",
       "      <td>3.455000</td>\n",
       "      <td>9.316000</td>\n",
       "      <td>0.000000</td>\n",
       "      <td>-3.125333</td>\n",
       "      <td>-3.125333</td>\n",
       "    </tr>\n",
       "    <tr>\n",
       "      <th>1416</th>\n",
       "      <td>2022-10-27 22:18:49</td>\n",
       "      <td>21.323876</td>\n",
       "      <td>-157.923547</td>\n",
       "      <td>0.150000</td>\n",
       "      <td>256.231286</td>\n",
       "      <td>265.671857</td>\n",
       "      <td>0.008000</td>\n",
       "      <td>0.009057</td>\n",
       "      <td>-0.977857</td>\n",
       "      <td>0.942571</td>\n",
       "      <td>...</td>\n",
       "      <td>-0.389714</td>\n",
       "      <td>1.000000</td>\n",
       "      <td>-0.012286</td>\n",
       "      <td>-86.091143</td>\n",
       "      <td>4.374000</td>\n",
       "      <td>3.455000</td>\n",
       "      <td>9.316000</td>\n",
       "      <td>0.000000</td>\n",
       "      <td>-2.287714</td>\n",
       "      <td>-2.287714</td>\n",
       "    </tr>\n",
       "  </tbody>\n",
       "</table>\n",
       "<p>1417 rows × 40 columns</p>\n",
       "</div>"
      ],
      "text/plain": [
       "                datetime   latitude   longitude  absoluteAltitude  \\\n",
       "0    2022-10-27 21:55:13  21.313929 -157.922891          0.870909   \n",
       "1    2022-10-27 21:55:14  21.313928 -157.922887          6.472619   \n",
       "2    2022-10-27 21:55:15  21.313926 -157.922876         10.811778   \n",
       "3    2022-10-27 21:55:16  21.313924 -157.922867          2.150000   \n",
       "4    2022-10-27 21:55:17  21.313923 -157.922866          0.218750   \n",
       "...                  ...        ...         ...               ...   \n",
       "1412 2022-10-27 22:18:45  21.323876 -157.923547          0.170000   \n",
       "1413 2022-10-27 22:18:46  21.323876 -157.923547          0.169677   \n",
       "1414 2022-10-27 22:18:47  21.323876 -157.923547          0.160000   \n",
       "1415 2022-10-27 22:18:48  21.323876 -157.923547          0.156061   \n",
       "1416 2022-10-27 22:18:49  21.323876 -157.923547          0.150000   \n",
       "\n",
       "      magneticHeading  trueHeading  groundSpeed  trueAirspeed     pitch  \\\n",
       "0          134.719545   144.159182     0.449000      4.332081  0.586455   \n",
       "1          132.314905   141.754690     1.674000      5.335079  1.496333   \n",
       "2          127.513511   136.953289     2.736089      5.568375  2.619756   \n",
       "3          123.090535   132.530326     0.773209      7.594625  0.613023   \n",
       "4          120.877275   130.317100     0.186050      1.535733 -0.038750   \n",
       "...               ...          ...          ...           ...       ...   \n",
       "1412       256.499000   265.940000     0.000000      0.000000 -1.168000   \n",
       "1413       256.442839   265.883710     0.024000      0.023986 -1.160774   \n",
       "1414       256.137879   265.578424     0.022152      0.022658 -1.102970   \n",
       "1415       256.184030   265.624606     0.011970      0.012747 -1.024848   \n",
       "1416       256.231286   265.671857     0.008000      0.009057 -0.977857   \n",
       "\n",
       "          roll  ...  climbOrDescentRate  hasWeightOnWheels  \\\n",
       "0    -0.350455  ...           12.618455           0.000000   \n",
       "1    -0.672667  ...          221.704976           0.000000   \n",
       "2    -0.767600  ...          313.391089           0.000000   \n",
       "3     0.213791  ...         -234.672465           0.093023   \n",
       "4    -0.042225  ...         -206.549975           0.725000   \n",
       "...        ...  ...                 ...                ...   \n",
       "1412  0.777000  ...            0.000000           1.000000   \n",
       "1413  0.803935  ...           -0.003323           1.000000   \n",
       "1414  0.983303  ...           -0.126000           1.000000   \n",
       "1415  0.979788  ...           -0.314152           1.000000   \n",
       "1416  0.942571  ...           -0.389714           1.000000   \n",
       "\n",
       "      turnRate to degPerSec  cyclicPositionPitch  cyclicPositionRoll  \\\n",
       "0                 -0.214636             1.155455            6.131182   \n",
       "1                 -0.999024            -5.519619            0.719667   \n",
       "2                 -2.070711            -3.777622           -3.853044   \n",
       "3                 -2.402744            18.029047           -2.357721   \n",
       "4                 -2.181100            -3.997700            2.004950   \n",
       "...                     ...                  ...                 ...   \n",
       "1412               0.000000           -85.666515            4.159000   \n",
       "1413              -0.013871           -85.837323            3.738645   \n",
       "1414              -0.071091           -86.047061            3.724848   \n",
       "1415              -0.029000           -86.138788            4.372000   \n",
       "1416              -0.012286           -86.091143            4.374000   \n",
       "\n",
       "      collectivePosition  antiTorquePedalPosition  throttlePosition  \\\n",
       "0              39.020636                 3.475909          0.000000   \n",
       "1              41.945690                 3.433810          0.000000   \n",
       "2              30.654422                 3.319000          0.000000   \n",
       "3               3.893837                 3.245419          0.000000   \n",
       "4               3.652075                 3.135700          0.000000   \n",
       "...                  ...                      ...               ...   \n",
       "1412            3.455000                 9.319000         44.236000   \n",
       "1413            3.455000                 9.319000         21.404516   \n",
       "1414            3.455000                 9.318727          0.000000   \n",
       "1415            3.455000                 9.316000          0.000000   \n",
       "1416            3.455000                 9.316000          0.000000   \n",
       "\n",
       "       e1Torque   e2Torque  \n",
       "0     -5.230545  -5.230545  \n",
       "1     -5.113571  -5.113571  \n",
       "2     -2.735644  -2.735644  \n",
       "3     -1.523651  -1.523651  \n",
       "4     -0.729425  -0.729425  \n",
       "...         ...        ...  \n",
       "1412  35.611000  35.611000  \n",
       "1413  22.875581  22.875581  \n",
       "1414  -3.935182  -3.935182  \n",
       "1415  -3.125333  -3.125333  \n",
       "1416  -2.287714  -2.287714  \n",
       "\n",
       "[1417 rows x 40 columns]"
      ]
     },
     "execution_count": 35,
     "metadata": {},
     "output_type": "execute_result"
    }
   ],
   "source": [
    "dfN"
   ]
  },
  {
   "cell_type": "code",
   "execution_count": 36,
   "id": "e36647d7",
   "metadata": {},
   "outputs": [],
   "source": [
    "dfN['surface'] = 0\n",
    "\n",
    "dfN.loc[(dfN['datetime'].between('2022-10-27 21:57:45' , '2022-10-27 21:59:45' , inclusive='both')),['surface']] = 1\n",
    "dfN.loc[(dfN['datetime'].between('2022-10-27 22:00:30' , '2022-10-27 22:04:55' , inclusive='both')),['surface']] = 1\n",
    "dfN.loc[(dfN['datetime'].between('2022-10-27 22:06:00' , '2022-10-27 22:07:59' , inclusive='both')),['surface']] = 1\n",
    "dfN.loc[(dfN['datetime'].between('2022-10-27 22:09:03' , '2022-10-27 22:11:12' , inclusive='both')),['surface']] = 1\n",
    "dfN.loc[(dfN['datetime'].between('2022-10-27 22:13:30' , '2022-10-27 22:17:58' , inclusive='both')),['surface']] = 1"
   ]
  },
  {
   "cell_type": "code",
   "execution_count": 38,
   "id": "ff7d746b",
   "metadata": {},
   "outputs": [
    {
     "data": {
      "text/plain": [
       "1    906\n",
       "0    511\n",
       "Name: surface, dtype: int64"
      ]
     },
     "execution_count": 38,
     "metadata": {},
     "output_type": "execute_result"
    }
   ],
   "source": [
    "dfN['surface'].value_counts()"
   ]
  },
  {
   "cell_type": "code",
   "execution_count": 40,
   "id": "666f5970",
   "metadata": {},
   "outputs": [],
   "source": [
    "df1 = dfN[(dfN['surface'] == 0)].sample(n=511, replace=False, random_state=123458)\n",
    "df2 = pd.concat([dfN[(dfN['surface'] == 1)], df1], ignore_index = True)\n",
    "df2 = df2.sample(frac=1)"
   ]
  },
  {
   "cell_type": "code",
   "execution_count": 42,
   "id": "47671d17",
   "metadata": {},
   "outputs": [
    {
     "data": {
      "text/plain": [
       "1    906\n",
       "0    511\n",
       "Name: surface, dtype: int64"
      ]
     },
     "execution_count": 42,
     "metadata": {},
     "output_type": "execute_result"
    }
   ],
   "source": [
    "df2['surface'].value_counts()"
   ]
  },
  {
   "cell_type": "code",
   "execution_count": 43,
   "id": "f5e1520a",
   "metadata": {},
   "outputs": [],
   "source": [
    "#Tune \n",
    "#Edit the model features to whatever you want to include in your model\n",
    "model_features = [ 'hasWeightOnWheels',\n",
    "            'absoluteAltitude',\n",
    "                 'magneticHeading', \n",
    "                 'groundSpeed', \n",
    "                 'climbOrDescentRate',\n",
    "                 'turnRate to degPerSec',\n",
    "                 'cyclicPositionPitch',\n",
    "                 'cyclicPositionRoll',\n",
    "                 'collectivePosition',\n",
    "                 'antiTorquePedalPosition',\n",
    "                 'throttlePosition',\n",
    "                 'e1Torque',\n",
    "                 'e2Torque']\n",
    "\n",
    "#X is predictor features, y is classifier \n",
    "X = df2[model_features]\n",
    "y = df2['surface']"
   ]
  },
  {
   "cell_type": "code",
   "execution_count": 44,
   "id": "a6b14ea3",
   "metadata": {},
   "outputs": [],
   "source": [
    "svm_loaded = pickle.load(open('surface_minmax_svm.pkl', 'rb'))\n",
    "scaler_loaded = pickle.load(open('surface_minmax_scaler.pkl','rb'))"
   ]
  },
  {
   "cell_type": "code",
   "execution_count": 45,
   "id": "31c95e60",
   "metadata": {},
   "outputs": [],
   "source": [
    "#SVC\n",
    "\n",
    "X_valid = scaler_loaded.transform(X)"
   ]
  },
  {
   "cell_type": "code",
   "execution_count": 46,
   "id": "c8e86e42",
   "metadata": {},
   "outputs": [
    {
     "name": "stdout",
     "output_type": "stream",
     "text": [
      "Accuracy of Model:: 0.9760056457304164\n"
     ]
    }
   ],
   "source": [
    "validation_svm = svm_loaded.predict(X_valid)\n",
    "print(\"Accuracy of Model::\",accuracy_score(y,validation_svm))"
   ]
  },
  {
   "cell_type": "code",
   "execution_count": null,
   "id": "48163ae4",
   "metadata": {},
   "outputs": [],
   "source": [
    "y_pred=svm.predict(X_valid)"
   ]
  }
 ],
 "metadata": {
  "kernelspec": {
   "display_name": "Python 3 (ipykernel)",
   "language": "python",
   "name": "python3"
  },
  "language_info": {
   "codemirror_mode": {
    "name": "ipython",
    "version": 3
   },
   "file_extension": ".py",
   "mimetype": "text/x-python",
   "name": "python",
   "nbconvert_exporter": "python",
   "pygments_lexer": "ipython3",
   "version": "3.9.12"
  }
 },
 "nbformat": 4,
 "nbformat_minor": 5
}
