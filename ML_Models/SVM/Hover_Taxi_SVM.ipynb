{
 "cells": [
  {
   "cell_type": "code",
   "execution_count": 1,
   "id": "e1906be5",
   "metadata": {},
   "outputs": [],
   "source": [
    "import pandas as pd\n",
    "import matplotlib.pyplot as plt\n",
    "import seaborn as sns\n",
    "import os\n",
    "import numpy as np"
   ]
  },
  {
   "cell_type": "code",
   "execution_count": 2,
   "id": "7f972b60",
   "metadata": {},
   "outputs": [],
   "source": [
    "def df_transformation(df):\n",
    "    df_temp = df[features]\n",
    "    df_temp['datetime'] = df_temp.datetime.dt.strftime('%Y-%m-%d %H:%M:%S').astype('datetime64[ns]')\n",
    "\n",
    "    output = df_temp.groupby(by=[\"datetime\"], dropna=False).mean().reset_index()\n",
    "    \n",
    "    return output "
   ]
  },
  {
   "cell_type": "code",
   "execution_count": 3,
   "id": "ec2fc131",
   "metadata": {},
   "outputs": [],
   "source": [
    "# Create a custom function for data transformation\n",
    "# May as well import all of these features into the initial dataframe, you can cut it down..\n",
    "# ..when you do the X,y train/test split\n",
    "features = ['datetime',\n",
    "          'latitude',\n",
    "          'longitude',\n",
    "          'absoluteAltitude', \n",
    "          'magneticHeading',\n",
    "          'trueHeading', \n",
    "          'groundSpeed', \n",
    "          'trueAirspeed',\n",
    "          'pitch', \n",
    "          'roll',\n",
    "          'yaw',\n",
    "          'angleOfAttack',\n",
    "          'flightPathAngle',\n",
    "          'verticalFlightPathAngle',\n",
    "          'horizontalFlightPathAngle',\n",
    "          'rollAcceleration',\n",
    "          'pitchAcceleration',\n",
    "          'yawAcceleration',\n",
    "          'e1N1ng',\n",
    "          'e2N1ng',\n",
    "          'e1N2nf',\n",
    "          'e2N2nf',\n",
    "          'mainRotorRpm',\n",
    "          'tailRotorRpm',\n",
    "          'mainRotorTorque',\n",
    "          'e1Itt',\n",
    "          'e2Itt',\n",
    "          'mainRotorInducedInflow',\n",
    "          'flightDirectorPitch',\n",
    "          'flightDirectorRoll',\n",
    "          'climbOrDescentRate', \n",
    "          'hasWeightOnWheels',\n",
    "          'turnRate to degPerSec',\n",
    "          'cyclicPositionPitch',\n",
    "          'cyclicPositionRoll',\n",
    "          'collectivePosition',\n",
    "          'antiTorquePedalPosition',\n",
    "          'throttlePosition',\n",
    "          'e1Torque',\n",
    "          'e2Torque',\n",
    "]\n"
   ]
  },
  {
   "cell_type": "code",
   "execution_count": 4,
   "id": "51b78778",
   "metadata": {},
   "outputs": [
    {
     "name": "stderr",
     "output_type": "stream",
     "text": [
      "C:\\Users\\twolf\\AppData\\Local\\Temp\\ipykernel_27756\\17026926.py:3: SettingWithCopyWarning: \n",
      "A value is trying to be set on a copy of a slice from a DataFrame.\n",
      "Try using .loc[row_indexer,col_indexer] = value instead\n",
      "\n",
      "See the caveats in the documentation: https://pandas.pydata.org/pandas-docs/stable/user_guide/indexing.html#returning-a-view-versus-a-copy\n",
      "  df_temp['datetime'] = df_temp.datetime.dt.strftime('%Y-%m-%d %H:%M:%S').astype('datetime64[ns]')\n",
      "C:\\Users\\twolf\\AppData\\Local\\Temp\\ipykernel_27756\\17026926.py:3: SettingWithCopyWarning: \n",
      "A value is trying to be set on a copy of a slice from a DataFrame.\n",
      "Try using .loc[row_indexer,col_indexer] = value instead\n",
      "\n",
      "See the caveats in the documentation: https://pandas.pydata.org/pandas-docs/stable/user_guide/indexing.html#returning-a-view-versus-a-copy\n",
      "  df_temp['datetime'] = df_temp.datetime.dt.strftime('%Y-%m-%d %H:%M:%S').astype('datetime64[ns]')\n",
      "C:\\Users\\twolf\\AppData\\Local\\Temp\\ipykernel_27756\\17026926.py:3: SettingWithCopyWarning: \n",
      "A value is trying to be set on a copy of a slice from a DataFrame.\n",
      "Try using .loc[row_indexer,col_indexer] = value instead\n",
      "\n",
      "See the caveats in the documentation: https://pandas.pydata.org/pandas-docs/stable/user_guide/indexing.html#returning-a-view-versus-a-copy\n",
      "  df_temp['datetime'] = df_temp.datetime.dt.strftime('%Y-%m-%d %H:%M:%S').astype('datetime64[ns]')\n",
      "C:\\Users\\twolf\\AppData\\Local\\Temp\\ipykernel_27756\\17026926.py:3: SettingWithCopyWarning: \n",
      "A value is trying to be set on a copy of a slice from a DataFrame.\n",
      "Try using .loc[row_indexer,col_indexer] = value instead\n",
      "\n",
      "See the caveats in the documentation: https://pandas.pydata.org/pandas-docs/stable/user_guide/indexing.html#returning-a-view-versus-a-copy\n",
      "  df_temp['datetime'] = df_temp.datetime.dt.strftime('%Y-%m-%d %H:%M:%S').astype('datetime64[ns]')\n",
      "C:\\Users\\twolf\\AppData\\Local\\Temp\\ipykernel_27756\\17026926.py:3: SettingWithCopyWarning: \n",
      "A value is trying to be set on a copy of a slice from a DataFrame.\n",
      "Try using .loc[row_indexer,col_indexer] = value instead\n",
      "\n",
      "See the caveats in the documentation: https://pandas.pydata.org/pandas-docs/stable/user_guide/indexing.html#returning-a-view-versus-a-copy\n",
      "  df_temp['datetime'] = df_temp.datetime.dt.strftime('%Y-%m-%d %H:%M:%S').astype('datetime64[ns]')\n",
      "C:\\Users\\twolf\\AppData\\Local\\Temp\\ipykernel_27756\\17026926.py:3: SettingWithCopyWarning: \n",
      "A value is trying to be set on a copy of a slice from a DataFrame.\n",
      "Try using .loc[row_indexer,col_indexer] = value instead\n",
      "\n",
      "See the caveats in the documentation: https://pandas.pydata.org/pandas-docs/stable/user_guide/indexing.html#returning-a-view-versus-a-copy\n",
      "  df_temp['datetime'] = df_temp.datetime.dt.strftime('%Y-%m-%d %H:%M:%S').astype('datetime64[ns]')\n"
     ]
    }
   ],
   "source": [
    "# reading files from 9/19 dataset\n",
    "df1 = pd.read_csv('SimData_2022.09.19_16.00.36.csv.roar.csv',\n",
    "                parse_dates = {'datetime': ['date', 'time']},\n",
    "                low_memory=False)\n",
    "df1 = df_transformation(df1)\n",
    "\n",
    "\n",
    "df2 = pd.read_csv('SimData_2022.09.19_16.38.20.csv.roar.csv',\n",
    "                parse_dates = {'datetime': ['date', 'time']},\n",
    "                low_memory=False)\n",
    "df2 = df_transformation(df2)\n",
    "\n",
    "\n",
    "df3 = pd.read_csv('SimData_2022.09.19_17.51.37.csv.roar.csv',\n",
    "                parse_dates = {'datetime': ['date', 'time']},\n",
    "                low_memory=False)\n",
    "df3 = df_transformation(df3)\n",
    "\n",
    "\n",
    "\n",
    "# reading files from 9/20 dataset\n",
    "first_file = pd.read_csv('SimData_2022.09.20_16.22.07.csv.roar.csv',\n",
    "                parse_dates = {'datetime': ['date', 'time']},\n",
    "                low_memory=False)\n",
    "first_file = df_transformation(first_file)\n",
    "\n",
    "\n",
    "second_file = pd.read_csv('SimData_2022.09.20_16.28.31.csv.roar.csv',\n",
    "                parse_dates = {'datetime': ['date', 'time']},\n",
    "                low_memory=False)\n",
    "second_file = df_transformation(second_file)\n",
    "\n",
    "\n",
    "# reading file from 9/22 dataset\n",
    "df4 = pd.read_csv('SimData_2022.09.22_17.11.56.csv.roar.csv',\n",
    "                parse_dates = {'datetime': ['date', 'time']},\n",
    "                low_memory=False)\n",
    "df4 = df_transformation(df4)"
   ]
  },
  {
   "cell_type": "code",
   "execution_count": 5,
   "id": "f59464e8",
   "metadata": {},
   "outputs": [],
   "source": [
    "#Combine files\n",
    "df = pd.concat([first_file,second_file, df1, df2, df3, df4]).reset_index()"
   ]
  },
  {
   "cell_type": "markdown",
   "id": "9140e5be",
   "metadata": {},
   "source": [
    "# Dataframe for Hover Taxi maneuver# "
   ]
  },
  {
   "cell_type": "code",
   "execution_count": 6,
   "id": "27562814",
   "metadata": {},
   "outputs": [],
   "source": [
    "df_h = df.copy()\n",
    "df_h['hover'] = 0\n",
    "\n",
    "df_h.loc[(df_h['datetime'].between('2022-09-19 21:57:07' , '2022-09-19 21:59:20' , inclusive='both')),['hover']] = 1\n",
    "df_h.loc[(df_h['datetime'].between('2022-09-19 22:08:15' , '2022-09-19 22:10:24' , inclusive='both')),['hover']] = 1\n",
    "df_h.loc[(df_h['datetime'].between('2022-09-20 20:28:44' , '2022-09-20 20:30:06' , inclusive='both')),['hover']] = 1\n",
    "df_h.loc[(df_h['datetime'].between('2022-09-20 20:30:31' , '2022-09-20 20:32:16' , inclusive='both')),['hover']] = 1\n",
    "df_h.loc[(df_h['datetime'].between('2022-09-20 20:32:39' , '2022-09-20 20:34:06' , inclusive='both')),['hover']] = 1\n",
    "df_h.loc[(df_h['datetime'].between('2022-09-20 20:34:50' , '2022-09-20 20:36:51' , inclusive='both')),['hover']] = 1\n",
    "df_h.loc[(df_h['datetime'].between('2022-09-22 21:20:41' , '2022-09-22 21:23:56' , inclusive='both')),['hover']] = 1\n",
    "df_h.loc[(df_h['datetime'].between('2022-09-22 21:28:35' , '2022-09-22 21:29:46' , inclusive='both')),['hover']] = 1\n",
    "df_h.loc[(df_h['datetime'].between('2022-09-22 21:44:09' , '2022-09-22 21:45:31' , inclusive='both')),['hover']] = 1\n"
   ]
  },
  {
   "cell_type": "code",
   "execution_count": 7,
   "id": "6f94647d",
   "metadata": {},
   "outputs": [
    {
     "data": {
      "text/plain": [
       "0    6206\n",
       "1    1014\n",
       "Name: hover, dtype: int64"
      ]
     },
     "execution_count": 7,
     "metadata": {},
     "output_type": "execute_result"
    }
   ],
   "source": [
    "df_h['hover'].value_counts()"
   ]
  },
  {
   "cell_type": "markdown",
   "id": "7b7377f9",
   "metadata": {},
   "source": [
    "# Edit DF for ML, Class Balance, Select desired features"
   ]
  },
  {
   "cell_type": "code",
   "execution_count": 8,
   "id": "0982f9ef",
   "metadata": {},
   "outputs": [],
   "source": [
    "#Edit the model features to whatever you want to include in your model\n",
    "all_features = [ 'hasWeightOnWheels',\n",
    "            'absoluteAltitude',\n",
    "                 'magneticHeading', \n",
    "                 'groundSpeed', \n",
    "                 'climbOrDescentRate',\n",
    "                 'turnRate to degPerSec',\n",
    "                 'cyclicPositionPitch',\n",
    "                 'cyclicPositionRoll',\n",
    "                 'collectivePosition',\n",
    "                 'antiTorquePedalPosition',\n",
    "                 'throttlePosition',\n",
    "                 'e1Torque',\n",
    "                 'e2Torque', 'hover']\n",
    "\n",
    "df_h = df_h[all_features]"
   ]
  },
  {
   "cell_type": "code",
   "execution_count": 9,
   "id": "24f18f93",
   "metadata": {},
   "outputs": [
    {
     "data": {
      "text/plain": [
       "0    6206\n",
       "1    1014\n",
       "Name: hover, dtype: int64"
      ]
     },
     "execution_count": 9,
     "metadata": {},
     "output_type": "execute_result"
    }
   ],
   "source": [
    "# 6206 0s\n",
    "# 1014 1s\n",
    "\n",
    "df_h['hover'].value_counts()"
   ]
  },
  {
   "cell_type": "code",
   "execution_count": 10,
   "id": "9bd4c741",
   "metadata": {},
   "outputs": [],
   "source": [
    "df1 = df_h[(df_h['hover'] == 0)].sample(n=1014, replace=False, random_state=123458)\n",
    "df2 = pd.concat([df_h[(df_h['hover'] == 1)], df1], ignore_index = True)\n",
    "df2 = df2.sample(frac=1)"
   ]
  },
  {
   "cell_type": "code",
   "execution_count": 11,
   "id": "81a4d295",
   "metadata": {},
   "outputs": [
    {
     "data": {
      "text/plain": [
       "0    1014\n",
       "1    1014\n",
       "Name: hover, dtype: int64"
      ]
     },
     "execution_count": 11,
     "metadata": {},
     "output_type": "execute_result"
    }
   ],
   "source": [
    "df2['hover'].value_counts()"
   ]
  },
  {
   "cell_type": "code",
   "execution_count": 12,
   "id": "477d3244",
   "metadata": {},
   "outputs": [
    {
     "data": {
      "text/html": [
       "<div>\n",
       "<style scoped>\n",
       "    .dataframe tbody tr th:only-of-type {\n",
       "        vertical-align: middle;\n",
       "    }\n",
       "\n",
       "    .dataframe tbody tr th {\n",
       "        vertical-align: top;\n",
       "    }\n",
       "\n",
       "    .dataframe thead th {\n",
       "        text-align: right;\n",
       "    }\n",
       "</style>\n",
       "<table border=\"1\" class=\"dataframe\">\n",
       "  <thead>\n",
       "    <tr style=\"text-align: right;\">\n",
       "      <th></th>\n",
       "      <th>hasWeightOnWheels</th>\n",
       "      <th>absoluteAltitude</th>\n",
       "      <th>magneticHeading</th>\n",
       "      <th>groundSpeed</th>\n",
       "      <th>climbOrDescentRate</th>\n",
       "      <th>turnRate to degPerSec</th>\n",
       "      <th>cyclicPositionPitch</th>\n",
       "      <th>cyclicPositionRoll</th>\n",
       "      <th>collectivePosition</th>\n",
       "      <th>antiTorquePedalPosition</th>\n",
       "      <th>throttlePosition</th>\n",
       "      <th>e1Torque</th>\n",
       "      <th>e2Torque</th>\n",
       "      <th>hover</th>\n",
       "    </tr>\n",
       "  </thead>\n",
       "  <tbody>\n",
       "    <tr>\n",
       "      <th>1324</th>\n",
       "      <td>0.0</td>\n",
       "      <td>1560.672708</td>\n",
       "      <td>16.400458</td>\n",
       "      <td>84.339208</td>\n",
       "      <td>1056.866854</td>\n",
       "      <td>3.000000</td>\n",
       "      <td>-24.752875</td>\n",
       "      <td>-11.021437</td>\n",
       "      <td>44.603437</td>\n",
       "      <td>56.165542</td>\n",
       "      <td>59.240708</td>\n",
       "      <td>66.172583</td>\n",
       "      <td>66.172583</td>\n",
       "      <td>0</td>\n",
       "    </tr>\n",
       "    <tr>\n",
       "      <th>1231</th>\n",
       "      <td>1.0</td>\n",
       "      <td>0.068889</td>\n",
       "      <td>309.877311</td>\n",
       "      <td>0.005400</td>\n",
       "      <td>-0.050022</td>\n",
       "      <td>-0.039622</td>\n",
       "      <td>-54.775200</td>\n",
       "      <td>-2.224200</td>\n",
       "      <td>3.655000</td>\n",
       "      <td>1.602400</td>\n",
       "      <td>44.182933</td>\n",
       "      <td>35.525156</td>\n",
       "      <td>35.525156</td>\n",
       "      <td>0</td>\n",
       "    </tr>\n",
       "    <tr>\n",
       "      <th>692</th>\n",
       "      <td>0.0</td>\n",
       "      <td>5.705882</td>\n",
       "      <td>284.945971</td>\n",
       "      <td>16.492353</td>\n",
       "      <td>-57.885176</td>\n",
       "      <td>0.296618</td>\n",
       "      <td>-10.190353</td>\n",
       "      <td>-6.405559</td>\n",
       "      <td>41.628529</td>\n",
       "      <td>-0.637088</td>\n",
       "      <td>52.255735</td>\n",
       "      <td>52.798735</td>\n",
       "      <td>52.798735</td>\n",
       "      <td>1</td>\n",
       "    </tr>\n",
       "    <tr>\n",
       "      <th>358</th>\n",
       "      <td>0.0</td>\n",
       "      <td>6.485349</td>\n",
       "      <td>205.947047</td>\n",
       "      <td>22.880651</td>\n",
       "      <td>36.901605</td>\n",
       "      <td>-0.886209</td>\n",
       "      <td>-16.568186</td>\n",
       "      <td>-12.059326</td>\n",
       "      <td>39.629419</td>\n",
       "      <td>-4.709442</td>\n",
       "      <td>51.733930</td>\n",
       "      <td>51.766465</td>\n",
       "      <td>51.766465</td>\n",
       "      <td>1</td>\n",
       "    </tr>\n",
       "    <tr>\n",
       "      <th>1771</th>\n",
       "      <td>1.0</td>\n",
       "      <td>0.040000</td>\n",
       "      <td>23.668583</td>\n",
       "      <td>0.001000</td>\n",
       "      <td>-0.000972</td>\n",
       "      <td>-0.010722</td>\n",
       "      <td>5.231028</td>\n",
       "      <td>-25.051833</td>\n",
       "      <td>3.429028</td>\n",
       "      <td>-17.618139</td>\n",
       "      <td>45.467417</td>\n",
       "      <td>37.980167</td>\n",
       "      <td>37.980167</td>\n",
       "      <td>0</td>\n",
       "    </tr>\n",
       "  </tbody>\n",
       "</table>\n",
       "</div>"
      ],
      "text/plain": [
       "      hasWeightOnWheels  absoluteAltitude  magneticHeading  groundSpeed  \\\n",
       "1324                0.0       1560.672708        16.400458    84.339208   \n",
       "1231                1.0          0.068889       309.877311     0.005400   \n",
       "692                 0.0          5.705882       284.945971    16.492353   \n",
       "358                 0.0          6.485349       205.947047    22.880651   \n",
       "1771                1.0          0.040000        23.668583     0.001000   \n",
       "\n",
       "      climbOrDescentRate  turnRate to degPerSec  cyclicPositionPitch  \\\n",
       "1324         1056.866854               3.000000           -24.752875   \n",
       "1231           -0.050022              -0.039622           -54.775200   \n",
       "692           -57.885176               0.296618           -10.190353   \n",
       "358            36.901605              -0.886209           -16.568186   \n",
       "1771           -0.000972              -0.010722             5.231028   \n",
       "\n",
       "      cyclicPositionRoll  collectivePosition  antiTorquePedalPosition  \\\n",
       "1324          -11.021437           44.603437                56.165542   \n",
       "1231           -2.224200            3.655000                 1.602400   \n",
       "692            -6.405559           41.628529                -0.637088   \n",
       "358           -12.059326           39.629419                -4.709442   \n",
       "1771          -25.051833            3.429028               -17.618139   \n",
       "\n",
       "      throttlePosition   e1Torque   e2Torque  hover  \n",
       "1324         59.240708  66.172583  66.172583      0  \n",
       "1231         44.182933  35.525156  35.525156      0  \n",
       "692          52.255735  52.798735  52.798735      1  \n",
       "358          51.733930  51.766465  51.766465      1  \n",
       "1771         45.467417  37.980167  37.980167      0  "
      ]
     },
     "execution_count": 12,
     "metadata": {},
     "output_type": "execute_result"
    }
   ],
   "source": [
    "df2.head()"
   ]
  },
  {
   "cell_type": "code",
   "execution_count": null,
   "id": "8e37f39e",
   "metadata": {},
   "outputs": [],
   "source": []
  },
  {
   "cell_type": "markdown",
   "id": "132302f8",
   "metadata": {},
   "source": [
    "# SVM for Hover Taxi"
   ]
  },
  {
   "cell_type": "code",
   "execution_count": 34,
   "id": "83db41dd",
   "metadata": {},
   "outputs": [],
   "source": [
    "from sklearn.metrics import confusion_matrix\n",
    "from sklearn.model_selection import train_test_split\n",
    "from sklearn.metrics import accuracy_score, ConfusionMatrixDisplay, confusion_matrix, classification_report\n",
    "from sklearn.model_selection import GridSearchCV\n",
    "from sklearn.svm import SVC\n",
    "from sklearn.preprocessing import StandardScaler, MinMaxScaler, RobustScaler\n",
    "from sklearn.utils import resample"
   ]
  },
  {
   "cell_type": "code",
   "execution_count": 35,
   "id": "9d58dd2e",
   "metadata": {},
   "outputs": [],
   "source": [
    "#Edit the model features to whatever you want to include in your model\n",
    "model_features = [ 'hasWeightOnWheels',\n",
    "            'absoluteAltitude',\n",
    "                 'magneticHeading', \n",
    "                 'groundSpeed', \n",
    "                 'climbOrDescentRate',\n",
    "                 'turnRate to degPerSec',\n",
    "                 'cyclicPositionPitch',\n",
    "                 'cyclicPositionRoll',\n",
    "                 'collectivePosition',\n",
    "                 'antiTorquePedalPosition',\n",
    "                 'throttlePosition',\n",
    "                 'e1Torque',\n",
    "                 'e2Torque']\n",
    "\n",
    "#X is predictor features, y is classifier \n",
    "X = df2[model_features]\n",
    "y = df2['hover']"
   ]
  },
  {
   "cell_type": "code",
   "execution_count": 36,
   "id": "79c61a6a",
   "metadata": {},
   "outputs": [],
   "source": [
    "X_train, X_test, y_train, y_test = train_test_split(X, y, test_size=0.33, random_state=516516)"
   ]
  },
  {
   "cell_type": "code",
   "execution_count": 37,
   "id": "40f5e160",
   "metadata": {},
   "outputs": [
    {
     "name": "stdout",
     "output_type": "stream",
     "text": [
      "Accuracy of SVM classifier on training set: 0.94\n",
      "Accuracy of SVM classifier on test set: 0.9269\n"
     ]
    }
   ],
   "source": [
    "#SVC\n",
    "scaler = MinMaxScaler()\n",
    "X_train = scaler.fit_transform(X_train)\n",
    "X_test = scaler.transform(X_test)\n",
    "\n",
    "\n",
    "svm = SVC(C=100)\n",
    "\n",
    "\n",
    "svm.fit(X_train, y_train)\n",
    "print('Accuracy of SVM classifier on training set: {:.2f}'\n",
    "     .format(svm.score(X_train, y_train)))\n",
    "print('Accuracy of SVM classifier on test set: {:.4f}'\n",
    "     .format(svm.score(X_test, y_test)))\n",
    "\n"
   ]
  },
  {
   "cell_type": "code",
   "execution_count": 38,
   "id": "be266cf9",
   "metadata": {},
   "outputs": [],
   "source": [
    "y_pred=svm.predict(X_test)"
   ]
  },
  {
   "cell_type": "code",
   "execution_count": 39,
   "id": "bc474f43",
   "metadata": {},
   "outputs": [
    {
     "data": {
      "image/png": "[encoded data removed]",
      "text/plain": [
       "<Figure size 800x500 with 2 Axes>"
      ]
     },
     "metadata": {},
     "output_type": "display_data"
    }
   ],
   "source": [
    "fig, ax = plt.subplots(figsize=(8, 5))\n",
    "cmp = ConfusionMatrixDisplay(confusion_matrix(y_test, y_pred), display_labels = ['Not_Hover_Taxi', 'Hover_Taxi'])\n",
    "cmp.plot(ax=ax)\n",
    "plt.show()"
   ]
  },
  {
   "cell_type": "code",
   "execution_count": 19,
   "id": "920b17fd",
   "metadata": {},
   "outputs": [
    {
     "data": {
      "text/plain": [
       "0    338\n",
       "1    332\n",
       "Name: hover, dtype: int64"
      ]
     },
     "execution_count": 19,
     "metadata": {},
     "output_type": "execute_result"
    }
   ],
   "source": [
    "y_test.value_counts()"
   ]
  },
  {
   "cell_type": "code",
   "execution_count": 20,
   "id": "599927b5",
   "metadata": {},
   "outputs": [
    {
     "data": {
      "text/plain": [
       "0    1014\n",
       "1    1014\n",
       "Name: hover, dtype: int64"
      ]
     },
     "execution_count": 20,
     "metadata": {},
     "output_type": "execute_result"
    }
   ],
   "source": [
    "y.value_counts()"
   ]
  },
  {
   "cell_type": "code",
   "execution_count": 40,
   "id": "f787f101",
   "metadata": {},
   "outputs": [],
   "source": [
    "import pickle"
   ]
  },
  {
   "cell_type": "code",
   "execution_count": 41,
   "id": "33e06e6f",
   "metadata": {},
   "outputs": [],
   "source": [
    "pickle.dump(svm, open('hover_svm.pkl', 'wb'))"
   ]
  },
  {
   "cell_type": "code",
   "execution_count": 42,
   "id": "0f8a4b9b",
   "metadata": {},
   "outputs": [],
   "source": [
    "pickle.dump(scaler, open('hover_scaler.pkl','wb'))"
   ]
  },
  {
   "cell_type": "code",
   "execution_count": null,
   "id": "b58e5b2c",
   "metadata": {},
   "outputs": [],
   "source": []
  },
  {
   "cell_type": "code",
   "execution_count": null,
   "id": "c0fba80c",
   "metadata": {},
   "outputs": [],
   "source": []
  },
  {
   "cell_type": "code",
   "execution_count": null,
   "id": "fbc2e788",
   "metadata": {},
   "outputs": [],
   "source": []
  },
  {
   "cell_type": "code",
   "execution_count": null,
   "id": "8af195cd",
   "metadata": {},
   "outputs": [],
   "source": []
  },
  {
   "cell_type": "code",
   "execution_count": null,
   "id": "eee19623",
   "metadata": {},
   "outputs": [],
   "source": []
  },
  {
   "cell_type": "code",
   "execution_count": 23,
   "id": "147eb78f",
   "metadata": {},
   "outputs": [],
   "source": [
    "#Edit the model features to whatever you want to include in your model\n",
    "model_features = [ 'hasWeightOnWheels',\n",
    "            'absoluteAltitude',\n",
    "                 'magneticHeading', \n",
    "                 'groundSpeed', \n",
    "                 'climbOrDescentRate',\n",
    "                 'turnRate to degPerSec',\n",
    "                 'cyclicPositionPitch',\n",
    "                 'cyclicPositionRoll',\n",
    "                 'collectivePosition',\n",
    "                 'antiTorquePedalPosition',\n",
    "                 'throttlePosition',\n",
    "                 'e1Torque',\n",
    "                 'e2Torque']\n",
    "\n",
    "#X is predictor features, y is classifier \n",
    "X = df2[model_features]\n",
    "y = df2['hover']\n",
    "X_train, X_test, y_train, y_test = train_test_split(X, y, test_size=0.33, random_state=516516)"
   ]
  },
  {
   "cell_type": "code",
   "execution_count": null,
   "id": "ae6f5eec",
   "metadata": {},
   "outputs": [],
   "source": []
  },
  {
   "cell_type": "code",
   "execution_count": 24,
   "id": "d754fdf5",
   "metadata": {},
   "outputs": [
    {
     "name": "stdout",
     "output_type": "stream",
     "text": [
      "Accuracy of SVM classifier on training set: 0.96\n",
      "Accuracy of SVM classifier on test set: 0.9239\n"
     ]
    }
   ],
   "source": [
    "#SVC\n",
    "scaler = StandardScaler()\n",
    "X_train = scaler.fit_transform(X_train)\n",
    "X_test = scaler.transform(X_test)\n",
    "\n",
    "svm = SVC(C=100)\n",
    "#y_pred=svm.predict(X_test)\n",
    "\n",
    "svm.fit(X_train, y_train)\n",
    "print('Accuracy of SVM classifier on training set: {:.2f}'\n",
    "     .format(svm.score(X_train, y_train)))\n",
    "print('Accuracy of SVM classifier on test set: {:.4f}'\n",
    "     .format(svm.score(X_test, y_test)))\n"
   ]
  },
  {
   "cell_type": "code",
   "execution_count": 25,
   "id": "e116f529",
   "metadata": {},
   "outputs": [],
   "source": [
    "y_pred=svm.predict(X_test)"
   ]
  },
  {
   "cell_type": "code",
   "execution_count": 26,
   "id": "73af6177",
   "metadata": {},
   "outputs": [
    {
     "data": {
      "image/png": "[encoded data removed]",
      "text/plain": [
       "<Figure size 800x500 with 2 Axes>"
      ]
     },
     "metadata": {},
     "output_type": "display_data"
    }
   ],
   "source": [
    "fig, ax = plt.subplots(figsize=(8, 5))\n",
    "cmp = ConfusionMatrixDisplay(confusion_matrix(y_test, y_pred), display_labels = ['Not_Hover_Taxi', 'Hover_Taxi'])\n",
    "cmp.plot(ax=ax)\n",
    "plt.show()"
   ]
  },
  {
   "cell_type": "code",
   "execution_count": null,
   "id": "33df53f4",
   "metadata": {},
   "outputs": [],
   "source": []
  },
  {
   "cell_type": "code",
   "execution_count": 27,
   "id": "0af23854",
   "metadata": {},
   "outputs": [],
   "source": [
    "#Tune \n",
    "#Edit the model features to whatever you want to include in your model\n",
    "model_features = [ 'hasWeightOnWheels',\n",
    "            'absoluteAltitude',\n",
    "                 'magneticHeading', \n",
    "                 'groundSpeed', \n",
    "                 'climbOrDescentRate',\n",
    "                 'turnRate to degPerSec',\n",
    "                 'cyclicPositionPitch',\n",
    "                 'cyclicPositionRoll',\n",
    "                 'collectivePosition',\n",
    "                 'antiTorquePedalPosition',\n",
    "                 'throttlePosition',\n",
    "                 'e1Torque',\n",
    "                 'e2Torque']\n",
    "\n",
    "#X is predictor features, y is classifier \n",
    "X = df2[model_features]\n",
    "y = df2['hover']\n",
    "X_train, X_test, y_train, y_test = train_test_split(X, y, test_size=0.33, random_state=516516)"
   ]
  },
  {
   "cell_type": "code",
   "execution_count": 28,
   "id": "0cbd1cef",
   "metadata": {},
   "outputs": [
    {
     "name": "stdout",
     "output_type": "stream",
     "text": [
      "Accuracy of SVM classifier on training set: 0.92\n",
      "Accuracy of SVM classifier on test set: 0.9119\n"
     ]
    }
   ],
   "source": [
    "#SVC\n",
    "scaler = RobustScaler()\n",
    "X_train = scaler.fit_transform(X_train)\n",
    "X_test = scaler.transform(X_test)\n",
    "\n",
    "svm = SVC(C=100)\n",
    "\n",
    "\n",
    "svm.fit(X_train, y_train)\n",
    "print('Accuracy of SVM classifier on training set: {:.2f}'\n",
    "     .format(svm.score(X_train, y_train)))\n",
    "print('Accuracy of SVM classifier on test set: {:.4f}'\n",
    "     .format(svm.score(X_test, y_test)))\n"
   ]
  },
  {
   "cell_type": "code",
   "execution_count": 29,
   "id": "a264c1ab",
   "metadata": {},
   "outputs": [],
   "source": [
    "y_pred=svm.predict(X_test)"
   ]
  },
  {
   "cell_type": "code",
   "execution_count": 30,
   "id": "12ae98cc",
   "metadata": {},
   "outputs": [
    {
     "data": {
      "image/png": "[encoded data removed]",
      "text/plain": [
       "<Figure size 800x500 with 2 Axes>"
      ]
     },
     "metadata": {},
     "output_type": "display_data"
    }
   ],
   "source": [
    "fig, ax = plt.subplots(figsize=(8, 5))\n",
    "cmp = ConfusionMatrixDisplay(confusion_matrix(y_test, y_pred), display_labels = ['Not_Hover_Taxi', 'Hover_Taxi'])\n",
    "cmp.plot(ax=ax)\n",
    "plt.show()"
   ]
  },
  {
   "cell_type": "code",
   "execution_count": null,
   "id": "008db263",
   "metadata": {},
   "outputs": [],
   "source": []
  },
  {
   "cell_type": "markdown",
   "id": "d74db05f",
   "metadata": {},
   "source": [
    "# Load New Data for validation"
   ]
  },
  {
   "cell_type": "code",
   "execution_count": 43,
   "id": "a2b389a1",
   "metadata": {},
   "outputs": [],
   "source": [
    "# Create a custom function for data transformation\n",
    "# May as well import all of these features into the initial dataframe, you can cut it down..\n",
    "# ..when you do the X,y train/test split\n",
    "features = ['datetime',\n",
    "          'latitude',\n",
    "          'longitude',\n",
    "          'absoluteAltitude', \n",
    "          'magneticHeading',\n",
    "          'trueHeading', \n",
    "          'groundSpeed', \n",
    "          'trueAirspeed',\n",
    "          'pitch', \n",
    "          'roll',\n",
    "          'yaw',\n",
    "          'angleOfAttack',\n",
    "          'flightPathAngle',\n",
    "          'verticalFlightPathAngle',\n",
    "          'horizontalFlightPathAngle',\n",
    "          'rollAcceleration',\n",
    "          'pitchAcceleration',\n",
    "          'yawAcceleration',\n",
    "          'e1N1ng',\n",
    "          'e2N1ng',\n",
    "          'e1N2nf',\n",
    "          'e2N2nf',\n",
    "          'mainRotorRpm',\n",
    "          'tailRotorRpm',\n",
    "          'mainRotorTorque',\n",
    "          'e1Itt',\n",
    "          'e2Itt',\n",
    "          'mainRotorInducedInflow',\n",
    "          'flightDirectorPitch',\n",
    "          'flightDirectorRoll',\n",
    "          'climbOrDescentRate', \n",
    "          'hasWeightOnWheels',\n",
    "          'turnRate to degPerSec',\n",
    "          'cyclicPositionPitch',\n",
    "          'cyclicPositionRoll',\n",
    "          'collectivePosition',\n",
    "          'antiTorquePedalPosition',\n",
    "          'throttlePosition',\n",
    "          'e1Torque',\n",
    "          'e2Torque',\n",
    "]\n"
   ]
  },
  {
   "cell_type": "code",
   "execution_count": 44,
   "id": "4cc54312",
   "metadata": {},
   "outputs": [
    {
     "name": "stderr",
     "output_type": "stream",
     "text": [
      "C:\\Users\\twolf\\AppData\\Local\\Temp\\ipykernel_27756\\17026926.py:3: SettingWithCopyWarning: \n",
      "A value is trying to be set on a copy of a slice from a DataFrame.\n",
      "Try using .loc[row_indexer,col_indexer] = value instead\n",
      "\n",
      "See the caveats in the documentation: https://pandas.pydata.org/pandas-docs/stable/user_guide/indexing.html#returning-a-view-versus-a-copy\n",
      "  df_temp['datetime'] = df_temp.datetime.dt.strftime('%Y-%m-%d %H:%M:%S').astype('datetime64[ns]')\n"
     ]
    }
   ],
   "source": [
    "# reading files from 10/20 dataset\n",
    "dfN = pd.read_csv('SimData_2022.10.20_17.19.15.csv.roar.csv',\n",
    "                parse_dates = {'datetime': ['date', 'time']},\n",
    "                low_memory=False)\n",
    "dfN = df_transformation(dfN)"
   ]
  },
  {
   "cell_type": "code",
   "execution_count": 51,
   "id": "f3993e79",
   "metadata": {},
   "outputs": [],
   "source": [
    "dfN['hover'] = 0\n",
    "\n",
    "dfN.loc[(dfN['datetime'].between('2022-10-20 21:42:00' , '2022-10-20 21:46:30' , inclusive='both')),['hover']] = 1\n",
    "dfN.loc[(dfN['datetime'].between('2022-10-20 21:50:00' , '2022-10-20 21:52:05' , inclusive='both')),['hover']] = 1\n",
    "dfN.loc[(dfN['datetime'].between('2022-10-20 21:54:00' , '2022-10-20 21:56:45' , inclusive='both')),['hover']] = 1\n",
    "dfN.loc[(dfN['datetime'].between('2022-10-20 21:58:00' , '2022-10-20 22:00:08' , inclusive='both')),['hover']] = 1"
   ]
  },
  {
   "cell_type": "code",
   "execution_count": 52,
   "id": "7a1edf57",
   "metadata": {},
   "outputs": [
    {
     "data": {
      "text/plain": [
       "0    1771\n",
       "1     692\n",
       "Name: hover, dtype: int64"
      ]
     },
     "execution_count": 52,
     "metadata": {},
     "output_type": "execute_result"
    }
   ],
   "source": [
    "dfN['hover'].value_counts()"
   ]
  },
  {
   "cell_type": "code",
   "execution_count": 53,
   "id": "83b20a8f",
   "metadata": {},
   "outputs": [],
   "source": [
    "df1 = dfN[(dfN['hover'] == 0)].sample(n=692, replace=False, random_state=123458)\n",
    "df2 = pd.concat([dfN[(dfN['hover'] == 1)], df1], ignore_index = True)\n",
    "df2 = df2.sample(frac=1)"
   ]
  },
  {
   "cell_type": "code",
   "execution_count": 54,
   "id": "27de0b8f",
   "metadata": {},
   "outputs": [
    {
     "data": {
      "text/plain": [
       "0    1771\n",
       "1     692\n",
       "Name: hover, dtype: int64"
      ]
     },
     "execution_count": 54,
     "metadata": {},
     "output_type": "execute_result"
    }
   ],
   "source": [
    "dfN['hover'].value_counts()"
   ]
  },
  {
   "cell_type": "code",
   "execution_count": 56,
   "id": "20d9229b",
   "metadata": {},
   "outputs": [],
   "source": [
    "#Tune \n",
    "#Edit the model features to whatever you want to include in your model\n",
    "model_features = [ 'hasWeightOnWheels',\n",
    "            'absoluteAltitude',\n",
    "                 'magneticHeading', \n",
    "                 'groundSpeed', \n",
    "                 'climbOrDescentRate',\n",
    "                 'turnRate to degPerSec',\n",
    "                 'cyclicPositionPitch',\n",
    "                 'cyclicPositionRoll',\n",
    "                 'collectivePosition',\n",
    "                 'antiTorquePedalPosition',\n",
    "                 'throttlePosition',\n",
    "                 'e1Torque',\n",
    "                 'e2Torque']\n",
    "\n",
    "#X is predictor features, y is classifier \n",
    "X = df2[model_features]\n",
    "y = df2['hover']\n",
    "#X_train, X_test, y_train, y_test = train_test_split(X, y, test_size=0.33, random_state=516516)"
   ]
  },
  {
   "cell_type": "code",
   "execution_count": null,
   "id": "362c1769",
   "metadata": {},
   "outputs": [],
   "source": []
  },
  {
   "cell_type": "code",
   "execution_count": 57,
   "id": "de6699e1",
   "metadata": {},
   "outputs": [],
   "source": [
    "svm_loaded = pickle.load(open('hover_svm.pkl', 'rb'))\n",
    "scaler_loaded = pickle.load(open('hover_scaler.pkl','rb'))"
   ]
  },
  {
   "cell_type": "code",
   "execution_count": 58,
   "id": "1e12accd",
   "metadata": {},
   "outputs": [],
   "source": [
    "#SVC\n",
    "\n",
    "X_valid = scaler_loaded.transform(X)"
   ]
  },
  {
   "cell_type": "code",
   "execution_count": 59,
   "id": "fbf80e5d",
   "metadata": {},
   "outputs": [
    {
     "name": "stdout",
     "output_type": "stream",
     "text": [
      "Accuracy of Model:: 0.796242774566474\n"
     ]
    }
   ],
   "source": [
    "validation_svm = svm_loaded.predict(X_valid)\n",
    "print(\"Accuracy of Model::\",accuracy_score(y,validation_svm))"
   ]
  },
  {
   "cell_type": "code",
   "execution_count": null,
   "id": "587ccec4",
   "metadata": {},
   "outputs": [],
   "source": []
  },
  {
   "cell_type": "code",
   "execution_count": null,
   "id": "b4e5eaf2",
   "metadata": {},
   "outputs": [],
   "source": []
  },
  {
   "cell_type": "code",
   "execution_count": null,
   "id": "70d86120",
   "metadata": {},
   "outputs": [],
   "source": []
  },
  {
   "cell_type": "code",
   "execution_count": null,
   "id": "3ebc2ea1",
   "metadata": {},
   "outputs": [],
   "source": []
  },
  {
   "cell_type": "code",
   "execution_count": null,
   "id": "26f43131",
   "metadata": {},
   "outputs": [],
   "source": []
  },
  {
   "cell_type": "code",
   "execution_count": null,
   "id": "e28a6b45",
   "metadata": {},
   "outputs": [],
   "source": []
  },
  {
   "cell_type": "code",
   "execution_count": null,
   "id": "fe30859a",
   "metadata": {},
   "outputs": [],
   "source": []
  },
  {
   "cell_type": "code",
   "execution_count": null,
   "id": "23b59b98",
   "metadata": {},
   "outputs": [],
   "source": []
  }
 ],
 "metadata": {
  "kernelspec": {
   "display_name": "Python 3 (ipykernel)",
   "language": "python",
   "name": "python3"
  },
  "language_info": {
   "codemirror_mode": {
    "name": "ipython",
    "version": 3
   },
   "file_extension": ".py",
   "mimetype": "text/x-python",
   "name": "python",
   "nbconvert_exporter": "python",
   "pygments_lexer": "ipython3",
   "version": "3.9.12"
  }
 },
 "nbformat": 4,
 "nbformat_minor": 5
}
