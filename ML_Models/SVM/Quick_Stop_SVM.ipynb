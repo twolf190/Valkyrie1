{
 "cells": [
  {
   "cell_type": "code",
   "execution_count": 57,
   "id": "dcef2943",
   "metadata": {},
   "outputs": [],
   "source": [
    "import pandas as pd\n",
    "import matplotlib.pyplot as plt\n",
    "import seaborn as sns\n",
    "import os\n",
    "import numpy as np"
   ]
  },
  {
   "cell_type": "code",
   "execution_count": 58,
   "id": "fe465b47",
   "metadata": {},
   "outputs": [],
   "source": [
    "def df_transformation(df):\n",
    "    df_temp = df[features]\n",
    "    df_temp['datetime'] = df_temp.datetime.dt.strftime('%Y-%m-%d %H:%M:%S').astype('datetime64[ns]')\n",
    "\n",
    "    output = df_temp.groupby(by=[\"datetime\"], dropna=False).mean().reset_index()\n",
    "    \n",
    "    return output "
   ]
  },
  {
   "cell_type": "code",
   "execution_count": 59,
   "id": "9e72593b",
   "metadata": {},
   "outputs": [],
   "source": [
    "# Create a custom function for data transformation\n",
    "# May as well import all of these features into the initial dataframe, you can cut it down..\n",
    "# ..when you do the X,y train/test split\n",
    "features = ['datetime',\n",
    "          'latitude',\n",
    "          'longitude',\n",
    "          'absoluteAltitude', \n",
    "          'magneticHeading',\n",
    "          'trueHeading', \n",
    "          'groundSpeed', \n",
    "          'trueAirspeed',\n",
    "          'pitch', \n",
    "          'roll',\n",
    "          'yaw',\n",
    "          'angleOfAttack',\n",
    "          'flightPathAngle',\n",
    "          'verticalFlightPathAngle',\n",
    "          'horizontalFlightPathAngle',\n",
    "          'rollAcceleration',\n",
    "          'pitchAcceleration',\n",
    "          'yawAcceleration',\n",
    "          'e1N1ng',\n",
    "          'e2N1ng',\n",
    "          'e1N2nf',\n",
    "          'e2N2nf',\n",
    "          'mainRotorRpm',\n",
    "          'tailRotorRpm',\n",
    "          'mainRotorTorque',\n",
    "          'e1Itt',\n",
    "          'e2Itt',\n",
    "          'mainRotorInducedInflow',\n",
    "          'flightDirectorPitch',\n",
    "          'flightDirectorRoll',\n",
    "          'climbOrDescentRate', \n",
    "          'hasWeightOnWheels',\n",
    "          'turnRate to degPerSec',\n",
    "          'cyclicPositionPitch',\n",
    "          'cyclicPositionRoll',\n",
    "          'collectivePosition',\n",
    "          'antiTorquePedalPosition',\n",
    "          'throttlePosition',\n",
    "          'e1Torque',\n",
    "          'e2Torque',\n",
    "]\n"
   ]
  },
  {
   "cell_type": "code",
   "execution_count": 60,
   "id": "a111405c",
   "metadata": {},
   "outputs": [
    {
     "name": "stderr",
     "output_type": "stream",
     "text": [
      "C:\\Users\\twolf\\AppData\\Local\\Temp\\ipykernel_28140\\17026926.py:3: SettingWithCopyWarning: \n",
      "A value is trying to be set on a copy of a slice from a DataFrame.\n",
      "Try using .loc[row_indexer,col_indexer] = value instead\n",
      "\n",
      "See the caveats in the documentation: https://pandas.pydata.org/pandas-docs/stable/user_guide/indexing.html#returning-a-view-versus-a-copy\n",
      "  df_temp['datetime'] = df_temp.datetime.dt.strftime('%Y-%m-%d %H:%M:%S').astype('datetime64[ns]')\n",
      "C:\\Users\\twolf\\AppData\\Local\\Temp\\ipykernel_28140\\17026926.py:3: SettingWithCopyWarning: \n",
      "A value is trying to be set on a copy of a slice from a DataFrame.\n",
      "Try using .loc[row_indexer,col_indexer] = value instead\n",
      "\n",
      "See the caveats in the documentation: https://pandas.pydata.org/pandas-docs/stable/user_guide/indexing.html#returning-a-view-versus-a-copy\n",
      "  df_temp['datetime'] = df_temp.datetime.dt.strftime('%Y-%m-%d %H:%M:%S').astype('datetime64[ns]')\n",
      "C:\\Users\\twolf\\AppData\\Local\\Temp\\ipykernel_28140\\17026926.py:3: SettingWithCopyWarning: \n",
      "A value is trying to be set on a copy of a slice from a DataFrame.\n",
      "Try using .loc[row_indexer,col_indexer] = value instead\n",
      "\n",
      "See the caveats in the documentation: https://pandas.pydata.org/pandas-docs/stable/user_guide/indexing.html#returning-a-view-versus-a-copy\n",
      "  df_temp['datetime'] = df_temp.datetime.dt.strftime('%Y-%m-%d %H:%M:%S').astype('datetime64[ns]')\n",
      "C:\\Users\\twolf\\AppData\\Local\\Temp\\ipykernel_28140\\17026926.py:3: SettingWithCopyWarning: \n",
      "A value is trying to be set on a copy of a slice from a DataFrame.\n",
      "Try using .loc[row_indexer,col_indexer] = value instead\n",
      "\n",
      "See the caveats in the documentation: https://pandas.pydata.org/pandas-docs/stable/user_guide/indexing.html#returning-a-view-versus-a-copy\n",
      "  df_temp['datetime'] = df_temp.datetime.dt.strftime('%Y-%m-%d %H:%M:%S').astype('datetime64[ns]')\n",
      "C:\\Users\\twolf\\AppData\\Local\\Temp\\ipykernel_28140\\17026926.py:3: SettingWithCopyWarning: \n",
      "A value is trying to be set on a copy of a slice from a DataFrame.\n",
      "Try using .loc[row_indexer,col_indexer] = value instead\n",
      "\n",
      "See the caveats in the documentation: https://pandas.pydata.org/pandas-docs/stable/user_guide/indexing.html#returning-a-view-versus-a-copy\n",
      "  df_temp['datetime'] = df_temp.datetime.dt.strftime('%Y-%m-%d %H:%M:%S').astype('datetime64[ns]')\n",
      "C:\\Users\\twolf\\AppData\\Local\\Temp\\ipykernel_28140\\17026926.py:3: SettingWithCopyWarning: \n",
      "A value is trying to be set on a copy of a slice from a DataFrame.\n",
      "Try using .loc[row_indexer,col_indexer] = value instead\n",
      "\n",
      "See the caveats in the documentation: https://pandas.pydata.org/pandas-docs/stable/user_guide/indexing.html#returning-a-view-versus-a-copy\n",
      "  df_temp['datetime'] = df_temp.datetime.dt.strftime('%Y-%m-%d %H:%M:%S').astype('datetime64[ns]')\n"
     ]
    }
   ],
   "source": [
    "# reading files from 9/19 dataset\n",
    "df1 = pd.read_csv('SimData_2022.09.19_16.00.36.csv.roar.csv',\n",
    "                parse_dates = {'datetime': ['date', 'time']},\n",
    "                low_memory=False)\n",
    "df1 = df_transformation(df1)\n",
    "\n",
    "\n",
    "df2 = pd.read_csv('SimData_2022.09.19_16.38.20.csv.roar.csv',\n",
    "                parse_dates = {'datetime': ['date', 'time']},\n",
    "                low_memory=False)\n",
    "df2 = df_transformation(df2)\n",
    "\n",
    "\n",
    "df3 = pd.read_csv('SimData_2022.09.19_17.51.37.csv.roar.csv',\n",
    "                parse_dates = {'datetime': ['date', 'time']},\n",
    "                low_memory=False)\n",
    "df3 = df_transformation(df3)\n",
    "\n",
    "\n",
    "\n",
    "# reading files from 9/20 dataset\n",
    "first_file = pd.read_csv('SimData_2022.09.20_16.22.07.csv.roar.csv',\n",
    "                parse_dates = {'datetime': ['date', 'time']},\n",
    "                low_memory=False)\n",
    "first_file = df_transformation(first_file)\n",
    "\n",
    "\n",
    "second_file = pd.read_csv('SimData_2022.09.20_16.28.31.csv.roar.csv',\n",
    "                parse_dates = {'datetime': ['date', 'time']},\n",
    "                low_memory=False)\n",
    "second_file = df_transformation(second_file)\n",
    "\n",
    "\n",
    "# reading file from 9/22 dataset\n",
    "df4 = pd.read_csv('SimData_2022.09.22_17.11.56.csv.roar.csv',\n",
    "                parse_dates = {'datetime': ['date', 'time']},\n",
    "                low_memory=False)\n",
    "df4 = df_transformation(df4)"
   ]
  },
  {
   "cell_type": "code",
   "execution_count": 61,
   "id": "be77fd5b",
   "metadata": {},
   "outputs": [],
   "source": [
    "#Combine files\n",
    "df = pd.concat([first_file,second_file, df1, df2, df3, df4]).reset_index()"
   ]
  },
  {
   "cell_type": "markdown",
   "id": "5e2052ad",
   "metadata": {},
   "source": [
    "# Dataframe for Quick Stop"
   ]
  },
  {
   "cell_type": "code",
   "execution_count": 62,
   "id": "c1aa9bd5",
   "metadata": {},
   "outputs": [],
   "source": [
    "df_q = df.copy()\n",
    "df_q['QuickStop'] = 0\n",
    "\n",
    "df_q.loc[(df_q['datetime'].between('2022-09-19 22:00:35' , '2022-09-19 22:01:44' , inclusive='both')),['QuickStop']] = 1\n",
    "df_q.loc[(df_q['datetime'].between('2022-09-19 22:11:55' , '2022-09-19 22:13:21' , inclusive='both')),['QuickStop']] = 1\n",
    "df_q.loc[(df_q['datetime'].between('2022-09-22 21:36:50' , '2022-09-22 21:37:10' , inclusive='both')),['QuickStop']] = 1\n",
    "df_q.loc[(df_q['datetime'].between('2022-09-22 21:39:16' , '2022-09-22 21:39:42' , inclusive='both')),['QuickStop']] = 1\n",
    "df_q.loc[(df_q['datetime'].between('2022-09-22 21:40:06' , '2022-09-22 21:40:36' , inclusive='both')),['QuickStop']] = 1"
   ]
  },
  {
   "cell_type": "code",
   "execution_count": 63,
   "id": "5439fc15",
   "metadata": {},
   "outputs": [
    {
     "data": {
      "text/plain": [
       "0    6984\n",
       "1     236\n",
       "Name: QuickStop, dtype: int64"
      ]
     },
     "execution_count": 63,
     "metadata": {},
     "output_type": "execute_result"
    }
   ],
   "source": [
    "df_q['QuickStop'].value_counts()"
   ]
  },
  {
   "cell_type": "markdown",
   "id": "c9740629",
   "metadata": {},
   "source": [
    "# Edit DF for ML, Class Balance, Select Features"
   ]
  },
  {
   "cell_type": "code",
   "execution_count": 64,
   "id": "fd028fa2",
   "metadata": {},
   "outputs": [],
   "source": [
    "#Edit the model features to whatever you want to include in your model\n",
    "all_features = [ 'hasWeightOnWheels',\n",
    "            'absoluteAltitude',\n",
    "                 'magneticHeading', \n",
    "                 'groundSpeed', \n",
    "                 'climbOrDescentRate',\n",
    "                 'turnRate to degPerSec',\n",
    "                 'cyclicPositionPitch',\n",
    "                 'cyclicPositionRoll',\n",
    "                 'collectivePosition',\n",
    "                 'antiTorquePedalPosition',\n",
    "                 'throttlePosition',\n",
    "                 'e1Torque',\n",
    "                 'e2Torque', 'QuickStop']\n",
    "\n",
    "df_q = df_q[all_features]"
   ]
  },
  {
   "cell_type": "code",
   "execution_count": 65,
   "id": "6468b19a",
   "metadata": {},
   "outputs": [],
   "source": [
    "df1 = df_q[(df_q['QuickStop'] == 0)].sample(n=236, replace=False, random_state=123458)\n",
    "df2 = pd.concat([df_q[(df_q['QuickStop'] == 1)], df1], ignore_index = True)\n",
    "df2 = df2.sample(frac=1)"
   ]
  },
  {
   "cell_type": "code",
   "execution_count": 66,
   "id": "b5b0d1e7",
   "metadata": {},
   "outputs": [
    {
     "data": {
      "text/plain": [
       "1    236\n",
       "0    236\n",
       "Name: QuickStop, dtype: int64"
      ]
     },
     "execution_count": 66,
     "metadata": {},
     "output_type": "execute_result"
    }
   ],
   "source": [
    "df2['QuickStop'].value_counts()"
   ]
  },
  {
   "cell_type": "code",
   "execution_count": 67,
   "id": "00f769a8",
   "metadata": {},
   "outputs": [
    {
     "data": {
      "text/html": [
       "<div>\n",
       "<style scoped>\n",
       "    .dataframe tbody tr th:only-of-type {\n",
       "        vertical-align: middle;\n",
       "    }\n",
       "\n",
       "    .dataframe tbody tr th {\n",
       "        vertical-align: top;\n",
       "    }\n",
       "\n",
       "    .dataframe thead th {\n",
       "        text-align: right;\n",
       "    }\n",
       "</style>\n",
       "<table border=\"1\" class=\"dataframe\">\n",
       "  <thead>\n",
       "    <tr style=\"text-align: right;\">\n",
       "      <th></th>\n",
       "      <th>hasWeightOnWheels</th>\n",
       "      <th>absoluteAltitude</th>\n",
       "      <th>magneticHeading</th>\n",
       "      <th>groundSpeed</th>\n",
       "      <th>climbOrDescentRate</th>\n",
       "      <th>turnRate to degPerSec</th>\n",
       "      <th>cyclicPositionPitch</th>\n",
       "      <th>cyclicPositionRoll</th>\n",
       "      <th>collectivePosition</th>\n",
       "      <th>antiTorquePedalPosition</th>\n",
       "      <th>throttlePosition</th>\n",
       "      <th>e1Torque</th>\n",
       "      <th>e2Torque</th>\n",
       "      <th>QuickStop</th>\n",
       "    </tr>\n",
       "  </thead>\n",
       "  <tbody>\n",
       "    <tr>\n",
       "      <th>184</th>\n",
       "      <td>0.0</td>\n",
       "      <td>141.246486</td>\n",
       "      <td>13.718054</td>\n",
       "      <td>54.690324</td>\n",
       "      <td>-233.555270</td>\n",
       "      <td>-0.949459</td>\n",
       "      <td>-13.548027</td>\n",
       "      <td>3.802162</td>\n",
       "      <td>27.116973</td>\n",
       "      <td>8.487432</td>\n",
       "      <td>36.819784</td>\n",
       "      <td>23.638568</td>\n",
       "      <td>23.638568</td>\n",
       "      <td>1</td>\n",
       "    </tr>\n",
       "    <tr>\n",
       "      <th>270</th>\n",
       "      <td>1.0</td>\n",
       "      <td>0.287187</td>\n",
       "      <td>24.387719</td>\n",
       "      <td>17.216469</td>\n",
       "      <td>-0.267406</td>\n",
       "      <td>0.000125</td>\n",
       "      <td>-5.251844</td>\n",
       "      <td>-1.843094</td>\n",
       "      <td>35.935969</td>\n",
       "      <td>-1.158531</td>\n",
       "      <td>46.442000</td>\n",
       "      <td>40.013625</td>\n",
       "      <td>40.013625</td>\n",
       "      <td>0</td>\n",
       "    </tr>\n",
       "    <tr>\n",
       "      <th>401</th>\n",
       "      <td>1.0</td>\n",
       "      <td>0.070000</td>\n",
       "      <td>342.277000</td>\n",
       "      <td>0.000000</td>\n",
       "      <td>0.000000</td>\n",
       "      <td>0.000000</td>\n",
       "      <td>5.727431</td>\n",
       "      <td>53.093804</td>\n",
       "      <td>3.633000</td>\n",
       "      <td>-21.672000</td>\n",
       "      <td>0.000000</td>\n",
       "      <td>4.453804</td>\n",
       "      <td>4.453804</td>\n",
       "      <td>0</td>\n",
       "    </tr>\n",
       "    <tr>\n",
       "      <th>404</th>\n",
       "      <td>0.0</td>\n",
       "      <td>1805.811277</td>\n",
       "      <td>173.035766</td>\n",
       "      <td>77.330915</td>\n",
       "      <td>42.572915</td>\n",
       "      <td>0.327957</td>\n",
       "      <td>-19.637532</td>\n",
       "      <td>-2.301064</td>\n",
       "      <td>34.452723</td>\n",
       "      <td>17.382000</td>\n",
       "      <td>49.477043</td>\n",
       "      <td>43.765638</td>\n",
       "      <td>43.765638</td>\n",
       "      <td>0</td>\n",
       "    </tr>\n",
       "    <tr>\n",
       "      <th>172</th>\n",
       "      <td>0.0</td>\n",
       "      <td>18.818182</td>\n",
       "      <td>195.408576</td>\n",
       "      <td>1.793333</td>\n",
       "      <td>-164.144121</td>\n",
       "      <td>-0.529970</td>\n",
       "      <td>-5.879273</td>\n",
       "      <td>-0.029576</td>\n",
       "      <td>45.626697</td>\n",
       "      <td>-12.582667</td>\n",
       "      <td>54.965303</td>\n",
       "      <td>58.899727</td>\n",
       "      <td>58.899727</td>\n",
       "      <td>1</td>\n",
       "    </tr>\n",
       "  </tbody>\n",
       "</table>\n",
       "</div>"
      ],
      "text/plain": [
       "     hasWeightOnWheels  absoluteAltitude  magneticHeading  groundSpeed  \\\n",
       "184                0.0        141.246486        13.718054    54.690324   \n",
       "270                1.0          0.287187        24.387719    17.216469   \n",
       "401                1.0          0.070000       342.277000     0.000000   \n",
       "404                0.0       1805.811277       173.035766    77.330915   \n",
       "172                0.0         18.818182       195.408576     1.793333   \n",
       "\n",
       "     climbOrDescentRate  turnRate to degPerSec  cyclicPositionPitch  \\\n",
       "184         -233.555270              -0.949459           -13.548027   \n",
       "270           -0.267406               0.000125            -5.251844   \n",
       "401            0.000000               0.000000             5.727431   \n",
       "404           42.572915               0.327957           -19.637532   \n",
       "172         -164.144121              -0.529970            -5.879273   \n",
       "\n",
       "     cyclicPositionRoll  collectivePosition  antiTorquePedalPosition  \\\n",
       "184            3.802162           27.116973                 8.487432   \n",
       "270           -1.843094           35.935969                -1.158531   \n",
       "401           53.093804            3.633000               -21.672000   \n",
       "404           -2.301064           34.452723                17.382000   \n",
       "172           -0.029576           45.626697               -12.582667   \n",
       "\n",
       "     throttlePosition   e1Torque   e2Torque  QuickStop  \n",
       "184         36.819784  23.638568  23.638568          1  \n",
       "270         46.442000  40.013625  40.013625          0  \n",
       "401          0.000000   4.453804   4.453804          0  \n",
       "404         49.477043  43.765638  43.765638          0  \n",
       "172         54.965303  58.899727  58.899727          1  "
      ]
     },
     "execution_count": 67,
     "metadata": {},
     "output_type": "execute_result"
    }
   ],
   "source": [
    "df2.head()"
   ]
  },
  {
   "cell_type": "markdown",
   "id": "c040cdfe",
   "metadata": {},
   "source": [
    "# SVM Surface Taxi"
   ]
  },
  {
   "cell_type": "code",
   "execution_count": 68,
   "id": "5686f264",
   "metadata": {},
   "outputs": [],
   "source": [
    "from sklearn.metrics import confusion_matrix\n",
    "from sklearn.model_selection import train_test_split\n",
    "from sklearn.metrics import accuracy_score, ConfusionMatrixDisplay, confusion_matrix, classification_report\n",
    "from sklearn.model_selection import GridSearchCV\n",
    "from sklearn.svm import SVC\n",
    "from sklearn.preprocessing import StandardScaler, MinMaxScaler, RobustScaler\n",
    "from sklearn.utils import resample"
   ]
  },
  {
   "cell_type": "code",
   "execution_count": 69,
   "id": "62ba244b",
   "metadata": {},
   "outputs": [],
   "source": [
    "#Edit the model features to whatever you want to include in your model\n",
    "model_features = [ 'hasWeightOnWheels',\n",
    "            'absoluteAltitude',\n",
    "                 'magneticHeading', \n",
    "                 'groundSpeed', \n",
    "                 'climbOrDescentRate',\n",
    "                 'turnRate to degPerSec',\n",
    "                 'cyclicPositionPitch',\n",
    "                 'cyclicPositionRoll',\n",
    "                 'collectivePosition',\n",
    "                 'antiTorquePedalPosition',\n",
    "                 'throttlePosition',\n",
    "                 'e1Torque',\n",
    "                 'e2Torque']\n",
    "\n",
    "#X is predictor features, y is classifier \n",
    "X = df2[model_features]\n",
    "y = df2['QuickStop']\n",
    "X_train, X_test, y_train, y_test = train_test_split(X, y, test_size=0.33, random_state=516516)"
   ]
  },
  {
   "cell_type": "code",
   "execution_count": 70,
   "id": "1d1a3ca8",
   "metadata": {},
   "outputs": [
    {
     "name": "stdout",
     "output_type": "stream",
     "text": [
      "Accuracy of SVM classifier on training set: 0.79\n",
      "Accuracy of SVM classifier on test set: 0.8526\n"
     ]
    }
   ],
   "source": [
    "#SVC\n",
    "scaler = MinMaxScaler()\n",
    "X_train = scaler.fit_transform(X_train)\n",
    "X_test = scaler.transform(X_test)\n",
    "\n",
    "\n",
    "svm = SVC()\n",
    "\n",
    "\n",
    "svm.fit(X_train, y_train)\n",
    "print('Accuracy of SVM classifier on training set: {:.2f}'\n",
    "     .format(svm.score(X_train, y_train)))\n",
    "print('Accuracy of SVM classifier on test set: {:.4f}'\n",
    "     .format(svm.score(X_test, y_test)))"
   ]
  },
  {
   "cell_type": "code",
   "execution_count": 71,
   "id": "5d755c12",
   "metadata": {},
   "outputs": [],
   "source": [
    "y_pred=svm.predict(X_test)"
   ]
  },
  {
   "cell_type": "code",
   "execution_count": 72,
   "id": "55d6dc28",
   "metadata": {},
   "outputs": [
    {
     "data": {
      "image/png": "[encoded data removed]",
      "text/plain": [
       "<Figure size 800x500 with 2 Axes>"
      ]
     },
     "metadata": {},
     "output_type": "display_data"
    }
   ],
   "source": [
    "fig, ax = plt.subplots(figsize=(8, 5))\n",
    "cmp = ConfusionMatrixDisplay(confusion_matrix(y_test, y_pred), display_labels = ['Not_QuickStop', 'QuickStop'])\n",
    "cmp.plot(ax=ax)\n",
    "plt.show()"
   ]
  },
  {
   "cell_type": "code",
   "execution_count": 73,
   "id": "641af963",
   "metadata": {},
   "outputs": [
    {
     "data": {
      "text/plain": [
       "0    80\n",
       "1    76\n",
       "Name: QuickStop, dtype: int64"
      ]
     },
     "execution_count": 73,
     "metadata": {},
     "output_type": "execute_result"
    }
   ],
   "source": [
    "#Verify display labels are right\n",
    "y_test.value_counts()"
   ]
  },
  {
   "cell_type": "markdown",
   "id": "79eac0cb",
   "metadata": {},
   "source": [
    "# Standard Scalar"
   ]
  },
  {
   "cell_type": "code",
   "execution_count": 74,
   "id": "81af76d6",
   "metadata": {},
   "outputs": [],
   "source": [
    "#Edit the model features to whatever you want to include in your model\n",
    "model_features = [ 'hasWeightOnWheels',\n",
    "            'absoluteAltitude',\n",
    "                 'magneticHeading', \n",
    "                 'groundSpeed', \n",
    "                 'climbOrDescentRate',\n",
    "                 'turnRate to degPerSec',\n",
    "                 'cyclicPositionPitch',\n",
    "                 'cyclicPositionRoll',\n",
    "                 'collectivePosition',\n",
    "                 'antiTorquePedalPosition',\n",
    "                 'throttlePosition',\n",
    "                 'e1Torque',\n",
    "                 'e2Torque']\n",
    "\n",
    "#X is predictor features, y is classifier \n",
    "X = df2[model_features]\n",
    "y = df2['QuickStop']\n",
    "X_train, X_test, y_train, y_test = train_test_split(X, y, test_size=0.33, random_state=516516)"
   ]
  },
  {
   "cell_type": "code",
   "execution_count": 75,
   "id": "e14044bb",
   "metadata": {},
   "outputs": [
    {
     "name": "stdout",
     "output_type": "stream",
     "text": [
      "Accuracy of SVM classifier on training set: 0.95\n",
      "Accuracy of SVM classifier on test set: 0.9423\n"
     ]
    }
   ],
   "source": [
    "#SVM standard \n",
    "scaler = StandardScaler()\n",
    "X_train = scaler.fit_transform(X_train)\n",
    "X_test = scaler.transform(X_test)\n",
    "\n",
    "svm = SVC(C=10)\n",
    "#y_pred=svm.predict(X_test)\n",
    "\n",
    "svm.fit(X_train, y_train)\n",
    "print('Accuracy of SVM classifier on training set: {:.2f}'\n",
    "     .format(svm.score(X_train, y_train)))\n",
    "print('Accuracy of SVM classifier on test set: {:.4f}'\n",
    "     .format(svm.score(X_test, y_test)))\n"
   ]
  },
  {
   "cell_type": "code",
   "execution_count": 76,
   "id": "af800188",
   "metadata": {},
   "outputs": [],
   "source": [
    "y_pred=svm.predict(X_test)"
   ]
  },
  {
   "cell_type": "code",
   "execution_count": 77,
   "id": "91a90ded",
   "metadata": {},
   "outputs": [
    {
     "data": {
      "image/png": "[encoded data removed]",
      "text/plain": [
       "<Figure size 800x500 with 2 Axes>"
      ]
     },
     "metadata": {},
     "output_type": "display_data"
    }
   ],
   "source": [
    "fig, ax = plt.subplots(figsize=(8, 5))\n",
    "cmp = ConfusionMatrixDisplay(confusion_matrix(y_test, y_pred), display_labels = ['Not_QuickStop', 'QuickStop'])\n",
    "cmp.plot(ax=ax)\n",
    "plt.show()"
   ]
  },
  {
   "cell_type": "code",
   "execution_count": null,
   "id": "fa4784c7",
   "metadata": {},
   "outputs": [],
   "source": [
    "#saving model"
   ]
  },
  {
   "cell_type": "code",
   "execution_count": 79,
   "id": "acd4bf84",
   "metadata": {},
   "outputs": [],
   "source": [
    "import pickle"
   ]
  },
  {
   "cell_type": "code",
   "execution_count": 80,
   "id": "5580c53e",
   "metadata": {},
   "outputs": [],
   "source": [
    "pickle.dump(svm, open('quick_ss2.pkl', 'wb'))"
   ]
  },
  {
   "cell_type": "code",
   "execution_count": 81,
   "id": "7bf37706",
   "metadata": {},
   "outputs": [],
   "source": [
    "pickle.dump(scaler, open('scaler_ss.pkl','wb'))"
   ]
  },
  {
   "cell_type": "code",
   "execution_count": null,
   "id": "07aefe0f",
   "metadata": {},
   "outputs": [],
   "source": []
  },
  {
   "cell_type": "code",
   "execution_count": null,
   "id": "0e1c1a53",
   "metadata": {},
   "outputs": [],
   "source": []
  },
  {
   "cell_type": "code",
   "execution_count": null,
   "id": "d472242f",
   "metadata": {},
   "outputs": [],
   "source": []
  },
  {
   "cell_type": "markdown",
   "id": "8b51efd1",
   "metadata": {},
   "source": [
    "# SVM Robust Scalar"
   ]
  },
  {
   "cell_type": "code",
   "execution_count": null,
   "id": "b680390b",
   "metadata": {},
   "outputs": [],
   "source": [
    "#Edit the model features to whatever you want to include in your model\n",
    "model_features = [ 'hasWeightOnWheels',\n",
    "            'absoluteAltitude',\n",
    "                 'magneticHeading', \n",
    "                 'groundSpeed', \n",
    "                 'climbOrDescentRate',\n",
    "                 'turnRate to degPerSec',\n",
    "                 'cyclicPositionPitch',\n",
    "                 'cyclicPositionRoll',\n",
    "                 'collectivePosition',\n",
    "                 'antiTorquePedalPosition',\n",
    "                 'throttlePosition',\n",
    "                 'e1Torque',\n",
    "                 'e2Torque']\n",
    "\n",
    "#X is predictor features, y is classifier \n",
    "X = df2[model_features]\n",
    "y = df2['QuickStop']\n",
    "X_train, X_test, y_train, y_test = train_test_split(X, y, test_size=0.33, random_state=516516)"
   ]
  },
  {
   "cell_type": "code",
   "execution_count": null,
   "id": "2bf18031",
   "metadata": {},
   "outputs": [],
   "source": [
    "#SVM standard \n",
    "scaler = RobustScaler()\n",
    "X_train = scaler.fit_transform(X_train)\n",
    "X_test = scaler.transform(X_test)\n",
    "\n",
    "svm = SVC()\n",
    "#y_pred=svm.predict(X_test)\n",
    "\n",
    "svm.fit(X_train, y_train)\n",
    "print('Accuracy of SVM classifier on training set: {:.2f}'\n",
    "     .format(svm.score(X_train, y_train)))\n",
    "print('Accuracy of SVM classifier on test set: {:.4f}'\n",
    "     .format(svm.score(X_test, y_test)))"
   ]
  },
  {
   "cell_type": "code",
   "execution_count": null,
   "id": "cc56767a",
   "metadata": {},
   "outputs": [],
   "source": [
    "y_pred=svm.predict(X_test)"
   ]
  },
  {
   "cell_type": "code",
   "execution_count": null,
   "id": "62b8dd6f",
   "metadata": {},
   "outputs": [],
   "source": [
    "fig, ax = plt.subplots(figsize=(8, 5))\n",
    "cmp = ConfusionMatrixDisplay(confusion_matrix(y_test, y_pred), display_labels = ['Not_QuickStop', 'QuickStop'])\n",
    "cmp.plot(ax=ax)\n",
    "plt.show()"
   ]
  },
  {
   "cell_type": "code",
   "execution_count": null,
   "id": "2b7922aa",
   "metadata": {},
   "outputs": [],
   "source": []
  },
  {
   "cell_type": "markdown",
   "id": "0741715b",
   "metadata": {},
   "source": [
    "# Load in new data for validation"
   ]
  },
  {
   "cell_type": "code",
   "execution_count": 82,
   "id": "190584f9",
   "metadata": {},
   "outputs": [],
   "source": [
    "# Create a custom function for data transformation\n",
    "# May as well import all of these features into the initial dataframe, you can cut it down..\n",
    "# ..when you do the X,y train/test split\n",
    "features = ['datetime',\n",
    "          'latitude',\n",
    "          'longitude',\n",
    "          'absoluteAltitude', \n",
    "          'magneticHeading',\n",
    "          'trueHeading', \n",
    "          'groundSpeed', \n",
    "          'trueAirspeed',\n",
    "          'pitch', \n",
    "          'roll',\n",
    "          'yaw',\n",
    "          'angleOfAttack',\n",
    "          'flightPathAngle',\n",
    "          'verticalFlightPathAngle',\n",
    "          'horizontalFlightPathAngle',\n",
    "          'rollAcceleration',\n",
    "          'pitchAcceleration',\n",
    "          'yawAcceleration',\n",
    "          'e1N1ng',\n",
    "          'e2N1ng',\n",
    "          'e1N2nf',\n",
    "          'e2N2nf',\n",
    "          'mainRotorRpm',\n",
    "          'tailRotorRpm',\n",
    "          'mainRotorTorque',\n",
    "          'e1Itt',\n",
    "          'e2Itt',\n",
    "          'mainRotorInducedInflow',\n",
    "          'flightDirectorPitch',\n",
    "          'flightDirectorRoll',\n",
    "          'climbOrDescentRate', \n",
    "          'hasWeightOnWheels',\n",
    "          'turnRate to degPerSec',\n",
    "          'cyclicPositionPitch',\n",
    "          'cyclicPositionRoll',\n",
    "          'collectivePosition',\n",
    "          'antiTorquePedalPosition',\n",
    "          'throttlePosition',\n",
    "          'e1Torque',\n",
    "          'e2Torque',\n",
    "]\n"
   ]
  },
  {
   "cell_type": "code",
   "execution_count": 83,
   "id": "86f4095f",
   "metadata": {},
   "outputs": [
    {
     "name": "stderr",
     "output_type": "stream",
     "text": [
      "C:\\Users\\twolf\\AppData\\Local\\Temp\\ipykernel_28140\\17026926.py:3: SettingWithCopyWarning: \n",
      "A value is trying to be set on a copy of a slice from a DataFrame.\n",
      "Try using .loc[row_indexer,col_indexer] = value instead\n",
      "\n",
      "See the caveats in the documentation: https://pandas.pydata.org/pandas-docs/stable/user_guide/indexing.html#returning-a-view-versus-a-copy\n",
      "  df_temp['datetime'] = df_temp.datetime.dt.strftime('%Y-%m-%d %H:%M:%S').astype('datetime64[ns]')\n"
     ]
    }
   ],
   "source": [
    "# reading files from 10/20 dataset\n",
    "dfN = pd.read_csv('SimData_2022.10.20_17.19.15.csv.roar.csv',\n",
    "                parse_dates = {'datetime': ['date', 'time']},\n",
    "                low_memory=False)\n",
    "dfN = df_transformation(dfN)"
   ]
  },
  {
   "cell_type": "code",
   "execution_count": 32,
   "id": "6195de49",
   "metadata": {},
   "outputs": [
    {
     "data": {
      "text/html": [
       "<div>\n",
       "<style scoped>\n",
       "    .dataframe tbody tr th:only-of-type {\n",
       "        vertical-align: middle;\n",
       "    }\n",
       "\n",
       "    .dataframe tbody tr th {\n",
       "        vertical-align: top;\n",
       "    }\n",
       "\n",
       "    .dataframe thead th {\n",
       "        text-align: right;\n",
       "    }\n",
       "</style>\n",
       "<table border=\"1\" class=\"dataframe\">\n",
       "  <thead>\n",
       "    <tr style=\"text-align: right;\">\n",
       "      <th></th>\n",
       "      <th>datetime</th>\n",
       "      <th>latitude</th>\n",
       "      <th>longitude</th>\n",
       "      <th>absoluteAltitude</th>\n",
       "      <th>magneticHeading</th>\n",
       "      <th>trueHeading</th>\n",
       "      <th>groundSpeed</th>\n",
       "      <th>trueAirspeed</th>\n",
       "      <th>pitch</th>\n",
       "      <th>roll</th>\n",
       "      <th>...</th>\n",
       "      <th>climbOrDescentRate</th>\n",
       "      <th>hasWeightOnWheels</th>\n",
       "      <th>turnRate to degPerSec</th>\n",
       "      <th>cyclicPositionPitch</th>\n",
       "      <th>cyclicPositionRoll</th>\n",
       "      <th>collectivePosition</th>\n",
       "      <th>antiTorquePedalPosition</th>\n",
       "      <th>throttlePosition</th>\n",
       "      <th>e1Torque</th>\n",
       "      <th>e2Torque</th>\n",
       "    </tr>\n",
       "  </thead>\n",
       "  <tbody>\n",
       "    <tr>\n",
       "      <th>0</th>\n",
       "      <td>2022-10-20 21:19:29</td>\n",
       "      <td>51.462292</td>\n",
       "      <td>-0.451407</td>\n",
       "      <td>0.020000</td>\n",
       "      <td>89.739556</td>\n",
       "      <td>89.516000</td>\n",
       "      <td>0.321667</td>\n",
       "      <td>0.329948</td>\n",
       "      <td>0.619333</td>\n",
       "      <td>0.785556</td>\n",
       "      <td>...</td>\n",
       "      <td>0.447778</td>\n",
       "      <td>1.0</td>\n",
       "      <td>0.044000</td>\n",
       "      <td>-0.418556</td>\n",
       "      <td>-8.537667</td>\n",
       "      <td>3.595667</td>\n",
       "      <td>-9.838111</td>\n",
       "      <td>0.000000</td>\n",
       "      <td>-5.374333</td>\n",
       "      <td>-5.374333</td>\n",
       "    </tr>\n",
       "    <tr>\n",
       "      <th>1</th>\n",
       "      <td>2022-10-20 21:19:30</td>\n",
       "      <td>51.462292</td>\n",
       "      <td>-0.451407</td>\n",
       "      <td>0.051351</td>\n",
       "      <td>89.347595</td>\n",
       "      <td>89.123865</td>\n",
       "      <td>0.040459</td>\n",
       "      <td>0.043540</td>\n",
       "      <td>0.671757</td>\n",
       "      <td>0.586081</td>\n",
       "      <td>...</td>\n",
       "      <td>1.962649</td>\n",
       "      <td>1.0</td>\n",
       "      <td>-0.126703</td>\n",
       "      <td>0.530730</td>\n",
       "      <td>0.700162</td>\n",
       "      <td>3.612054</td>\n",
       "      <td>-9.851946</td>\n",
       "      <td>0.000000</td>\n",
       "      <td>-4.986000</td>\n",
       "      <td>-4.986000</td>\n",
       "    </tr>\n",
       "    <tr>\n",
       "      <th>2</th>\n",
       "      <td>2022-10-20 21:19:31</td>\n",
       "      <td>51.462292</td>\n",
       "      <td>-0.451407</td>\n",
       "      <td>0.060000</td>\n",
       "      <td>89.505306</td>\n",
       "      <td>89.281556</td>\n",
       "      <td>0.002278</td>\n",
       "      <td>0.002567</td>\n",
       "      <td>0.675694</td>\n",
       "      <td>0.557528</td>\n",
       "      <td>...</td>\n",
       "      <td>1.075917</td>\n",
       "      <td>1.0</td>\n",
       "      <td>-0.034167</td>\n",
       "      <td>0.606722</td>\n",
       "      <td>-0.132028</td>\n",
       "      <td>3.548028</td>\n",
       "      <td>-9.858083</td>\n",
       "      <td>0.000000</td>\n",
       "      <td>-2.689556</td>\n",
       "      <td>-2.689556</td>\n",
       "    </tr>\n",
       "    <tr>\n",
       "      <th>3</th>\n",
       "      <td>2022-10-20 21:19:32</td>\n",
       "      <td>51.462292</td>\n",
       "      <td>-0.451407</td>\n",
       "      <td>0.060000</td>\n",
       "      <td>89.540108</td>\n",
       "      <td>89.316351</td>\n",
       "      <td>0.001054</td>\n",
       "      <td>0.002066</td>\n",
       "      <td>0.676405</td>\n",
       "      <td>0.554432</td>\n",
       "      <td>...</td>\n",
       "      <td>0.297919</td>\n",
       "      <td>1.0</td>\n",
       "      <td>-0.010919</td>\n",
       "      <td>0.579514</td>\n",
       "      <td>-0.028351</td>\n",
       "      <td>3.575892</td>\n",
       "      <td>-9.864270</td>\n",
       "      <td>0.000000</td>\n",
       "      <td>-1.498676</td>\n",
       "      <td>-1.498676</td>\n",
       "    </tr>\n",
       "    <tr>\n",
       "      <th>4</th>\n",
       "      <td>2022-10-20 21:19:33</td>\n",
       "      <td>51.462292</td>\n",
       "      <td>-0.451407</td>\n",
       "      <td>0.060000</td>\n",
       "      <td>89.555083</td>\n",
       "      <td>89.331528</td>\n",
       "      <td>0.000944</td>\n",
       "      <td>0.001596</td>\n",
       "      <td>0.676694</td>\n",
       "      <td>0.552472</td>\n",
       "      <td>...</td>\n",
       "      <td>0.093417</td>\n",
       "      <td>1.0</td>\n",
       "      <td>-0.002639</td>\n",
       "      <td>0.897722</td>\n",
       "      <td>-0.031250</td>\n",
       "      <td>3.579389</td>\n",
       "      <td>-10.675278</td>\n",
       "      <td>0.000000</td>\n",
       "      <td>-0.702167</td>\n",
       "      <td>-0.702167</td>\n",
       "    </tr>\n",
       "    <tr>\n",
       "      <th>...</th>\n",
       "      <td>...</td>\n",
       "      <td>...</td>\n",
       "      <td>...</td>\n",
       "      <td>...</td>\n",
       "      <td>...</td>\n",
       "      <td>...</td>\n",
       "      <td>...</td>\n",
       "      <td>...</td>\n",
       "      <td>...</td>\n",
       "      <td>...</td>\n",
       "      <td>...</td>\n",
       "      <td>...</td>\n",
       "      <td>...</td>\n",
       "      <td>...</td>\n",
       "      <td>...</td>\n",
       "      <td>...</td>\n",
       "      <td>...</td>\n",
       "      <td>...</td>\n",
       "      <td>...</td>\n",
       "      <td>...</td>\n",
       "      <td>...</td>\n",
       "    </tr>\n",
       "    <tr>\n",
       "      <th>2458</th>\n",
       "      <td>2022-10-20 22:01:53</td>\n",
       "      <td>51.472413</td>\n",
       "      <td>-0.467716</td>\n",
       "      <td>0.120000</td>\n",
       "      <td>255.100974</td>\n",
       "      <td>254.870000</td>\n",
       "      <td>0.000000</td>\n",
       "      <td>0.000000</td>\n",
       "      <td>0.877949</td>\n",
       "      <td>0.023000</td>\n",
       "      <td>...</td>\n",
       "      <td>-0.002256</td>\n",
       "      <td>1.0</td>\n",
       "      <td>-0.000359</td>\n",
       "      <td>30.270026</td>\n",
       "      <td>-6.240692</td>\n",
       "      <td>3.732000</td>\n",
       "      <td>1.643385</td>\n",
       "      <td>43.994000</td>\n",
       "      <td>35.081795</td>\n",
       "      <td>35.081795</td>\n",
       "    </tr>\n",
       "    <tr>\n",
       "      <th>2459</th>\n",
       "      <td>2022-10-20 22:01:54</td>\n",
       "      <td>51.472413</td>\n",
       "      <td>-0.467716</td>\n",
       "      <td>0.120000</td>\n",
       "      <td>254.911056</td>\n",
       "      <td>254.680306</td>\n",
       "      <td>0.046278</td>\n",
       "      <td>0.046263</td>\n",
       "      <td>0.885250</td>\n",
       "      <td>0.015194</td>\n",
       "      <td>...</td>\n",
       "      <td>0.019139</td>\n",
       "      <td>1.0</td>\n",
       "      <td>-0.065611</td>\n",
       "      <td>30.119806</td>\n",
       "      <td>-6.162111</td>\n",
       "      <td>3.732000</td>\n",
       "      <td>1.636833</td>\n",
       "      <td>13.442528</td>\n",
       "      <td>16.198861</td>\n",
       "      <td>16.198861</td>\n",
       "    </tr>\n",
       "    <tr>\n",
       "      <th>2460</th>\n",
       "      <td>2022-10-20 22:01:55</td>\n",
       "      <td>51.472413</td>\n",
       "      <td>-0.467716</td>\n",
       "      <td>0.120000</td>\n",
       "      <td>253.661000</td>\n",
       "      <td>253.430270</td>\n",
       "      <td>0.037622</td>\n",
       "      <td>0.038063</td>\n",
       "      <td>0.881405</td>\n",
       "      <td>0.024730</td>\n",
       "      <td>...</td>\n",
       "      <td>0.087027</td>\n",
       "      <td>1.0</td>\n",
       "      <td>-0.421027</td>\n",
       "      <td>30.729297</td>\n",
       "      <td>-6.434946</td>\n",
       "      <td>3.739324</td>\n",
       "      <td>1.657459</td>\n",
       "      <td>0.000000</td>\n",
       "      <td>-4.099730</td>\n",
       "      <td>-4.099730</td>\n",
       "    </tr>\n",
       "    <tr>\n",
       "      <th>2461</th>\n",
       "      <td>2022-10-20 22:01:56</td>\n",
       "      <td>51.472413</td>\n",
       "      <td>-0.467716</td>\n",
       "      <td>0.120000</td>\n",
       "      <td>253.704162</td>\n",
       "      <td>253.473459</td>\n",
       "      <td>0.005973</td>\n",
       "      <td>0.006037</td>\n",
       "      <td>0.801757</td>\n",
       "      <td>0.031649</td>\n",
       "      <td>...</td>\n",
       "      <td>-0.086081</td>\n",
       "      <td>1.0</td>\n",
       "      <td>-0.233838</td>\n",
       "      <td>30.979135</td>\n",
       "      <td>-6.213486</td>\n",
       "      <td>3.756514</td>\n",
       "      <td>1.886703</td>\n",
       "      <td>0.000000</td>\n",
       "      <td>-2.887649</td>\n",
       "      <td>-2.887649</td>\n",
       "    </tr>\n",
       "    <tr>\n",
       "      <th>2462</th>\n",
       "      <td>2022-10-20 22:01:57</td>\n",
       "      <td>51.472413</td>\n",
       "      <td>-0.467716</td>\n",
       "      <td>0.120000</td>\n",
       "      <td>253.766231</td>\n",
       "      <td>253.535654</td>\n",
       "      <td>0.003000</td>\n",
       "      <td>0.003099</td>\n",
       "      <td>0.758308</td>\n",
       "      <td>0.030923</td>\n",
       "      <td>...</td>\n",
       "      <td>-0.101654</td>\n",
       "      <td>1.0</td>\n",
       "      <td>-0.132462</td>\n",
       "      <td>31.245692</td>\n",
       "      <td>-6.242000</td>\n",
       "      <td>3.737077</td>\n",
       "      <td>1.759808</td>\n",
       "      <td>0.000000</td>\n",
       "      <td>-1.827846</td>\n",
       "      <td>-1.827846</td>\n",
       "    </tr>\n",
       "  </tbody>\n",
       "</table>\n",
       "<p>2463 rows × 40 columns</p>\n",
       "</div>"
      ],
      "text/plain": [
       "                datetime   latitude  longitude  absoluteAltitude  \\\n",
       "0    2022-10-20 21:19:29  51.462292  -0.451407          0.020000   \n",
       "1    2022-10-20 21:19:30  51.462292  -0.451407          0.051351   \n",
       "2    2022-10-20 21:19:31  51.462292  -0.451407          0.060000   \n",
       "3    2022-10-20 21:19:32  51.462292  -0.451407          0.060000   \n",
       "4    2022-10-20 21:19:33  51.462292  -0.451407          0.060000   \n",
       "...                  ...        ...        ...               ...   \n",
       "2458 2022-10-20 22:01:53  51.472413  -0.467716          0.120000   \n",
       "2459 2022-10-20 22:01:54  51.472413  -0.467716          0.120000   \n",
       "2460 2022-10-20 22:01:55  51.472413  -0.467716          0.120000   \n",
       "2461 2022-10-20 22:01:56  51.472413  -0.467716          0.120000   \n",
       "2462 2022-10-20 22:01:57  51.472413  -0.467716          0.120000   \n",
       "\n",
       "      magneticHeading  trueHeading  groundSpeed  trueAirspeed     pitch  \\\n",
       "0           89.739556    89.516000     0.321667      0.329948  0.619333   \n",
       "1           89.347595    89.123865     0.040459      0.043540  0.671757   \n",
       "2           89.505306    89.281556     0.002278      0.002567  0.675694   \n",
       "3           89.540108    89.316351     0.001054      0.002066  0.676405   \n",
       "4           89.555083    89.331528     0.000944      0.001596  0.676694   \n",
       "...               ...          ...          ...           ...       ...   \n",
       "2458       255.100974   254.870000     0.000000      0.000000  0.877949   \n",
       "2459       254.911056   254.680306     0.046278      0.046263  0.885250   \n",
       "2460       253.661000   253.430270     0.037622      0.038063  0.881405   \n",
       "2461       253.704162   253.473459     0.005973      0.006037  0.801757   \n",
       "2462       253.766231   253.535654     0.003000      0.003099  0.758308   \n",
       "\n",
       "          roll  ...  climbOrDescentRate  hasWeightOnWheels  \\\n",
       "0     0.785556  ...            0.447778                1.0   \n",
       "1     0.586081  ...            1.962649                1.0   \n",
       "2     0.557528  ...            1.075917                1.0   \n",
       "3     0.554432  ...            0.297919                1.0   \n",
       "4     0.552472  ...            0.093417                1.0   \n",
       "...        ...  ...                 ...                ...   \n",
       "2458  0.023000  ...           -0.002256                1.0   \n",
       "2459  0.015194  ...            0.019139                1.0   \n",
       "2460  0.024730  ...            0.087027                1.0   \n",
       "2461  0.031649  ...           -0.086081                1.0   \n",
       "2462  0.030923  ...           -0.101654                1.0   \n",
       "\n",
       "      turnRate to degPerSec  cyclicPositionPitch  cyclicPositionRoll  \\\n",
       "0                  0.044000            -0.418556           -8.537667   \n",
       "1                 -0.126703             0.530730            0.700162   \n",
       "2                 -0.034167             0.606722           -0.132028   \n",
       "3                 -0.010919             0.579514           -0.028351   \n",
       "4                 -0.002639             0.897722           -0.031250   \n",
       "...                     ...                  ...                 ...   \n",
       "2458              -0.000359            30.270026           -6.240692   \n",
       "2459              -0.065611            30.119806           -6.162111   \n",
       "2460              -0.421027            30.729297           -6.434946   \n",
       "2461              -0.233838            30.979135           -6.213486   \n",
       "2462              -0.132462            31.245692           -6.242000   \n",
       "\n",
       "      collectivePosition  antiTorquePedalPosition  throttlePosition  \\\n",
       "0               3.595667                -9.838111          0.000000   \n",
       "1               3.612054                -9.851946          0.000000   \n",
       "2               3.548028                -9.858083          0.000000   \n",
       "3               3.575892                -9.864270          0.000000   \n",
       "4               3.579389               -10.675278          0.000000   \n",
       "...                  ...                      ...               ...   \n",
       "2458            3.732000                 1.643385         43.994000   \n",
       "2459            3.732000                 1.636833         13.442528   \n",
       "2460            3.739324                 1.657459          0.000000   \n",
       "2461            3.756514                 1.886703          0.000000   \n",
       "2462            3.737077                 1.759808          0.000000   \n",
       "\n",
       "       e1Torque   e2Torque  \n",
       "0     -5.374333  -5.374333  \n",
       "1     -4.986000  -4.986000  \n",
       "2     -2.689556  -2.689556  \n",
       "3     -1.498676  -1.498676  \n",
       "4     -0.702167  -0.702167  \n",
       "...         ...        ...  \n",
       "2458  35.081795  35.081795  \n",
       "2459  16.198861  16.198861  \n",
       "2460  -4.099730  -4.099730  \n",
       "2461  -2.887649  -2.887649  \n",
       "2462  -1.827846  -1.827846  \n",
       "\n",
       "[2463 rows x 40 columns]"
      ]
     },
     "execution_count": 32,
     "metadata": {},
     "output_type": "execute_result"
    }
   ],
   "source": [
    "dfN"
   ]
  },
  {
   "cell_type": "code",
   "execution_count": 84,
   "id": "2b3ea123",
   "metadata": {},
   "outputs": [],
   "source": [
    "dfN['Quick_Stop'] = 0\n",
    "\n",
    "dfN.loc[(dfN['datetime'].between('2022-10-20 21:23:30' , '2022-10-20 21:23:54' , inclusive='both')),['Quick_Stop']] = 1\n",
    "dfN.loc[(dfN['datetime'].between('2022-10-20 21:24:55' , '2022-10-20 21:25:20' , inclusive='both')),['Quick_Stop']] = 1\n",
    "dfN.loc[(dfN['datetime'].between('2022-10-20 21:26:20' , '2022-10-20 21:26:46' , inclusive='both')),['Quick_Stop']] = 1\n",
    "dfN.loc[(dfN['datetime'].between('2022-10-20 21:27:47' , '2022-10-20 21:28:05' , inclusive='both')),['Quick_Stop']] = 1\n",
    "dfN.loc[(dfN['datetime'].between('2022-10-20 21:29:33' , '2022-10-20 21:29:56' , inclusive='both')),['Quick_Stop']] = 1\n",
    "dfN.loc[(dfN['datetime'].between('2022-10-20 21:30:50' , '2022-10-20 21:31:12' , inclusive='both')),['Quick_Stop']] = 1\n",
    "dfN.loc[(dfN['datetime'].between('2022-10-20 21:32:20' , '2022-10-20 21:32:40' , inclusive='both')),['Quick_Stop']] = 1\n",
    "dfN.loc[(dfN['datetime'].between('2022-10-20 21:33:55' , '2022-10-20 21:34:18' , inclusive='both')),['Quick_Stop']] = 1\n",
    "dfN.loc[(dfN['datetime'].between('2022-10-20 21:35:20' , '2022-10-20 21:35:45' , inclusive='both')),['Quick_Stop']] = 1\n",
    "dfN.loc[(dfN['datetime'].between('2022-10-20 21:36:45' , '2022-10-20 21:37:11' , inclusive='both')),['Quick_Stop']] = 1"
   ]
  },
  {
   "cell_type": "code",
   "execution_count": 85,
   "id": "c345e786",
   "metadata": {},
   "outputs": [
    {
     "data": {
      "text/plain": [
       "0    2221\n",
       "1     242\n",
       "Name: Quick_Stop, dtype: int64"
      ]
     },
     "execution_count": 85,
     "metadata": {},
     "output_type": "execute_result"
    }
   ],
   "source": [
    "dfN['Quick_Stop'].value_counts()"
   ]
  },
  {
   "cell_type": "code",
   "execution_count": 86,
   "id": "f467fc87",
   "metadata": {},
   "outputs": [],
   "source": [
    "df1 = dfN[(dfN['Quick_Stop'] == 0)].sample(n=242, replace=False, random_state=123458)\n",
    "df2 = pd.concat([dfN[(dfN['Quick_Stop'] == 1)], df1], ignore_index = True)\n",
    "df2 = df2.sample(frac=1)"
   ]
  },
  {
   "cell_type": "code",
   "execution_count": 87,
   "id": "3fb0a2a4",
   "metadata": {},
   "outputs": [
    {
     "data": {
      "text/plain": [
       "1    242\n",
       "0    242\n",
       "Name: Quick_Stop, dtype: int64"
      ]
     },
     "execution_count": 87,
     "metadata": {},
     "output_type": "execute_result"
    }
   ],
   "source": [
    "df2['Quick_Stop'].value_counts()"
   ]
  },
  {
   "cell_type": "code",
   "execution_count": 89,
   "id": "d2ef0109",
   "metadata": {},
   "outputs": [],
   "source": [
    "#Tune \n",
    "#Edit the model features to whatever you want to include in your model\n",
    "model_features = [ 'hasWeightOnWheels',\n",
    "            'absoluteAltitude',\n",
    "                 'magneticHeading', \n",
    "                 'groundSpeed', \n",
    "                 'climbOrDescentRate',\n",
    "                 'turnRate to degPerSec',\n",
    "                 'cyclicPositionPitch',\n",
    "                 'cyclicPositionRoll',\n",
    "                 'collectivePosition',\n",
    "                 'antiTorquePedalPosition',\n",
    "                 'throttlePosition',\n",
    "                 'e1Torque',\n",
    "                 'e2Torque']\n",
    "\n",
    "#X is predictor features, y is classifier \n",
    "X = df2[model_features]\n",
    "y = df2['Quick_Stop']\n",
    "#X_train, X_test, y_train, y_test = train_test_split(X, y, test_size=0.33, random_state=516516)"
   ]
  },
  {
   "cell_type": "markdown",
   "id": "e8740c5e",
   "metadata": {},
   "source": [
    "# Load Pickle "
   ]
  },
  {
   "cell_type": "code",
   "execution_count": 90,
   "id": "d86f5db8",
   "metadata": {},
   "outputs": [],
   "source": [
    "svm_loaded = pickle.load(open('quick_ss2.pkl', 'rb'))\n",
    "scaler_loaded = pickle.load(open('scaler_ss.pkl','rb'))"
   ]
  },
  {
   "cell_type": "code",
   "execution_count": 91,
   "id": "c213d1b4",
   "metadata": {},
   "outputs": [],
   "source": [
    "#SVC\n",
    "\n",
    "X_valid = scaler_loaded.transform(X)\n",
    "\n"
   ]
  },
  {
   "cell_type": "code",
   "execution_count": 92,
   "id": "1e62460b",
   "metadata": {},
   "outputs": [
    {
     "name": "stdout",
     "output_type": "stream",
     "text": [
      "Accuracy of Model:: 0.7975206611570248\n"
     ]
    }
   ],
   "source": [
    "validation_svm = svm_loaded.predict(X_valid)\n",
    "print(\"Accuracy of Model::\",accuracy_score(y,validation_svm))"
   ]
  },
  {
   "cell_type": "code",
   "execution_count": null,
   "id": "c9f16110",
   "metadata": {},
   "outputs": [],
   "source": []
  },
  {
   "cell_type": "code",
   "execution_count": null,
   "id": "90e514f8",
   "metadata": {},
   "outputs": [],
   "source": []
  },
  {
   "cell_type": "code",
   "execution_count": null,
   "id": "35caa849",
   "metadata": {},
   "outputs": [],
   "source": []
  },
  {
   "cell_type": "code",
   "execution_count": null,
   "id": "56758b3c",
   "metadata": {},
   "outputs": [],
   "source": []
  },
  {
   "cell_type": "code",
   "execution_count": null,
   "id": "9edab04d",
   "metadata": {},
   "outputs": [],
   "source": []
  },
  {
   "cell_type": "code",
   "execution_count": null,
   "id": "93176801",
   "metadata": {},
   "outputs": [],
   "source": []
  },
  {
   "cell_type": "code",
   "execution_count": null,
   "id": "c81ce604",
   "metadata": {},
   "outputs": [],
   "source": []
  }
 ],
 "metadata": {
  "kernelspec": {
   "display_name": "Python 3 (ipykernel)",
   "language": "python",
   "name": "python3"
  },
  "language_info": {
   "codemirror_mode": {
    "name": "ipython",
    "version": 3
   },
   "file_extension": ".py",
   "mimetype": "text/x-python",
   "name": "python",
   "nbconvert_exporter": "python",
   "pygments_lexer": "ipython3",
   "version": "3.9.12"
  }
 },
 "nbformat": 4,
 "nbformat_minor": 5
}
