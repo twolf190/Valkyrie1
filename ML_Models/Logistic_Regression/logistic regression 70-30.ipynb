{
 "cells": [
  {
   "cell_type": "code",
   "execution_count": 1,
   "metadata": {},
   "outputs": [],
   "source": [
    "import pandas as pd\n",
    "import matplotlib.pyplot as plt\n",
    "import seaborn as sns\n",
    "import os\n",
    "import numpy as np\n",
    "import sklearn as sk\n",
    "from sklearn.model_selection import train_test_split   # to split the data\n",
    "from sklearn.linear_model import LogisticRegression    # for logistic regression\n",
    "from sklearn import metrics                            # to create confusion matrix\n",
    "from sklearn.preprocessing import StandardScaler, MinMaxScaler, RobustScaler\n",
    "from sklearn.metrics import accuracy_score\n"
   ]
  },
  {
   "cell_type": "code",
   "execution_count": 2,
   "metadata": {},
   "outputs": [],
   "source": [
    "def df_transformation(df):\n",
    "    df_temp = df[features]\n",
    "    df_temp['datetime'] = df_temp.datetime.dt.strftime('%Y-%m-%d %H:%M:%S').astype('datetime64[ns]')\n",
    "\n",
    "    output = df_temp.groupby(by=[\"datetime\"], dropna=False).mean().reset_index()\n",
    "    \n",
    "    return output "
   ]
  },
  {
   "cell_type": "code",
   "execution_count": 3,
   "metadata": {},
   "outputs": [],
   "source": [
    "# Create a custom function for data transformation\n",
    "\n",
    "features = ['datetime',\n",
    "            'latitude',\n",
    "            'longitude',\n",
    "            'absoluteAltitude',\n",
    "            'magneticHeading',\n",
    "            'trueHeading',\n",
    "            'groundSpeed',\n",
    "            'trueAirspeed',\n",
    "            'pitch',\n",
    "            'roll',\n",
    "            'yaw',\n",
    "            'angleOfAttack',\n",
    "            'flightPathAngle',\n",
    "            'verticalFlightPathAngle',\n",
    "            'horizontalFlightPathAngle',\n",
    "            'rollAcceleration',\n",
    "            'pitchAcceleration',\n",
    "            'yawAcceleration',\n",
    "            'e1N1ng',\n",
    "            'e2N1ng',\n",
    "            'e1N2nf',\n",
    "            'e2N2nf',\n",
    "            'mainRotorRpm',\n",
    "            'tailRotorRpm',\n",
    "            'mainRotorTorque',\n",
    "            'e1Itt',\n",
    "            'e2Itt',\n",
    "            'mainRotorInducedInflow',\n",
    "            'flightDirectorPitch',\n",
    "            'flightDirectorRoll',\n",
    "            'climbOrDescentRate',\n",
    "            'hasWeightOnWheels',\n",
    "            'turnRate to degPerSec',\n",
    "            'cyclicPositionPitch',\n",
    "            'cyclicPositionRoll',\n",
    "            'collectivePosition',\n",
    "            'antiTorquePedalPosition',\n",
    "            'throttlePosition',\n",
    "            'e1Torque',\n",
    "            'e2Torque'\n",
    "           ]"
   ]
  },
  {
   "cell_type": "code",
   "execution_count": 4,
   "metadata": {},
   "outputs": [
    {
     "name": "stderr",
     "output_type": "stream",
     "text": [
      "C:\\Users\\fariy\\AppData\\Local\\Temp\\ipykernel_8572\\17026926.py:3: SettingWithCopyWarning: \n",
      "A value is trying to be set on a copy of a slice from a DataFrame.\n",
      "Try using .loc[row_indexer,col_indexer] = value instead\n",
      "\n",
      "See the caveats in the documentation: https://pandas.pydata.org/pandas-docs/stable/user_guide/indexing.html#returning-a-view-versus-a-copy\n",
      "  df_temp['datetime'] = df_temp.datetime.dt.strftime('%Y-%m-%d %H:%M:%S').astype('datetime64[ns]')\n"
     ]
    }
   ],
   "source": [
    "# reading files from 9/19 dataset\n",
    "df1 = pd.read_csv('SimData_2022.09.19_16.00.36.csv.roar.csv',\n",
    "                 parse_dates = {'datetime': ['date', 'time']},\n",
    "                 low_memory=False)\n",
    "df1 = df_transformation(df1)\n",
    "\n",
    "\n",
    "df2 = pd.read_csv('SimData_2022.09.19_16.38.20.csv.roar.csv',\n",
    "                 parse_dates = {'datetime': ['date', 'time']},\n",
    "                 low_memory=False)\n",
    "df2 = df_transformation(df2)\n",
    "\n",
    "\n",
    "df3 = pd.read_csv('SimData_2022.09.19_17.51.37.csv.roar.csv',\n",
    "                parse_dates = {'datetime': ['date', 'time']},\n",
    "                low_memory=False)\n",
    "df3 = df_transformation(df3)\n",
    "\n",
    "\n",
    "\n",
    "# reading files from 9/20 dataset\n",
    "df4 = pd.read_csv('SimData_2022.09.20_16.22.07.csv.roar.csv',\n",
    "                parse_dates = {'datetime': ['date', 'time']},\n",
    "                low_memory=False)\n",
    "df4 = df_transformation(df4)\n",
    "\n",
    "\n",
    "df5 = pd.read_csv('SimData_2022.09.20_16.28.31.csv.roar.csv',\n",
    "                parse_dates = {'datetime': ['date', 'time']},\n",
    "                low_memory=False)\n",
    "df5 = df_transformation(df5)\n",
    "\n",
    "\n",
    "# reading file from 9/22 dataset\n",
    "df6 = pd.read_csv('SimData_2022.09.22_17.11.56.csv.roar.csv',\n",
    "                parse_dates = {'datetime': ['date', 'time']},\n",
    "                low_memory=False)\n",
    "df6 = df_transformation(df6)\n",
    "\n",
    "\n",
    "# reading file from 10/06 dataset\n",
    "df7 = pd.read_csv('SimData_2022.10.06_09.47.22.csv.roar.csv',\n",
    "               parse_dates = {'datetime': ['date', 'time']},\n",
    "               low_memory=False)\n",
    "df7 = df_transformation(df7)\n",
    "\n",
    "# reading files from 10/20 dataset\n",
    "df8 = pd.read_csv('SimData_2022.10.20_17.19.15.csv.roar.csv',\n",
    "                parse_dates = {'datetime': ['date', 'time']},\n",
    "                low_memory=False)\n",
    "df8= df_transformation(df8)\n",
    "\n"
   ]
  },
  {
   "cell_type": "markdown",
   "metadata": {},
   "source": [
    "# QUICK STOPS USING 70% DATA FROM 9/19, 9/22, 10/20 TO TRAIN AND 10/6 TO VALIDATE"
   ]
  },
  {
   "cell_type": "code",
   "execution_count": 5,
   "metadata": {},
   "outputs": [],
   "source": [
    "# Dataframe labeling for Quick Stops \n",
    "df_qs = pd.concat([df1, df2, df3, df4, df5, df6, df8]).reset_index()\n",
    "df_qs['Quick_Stop'] = 0\n",
    "\n",
    "df_qs.loc[(df_qs['datetime'].between('2022-09-19 22:00:45' , '2022-09-19 22:01:44' , inclusive='both')),['Quick_Stop']] = 1\n",
    "df_qs.loc[(df_qs['datetime'].between('2022-09-19 22:11:55' , '2022-09-19 22:13:21' , inclusive='both')),['Quick_Stop']] = 1\n",
    "df_qs.loc[(df_qs['datetime'].between('2022-09-22 21:36:30' , '2022-09-22 21:37:10' , inclusive='both')),['Quick_Stop']] = 1\n",
    "df_qs.loc[(df_qs['datetime'].between('2022-09-22 21:39:16' , '2022-09-22 21:39:42' , inclusive='both')),['Quick_Stop']] = 1\n",
    "df_qs.loc[(df_qs['datetime'].between('2022-09-22 21:40:06' , '2022-09-22 21:40:36' , inclusive='both')),['Quick_Stop']] = 1\n",
    "df_qs.loc[(df_qs['datetime'].between('2022-10-20 21:23:30' , '2022-10-20 21:23:54' , inclusive='both')),['Quick_Stop']] = 1\n",
    "df_qs.loc[(df_qs['datetime'].between('2022-10-20 21:24:55' , '2022-10-20 21:25:20' , inclusive='both')),['Quick_Stop']] = 1\n",
    "df_qs.loc[(df_qs['datetime'].between('2022-10-20 21:26:20' , '2022-10-20 21:26:46' , inclusive='both')),['Quick_Stop']] = 1\n",
    "df_qs.loc[(df_qs['datetime'].between('2022-10-20 21:27:47' , '2022-10-20 21:28:05' , inclusive='both')),['Quick_Stop']] = 1\n",
    "df_qs.loc[(df_qs['datetime'].between('2022-10-20 21:29:33' , '2022-10-20 21:29:56' , inclusive='both')),['Quick_Stop']] = 1\n",
    "df_qs.loc[(df_qs['datetime'].between('2022-10-20 21:30:50' , '2022-10-20 21:31:12' , inclusive='both')),['Quick_Stop']] = 1\n",
    "df_qs.loc[(df_qs['datetime'].between('2022-10-20 21:32:20' , '2022-10-20 21:32:40' , inclusive='both')),['Quick_Stop']] = 1\n",
    "df_qs.loc[(df_qs['datetime'].between('2022-10-20 21:33:55' , '2022-10-20 21:34:18' , inclusive='both')),['Quick_Stop']] = 1\n",
    "df_qs.loc[(df_qs['datetime'].between('2022-10-20 21:35:20' , '2022-10-20 21:35:45' , inclusive='both')),['Quick_Stop']] = 1\n",
    "df_qs.loc[(df_qs['datetime'].between('2022-10-20 21:36:45' , '2022-10-20 21:37:11' , inclusive='both')),['Quick_Stop']] = 1\n"
   ]
  },
  {
   "cell_type": "code",
   "execution_count": 6,
   "metadata": {},
   "outputs": [
    {
     "data": {
      "text/plain": [
       "0    9195\n",
       "1     488\n",
       "Name: Quick_Stop, dtype: int64"
      ]
     },
     "execution_count": 6,
     "metadata": {},
     "output_type": "execute_result"
    }
   ],
   "source": [
    "df_qs['Quick_Stop'].value_counts()"
   ]
  },
  {
   "cell_type": "code",
   "execution_count": 7,
   "metadata": {},
   "outputs": [],
   "source": [
    "#call features used in model\n",
    "model_features = ['hasWeightOnWheels',\n",
    "                  'absoluteAltitude',\n",
    "                  'groundSpeed',\n",
    "                  'climbOrDescentRate',\n",
    "                  'cyclicPositionPitch',\n",
    "                  'cyclicPositionRoll',\n",
    "                  'collectivePosition',\n",
    "                  'antiTorquePedalPosition',\n",
    "                  'throttlePosition',\n",
    "                  'e1Torque',\n",
    "                  'e2Torque'\n",
    "                 ]"
   ]
  },
  {
   "cell_type": "code",
   "execution_count": 8,
   "metadata": {},
   "outputs": [],
   "source": [
    "x = df_qs[model_features]\n",
    "y = df_qs['Quick_Stop']"
   ]
  },
  {
   "cell_type": "code",
   "execution_count": 9,
   "metadata": {},
   "outputs": [
    {
     "data": {
      "text/html": [
       "<div>\n",
       "<style scoped>\n",
       "    .dataframe tbody tr th:only-of-type {\n",
       "        vertical-align: middle;\n",
       "    }\n",
       "\n",
       "    .dataframe tbody tr th {\n",
       "        vertical-align: top;\n",
       "    }\n",
       "\n",
       "    .dataframe thead th {\n",
       "        text-align: right;\n",
       "    }\n",
       "</style>\n",
       "<table border=\"1\" class=\"dataframe\">\n",
       "  <thead>\n",
       "    <tr style=\"text-align: right;\">\n",
       "      <th></th>\n",
       "      <th>hasWeightOnWheels</th>\n",
       "      <th>absoluteAltitude</th>\n",
       "      <th>groundSpeed</th>\n",
       "      <th>climbOrDescentRate</th>\n",
       "      <th>cyclicPositionPitch</th>\n",
       "      <th>cyclicPositionRoll</th>\n",
       "      <th>collectivePosition</th>\n",
       "      <th>antiTorquePedalPosition</th>\n",
       "      <th>throttlePosition</th>\n",
       "      <th>e1Torque</th>\n",
       "      <th>e2Torque</th>\n",
       "    </tr>\n",
       "  </thead>\n",
       "  <tbody>\n",
       "    <tr>\n",
       "      <th>0</th>\n",
       "      <td>1.0</td>\n",
       "      <td>0.032500</td>\n",
       "      <td>0.137500</td>\n",
       "      <td>0.582125</td>\n",
       "      <td>24.912250</td>\n",
       "      <td>-4.404250</td>\n",
       "      <td>3.726</td>\n",
       "      <td>-38.213000</td>\n",
       "      <td>7.283500</td>\n",
       "      <td>-5.219500</td>\n",
       "      <td>-5.219500</td>\n",
       "    </tr>\n",
       "    <tr>\n",
       "      <th>1</th>\n",
       "      <td>1.0</td>\n",
       "      <td>0.054773</td>\n",
       "      <td>0.155500</td>\n",
       "      <td>2.061705</td>\n",
       "      <td>0.949909</td>\n",
       "      <td>1.013386</td>\n",
       "      <td>3.726</td>\n",
       "      <td>-38.213000</td>\n",
       "      <td>39.997136</td>\n",
       "      <td>-3.727205</td>\n",
       "      <td>-3.727205</td>\n",
       "    </tr>\n",
       "    <tr>\n",
       "      <th>2</th>\n",
       "      <td>1.0</td>\n",
       "      <td>0.060000</td>\n",
       "      <td>0.018477</td>\n",
       "      <td>1.114295</td>\n",
       "      <td>-0.176841</td>\n",
       "      <td>0.624068</td>\n",
       "      <td>3.726</td>\n",
       "      <td>-38.216068</td>\n",
       "      <td>87.756318</td>\n",
       "      <td>6.978659</td>\n",
       "      <td>6.978659</td>\n",
       "    </tr>\n",
       "    <tr>\n",
       "      <th>3</th>\n",
       "      <td>1.0</td>\n",
       "      <td>0.060000</td>\n",
       "      <td>0.005200</td>\n",
       "      <td>0.181933</td>\n",
       "      <td>0.039356</td>\n",
       "      <td>0.124244</td>\n",
       "      <td>3.726</td>\n",
       "      <td>-38.228200</td>\n",
       "      <td>100.000000</td>\n",
       "      <td>28.398222</td>\n",
       "      <td>28.398222</td>\n",
       "    </tr>\n",
       "    <tr>\n",
       "      <th>4</th>\n",
       "      <td>1.0</td>\n",
       "      <td>0.060000</td>\n",
       "      <td>0.002542</td>\n",
       "      <td>-0.000208</td>\n",
       "      <td>0.065479</td>\n",
       "      <td>0.052958</td>\n",
       "      <td>3.726</td>\n",
       "      <td>-38.282792</td>\n",
       "      <td>100.000000</td>\n",
       "      <td>56.248208</td>\n",
       "      <td>56.248208</td>\n",
       "    </tr>\n",
       "  </tbody>\n",
       "</table>\n",
       "</div>"
      ],
      "text/plain": [
       "   hasWeightOnWheels  absoluteAltitude  groundSpeed  climbOrDescentRate  \\\n",
       "0                1.0          0.032500     0.137500            0.582125   \n",
       "1                1.0          0.054773     0.155500            2.061705   \n",
       "2                1.0          0.060000     0.018477            1.114295   \n",
       "3                1.0          0.060000     0.005200            0.181933   \n",
       "4                1.0          0.060000     0.002542           -0.000208   \n",
       "\n",
       "   cyclicPositionPitch  cyclicPositionRoll  collectivePosition  \\\n",
       "0            24.912250           -4.404250               3.726   \n",
       "1             0.949909            1.013386               3.726   \n",
       "2            -0.176841            0.624068               3.726   \n",
       "3             0.039356            0.124244               3.726   \n",
       "4             0.065479            0.052958               3.726   \n",
       "\n",
       "   antiTorquePedalPosition  throttlePosition   e1Torque   e2Torque  \n",
       "0               -38.213000          7.283500  -5.219500  -5.219500  \n",
       "1               -38.213000         39.997136  -3.727205  -3.727205  \n",
       "2               -38.216068         87.756318   6.978659   6.978659  \n",
       "3               -38.228200        100.000000  28.398222  28.398222  \n",
       "4               -38.282792        100.000000  56.248208  56.248208  "
      ]
     },
     "execution_count": 9,
     "metadata": {},
     "output_type": "execute_result"
    }
   ],
   "source": [
    "x.head()"
   ]
  },
  {
   "cell_type": "code",
   "execution_count": 10,
   "metadata": {},
   "outputs": [
    {
     "data": {
      "text/plain": [
       "0    0\n",
       "1    0\n",
       "2    0\n",
       "3    0\n",
       "4    0\n",
       "Name: Quick_Stop, dtype: int64"
      ]
     },
     "execution_count": 10,
     "metadata": {},
     "output_type": "execute_result"
    }
   ],
   "source": [
    "y.head()"
   ]
  },
  {
   "cell_type": "code",
   "execution_count": 11,
   "metadata": {},
   "outputs": [],
   "source": [
    "x_train, x_test, y_train, y_test = train_test_split(x, y, test_size = 0.3, random_state = 100)"
   ]
  },
  {
   "cell_type": "code",
   "execution_count": 12,
   "metadata": {},
   "outputs": [
    {
     "name": "stdout",
     "output_type": "stream",
     "text": [
      "Accuracy of LR classifier on training set: 0.95\n",
      "Accuracy of LR classifier on test set: 0.9535\n"
     ]
    }
   ],
   "source": [
    "#LR standard \n",
    "scaler = StandardScaler()\n",
    "x_train = scaler.fit_transform(x_train)\n",
    "x_test = scaler.transform(x_test)\n",
    "\n",
    "LR = LogisticRegression()    # Bring empty logistic regression model\n",
    "LR.fit(x_train,y_train)      # Train the model with training data\n",
    "print('Accuracy of LR classifier on training set: {:.2f}'\n",
    "     .format(LR.score(x_train, y_train)))\n",
    "print('Accuracy of LR classifier on test set: {:.4f}'\n",
    "     .format(LR.score(x_test, y_test)))\n",
    "\n"
   ]
  },
  {
   "cell_type": "code",
   "execution_count": 13,
   "metadata": {},
   "outputs": [],
   "source": [
    "y_pred_LR = LR.predict(x_test)    # Get predicted y from the logistic regression model"
   ]
  },
  {
   "cell_type": "code",
   "execution_count": 14,
   "metadata": {},
   "outputs": [
    {
     "name": "stdout",
     "output_type": "stream",
     "text": [
      "Classification accuracy =  0.9535283993115319\n",
      "Recall =  0.06338028169014084\n",
      "Precision =  0.8181818181818182\n"
     ]
    }
   ],
   "source": [
    "# Get the classification accuracy, Recall, and Precision with the metrics function.\n",
    "LR_accuracy = metrics.accuracy_score(y_pred_LR,y_test)\n",
    "print('Classification accuracy = ',LR_accuracy)\n",
    "print('Recall = ',metrics.recall_score(y_test, y_pred_LR))\n",
    "print('Precision = ',metrics.precision_score(y_test, y_pred_LR))"
   ]
  },
  {
   "cell_type": "code",
   "execution_count": 15,
   "metadata": {},
   "outputs": [],
   "source": [
    "# Check the train data\n",
    "\n",
    "total = 0\n",
    "Quick_Stop = 0\n",
    "non_Quick_Stop = 0\n",
    "for i in y_train:\n",
    "    if i == 1:\n",
    "        Quick_Stop += 1\n",
    "    else:\n",
    "        non_Quick_Stop += 1\n",
    "    total += 1"
   ]
  },
  {
   "cell_type": "code",
   "execution_count": 16,
   "metadata": {},
   "outputs": [
    {
     "name": "stdout",
     "output_type": "stream",
     "text": [
      "346\n",
      "6432\n",
      "0.95\n"
     ]
    }
   ],
   "source": [
    "print(Quick_Stop)\n",
    "print(non_Quick_Stop)\n",
    "print(round(non_Quick_Stop/total,2))"
   ]
  },
  {
   "cell_type": "markdown",
   "metadata": {},
   "source": [
    "Create a balanced dataset & train Logistic regression\n"
   ]
  },
  {
   "cell_type": "code",
   "execution_count": 17,
   "metadata": {},
   "outputs": [],
   "source": [
    "df_qs_train = df_qs[df_qs['Quick_Stop']==1]           # The original rows that have label 1\n",
    "non_df_qs_train = df_qs[df_qs['Quick_Stop']==0]       # The original rows that have label 0"
   ]
  },
  {
   "cell_type": "code",
   "execution_count": 18,
   "metadata": {},
   "outputs": [
    {
     "name": "stdout",
     "output_type": "stream",
     "text": [
      "488\n",
      "9195\n"
     ]
    }
   ],
   "source": [
    "print(len(df_qs_train))\n",
    "print(len(non_df_qs_train))"
   ]
  },
  {
   "cell_type": "code",
   "execution_count": 19,
   "metadata": {},
   "outputs": [],
   "source": [
    "sampled_non_df_qs = non_df_qs_train.sample(n = 488)    # Sample 488 data points from the quick stop data"
   ]
  },
  {
   "cell_type": "code",
   "execution_count": 20,
   "metadata": {},
   "outputs": [
    {
     "name": "stdout",
     "output_type": "stream",
     "text": [
      "488\n",
      "488\n"
     ]
    }
   ],
   "source": [
    "print(len(df_qs_train))\n",
    "print(len(sampled_non_df_qs))"
   ]
  },
  {
   "cell_type": "code",
   "execution_count": 21,
   "metadata": {},
   "outputs": [],
   "source": [
    "merged = pd.concat([df_qs_train, sampled_non_df_qs])     # After class-balancing, concatenating both classes into 1 dataframe"
   ]
  },
  {
   "cell_type": "code",
   "execution_count": 22,
   "metadata": {},
   "outputs": [
    {
     "name": "stdout",
     "output_type": "stream",
     "text": [
      "976\n"
     ]
    }
   ],
   "source": [
    "print(len(merged))"
   ]
  },
  {
   "cell_type": "code",
   "execution_count": 23,
   "metadata": {},
   "outputs": [
    {
     "data": {
      "text/html": [
       "<div>\n",
       "<style scoped>\n",
       "    .dataframe tbody tr th:only-of-type {\n",
       "        vertical-align: middle;\n",
       "    }\n",
       "\n",
       "    .dataframe tbody tr th {\n",
       "        vertical-align: top;\n",
       "    }\n",
       "\n",
       "    .dataframe thead th {\n",
       "        text-align: right;\n",
       "    }\n",
       "</style>\n",
       "<table border=\"1\" class=\"dataframe\">\n",
       "  <thead>\n",
       "    <tr style=\"text-align: right;\">\n",
       "      <th></th>\n",
       "      <th>index</th>\n",
       "      <th>datetime</th>\n",
       "      <th>latitude</th>\n",
       "      <th>longitude</th>\n",
       "      <th>absoluteAltitude</th>\n",
       "      <th>magneticHeading</th>\n",
       "      <th>trueHeading</th>\n",
       "      <th>groundSpeed</th>\n",
       "      <th>trueAirspeed</th>\n",
       "      <th>pitch</th>\n",
       "      <th>...</th>\n",
       "      <th>hasWeightOnWheels</th>\n",
       "      <th>turnRate to degPerSec</th>\n",
       "      <th>cyclicPositionPitch</th>\n",
       "      <th>cyclicPositionRoll</th>\n",
       "      <th>collectivePosition</th>\n",
       "      <th>antiTorquePedalPosition</th>\n",
       "      <th>throttlePosition</th>\n",
       "      <th>e1Torque</th>\n",
       "      <th>e2Torque</th>\n",
       "      <th>Quick_Stop</th>\n",
       "    </tr>\n",
       "  </thead>\n",
       "  <tbody>\n",
       "    <tr>\n",
       "      <th>3173</th>\n",
       "      <td>538</td>\n",
       "      <td>2022-09-19 22:00:45</td>\n",
       "      <td>39.869027</td>\n",
       "      <td>-75.256668</td>\n",
       "      <td>58.814000</td>\n",
       "      <td>175.889820</td>\n",
       "      <td>163.854760</td>\n",
       "      <td>26.245640</td>\n",
       "      <td>26.472019</td>\n",
       "      <td>-1.149760</td>\n",
       "      <td>...</td>\n",
       "      <td>0.0</td>\n",
       "      <td>-1.038940</td>\n",
       "      <td>-19.506000</td>\n",
       "      <td>-12.180060</td>\n",
       "      <td>44.076980</td>\n",
       "      <td>-13.315440</td>\n",
       "      <td>54.298300</td>\n",
       "      <td>57.240800</td>\n",
       "      <td>57.240800</td>\n",
       "      <td>1</td>\n",
       "    </tr>\n",
       "    <tr>\n",
       "      <th>3174</th>\n",
       "      <td>539</td>\n",
       "      <td>2022-09-19 22:00:46</td>\n",
       "      <td>39.868897</td>\n",
       "      <td>-75.256681</td>\n",
       "      <td>64.269200</td>\n",
       "      <td>175.790880</td>\n",
       "      <td>163.755880</td>\n",
       "      <td>28.406860</td>\n",
       "      <td>28.583419</td>\n",
       "      <td>-1.324340</td>\n",
       "      <td>...</td>\n",
       "      <td>0.0</td>\n",
       "      <td>-0.684400</td>\n",
       "      <td>-18.378260</td>\n",
       "      <td>-12.318980</td>\n",
       "      <td>43.792500</td>\n",
       "      <td>-13.447180</td>\n",
       "      <td>54.417980</td>\n",
       "      <td>57.502880</td>\n",
       "      <td>57.502880</td>\n",
       "      <td>1</td>\n",
       "    </tr>\n",
       "    <tr>\n",
       "      <th>3175</th>\n",
       "      <td>540</td>\n",
       "      <td>2022-09-19 22:00:47</td>\n",
       "      <td>39.868759</td>\n",
       "      <td>-75.256688</td>\n",
       "      <td>69.400816</td>\n",
       "      <td>175.941184</td>\n",
       "      <td>163.906184</td>\n",
       "      <td>30.540959</td>\n",
       "      <td>30.705495</td>\n",
       "      <td>-1.287327</td>\n",
       "      <td>...</td>\n",
       "      <td>0.0</td>\n",
       "      <td>-0.348143</td>\n",
       "      <td>-17.434837</td>\n",
       "      <td>-11.388592</td>\n",
       "      <td>43.431571</td>\n",
       "      <td>-11.185776</td>\n",
       "      <td>54.507163</td>\n",
       "      <td>57.832041</td>\n",
       "      <td>57.832041</td>\n",
       "      <td>1</td>\n",
       "    </tr>\n",
       "    <tr>\n",
       "      <th>3176</th>\n",
       "      <td>541</td>\n",
       "      <td>2022-09-19 22:00:48</td>\n",
       "      <td>39.868612</td>\n",
       "      <td>-75.256689</td>\n",
       "      <td>74.831400</td>\n",
       "      <td>177.060120</td>\n",
       "      <td>165.025180</td>\n",
       "      <td>32.817100</td>\n",
       "      <td>33.046779</td>\n",
       "      <td>-1.400080</td>\n",
       "      <td>...</td>\n",
       "      <td>0.0</td>\n",
       "      <td>0.144360</td>\n",
       "      <td>-17.746420</td>\n",
       "      <td>-11.170180</td>\n",
       "      <td>44.359920</td>\n",
       "      <td>-12.769160</td>\n",
       "      <td>55.128120</td>\n",
       "      <td>58.559720</td>\n",
       "      <td>58.559720</td>\n",
       "      <td>1</td>\n",
       "    </tr>\n",
       "    <tr>\n",
       "      <th>3177</th>\n",
       "      <td>542</td>\n",
       "      <td>2022-09-19 22:00:49</td>\n",
       "      <td>39.868455</td>\n",
       "      <td>-75.256685</td>\n",
       "      <td>82.046078</td>\n",
       "      <td>177.944647</td>\n",
       "      <td>165.909667</td>\n",
       "      <td>35.226863</td>\n",
       "      <td>35.570474</td>\n",
       "      <td>-1.765961</td>\n",
       "      <td>...</td>\n",
       "      <td>0.0</td>\n",
       "      <td>0.362627</td>\n",
       "      <td>-16.859510</td>\n",
       "      <td>-10.850255</td>\n",
       "      <td>44.784137</td>\n",
       "      <td>-15.211882</td>\n",
       "      <td>56.737294</td>\n",
       "      <td>62.649000</td>\n",
       "      <td>62.649000</td>\n",
       "      <td>1</td>\n",
       "    </tr>\n",
       "    <tr>\n",
       "      <th>...</th>\n",
       "      <td>...</td>\n",
       "      <td>...</td>\n",
       "      <td>...</td>\n",
       "      <td>...</td>\n",
       "      <td>...</td>\n",
       "      <td>...</td>\n",
       "      <td>...</td>\n",
       "      <td>...</td>\n",
       "      <td>...</td>\n",
       "      <td>...</td>\n",
       "      <td>...</td>\n",
       "      <td>...</td>\n",
       "      <td>...</td>\n",
       "      <td>...</td>\n",
       "      <td>...</td>\n",
       "      <td>...</td>\n",
       "      <td>...</td>\n",
       "      <td>...</td>\n",
       "      <td>...</td>\n",
       "      <td>...</td>\n",
       "      <td>...</td>\n",
       "    </tr>\n",
       "    <tr>\n",
       "      <th>2792</th>\n",
       "      <td>157</td>\n",
       "      <td>2022-09-19 21:54:24</td>\n",
       "      <td>39.872547</td>\n",
       "      <td>-75.236060</td>\n",
       "      <td>0.398571</td>\n",
       "      <td>268.349347</td>\n",
       "      <td>256.301449</td>\n",
       "      <td>18.545265</td>\n",
       "      <td>18.545305</td>\n",
       "      <td>-2.034408</td>\n",
       "      <td>...</td>\n",
       "      <td>1.0</td>\n",
       "      <td>0.250163</td>\n",
       "      <td>-30.848286</td>\n",
       "      <td>-7.679816</td>\n",
       "      <td>35.977020</td>\n",
       "      <td>6.032122</td>\n",
       "      <td>46.319061</td>\n",
       "      <td>39.829000</td>\n",
       "      <td>39.829000</td>\n",
       "      <td>0</td>\n",
       "    </tr>\n",
       "    <tr>\n",
       "      <th>7963</th>\n",
       "      <td>743</td>\n",
       "      <td>2022-10-20 21:33:18</td>\n",
       "      <td>51.477514</td>\n",
       "      <td>-0.459137</td>\n",
       "      <td>242.037442</td>\n",
       "      <td>80.915209</td>\n",
       "      <td>80.687209</td>\n",
       "      <td>36.919721</td>\n",
       "      <td>36.948157</td>\n",
       "      <td>1.754651</td>\n",
       "      <td>...</td>\n",
       "      <td>0.0</td>\n",
       "      <td>1.386163</td>\n",
       "      <td>-13.085721</td>\n",
       "      <td>-10.141302</td>\n",
       "      <td>37.146837</td>\n",
       "      <td>16.412674</td>\n",
       "      <td>50.332256</td>\n",
       "      <td>48.080000</td>\n",
       "      <td>48.080000</td>\n",
       "      <td>0</td>\n",
       "    </tr>\n",
       "    <tr>\n",
       "      <th>95</th>\n",
       "      <td>95</td>\n",
       "      <td>2022-09-19 20:07:40</td>\n",
       "      <td>39.358996</td>\n",
       "      <td>-74.434692</td>\n",
       "      <td>0.050000</td>\n",
       "      <td>341.178776</td>\n",
       "      <td>328.840224</td>\n",
       "      <td>0.000000</td>\n",
       "      <td>0.000000</td>\n",
       "      <td>-0.182000</td>\n",
       "      <td>...</td>\n",
       "      <td>1.0</td>\n",
       "      <td>0.002000</td>\n",
       "      <td>-0.007776</td>\n",
       "      <td>0.154347</td>\n",
       "      <td>3.615000</td>\n",
       "      <td>-40.354245</td>\n",
       "      <td>55.462714</td>\n",
       "      <td>45.981000</td>\n",
       "      <td>45.981000</td>\n",
       "      <td>0</td>\n",
       "    </tr>\n",
       "    <tr>\n",
       "      <th>6863</th>\n",
       "      <td>1730</td>\n",
       "      <td>2022-09-22 21:43:45</td>\n",
       "      <td>20.896091</td>\n",
       "      <td>-156.429700</td>\n",
       "      <td>0.090426</td>\n",
       "      <td>204.674830</td>\n",
       "      <td>214.156596</td>\n",
       "      <td>0.007745</td>\n",
       "      <td>0.010866</td>\n",
       "      <td>-0.246532</td>\n",
       "      <td>...</td>\n",
       "      <td>1.0</td>\n",
       "      <td>0.078851</td>\n",
       "      <td>-16.695681</td>\n",
       "      <td>12.550532</td>\n",
       "      <td>4.312766</td>\n",
       "      <td>-9.130128</td>\n",
       "      <td>46.973277</td>\n",
       "      <td>39.503085</td>\n",
       "      <td>39.503085</td>\n",
       "      <td>0</td>\n",
       "    </tr>\n",
       "    <tr>\n",
       "      <th>594</th>\n",
       "      <td>594</td>\n",
       "      <td>2022-09-19 20:15:59</td>\n",
       "      <td>39.337877</td>\n",
       "      <td>-74.264621</td>\n",
       "      <td>2085.779756</td>\n",
       "      <td>345.120317</td>\n",
       "      <td>332.710756</td>\n",
       "      <td>126.874244</td>\n",
       "      <td>127.063295</td>\n",
       "      <td>1.492561</td>\n",
       "      <td>...</td>\n",
       "      <td>0.0</td>\n",
       "      <td>1.025000</td>\n",
       "      <td>-41.461902</td>\n",
       "      <td>-5.186000</td>\n",
       "      <td>47.681098</td>\n",
       "      <td>19.956098</td>\n",
       "      <td>69.199780</td>\n",
       "      <td>83.148902</td>\n",
       "      <td>83.148902</td>\n",
       "      <td>0</td>\n",
       "    </tr>\n",
       "  </tbody>\n",
       "</table>\n",
       "<p>976 rows × 42 columns</p>\n",
       "</div>"
      ],
      "text/plain": [
       "      index            datetime   latitude   longitude  absoluteAltitude  \\\n",
       "3173    538 2022-09-19 22:00:45  39.869027  -75.256668         58.814000   \n",
       "3174    539 2022-09-19 22:00:46  39.868897  -75.256681         64.269200   \n",
       "3175    540 2022-09-19 22:00:47  39.868759  -75.256688         69.400816   \n",
       "3176    541 2022-09-19 22:00:48  39.868612  -75.256689         74.831400   \n",
       "3177    542 2022-09-19 22:00:49  39.868455  -75.256685         82.046078   \n",
       "...     ...                 ...        ...         ...               ...   \n",
       "2792    157 2022-09-19 21:54:24  39.872547  -75.236060          0.398571   \n",
       "7963    743 2022-10-20 21:33:18  51.477514   -0.459137        242.037442   \n",
       "95       95 2022-09-19 20:07:40  39.358996  -74.434692          0.050000   \n",
       "6863   1730 2022-09-22 21:43:45  20.896091 -156.429700          0.090426   \n",
       "594     594 2022-09-19 20:15:59  39.337877  -74.264621       2085.779756   \n",
       "\n",
       "      magneticHeading  trueHeading  groundSpeed  trueAirspeed     pitch  ...  \\\n",
       "3173       175.889820   163.854760    26.245640     26.472019 -1.149760  ...   \n",
       "3174       175.790880   163.755880    28.406860     28.583419 -1.324340  ...   \n",
       "3175       175.941184   163.906184    30.540959     30.705495 -1.287327  ...   \n",
       "3176       177.060120   165.025180    32.817100     33.046779 -1.400080  ...   \n",
       "3177       177.944647   165.909667    35.226863     35.570474 -1.765961  ...   \n",
       "...               ...          ...          ...           ...       ...  ...   \n",
       "2792       268.349347   256.301449    18.545265     18.545305 -2.034408  ...   \n",
       "7963        80.915209    80.687209    36.919721     36.948157  1.754651  ...   \n",
       "95         341.178776   328.840224     0.000000      0.000000 -0.182000  ...   \n",
       "6863       204.674830   214.156596     0.007745      0.010866 -0.246532  ...   \n",
       "594        345.120317   332.710756   126.874244    127.063295  1.492561  ...   \n",
       "\n",
       "      hasWeightOnWheels  turnRate to degPerSec  cyclicPositionPitch  \\\n",
       "3173                0.0              -1.038940           -19.506000   \n",
       "3174                0.0              -0.684400           -18.378260   \n",
       "3175                0.0              -0.348143           -17.434837   \n",
       "3176                0.0               0.144360           -17.746420   \n",
       "3177                0.0               0.362627           -16.859510   \n",
       "...                 ...                    ...                  ...   \n",
       "2792                1.0               0.250163           -30.848286   \n",
       "7963                0.0               1.386163           -13.085721   \n",
       "95                  1.0               0.002000            -0.007776   \n",
       "6863                1.0               0.078851           -16.695681   \n",
       "594                 0.0               1.025000           -41.461902   \n",
       "\n",
       "      cyclicPositionRoll  collectivePosition  antiTorquePedalPosition  \\\n",
       "3173          -12.180060           44.076980               -13.315440   \n",
       "3174          -12.318980           43.792500               -13.447180   \n",
       "3175          -11.388592           43.431571               -11.185776   \n",
       "3176          -11.170180           44.359920               -12.769160   \n",
       "3177          -10.850255           44.784137               -15.211882   \n",
       "...                  ...                 ...                      ...   \n",
       "2792           -7.679816           35.977020                 6.032122   \n",
       "7963          -10.141302           37.146837                16.412674   \n",
       "95              0.154347            3.615000               -40.354245   \n",
       "6863           12.550532            4.312766                -9.130128   \n",
       "594            -5.186000           47.681098                19.956098   \n",
       "\n",
       "      throttlePosition   e1Torque   e2Torque  Quick_Stop  \n",
       "3173         54.298300  57.240800  57.240800           1  \n",
       "3174         54.417980  57.502880  57.502880           1  \n",
       "3175         54.507163  57.832041  57.832041           1  \n",
       "3176         55.128120  58.559720  58.559720           1  \n",
       "3177         56.737294  62.649000  62.649000           1  \n",
       "...                ...        ...        ...         ...  \n",
       "2792         46.319061  39.829000  39.829000           0  \n",
       "7963         50.332256  48.080000  48.080000           0  \n",
       "95           55.462714  45.981000  45.981000           0  \n",
       "6863         46.973277  39.503085  39.503085           0  \n",
       "594          69.199780  83.148902  83.148902           0  \n",
       "\n",
       "[976 rows x 42 columns]"
      ]
     },
     "execution_count": 23,
     "metadata": {},
     "output_type": "execute_result"
    }
   ],
   "source": [
    "merged"
   ]
  },
  {
   "cell_type": "code",
   "execution_count": 24,
   "metadata": {},
   "outputs": [],
   "source": [
    "# Split the data into X and y\n",
    "x = merged[model_features]   \n",
    "y = merged['Quick_Stop']\n"
   ]
  },
  {
   "cell_type": "code",
   "execution_count": 25,
   "metadata": {},
   "outputs": [],
   "source": [
    "x_train, x_test, y_train, y_test = train_test_split(x, y, test_size = 0.3, random_state = 0)"
   ]
  },
  {
   "cell_type": "code",
   "execution_count": 26,
   "metadata": {},
   "outputs": [
    {
     "name": "stdout",
     "output_type": "stream",
     "text": [
      "Accuracy of LR classifier on training set: 0.73\n",
      "Accuracy of LR classifier on test set: 0.7611\n"
     ]
    }
   ],
   "source": [
    "#LR standardizing \n",
    "scaler = StandardScaler()\n",
    "x_train = scaler.fit_transform(x_train)\n",
    "x_test = scaler.transform(x_test)\n",
    "\n",
    "\n",
    "LR = LogisticRegression()    # Bring empty logistic regression model\n",
    "LR.fit(x_train,y_train)                  # Train the model with training data\n",
    "print('Accuracy of LR classifier on training set: {:.2f}'\n",
    "     .format(LR.score(x_train, y_train)))\n",
    "print('Accuracy of LR classifier on test set: {:.4f}'\n",
    "     .format(LR.score(x_test, y_test)))\n",
    "\n"
   ]
  },
  {
   "cell_type": "code",
   "execution_count": 27,
   "metadata": {},
   "outputs": [
    {
     "name": "stdout",
     "output_type": "stream",
     "text": [
      "345\n",
      "338\n",
      "0.49487554904831627\n"
     ]
    }
   ],
   "source": [
    "# Checking the training data\n",
    "total = 0\n",
    "Quick_Stop = 0\n",
    "non_Quick_Stop = 0\n",
    "for i in y_train:\n",
    "    if i == 1:\n",
    "        Quick_Stop += 1\n",
    "    else:\n",
    "        non_Quick_Stop += 1\n",
    "    total += 1\n",
    "    \n",
    "print(Quick_Stop)\n",
    "print(non_Quick_Stop)\n",
    "print(non_Quick_Stop/total)"
   ]
  },
  {
   "cell_type": "code",
   "execution_count": 28,
   "metadata": {},
   "outputs": [
    {
     "name": "stdout",
     "output_type": "stream",
     "text": [
      "Quick Stop accuracy (train) =  0.7349926793557833\n",
      "Recall =  0.8434782608695652\n",
      "Precision =  0.6961722488038278\n"
     ]
    }
   ],
   "source": [
    "qsy_pred_LR = LR.predict(x_train)\n",
    "\n",
    "qsLR_accuracy = metrics.accuracy_score(qsy_pred_LR,y_train)\n",
    "print('Quick Stop accuracy (train) = ', qsLR_accuracy)\n",
    "print('Recall = ',metrics.recall_score(y_train, qsy_pred_LR))\n",
    "print('Precision = ',metrics.precision_score(y_train, qsy_pred_LR))"
   ]
  },
  {
   "cell_type": "code",
   "execution_count": 29,
   "metadata": {},
   "outputs": [
    {
     "name": "stdout",
     "output_type": "stream",
     "text": [
      "Quick Stop accuracy (test) =  0.7610921501706485\n",
      "Recall =  0.8251748251748252\n",
      "Precision =  0.7239263803680982\n"
     ]
    }
   ],
   "source": [
    "y_pred_LR = LR.predict(x_test)\n",
    "\n",
    "LR_accuracy = metrics.accuracy_score(y_pred_LR,y_test)\n",
    "print('Quick Stop accuracy (test) = ', LR_accuracy)\n",
    "print('Recall = ',metrics.recall_score(y_test, y_pred_LR))\n",
    "print('Precision = ',metrics.precision_score(y_test, y_pred_LR))"
   ]
  },
  {
   "cell_type": "markdown",
   "metadata": {},
   "source": [
    "Visualize the Confusion Matrix"
   ]
  },
  {
   "cell_type": "code",
   "execution_count": 30,
   "metadata": {},
   "outputs": [
    {
     "data": {
      "image/png": "[encoded data removed]",
      "text/plain": [
       "<Figure size 640x480 with 2 Axes>"
      ]
     },
     "metadata": {},
     "output_type": "display_data"
    }
   ],
   "source": [
    "cm = metrics.confusion_matrix(y_test, y_pred_LR)    # Create a confusion matrix from predicted y and original y value.\n",
    "                                                               \n",
    "ax= plt.subplot()\n",
    "sns.heatmap(cm, annot=True, cmap = 'Reds', fmt='.0f', ax=ax); \n",
    "\n",
    "# labels, title and ticks\n",
    "ax.set_xlabel('Predicted labels');ax.set_ylabel('True labels'); \n",
    "ax.set_title('Confusion Matrix for Quick Stops (Training data)')\n",
    "ax.xaxis.set_ticklabels(['Not_Quick_Stop', 'Quick_Stop']); ax.yaxis.set_ticklabels(['Not_Quick_Stop', 'Quick_Stop']);"
   ]
  },
  {
   "cell_type": "code",
   "execution_count": 31,
   "metadata": {},
   "outputs": [],
   "source": [
    "y_pred_proba = LR.predict_proba(x_test)   # Get the probability of LR classification \n",
    "                                          \n",
    "false_positive_rate, true_positive_rate, thresholds = metrics.roc_curve(y_test, y_pred_proba[:,1])     \n",
    "# Orignally predict_proba returned 2 values for both classes. \n",
    "# So, we picked second one which gives the probability of class 1"
   ]
  },
  {
   "cell_type": "code",
   "execution_count": 32,
   "metadata": {},
   "outputs": [
    {
     "data": {
      "text/plain": [
       "[<matplotlib.lines.Line2D at 0x2743968fc70>]"
      ]
     },
     "execution_count": 32,
     "metadata": {},
     "output_type": "execute_result"
    },
    {
     "data": {
      "image/png": "[encoded data removed]",
      "text/plain": [
       "<Figure size 640x480 with 1 Axes>"
      ]
     },
     "metadata": {},
     "output_type": "display_data"
    }
   ],
   "source": [
    "# Plot roc curve \n",
    "%matplotlib inline  \n",
    "plt.ylabel('True Positive Rate')\n",
    "plt.xlabel('False Positive Rate')\n",
    "plt.title('ROC curve for quick stops')\n",
    "plt.plot(false_positive_rate, true_positive_rate)  \n"
   ]
  },
  {
   "cell_type": "code",
   "execution_count": 33,
   "metadata": {},
   "outputs": [
    {
     "name": "stdout",
     "output_type": "stream",
     "text": [
      "AUC for quick stops (LR) = 0.8674592074592073\n"
     ]
    }
   ],
   "source": [
    "# Compute AUC\n",
    "auc = metrics.auc(false_positive_rate, true_positive_rate)   # metrics also provide the auc area\n",
    "print(\"AUC for quick stops (LR) =\", auc)"
   ]
  },
  {
   "cell_type": "markdown",
   "metadata": {},
   "source": [
    "### Saving model"
   ]
  },
  {
   "cell_type": "code",
   "execution_count": 34,
   "metadata": {},
   "outputs": [],
   "source": [
    "import pickle"
   ]
  },
  {
   "cell_type": "code",
   "execution_count": 35,
   "metadata": {},
   "outputs": [],
   "source": [
    "pickle.dump(LR, open('quick_ss2.pkl', 'wb'))"
   ]
  },
  {
   "cell_type": "code",
   "execution_count": 36,
   "metadata": {},
   "outputs": [],
   "source": [
    "pickle.dump(scaler, open('scaler_ss.pkl','wb'))"
   ]
  },
  {
   "cell_type": "markdown",
   "metadata": {},
   "source": [
    "### Load new data for validation"
   ]
  },
  {
   "cell_type": "code",
   "execution_count": 37,
   "metadata": {},
   "outputs": [
    {
     "name": "stderr",
     "output_type": "stream",
     "text": [
      "C:\\Users\\fariy\\AppData\\Local\\Temp\\ipykernel_8572\\17026926.py:3: SettingWithCopyWarning: \n",
      "A value is trying to be set on a copy of a slice from a DataFrame.\n",
      "Try using .loc[row_indexer,col_indexer] = value instead\n",
      "\n",
      "See the caveats in the documentation: https://pandas.pydata.org/pandas-docs/stable/user_guide/indexing.html#returning-a-view-versus-a-copy\n",
      "  df_temp['datetime'] = df_temp.datetime.dt.strftime('%Y-%m-%d %H:%M:%S').astype('datetime64[ns]')\n"
     ]
    }
   ],
   "source": [
    "# reading file from 10/06 dataset\n",
    "df7 = pd.read_csv('SimData_2022.10.06_09.47.22.csv.roar.csv',\n",
    "               parse_dates = {'datetime': ['date', 'time']},\n",
    "               low_memory=False)\n",
    "df7 = df_transformation(df7)"
   ]
  },
  {
   "cell_type": "code",
   "execution_count": 38,
   "metadata": {},
   "outputs": [],
   "source": [
    "# Dataframe labeling for Quick Stops \n",
    "dfqs = df7.copy()\n",
    "dfqs['Quick_Stop'] = 0\n",
    "\n",
    "dfqs.loc[(dfqs['datetime'].between('2022-10-06 13:51:10' , '2022-10-06 13:51:42' , inclusive='both')),['Quick_Stop']] = 1\n",
    "dfqs.loc[(dfqs['datetime'].between('2022-10-06 14:04:58' , '2022-10-06 14:05:25' , inclusive='both')),['Quick_Stop']] = 1\n",
    "dfqs.loc[(dfqs['datetime'].between('2022-10-06 14:06:00' , '2022-10-06 14:06:20' , inclusive='both')),['Quick_Stop']] = 1\n",
    "dfqs.loc[(dfqs['datetime'].between('2022-10-06 14:08:02' , '2022-10-06 14:08:26' , inclusive='both')),['Quick_Stop']] = 1"
   ]
  },
  {
   "cell_type": "code",
   "execution_count": 39,
   "metadata": {},
   "outputs": [
    {
     "data": {
      "text/plain": [
       "0    1160\n",
       "1     107\n",
       "Name: Quick_Stop, dtype: int64"
      ]
     },
     "execution_count": 39,
     "metadata": {},
     "output_type": "execute_result"
    }
   ],
   "source": [
    "dfqs['Quick_Stop'].value_counts()"
   ]
  },
  {
   "cell_type": "code",
   "execution_count": 40,
   "metadata": {},
   "outputs": [],
   "source": [
    "# Split the data into X and y\n",
    "X = dfqs[model_features]   \n",
    "Y = dfqs['Quick_Stop']"
   ]
  },
  {
   "cell_type": "markdown",
   "metadata": {},
   "source": [
    "### Load pickle"
   ]
  },
  {
   "cell_type": "code",
   "execution_count": 41,
   "metadata": {},
   "outputs": [],
   "source": [
    "LR_loaded = pickle.load(open('quick_ss2.pkl', 'rb'))\n",
    "scaler_loaded = pickle.load(open('scaler_ss.pkl','rb'))"
   ]
  },
  {
   "cell_type": "code",
   "execution_count": 42,
   "metadata": {},
   "outputs": [],
   "source": [
    "# LR\n",
    "\n",
    "x_valid = scaler_loaded.transform(X)\n"
   ]
  },
  {
   "cell_type": "code",
   "execution_count": 43,
   "metadata": {},
   "outputs": [
    {
     "name": "stdout",
     "output_type": "stream",
     "text": [
      "Accuracy of Model:: 0.6527229676400947\n"
     ]
    }
   ],
   "source": [
    "validation_LR = LR_loaded.predict(x_valid)\n",
    "print(\"Accuracy of Model::\",accuracy_score(Y,validation_LR))"
   ]
  },
  {
   "cell_type": "code",
   "execution_count": 44,
   "metadata": {},
   "outputs": [
    {
     "name": "stdout",
     "output_type": "stream",
     "text": [
      "Quick Stop accuracy (validation) =  0.6527229676400947\n",
      "Recall =  0.7663551401869159\n",
      "Precision =  0.16498993963782696\n"
     ]
    }
   ],
   "source": [
    "y_pred_LR = LR.predict(x_valid)\n",
    "\n",
    "LR8_accuracy = metrics.accuracy_score(y_pred_LR,Y)\n",
    "print('Quick Stop accuracy (validation) = ', LR8_accuracy)\n",
    "print('Recall = ',metrics.recall_score(Y, y_pred_LR))\n",
    "print('Precision = ',metrics.precision_score(Y, y_pred_LR))"
   ]
  },
  {
   "cell_type": "code",
   "execution_count": 45,
   "metadata": {},
   "outputs": [
    {
     "data": {
      "image/png": "[encoded data removed]",
      "text/plain": [
       "<Figure size 640x480 with 2 Axes>"
      ]
     },
     "metadata": {},
     "output_type": "display_data"
    }
   ],
   "source": [
    "CM = metrics.confusion_matrix(Y, y_pred_LR)    # Create a confusion matrix from predicted y and original y value.\n",
    "                                                             \n",
    "AX= plt.subplot()\n",
    "sns.heatmap(CM, annot=True, cmap = 'Reds', fmt='.0f', ax=AX); \n",
    "\n",
    "# labels, title and ticks\n",
    "AX.set_xlabel('Predicted labels');AX.set_ylabel('True labels'); \n",
    "AX.set_title('Confusion Matrix for Quick Stops (Validation data)')\n",
    "AX.xaxis.set_ticklabels(['Not_Quick_Stop', 'Quick_Stop']); AX.yaxis.set_ticklabels(['Not_Quick_Stop', 'Quick_Stop']);"
   ]
  },
  {
   "cell_type": "markdown",
   "metadata": {},
   "source": [
    "# SURFACE TAXIS USING 70% DATA FROM 9/19, 9/20, 9/22, 10/6 TO TRAIN AND 10/27 TO VALIDATE "
   ]
  },
  {
   "cell_type": "code",
   "execution_count": 46,
   "metadata": {},
   "outputs": [],
   "source": [
    "# Dataframe labeling for Surface Taxis\n",
    "df_surface = pd.concat([df1, df2, df3, df4, df5, df6, df7]).reset_index()\n",
    "df_surface['Surface_Taxi'] = 0\n",
    "\n",
    "df_surface.loc[(df_surface['datetime'].between('2022-09-19 21:53:50' , '2022-09-19 21:55:55' , inclusive='both')),['Surface_Taxi']] = 1\n",
    "df_surface.loc[(df_surface['datetime'].between('2022-09-19 22:04:00' , '2022-09-19 22:06:39' , inclusive='both')),['Surface_Taxi']] = 1\n",
    "df_surface.loc[(df_surface['datetime'].between('2022-09-20 20:25:40' , '2022-09-20 20:27:54' , inclusive='both')),['Surface_Taxi']] = 1\n",
    "df_surface.loc[(df_surface['datetime'].between('2022-09-22 21:16:37' , '2022-09-22 21:19:56' , inclusive='both')),['Surface_Taxi']] = 1\n",
    "df_surface.loc[(df_surface['datetime'].between('2022-09-22 21:43:16' , '2022-09-22 21:43:41' , inclusive='both')),['Surface_Taxi']] = 1\n",
    "df_surface.loc[(df_surface['datetime'].between('2022-10-06 13:52:16' , '2022-10-06 13:56:00' , inclusive='both')),['Surface_Taxi']] = 1\n"
   ]
  },
  {
   "cell_type": "code",
   "execution_count": 47,
   "metadata": {},
   "outputs": [
    {
     "data": {
      "text/plain": [
       "0    7615\n",
       "1     872\n",
       "Name: Surface_Taxi, dtype: int64"
      ]
     },
     "execution_count": 47,
     "metadata": {},
     "output_type": "execute_result"
    }
   ],
   "source": [
    "df_surface['Surface_Taxi'].value_counts()"
   ]
  },
  {
   "cell_type": "code",
   "execution_count": 48,
   "metadata": {},
   "outputs": [],
   "source": [
    "x2 = df_surface[model_features]\n",
    "y2 = df_surface['Surface_Taxi']"
   ]
  },
  {
   "cell_type": "code",
   "execution_count": 49,
   "metadata": {},
   "outputs": [],
   "source": [
    "x2_train, x2_test, y2_train, y2_test = train_test_split(x2, y2, test_size = 0.3, random_state = 100)"
   ]
  },
  {
   "cell_type": "code",
   "execution_count": 50,
   "metadata": {},
   "outputs": [
    {
     "name": "stdout",
     "output_type": "stream",
     "text": [
      "Accuracy of LR classifier on training set: 0.96\n",
      "Accuracy of LR classifier on test set: 0.9654\n"
     ]
    }
   ],
   "source": [
    "#LR standard \n",
    "scaler2 = StandardScaler()\n",
    "x2_train = scaler2.fit_transform(x2_train)\n",
    "x2_test = scaler2.transform(x2_test)\n",
    "\n",
    "LR2 = LogisticRegression()    # Bring empty logistic regression model\n",
    "LR2.fit(x2_train,y2_train)      # Train the model with training data\n",
    "print('Accuracy of LR classifier on training set: {:.2f}'\n",
    "     .format(LR2.score(x2_train, y2_train)))\n",
    "print('Accuracy of LR classifier on test set: {:.4f}'\n",
    "     .format(LR2.score(x2_test, y2_test)))"
   ]
  },
  {
   "cell_type": "code",
   "execution_count": 51,
   "metadata": {},
   "outputs": [],
   "source": [
    "y2_pred_LR = LR2.predict(x2_test)    # Get predicted y from the logistic regression model"
   ]
  },
  {
   "cell_type": "code",
   "execution_count": 52,
   "metadata": {},
   "outputs": [
    {
     "name": "stdout",
     "output_type": "stream",
     "text": [
      "Classification accuracy =  0.9654495484884178\n",
      "Recall =  0.8772563176895307\n",
      "Precision =  0.8181818181818182\n"
     ]
    }
   ],
   "source": [
    "# Get the classification accuracy, Recall, and Precision with the metrics function.\n",
    "LR2_accuracy = metrics.accuracy_score(y2_pred_LR,y2_test)\n",
    "print('Classification accuracy = ',LR2_accuracy)\n",
    "print('Recall = ',metrics.recall_score(y2_test, y2_pred_LR))\n",
    "print('Precision = ',metrics.precision_score(y2_test, y2_pred_LR))"
   ]
  },
  {
   "cell_type": "code",
   "execution_count": 53,
   "metadata": {},
   "outputs": [],
   "source": [
    "# Check the train data\n",
    "\n",
    "total = 0\n",
    "Surface_Taxi = 0\n",
    "non_Surface_Taxi = 0\n",
    "for i in y2_train:\n",
    "    if i == 1:\n",
    "        Surface_Taxi += 1\n",
    "    else:\n",
    "        non_Surface_Taxi += 1\n",
    "    total += 1"
   ]
  },
  {
   "cell_type": "code",
   "execution_count": 54,
   "metadata": {},
   "outputs": [
    {
     "name": "stdout",
     "output_type": "stream",
     "text": [
      "595\n",
      "5345\n",
      "0.9\n"
     ]
    }
   ],
   "source": [
    "print(Surface_Taxi)\n",
    "print(non_Surface_Taxi)\n",
    "print(round(non_Surface_Taxi/total,2))"
   ]
  },
  {
   "cell_type": "markdown",
   "metadata": {},
   "source": [
    "Create a balanced dataset & train Logistic regression"
   ]
  },
  {
   "cell_type": "code",
   "execution_count": 55,
   "metadata": {},
   "outputs": [],
   "source": [
    "df_surface_train = df_surface[df_surface['Surface_Taxi']==1]           # The original rows that have label 1\n",
    "non_df_surface_train = df_surface[df_surface['Surface_Taxi']==0]       # The original rows that have label 0"
   ]
  },
  {
   "cell_type": "code",
   "execution_count": 56,
   "metadata": {},
   "outputs": [
    {
     "name": "stdout",
     "output_type": "stream",
     "text": [
      "872\n",
      "7615\n"
     ]
    }
   ],
   "source": [
    "print(len(df_surface_train))\n",
    "print(len(non_df_surface_train))"
   ]
  },
  {
   "cell_type": "code",
   "execution_count": 57,
   "metadata": {},
   "outputs": [],
   "source": [
    "sampled_non_df_surface = non_df_surface_train.sample(n = 872)    # Sample 872 data points from the surface taxi data"
   ]
  },
  {
   "cell_type": "code",
   "execution_count": 58,
   "metadata": {},
   "outputs": [
    {
     "name": "stdout",
     "output_type": "stream",
     "text": [
      "872\n",
      "872\n"
     ]
    }
   ],
   "source": [
    "print(len(df_surface_train))\n",
    "print(len(sampled_non_df_surface))"
   ]
  },
  {
   "cell_type": "code",
   "execution_count": 59,
   "metadata": {},
   "outputs": [],
   "source": [
    "merged2 = pd.concat([df_surface_train, sampled_non_df_surface])     # After balancing, concatenating both classes into 1 dataframe"
   ]
  },
  {
   "cell_type": "code",
   "execution_count": 60,
   "metadata": {},
   "outputs": [
    {
     "name": "stdout",
     "output_type": "stream",
     "text": [
      "1744\n"
     ]
    }
   ],
   "source": [
    "print(len(merged2))"
   ]
  },
  {
   "cell_type": "code",
   "execution_count": 61,
   "metadata": {},
   "outputs": [
    {
     "data": {
      "text/html": [
       "<div>\n",
       "<style scoped>\n",
       "    .dataframe tbody tr th:only-of-type {\n",
       "        vertical-align: middle;\n",
       "    }\n",
       "\n",
       "    .dataframe tbody tr th {\n",
       "        vertical-align: top;\n",
       "    }\n",
       "\n",
       "    .dataframe thead th {\n",
       "        text-align: right;\n",
       "    }\n",
       "</style>\n",
       "<table border=\"1\" class=\"dataframe\">\n",
       "  <thead>\n",
       "    <tr style=\"text-align: right;\">\n",
       "      <th></th>\n",
       "      <th>index</th>\n",
       "      <th>datetime</th>\n",
       "      <th>latitude</th>\n",
       "      <th>longitude</th>\n",
       "      <th>absoluteAltitude</th>\n",
       "      <th>magneticHeading</th>\n",
       "      <th>trueHeading</th>\n",
       "      <th>groundSpeed</th>\n",
       "      <th>trueAirspeed</th>\n",
       "      <th>pitch</th>\n",
       "      <th>...</th>\n",
       "      <th>hasWeightOnWheels</th>\n",
       "      <th>turnRate to degPerSec</th>\n",
       "      <th>cyclicPositionPitch</th>\n",
       "      <th>cyclicPositionRoll</th>\n",
       "      <th>collectivePosition</th>\n",
       "      <th>antiTorquePedalPosition</th>\n",
       "      <th>throttlePosition</th>\n",
       "      <th>e1Torque</th>\n",
       "      <th>e2Torque</th>\n",
       "      <th>Surface_Taxi</th>\n",
       "    </tr>\n",
       "  </thead>\n",
       "  <tbody>\n",
       "    <tr>\n",
       "      <th>2758</th>\n",
       "      <td>123</td>\n",
       "      <td>2022-09-19 21:53:50</td>\n",
       "      <td>39.872826</td>\n",
       "      <td>-75.234782</td>\n",
       "      <td>0.232708</td>\n",
       "      <td>259.489000</td>\n",
       "      <td>247.440354</td>\n",
       "      <td>0.682083</td>\n",
       "      <td>0.684220</td>\n",
       "      <td>-1.061208</td>\n",
       "      <td>...</td>\n",
       "      <td>1.0</td>\n",
       "      <td>0.008646</td>\n",
       "      <td>-20.697396</td>\n",
       "      <td>-4.869979</td>\n",
       "      <td>32.787938</td>\n",
       "      <td>11.191542</td>\n",
       "      <td>42.742437</td>\n",
       "      <td>31.345979</td>\n",
       "      <td>31.345979</td>\n",
       "      <td>1</td>\n",
       "    </tr>\n",
       "    <tr>\n",
       "      <th>2759</th>\n",
       "      <td>124</td>\n",
       "      <td>2022-09-19 21:53:51</td>\n",
       "      <td>39.872824</td>\n",
       "      <td>-75.234788</td>\n",
       "      <td>0.245306</td>\n",
       "      <td>259.937388</td>\n",
       "      <td>247.888714</td>\n",
       "      <td>1.485755</td>\n",
       "      <td>1.485781</td>\n",
       "      <td>-1.190224</td>\n",
       "      <td>...</td>\n",
       "      <td>1.0</td>\n",
       "      <td>0.283837</td>\n",
       "      <td>-24.496102</td>\n",
       "      <td>-0.463061</td>\n",
       "      <td>33.563122</td>\n",
       "      <td>11.287429</td>\n",
       "      <td>45.236265</td>\n",
       "      <td>36.912918</td>\n",
       "      <td>36.912918</td>\n",
       "      <td>1</td>\n",
       "    </tr>\n",
       "    <tr>\n",
       "      <th>2760</th>\n",
       "      <td>125</td>\n",
       "      <td>2022-09-19 21:53:52</td>\n",
       "      <td>39.872820</td>\n",
       "      <td>-75.234799</td>\n",
       "      <td>0.243750</td>\n",
       "      <td>260.249188</td>\n",
       "      <td>248.200521</td>\n",
       "      <td>2.323854</td>\n",
       "      <td>2.323846</td>\n",
       "      <td>-1.215479</td>\n",
       "      <td>...</td>\n",
       "      <td>1.0</td>\n",
       "      <td>0.324771</td>\n",
       "      <td>-23.142354</td>\n",
       "      <td>-0.877667</td>\n",
       "      <td>33.575000</td>\n",
       "      <td>11.824292</td>\n",
       "      <td>44.872375</td>\n",
       "      <td>37.355271</td>\n",
       "      <td>37.355271</td>\n",
       "      <td>1</td>\n",
       "    </tr>\n",
       "    <tr>\n",
       "      <th>2761</th>\n",
       "      <td>126</td>\n",
       "      <td>2022-09-19 21:53:53</td>\n",
       "      <td>39.872816</td>\n",
       "      <td>-75.234814</td>\n",
       "      <td>0.255102</td>\n",
       "      <td>260.700082</td>\n",
       "      <td>248.651551</td>\n",
       "      <td>2.799245</td>\n",
       "      <td>2.799233</td>\n",
       "      <td>-1.244388</td>\n",
       "      <td>...</td>\n",
       "      <td>1.0</td>\n",
       "      <td>0.357286</td>\n",
       "      <td>-22.971490</td>\n",
       "      <td>-1.427184</td>\n",
       "      <td>33.575000</td>\n",
       "      <td>12.283143</td>\n",
       "      <td>43.904286</td>\n",
       "      <td>35.235449</td>\n",
       "      <td>35.235449</td>\n",
       "      <td>1</td>\n",
       "    </tr>\n",
       "    <tr>\n",
       "      <th>2762</th>\n",
       "      <td>127</td>\n",
       "      <td>2022-09-19 21:53:54</td>\n",
       "      <td>39.872811</td>\n",
       "      <td>-75.234831</td>\n",
       "      <td>0.254286</td>\n",
       "      <td>261.131612</td>\n",
       "      <td>249.083061</td>\n",
       "      <td>3.203041</td>\n",
       "      <td>3.203053</td>\n",
       "      <td>-1.211551</td>\n",
       "      <td>...</td>\n",
       "      <td>1.0</td>\n",
       "      <td>0.359000</td>\n",
       "      <td>-22.986388</td>\n",
       "      <td>-1.904898</td>\n",
       "      <td>33.575000</td>\n",
       "      <td>12.019673</td>\n",
       "      <td>43.528714</td>\n",
       "      <td>34.235020</td>\n",
       "      <td>34.235020</td>\n",
       "      <td>1</td>\n",
       "    </tr>\n",
       "    <tr>\n",
       "      <th>...</th>\n",
       "      <td>...</td>\n",
       "      <td>...</td>\n",
       "      <td>...</td>\n",
       "      <td>...</td>\n",
       "      <td>...</td>\n",
       "      <td>...</td>\n",
       "      <td>...</td>\n",
       "      <td>...</td>\n",
       "      <td>...</td>\n",
       "      <td>...</td>\n",
       "      <td>...</td>\n",
       "      <td>...</td>\n",
       "      <td>...</td>\n",
       "      <td>...</td>\n",
       "      <td>...</td>\n",
       "      <td>...</td>\n",
       "      <td>...</td>\n",
       "      <td>...</td>\n",
       "      <td>...</td>\n",
       "      <td>...</td>\n",
       "      <td>...</td>\n",
       "    </tr>\n",
       "    <tr>\n",
       "      <th>8159</th>\n",
       "      <td>939</td>\n",
       "      <td>2022-10-06 14:04:41</td>\n",
       "      <td>39.451187</td>\n",
       "      <td>-74.584183</td>\n",
       "      <td>18.707556</td>\n",
       "      <td>34.649422</td>\n",
       "      <td>22.359444</td>\n",
       "      <td>44.980067</td>\n",
       "      <td>44.981227</td>\n",
       "      <td>-4.413089</td>\n",
       "      <td>...</td>\n",
       "      <td>0.0</td>\n",
       "      <td>0.647156</td>\n",
       "      <td>-14.553444</td>\n",
       "      <td>-6.894089</td>\n",
       "      <td>40.657044</td>\n",
       "      <td>-15.074778</td>\n",
       "      <td>53.440444</td>\n",
       "      <td>57.235511</td>\n",
       "      <td>57.235511</td>\n",
       "      <td>0</td>\n",
       "    </tr>\n",
       "    <tr>\n",
       "      <th>6105</th>\n",
       "      <td>972</td>\n",
       "      <td>2022-09-22 21:31:07</td>\n",
       "      <td>20.889526</td>\n",
       "      <td>-156.435471</td>\n",
       "      <td>144.318049</td>\n",
       "      <td>281.050610</td>\n",
       "      <td>290.531415</td>\n",
       "      <td>49.736659</td>\n",
       "      <td>50.180172</td>\n",
       "      <td>-4.072317</td>\n",
       "      <td>...</td>\n",
       "      <td>0.0</td>\n",
       "      <td>1.029098</td>\n",
       "      <td>-19.689780</td>\n",
       "      <td>-10.135220</td>\n",
       "      <td>47.254610</td>\n",
       "      <td>-14.135390</td>\n",
       "      <td>58.123805</td>\n",
       "      <td>66.842561</td>\n",
       "      <td>66.842561</td>\n",
       "      <td>0</td>\n",
       "    </tr>\n",
       "    <tr>\n",
       "      <th>6953</th>\n",
       "      <td>1820</td>\n",
       "      <td>2022-09-22 21:45:15</td>\n",
       "      <td>20.889808</td>\n",
       "      <td>-156.433466</td>\n",
       "      <td>14.693243</td>\n",
       "      <td>179.859324</td>\n",
       "      <td>189.340324</td>\n",
       "      <td>19.699541</td>\n",
       "      <td>19.701550</td>\n",
       "      <td>5.587649</td>\n",
       "      <td>...</td>\n",
       "      <td>0.0</td>\n",
       "      <td>-0.891189</td>\n",
       "      <td>-13.757784</td>\n",
       "      <td>-9.274324</td>\n",
       "      <td>41.215378</td>\n",
       "      <td>-12.310757</td>\n",
       "      <td>52.097568</td>\n",
       "      <td>52.185378</td>\n",
       "      <td>52.185378</td>\n",
       "      <td>0</td>\n",
       "    </tr>\n",
       "    <tr>\n",
       "      <th>1113</th>\n",
       "      <td>1113</td>\n",
       "      <td>2022-09-19 20:30:15</td>\n",
       "      <td>39.407346</td>\n",
       "      <td>-74.422005</td>\n",
       "      <td>1854.179000</td>\n",
       "      <td>268.887680</td>\n",
       "      <td>256.534560</td>\n",
       "      <td>130.260620</td>\n",
       "      <td>130.305812</td>\n",
       "      <td>-1.933200</td>\n",
       "      <td>...</td>\n",
       "      <td>0.0</td>\n",
       "      <td>1.296800</td>\n",
       "      <td>-39.770860</td>\n",
       "      <td>3.682000</td>\n",
       "      <td>45.716000</td>\n",
       "      <td>-2.128420</td>\n",
       "      <td>68.118120</td>\n",
       "      <td>83.809800</td>\n",
       "      <td>83.809800</td>\n",
       "      <td>0</td>\n",
       "    </tr>\n",
       "    <tr>\n",
       "      <th>5869</th>\n",
       "      <td>736</td>\n",
       "      <td>2022-09-22 21:27:11</td>\n",
       "      <td>20.900219</td>\n",
       "      <td>-156.426840</td>\n",
       "      <td>154.613590</td>\n",
       "      <td>191.731256</td>\n",
       "      <td>201.213564</td>\n",
       "      <td>60.619846</td>\n",
       "      <td>60.632093</td>\n",
       "      <td>2.881795</td>\n",
       "      <td>...</td>\n",
       "      <td>0.0</td>\n",
       "      <td>0.702051</td>\n",
       "      <td>-15.137410</td>\n",
       "      <td>-0.593128</td>\n",
       "      <td>34.512359</td>\n",
       "      <td>-1.960538</td>\n",
       "      <td>48.425410</td>\n",
       "      <td>44.141795</td>\n",
       "      <td>44.141795</td>\n",
       "      <td>0</td>\n",
       "    </tr>\n",
       "  </tbody>\n",
       "</table>\n",
       "<p>1744 rows × 42 columns</p>\n",
       "</div>"
      ],
      "text/plain": [
       "      index            datetime   latitude   longitude  absoluteAltitude  \\\n",
       "2758    123 2022-09-19 21:53:50  39.872826  -75.234782          0.232708   \n",
       "2759    124 2022-09-19 21:53:51  39.872824  -75.234788          0.245306   \n",
       "2760    125 2022-09-19 21:53:52  39.872820  -75.234799          0.243750   \n",
       "2761    126 2022-09-19 21:53:53  39.872816  -75.234814          0.255102   \n",
       "2762    127 2022-09-19 21:53:54  39.872811  -75.234831          0.254286   \n",
       "...     ...                 ...        ...         ...               ...   \n",
       "8159    939 2022-10-06 14:04:41  39.451187  -74.584183         18.707556   \n",
       "6105    972 2022-09-22 21:31:07  20.889526 -156.435471        144.318049   \n",
       "6953   1820 2022-09-22 21:45:15  20.889808 -156.433466         14.693243   \n",
       "1113   1113 2022-09-19 20:30:15  39.407346  -74.422005       1854.179000   \n",
       "5869    736 2022-09-22 21:27:11  20.900219 -156.426840        154.613590   \n",
       "\n",
       "      magneticHeading  trueHeading  groundSpeed  trueAirspeed     pitch  ...  \\\n",
       "2758       259.489000   247.440354     0.682083      0.684220 -1.061208  ...   \n",
       "2759       259.937388   247.888714     1.485755      1.485781 -1.190224  ...   \n",
       "2760       260.249188   248.200521     2.323854      2.323846 -1.215479  ...   \n",
       "2761       260.700082   248.651551     2.799245      2.799233 -1.244388  ...   \n",
       "2762       261.131612   249.083061     3.203041      3.203053 -1.211551  ...   \n",
       "...               ...          ...          ...           ...       ...  ...   \n",
       "8159        34.649422    22.359444    44.980067     44.981227 -4.413089  ...   \n",
       "6105       281.050610   290.531415    49.736659     50.180172 -4.072317  ...   \n",
       "6953       179.859324   189.340324    19.699541     19.701550  5.587649  ...   \n",
       "1113       268.887680   256.534560   130.260620    130.305812 -1.933200  ...   \n",
       "5869       191.731256   201.213564    60.619846     60.632093  2.881795  ...   \n",
       "\n",
       "      hasWeightOnWheels  turnRate to degPerSec  cyclicPositionPitch  \\\n",
       "2758                1.0               0.008646           -20.697396   \n",
       "2759                1.0               0.283837           -24.496102   \n",
       "2760                1.0               0.324771           -23.142354   \n",
       "2761                1.0               0.357286           -22.971490   \n",
       "2762                1.0               0.359000           -22.986388   \n",
       "...                 ...                    ...                  ...   \n",
       "8159                0.0               0.647156           -14.553444   \n",
       "6105                0.0               1.029098           -19.689780   \n",
       "6953                0.0              -0.891189           -13.757784   \n",
       "1113                0.0               1.296800           -39.770860   \n",
       "5869                0.0               0.702051           -15.137410   \n",
       "\n",
       "      cyclicPositionRoll  collectivePosition  antiTorquePedalPosition  \\\n",
       "2758           -4.869979           32.787938                11.191542   \n",
       "2759           -0.463061           33.563122                11.287429   \n",
       "2760           -0.877667           33.575000                11.824292   \n",
       "2761           -1.427184           33.575000                12.283143   \n",
       "2762           -1.904898           33.575000                12.019673   \n",
       "...                  ...                 ...                      ...   \n",
       "8159           -6.894089           40.657044               -15.074778   \n",
       "6105          -10.135220           47.254610               -14.135390   \n",
       "6953           -9.274324           41.215378               -12.310757   \n",
       "1113            3.682000           45.716000                -2.128420   \n",
       "5869           -0.593128           34.512359                -1.960538   \n",
       "\n",
       "      throttlePosition   e1Torque   e2Torque  Surface_Taxi  \n",
       "2758         42.742437  31.345979  31.345979             1  \n",
       "2759         45.236265  36.912918  36.912918             1  \n",
       "2760         44.872375  37.355271  37.355271             1  \n",
       "2761         43.904286  35.235449  35.235449             1  \n",
       "2762         43.528714  34.235020  34.235020             1  \n",
       "...                ...        ...        ...           ...  \n",
       "8159         53.440444  57.235511  57.235511             0  \n",
       "6105         58.123805  66.842561  66.842561             0  \n",
       "6953         52.097568  52.185378  52.185378             0  \n",
       "1113         68.118120  83.809800  83.809800             0  \n",
       "5869         48.425410  44.141795  44.141795             0  \n",
       "\n",
       "[1744 rows x 42 columns]"
      ]
     },
     "execution_count": 61,
     "metadata": {},
     "output_type": "execute_result"
    }
   ],
   "source": [
    "merged2"
   ]
  },
  {
   "cell_type": "code",
   "execution_count": 62,
   "metadata": {},
   "outputs": [],
   "source": [
    "# Split the data into X and y\n",
    "x2 = merged2[model_features]   \n",
    "y2 = merged2['Surface_Taxi']"
   ]
  },
  {
   "cell_type": "code",
   "execution_count": 63,
   "metadata": {},
   "outputs": [],
   "source": [
    "x2_train, x2_test, y2_train, y2_test = train_test_split(x2, y2, test_size = 0.3, random_state = 0)"
   ]
  },
  {
   "cell_type": "code",
   "execution_count": 64,
   "metadata": {},
   "outputs": [
    {
     "name": "stdout",
     "output_type": "stream",
     "text": [
      "608\n",
      "612\n",
      "0.5016393442622951\n"
     ]
    }
   ],
   "source": [
    "total = 0\n",
    "Surface_Taxi = 0\n",
    "non_Surface_Taxi = 0\n",
    "for i in y2_train:\n",
    "    if i == 1:\n",
    "        Surface_Taxi += 1\n",
    "    else:\n",
    "        non_Surface_Taxi += 1\n",
    "    total += 1\n",
    "    \n",
    "print(Surface_Taxi)\n",
    "print(non_Surface_Taxi)\n",
    "print(non_Surface_Taxi/total)"
   ]
  },
  {
   "cell_type": "code",
   "execution_count": 65,
   "metadata": {},
   "outputs": [
    {
     "name": "stdout",
     "output_type": "stream",
     "text": [
      "Accuracy of LR classifier on training set: 0.94\n",
      "Accuracy of LR classifier on test set: 0.9275\n"
     ]
    }
   ],
   "source": [
    "#LR standardizing \n",
    "scaler2 = StandardScaler()\n",
    "x2_train = scaler2.fit_transform(x2_train)\n",
    "x2_test = scaler2.transform(x2_test)\n",
    "\n",
    "\n",
    "\n",
    "LR2 = LogisticRegression()    # Bring empty logistic regression model\n",
    "LR2.fit(x2_train,y2_train)    # Train the model with training data\n",
    "print('Accuracy of LR classifier on training set: {:.2f}'\n",
    "     .format(LR2.score(x2_train, y2_train)))\n",
    "print('Accuracy of LR classifier on test set: {:.4f}'\n",
    "     .format(LR2.score(x2_test, y2_test)))"
   ]
  },
  {
   "cell_type": "code",
   "execution_count": 66,
   "metadata": {},
   "outputs": [
    {
     "name": "stdout",
     "output_type": "stream",
     "text": [
      "Surface Taxi accuracy (train) =  0.9434426229508197\n",
      "Recall =  0.9259868421052632\n",
      "Precision =  0.959114139693356\n"
     ]
    }
   ],
   "source": [
    "qsy2_pred_LR = LR2.predict(x2_train)\n",
    "\n",
    "qs2LR_accuracy = metrics.accuracy_score(qsy2_pred_LR,y2_train)\n",
    "print('Surface Taxi accuracy (train) = ', qs2LR_accuracy)\n",
    "print('Recall = ',metrics.recall_score(y2_train, qsy2_pred_LR))\n",
    "print('Precision = ',metrics.precision_score(y2_train, qsy2_pred_LR))"
   ]
  },
  {
   "cell_type": "code",
   "execution_count": 67,
   "metadata": {},
   "outputs": [
    {
     "name": "stdout",
     "output_type": "stream",
     "text": [
      "Surface Taxi accuracy (test) =  0.9274809160305344\n",
      "Recall =  0.928030303030303\n",
      "Precision =  0.928030303030303\n"
     ]
    }
   ],
   "source": [
    "y2_pred_LR = LR2.predict(x2_test)\n",
    "\n",
    "LR2_accuracy = metrics.accuracy_score(y2_pred_LR,y2_test)\n",
    "print('Surface Taxi accuracy (test) = ', LR2_accuracy)\n",
    "print('Recall = ',metrics.recall_score(y2_test, y2_pred_LR))\n",
    "print('Precision = ',metrics.precision_score(y2_test, y2_pred_LR))\n"
   ]
  },
  {
   "cell_type": "code",
   "execution_count": 68,
   "metadata": {},
   "outputs": [
    {
     "data": {
      "image/png": "[encoded data removed]",
      "text/plain": [
       "<Figure size 640x480 with 2 Axes>"
      ]
     },
     "metadata": {},
     "output_type": "display_data"
    }
   ],
   "source": [
    "cm2 = metrics.confusion_matrix(y2_test, y2_pred_LR)    # Create a confusion matrix from predicted y and original y value.\n",
    "                                                               \n",
    "ax2= plt.subplot()\n",
    "sns.heatmap(cm2, annot=True, cmap = 'Reds', fmt='.0f', ax=ax2);  \n",
    "\n",
    "# labels, title and ticks\n",
    "ax2.set_xlabel('Predicted labels');ax2.set_ylabel('True labels'); \n",
    "ax2.set_title('Confusion Matrix for Surface Taxis (Training data)')\n",
    "ax2.xaxis.set_ticklabels(['Not_Surface_Taxi', 'Surface_Taxi']); ax2.yaxis.set_ticklabels(['Not_Surface_Taxi', 'Surface_Taxi']);"
   ]
  },
  {
   "cell_type": "code",
   "execution_count": 69,
   "metadata": {},
   "outputs": [],
   "source": [
    "y2_pred_proba = LR2.predict_proba(x2_test)   # Get the probability of LR classification \n",
    "                                          \n",
    "false_positive_rate2, true_positive_rate2, thresholds2 = metrics.roc_curve(y2_test, y2_pred_proba[:,1])     \n",
    "# Orignally predict_proba returned 2 values for both classes. \n",
    "# So, we picked second one which gives the probability of class 1"
   ]
  },
  {
   "cell_type": "code",
   "execution_count": 70,
   "metadata": {},
   "outputs": [
    {
     "data": {
      "text/plain": [
       "[<matplotlib.lines.Line2D at 0x27439b3c8b0>]"
      ]
     },
     "execution_count": 70,
     "metadata": {},
     "output_type": "execute_result"
    },
    {
     "data": {
      "image/png": "[encoded data removed]",
      "text/plain": [
       "<Figure size 640x480 with 1 Axes>"
      ]
     },
     "metadata": {},
     "output_type": "display_data"
    }
   ],
   "source": [
    "# Plot ROC curve\n",
    "%matplotlib inline  \n",
    "plt.ylabel('True Positive Rate')\n",
    "plt.xlabel('False Positive Rate')\n",
    "plt.title('ROC curve for surface taxis')\n",
    "plt.plot(false_positive_rate2, true_positive_rate2)  \n"
   ]
  },
  {
   "cell_type": "code",
   "execution_count": 71,
   "metadata": {
    "scrolled": true
   },
   "outputs": [
    {
     "name": "stdout",
     "output_type": "stream",
     "text": [
      "AUC for surface taxis (LR) = 0.9754662004662005\n"
     ]
    }
   ],
   "source": [
    "# Compute AUC\n",
    "auc2 = metrics.auc(false_positive_rate2, true_positive_rate2)   # metrics also provide the auc area\n",
    "print(\"AUC for surface taxis (LR) =\", auc2)"
   ]
  },
  {
   "cell_type": "markdown",
   "metadata": {},
   "source": [
    "### Saving Model"
   ]
  },
  {
   "cell_type": "code",
   "execution_count": 72,
   "metadata": {},
   "outputs": [],
   "source": [
    "pickle.dump(LR2, open('surface_ss2.pkl', 'wb'))"
   ]
  },
  {
   "cell_type": "code",
   "execution_count": 73,
   "metadata": {},
   "outputs": [],
   "source": [
    "pickle.dump(scaler2, open('scaler2_ss.pkl','wb'))"
   ]
  },
  {
   "cell_type": "markdown",
   "metadata": {},
   "source": [
    "### Load new data for validation "
   ]
  },
  {
   "cell_type": "code",
   "execution_count": 74,
   "metadata": {},
   "outputs": [
    {
     "name": "stderr",
     "output_type": "stream",
     "text": [
      "C:\\Users\\fariy\\AppData\\Local\\Temp\\ipykernel_8572\\17026926.py:3: SettingWithCopyWarning: \n",
      "A value is trying to be set on a copy of a slice from a DataFrame.\n",
      "Try using .loc[row_indexer,col_indexer] = value instead\n",
      "\n",
      "See the caveats in the documentation: https://pandas.pydata.org/pandas-docs/stable/user_guide/indexing.html#returning-a-view-versus-a-copy\n",
      "  df_temp['datetime'] = df_temp.datetime.dt.strftime('%Y-%m-%d %H:%M:%S').astype('datetime64[ns]')\n"
     ]
    }
   ],
   "source": [
    "# reading files from 10/27 dataset\n",
    "df9 = pd.read_csv('SimData_2022.10.27_17.55.06.csv.roar.csv',\n",
    "                parse_dates = {'datetime': ['date', 'time']},\n",
    "                low_memory=False)\n",
    "df9 = df_transformation(df9)"
   ]
  },
  {
   "cell_type": "code",
   "execution_count": 75,
   "metadata": {},
   "outputs": [],
   "source": [
    "df9['Surface_Taxi'] = 0\n",
    "\n",
    "df9.loc[(df9['datetime'].between('2022-10-27 21:57:45' , '2022-10-27 21:59:45' , inclusive='both')),['Surface_Taxi']] = 1\n",
    "df9.loc[(df9['datetime'].between('2022-10-27 22:00:30' , '2022-10-27 22:04:55' , inclusive='both')),['Surface_Taxi']] = 1\n",
    "df9.loc[(df9['datetime'].between('2022-10-27 22:06:00' , '2022-10-27 22:07:59' , inclusive='both')),['Surface_Taxi']] = 1\n",
    "df9.loc[(df9['datetime'].between('2022-10-27 22:09:03' , '2022-10-27 22:11:12' , inclusive='both')),['Surface_Taxi']] = 1\n",
    "df9.loc[(df9['datetime'].between('2022-10-27 22:13:30' , '2022-10-27 22:17:58' , inclusive='both')),['Surface_Taxi']] = 1"
   ]
  },
  {
   "cell_type": "code",
   "execution_count": 76,
   "metadata": {},
   "outputs": [],
   "source": [
    "# Split the data into X and y\n",
    "X2 = df9[model_features]   \n",
    "Y2 = df9['Surface_Taxi']"
   ]
  },
  {
   "cell_type": "markdown",
   "metadata": {},
   "source": [
    "### Load pickle"
   ]
  },
  {
   "cell_type": "code",
   "execution_count": 77,
   "metadata": {},
   "outputs": [],
   "source": [
    "LR2_loaded = pickle.load(open('surface_ss2.pkl', 'rb'))\n",
    "scaler2_loaded = pickle.load(open('scaler2_ss.pkl','rb'))"
   ]
  },
  {
   "cell_type": "code",
   "execution_count": 78,
   "metadata": {},
   "outputs": [],
   "source": [
    "# LR\n",
    "\n",
    "x2_valid = scaler2_loaded.transform(X2)\n"
   ]
  },
  {
   "cell_type": "code",
   "execution_count": 79,
   "metadata": {},
   "outputs": [
    {
     "name": "stdout",
     "output_type": "stream",
     "text": [
      "Accuracy of Model:: 0.9696541990119972\n"
     ]
    }
   ],
   "source": [
    "validation2_LR = LR2_loaded.predict(x2_valid)\n",
    "print(\"Accuracy of Model::\",accuracy_score(Y2,validation2_LR))"
   ]
  },
  {
   "cell_type": "code",
   "execution_count": 80,
   "metadata": {},
   "outputs": [
    {
     "name": "stdout",
     "output_type": "stream",
     "text": [
      "Surface Taxi accuracy (validation) =  0.9696541990119972\n",
      "Recall =  0.9823399558498896\n",
      "Precision =  0.9705561613958561\n"
     ]
    }
   ],
   "source": [
    "y2_pred_LR = LR2.predict(x2_valid)\n",
    "\n",
    "LR9_accuracy = metrics.accuracy_score(y2_pred_LR,Y2)\n",
    "print('Surface Taxi accuracy (validation) = ', LR9_accuracy)\n",
    "print('Recall = ',metrics.recall_score(Y2, y2_pred_LR))\n",
    "print('Precision = ',metrics.precision_score(Y2, y2_pred_LR))"
   ]
  },
  {
   "cell_type": "code",
   "execution_count": 81,
   "metadata": {},
   "outputs": [
    {
     "data": {
      "image/png": "[encoded data removed]",
      "text/plain": [
       "<Figure size 640x480 with 2 Axes>"
      ]
     },
     "metadata": {},
     "output_type": "display_data"
    }
   ],
   "source": [
    "CM2 = metrics.confusion_matrix(Y2, y2_pred_LR)    # Create a confusion matrix from predicted y and original y value.\n",
    "            \n",
    "AX2= plt.subplot()\n",
    "sns.heatmap(CM2, annot=True, cmap = 'Reds', fmt='.0f', ax=AX2); \n",
    "\n",
    "# labels, title and ticks\n",
    "AX2.set_xlabel('Predicted labels');AX2.set_ylabel('True labels'); \n",
    "AX2.set_title('Confusion Matrix for Surface Taxi (Validation data)')\n",
    "AX2.xaxis.set_ticklabels(['Not_Surface_Taxi', 'Surface_Taxi']); AX2.yaxis.set_ticklabels(['Not_Surface_Taxi', 'Surface_Taxi']);"
   ]
  },
  {
   "cell_type": "markdown",
   "metadata": {},
   "source": [
    "# HOVER TAXIS USING 70% DATA FROM 9/19, 9/20, 9/22, 10/6 TO TRAIN AND 10/20 TO VALIDATE"
   ]
  },
  {
   "cell_type": "code",
   "execution_count": 82,
   "metadata": {},
   "outputs": [],
   "source": [
    "# Dataframe labeling for Hover Taxis\n",
    "df_h = pd.concat([df1, df2, df3, df4, df5, df6, df7]).reset_index()\n",
    "df_h['hover'] = 0\n",
    "\n",
    "df_h.loc[(df_h['datetime'].between('2022-09-19 21:57:07' , '2022-09-19 21:59:20' , inclusive='both')),['hover']] = 1\n",
    "df_h.loc[(df_h['datetime'].between('2022-09-19 22:08:15' , '2022-09-19 22:10:24' , inclusive='both')),['hover']] = 1\n",
    "df_h.loc[(df_h['datetime'].between('2022-09-20 20:28:44' , '2022-09-20 20:30:06' , inclusive='both')),['hover']] = 1\n",
    "df_h.loc[(df_h['datetime'].between('2022-09-20 20:30:31' , '2022-09-20 20:32:16' , inclusive='both')),['hover']] = 1\n",
    "df_h.loc[(df_h['datetime'].between('2022-09-20 20:32:39' , '2022-09-20 20:34:06' , inclusive='both')),['hover']] = 1\n",
    "df_h.loc[(df_h['datetime'].between('2022-09-20 20:34:50' , '2022-09-20 20:36:51' , inclusive='both')),['hover']] = 1\n",
    "df_h.loc[(df_h['datetime'].between('2022-09-22 21:20:41' , '2022-09-22 21:23:56' , inclusive='both')),['hover']] = 1\n",
    "df_h.loc[(df_h['datetime'].between('2022-09-22 21:28:35' , '2022-09-22 21:29:46' , inclusive='both')),['hover']] = 1\n",
    "df_h.loc[(df_h['datetime'].between('2022-09-22 21:44:09' , '2022-09-22 21:45:31' , inclusive='both')),['hover']] = 1\n",
    "df_h.loc[(df_h['datetime'].between('2022-10-06 13:56:43' , '2022-10-06 14:00:40' , inclusive='both')),['hover']] = 1\n"
   ]
  },
  {
   "cell_type": "code",
   "execution_count": 83,
   "metadata": {},
   "outputs": [
    {
     "data": {
      "text/plain": [
       "0    7235\n",
       "1    1252\n",
       "Name: hover, dtype: int64"
      ]
     },
     "execution_count": 83,
     "metadata": {},
     "output_type": "execute_result"
    }
   ],
   "source": [
    "df_h['hover'].value_counts()"
   ]
  },
  {
   "cell_type": "code",
   "execution_count": 84,
   "metadata": {},
   "outputs": [],
   "source": [
    "X3 = df_h[model_features]\n",
    "y3 = df_h['hover']"
   ]
  },
  {
   "cell_type": "code",
   "execution_count": 85,
   "metadata": {},
   "outputs": [],
   "source": [
    "x3_train, x3_test, y3_train, y3_test = train_test_split(X3, y3, test_size = 0.3, random_state = 100)"
   ]
  },
  {
   "cell_type": "code",
   "execution_count": 86,
   "metadata": {},
   "outputs": [
    {
     "name": "stdout",
     "output_type": "stream",
     "text": [
      "Accuracy of LR classifier on training set: 0.90\n",
      "Accuracy of LR classifier on test set: 0.8869\n"
     ]
    }
   ],
   "source": [
    "#LR standard \n",
    "scaler3 = StandardScaler()\n",
    "x3_train = scaler3.fit_transform(x3_train)\n",
    "x3_test = scaler3.transform(x3_test)\n",
    "\n",
    "LR3 = LogisticRegression()    # Bring empty logistic regression model\n",
    "LR3.fit(x3_train,y3_train)      # Train the model with training data\n",
    "print('Accuracy of LR classifier on training set: {:.2f}'\n",
    "     .format(LR3.score(x3_train, y3_train)))\n",
    "print('Accuracy of LR classifier on test set: {:.4f}'\n",
    "     .format(LR3.score(x3_test, y3_test)))"
   ]
  },
  {
   "cell_type": "code",
   "execution_count": 87,
   "metadata": {},
   "outputs": [],
   "source": [
    "y3_pred_LR = LR3.predict(x3_test)    # Get predicted y from the logistic regression model"
   ]
  },
  {
   "cell_type": "code",
   "execution_count": 88,
   "metadata": {},
   "outputs": [
    {
     "name": "stdout",
     "output_type": "stream",
     "text": [
      "Classification accuracy =  0.8869257950530035\n",
      "Recall =  0.45569620253164556\n",
      "Precision =  0.7114624505928854\n"
     ]
    }
   ],
   "source": [
    "# Get the classification accuracy, Recall, and Precision with the metrics function.\n",
    "LR3_accuracy = metrics.accuracy_score(y3_pred_LR,y3_test)\n",
    "print('Classification accuracy = ',LR3_accuracy)\n",
    "print('Recall = ',metrics.recall_score(y3_test, y3_pred_LR))\n",
    "print('Precision = ',metrics.precision_score(y3_test, y3_pred_LR))"
   ]
  },
  {
   "cell_type": "code",
   "execution_count": 89,
   "metadata": {},
   "outputs": [],
   "source": [
    "# Check the train data\n",
    "\n",
    "total = 0\n",
    "h = 0\n",
    "non_h = 0\n",
    "for i in y3_train:\n",
    "    if i == 1:\n",
    "        h += 1\n",
    "    else:\n",
    "        non_h += 1\n",
    "    total += 1"
   ]
  },
  {
   "cell_type": "code",
   "execution_count": 90,
   "metadata": {},
   "outputs": [
    {
     "name": "stdout",
     "output_type": "stream",
     "text": [
      "857\n",
      "5083\n",
      "0.86\n"
     ]
    }
   ],
   "source": [
    "print(h)\n",
    "print(non_h)\n",
    "print(round(non_h/total,2))"
   ]
  },
  {
   "cell_type": "markdown",
   "metadata": {},
   "source": [
    "Create a balanced dataset & train Logistic regression"
   ]
  },
  {
   "cell_type": "code",
   "execution_count": 91,
   "metadata": {},
   "outputs": [],
   "source": [
    "df_h_train = df_h[df_h['hover']==1]           # The original rows that have label 1\n",
    "non_df_h_train = df_h[df_h['hover']==0]       # The original rows that have label 0"
   ]
  },
  {
   "cell_type": "code",
   "execution_count": 92,
   "metadata": {},
   "outputs": [
    {
     "name": "stdout",
     "output_type": "stream",
     "text": [
      "1252\n",
      "7235\n"
     ]
    }
   ],
   "source": [
    "print(len(df_h_train))\n",
    "print(len(non_df_h_train))"
   ]
  },
  {
   "cell_type": "code",
   "execution_count": 93,
   "metadata": {},
   "outputs": [],
   "source": [
    "sampled_non_df_h = non_df_h_train.sample(n = 1252)    # Sample 1252 data points from the hover taxi data"
   ]
  },
  {
   "cell_type": "code",
   "execution_count": 94,
   "metadata": {},
   "outputs": [
    {
     "name": "stdout",
     "output_type": "stream",
     "text": [
      "1252\n",
      "1252\n"
     ]
    }
   ],
   "source": [
    "print(len(df_h_train))\n",
    "print(len(sampled_non_df_h))"
   ]
  },
  {
   "cell_type": "code",
   "execution_count": 95,
   "metadata": {},
   "outputs": [],
   "source": [
    "merged3 = pd.concat([df_h_train, sampled_non_df_h])     # After balancing, concatenating  both classes into 1 dataframe"
   ]
  },
  {
   "cell_type": "code",
   "execution_count": 96,
   "metadata": {},
   "outputs": [
    {
     "name": "stdout",
     "output_type": "stream",
     "text": [
      "2504\n"
     ]
    }
   ],
   "source": [
    "print(len(merged3))"
   ]
  },
  {
   "cell_type": "code",
   "execution_count": 97,
   "metadata": {},
   "outputs": [
    {
     "data": {
      "text/html": [
       "<div>\n",
       "<style scoped>\n",
       "    .dataframe tbody tr th:only-of-type {\n",
       "        vertical-align: middle;\n",
       "    }\n",
       "\n",
       "    .dataframe tbody tr th {\n",
       "        vertical-align: top;\n",
       "    }\n",
       "\n",
       "    .dataframe thead th {\n",
       "        text-align: right;\n",
       "    }\n",
       "</style>\n",
       "<table border=\"1\" class=\"dataframe\">\n",
       "  <thead>\n",
       "    <tr style=\"text-align: right;\">\n",
       "      <th></th>\n",
       "      <th>index</th>\n",
       "      <th>datetime</th>\n",
       "      <th>latitude</th>\n",
       "      <th>longitude</th>\n",
       "      <th>absoluteAltitude</th>\n",
       "      <th>magneticHeading</th>\n",
       "      <th>trueHeading</th>\n",
       "      <th>groundSpeed</th>\n",
       "      <th>trueAirspeed</th>\n",
       "      <th>pitch</th>\n",
       "      <th>...</th>\n",
       "      <th>hasWeightOnWheels</th>\n",
       "      <th>turnRate to degPerSec</th>\n",
       "      <th>cyclicPositionPitch</th>\n",
       "      <th>cyclicPositionRoll</th>\n",
       "      <th>collectivePosition</th>\n",
       "      <th>antiTorquePedalPosition</th>\n",
       "      <th>throttlePosition</th>\n",
       "      <th>e1Torque</th>\n",
       "      <th>e2Torque</th>\n",
       "      <th>hover</th>\n",
       "    </tr>\n",
       "  </thead>\n",
       "  <tbody>\n",
       "    <tr>\n",
       "      <th>2955</th>\n",
       "      <td>320</td>\n",
       "      <td>2022-09-19 21:57:07</td>\n",
       "      <td>39.872003</td>\n",
       "      <td>-75.244645</td>\n",
       "      <td>3.048627</td>\n",
       "      <td>254.362216</td>\n",
       "      <td>242.319608</td>\n",
       "      <td>5.605137</td>\n",
       "      <td>5.609278</td>\n",
       "      <td>3.657137</td>\n",
       "      <td>...</td>\n",
       "      <td>0.0</td>\n",
       "      <td>-0.442196</td>\n",
       "      <td>-4.921765</td>\n",
       "      <td>-1.968549</td>\n",
       "      <td>42.530020</td>\n",
       "      <td>-7.193882</td>\n",
       "      <td>52.264863</td>\n",
       "      <td>52.443392</td>\n",
       "      <td>52.443392</td>\n",
       "      <td>1</td>\n",
       "    </tr>\n",
       "    <tr>\n",
       "      <th>2956</th>\n",
       "      <td>321</td>\n",
       "      <td>2022-09-19 21:57:08</td>\n",
       "      <td>39.871999</td>\n",
       "      <td>-75.244679</td>\n",
       "      <td>3.037708</td>\n",
       "      <td>254.180958</td>\n",
       "      <td>242.138375</td>\n",
       "      <td>5.810917</td>\n",
       "      <td>5.811935</td>\n",
       "      <td>4.162687</td>\n",
       "      <td>...</td>\n",
       "      <td>0.0</td>\n",
       "      <td>-0.323062</td>\n",
       "      <td>-6.295167</td>\n",
       "      <td>-1.465167</td>\n",
       "      <td>42.635708</td>\n",
       "      <td>-3.533979</td>\n",
       "      <td>52.550687</td>\n",
       "      <td>53.252729</td>\n",
       "      <td>53.252729</td>\n",
       "      <td>1</td>\n",
       "    </tr>\n",
       "    <tr>\n",
       "      <th>2957</th>\n",
       "      <td>322</td>\n",
       "      <td>2022-09-19 21:57:09</td>\n",
       "      <td>39.871991</td>\n",
       "      <td>-75.244714</td>\n",
       "      <td>3.308431</td>\n",
       "      <td>254.661020</td>\n",
       "      <td>242.618333</td>\n",
       "      <td>6.050529</td>\n",
       "      <td>6.053990</td>\n",
       "      <td>4.328373</td>\n",
       "      <td>...</td>\n",
       "      <td>0.0</td>\n",
       "      <td>0.065843</td>\n",
       "      <td>-6.191294</td>\n",
       "      <td>-0.783667</td>\n",
       "      <td>42.660000</td>\n",
       "      <td>-2.734980</td>\n",
       "      <td>52.451216</td>\n",
       "      <td>53.174941</td>\n",
       "      <td>53.174941</td>\n",
       "      <td>1</td>\n",
       "    </tr>\n",
       "    <tr>\n",
       "      <th>2958</th>\n",
       "      <td>323</td>\n",
       "      <td>2022-09-19 21:57:10</td>\n",
       "      <td>39.871981</td>\n",
       "      <td>-75.244749</td>\n",
       "      <td>3.645294</td>\n",
       "      <td>255.137765</td>\n",
       "      <td>243.095275</td>\n",
       "      <td>6.369373</td>\n",
       "      <td>6.372433</td>\n",
       "      <td>4.275510</td>\n",
       "      <td>...</td>\n",
       "      <td>0.0</td>\n",
       "      <td>0.341706</td>\n",
       "      <td>-6.662549</td>\n",
       "      <td>1.319098</td>\n",
       "      <td>42.664294</td>\n",
       "      <td>-1.857176</td>\n",
       "      <td>52.303235</td>\n",
       "      <td>52.797627</td>\n",
       "      <td>52.797627</td>\n",
       "      <td>1</td>\n",
       "    </tr>\n",
       "    <tr>\n",
       "      <th>2959</th>\n",
       "      <td>324</td>\n",
       "      <td>2022-09-19 21:57:11</td>\n",
       "      <td>39.871969</td>\n",
       "      <td>-75.244787</td>\n",
       "      <td>3.964400</td>\n",
       "      <td>256.115300</td>\n",
       "      <td>244.072780</td>\n",
       "      <td>6.803520</td>\n",
       "      <td>6.806314</td>\n",
       "      <td>4.166440</td>\n",
       "      <td>...</td>\n",
       "      <td>0.0</td>\n",
       "      <td>1.034800</td>\n",
       "      <td>-6.927800</td>\n",
       "      <td>1.604640</td>\n",
       "      <td>42.654960</td>\n",
       "      <td>-0.870780</td>\n",
       "      <td>52.173660</td>\n",
       "      <td>52.451680</td>\n",
       "      <td>52.451680</td>\n",
       "      <td>1</td>\n",
       "    </tr>\n",
       "    <tr>\n",
       "      <th>...</th>\n",
       "      <td>...</td>\n",
       "      <td>...</td>\n",
       "      <td>...</td>\n",
       "      <td>...</td>\n",
       "      <td>...</td>\n",
       "      <td>...</td>\n",
       "      <td>...</td>\n",
       "      <td>...</td>\n",
       "      <td>...</td>\n",
       "      <td>...</td>\n",
       "      <td>...</td>\n",
       "      <td>...</td>\n",
       "      <td>...</td>\n",
       "      <td>...</td>\n",
       "      <td>...</td>\n",
       "      <td>...</td>\n",
       "      <td>...</td>\n",
       "      <td>...</td>\n",
       "      <td>...</td>\n",
       "      <td>...</td>\n",
       "      <td>...</td>\n",
       "    </tr>\n",
       "    <tr>\n",
       "      <th>3437</th>\n",
       "      <td>802</td>\n",
       "      <td>2022-09-19 22:05:09</td>\n",
       "      <td>39.864644</td>\n",
       "      <td>-75.255772</td>\n",
       "      <td>0.882791</td>\n",
       "      <td>61.214767</td>\n",
       "      <td>49.180047</td>\n",
       "      <td>10.016372</td>\n",
       "      <td>10.016397</td>\n",
       "      <td>-1.459674</td>\n",
       "      <td>...</td>\n",
       "      <td>0.0</td>\n",
       "      <td>3.000000</td>\n",
       "      <td>2.245047</td>\n",
       "      <td>-0.371907</td>\n",
       "      <td>36.697860</td>\n",
       "      <td>12.539791</td>\n",
       "      <td>46.546233</td>\n",
       "      <td>40.240605</td>\n",
       "      <td>40.240605</td>\n",
       "      <td>0</td>\n",
       "    </tr>\n",
       "    <tr>\n",
       "      <th>3125</th>\n",
       "      <td>490</td>\n",
       "      <td>2022-09-19 21:59:57</td>\n",
       "      <td>39.869750</td>\n",
       "      <td>-75.256070</td>\n",
       "      <td>0.060000</td>\n",
       "      <td>259.960000</td>\n",
       "      <td>247.925000</td>\n",
       "      <td>0.000000</td>\n",
       "      <td>0.000000</td>\n",
       "      <td>-0.004784</td>\n",
       "      <td>...</td>\n",
       "      <td>1.0</td>\n",
       "      <td>-0.001000</td>\n",
       "      <td>12.845667</td>\n",
       "      <td>7.716824</td>\n",
       "      <td>4.049000</td>\n",
       "      <td>-3.374000</td>\n",
       "      <td>43.881510</td>\n",
       "      <td>34.930059</td>\n",
       "      <td>34.930059</td>\n",
       "      <td>0</td>\n",
       "    </tr>\n",
       "    <tr>\n",
       "      <th>4141</th>\n",
       "      <td>189</td>\n",
       "      <td>2022-09-20 20:25:16</td>\n",
       "      <td>39.450932</td>\n",
       "      <td>-74.567194</td>\n",
       "      <td>17.120526</td>\n",
       "      <td>117.231289</td>\n",
       "      <td>104.933895</td>\n",
       "      <td>28.562711</td>\n",
       "      <td>28.724700</td>\n",
       "      <td>7.442211</td>\n",
       "      <td>...</td>\n",
       "      <td>0.0</td>\n",
       "      <td>0.473763</td>\n",
       "      <td>-9.686737</td>\n",
       "      <td>-12.696368</td>\n",
       "      <td>35.067974</td>\n",
       "      <td>-3.308553</td>\n",
       "      <td>48.568579</td>\n",
       "      <td>44.789842</td>\n",
       "      <td>44.789842</td>\n",
       "      <td>0</td>\n",
       "    </tr>\n",
       "    <tr>\n",
       "      <th>5896</th>\n",
       "      <td>763</td>\n",
       "      <td>2022-09-22 21:27:38</td>\n",
       "      <td>20.893964</td>\n",
       "      <td>-156.431365</td>\n",
       "      <td>151.804062</td>\n",
       "      <td>185.972687</td>\n",
       "      <td>195.454250</td>\n",
       "      <td>53.976094</td>\n",
       "      <td>54.025135</td>\n",
       "      <td>4.004750</td>\n",
       "      <td>...</td>\n",
       "      <td>0.0</td>\n",
       "      <td>-1.024438</td>\n",
       "      <td>-11.396500</td>\n",
       "      <td>-1.275312</td>\n",
       "      <td>31.362188</td>\n",
       "      <td>-11.479781</td>\n",
       "      <td>43.705687</td>\n",
       "      <td>33.701500</td>\n",
       "      <td>33.701500</td>\n",
       "      <td>0</td>\n",
       "    </tr>\n",
       "    <tr>\n",
       "      <th>5211</th>\n",
       "      <td>78</td>\n",
       "      <td>2022-09-22 21:16:13</td>\n",
       "      <td>20.889354</td>\n",
       "      <td>-156.436189</td>\n",
       "      <td>0.040000</td>\n",
       "      <td>23.758000</td>\n",
       "      <td>33.238364</td>\n",
       "      <td>0.000788</td>\n",
       "      <td>0.000718</td>\n",
       "      <td>-0.324545</td>\n",
       "      <td>...</td>\n",
       "      <td>1.0</td>\n",
       "      <td>-0.007424</td>\n",
       "      <td>-0.463242</td>\n",
       "      <td>-2.748758</td>\n",
       "      <td>3.596000</td>\n",
       "      <td>-16.399000</td>\n",
       "      <td>45.216636</td>\n",
       "      <td>37.466424</td>\n",
       "      <td>37.466424</td>\n",
       "      <td>0</td>\n",
       "    </tr>\n",
       "  </tbody>\n",
       "</table>\n",
       "<p>2504 rows × 42 columns</p>\n",
       "</div>"
      ],
      "text/plain": [
       "      index            datetime   latitude   longitude  absoluteAltitude  \\\n",
       "2955    320 2022-09-19 21:57:07  39.872003  -75.244645          3.048627   \n",
       "2956    321 2022-09-19 21:57:08  39.871999  -75.244679          3.037708   \n",
       "2957    322 2022-09-19 21:57:09  39.871991  -75.244714          3.308431   \n",
       "2958    323 2022-09-19 21:57:10  39.871981  -75.244749          3.645294   \n",
       "2959    324 2022-09-19 21:57:11  39.871969  -75.244787          3.964400   \n",
       "...     ...                 ...        ...         ...               ...   \n",
       "3437    802 2022-09-19 22:05:09  39.864644  -75.255772          0.882791   \n",
       "3125    490 2022-09-19 21:59:57  39.869750  -75.256070          0.060000   \n",
       "4141    189 2022-09-20 20:25:16  39.450932  -74.567194         17.120526   \n",
       "5896    763 2022-09-22 21:27:38  20.893964 -156.431365        151.804062   \n",
       "5211     78 2022-09-22 21:16:13  20.889354 -156.436189          0.040000   \n",
       "\n",
       "      magneticHeading  trueHeading  groundSpeed  trueAirspeed     pitch  ...  \\\n",
       "2955       254.362216   242.319608     5.605137      5.609278  3.657137  ...   \n",
       "2956       254.180958   242.138375     5.810917      5.811935  4.162687  ...   \n",
       "2957       254.661020   242.618333     6.050529      6.053990  4.328373  ...   \n",
       "2958       255.137765   243.095275     6.369373      6.372433  4.275510  ...   \n",
       "2959       256.115300   244.072780     6.803520      6.806314  4.166440  ...   \n",
       "...               ...          ...          ...           ...       ...  ...   \n",
       "3437        61.214767    49.180047    10.016372     10.016397 -1.459674  ...   \n",
       "3125       259.960000   247.925000     0.000000      0.000000 -0.004784  ...   \n",
       "4141       117.231289   104.933895    28.562711     28.724700  7.442211  ...   \n",
       "5896       185.972687   195.454250    53.976094     54.025135  4.004750  ...   \n",
       "5211        23.758000    33.238364     0.000788      0.000718 -0.324545  ...   \n",
       "\n",
       "      hasWeightOnWheels  turnRate to degPerSec  cyclicPositionPitch  \\\n",
       "2955                0.0              -0.442196            -4.921765   \n",
       "2956                0.0              -0.323062            -6.295167   \n",
       "2957                0.0               0.065843            -6.191294   \n",
       "2958                0.0               0.341706            -6.662549   \n",
       "2959                0.0               1.034800            -6.927800   \n",
       "...                 ...                    ...                  ...   \n",
       "3437                0.0               3.000000             2.245047   \n",
       "3125                1.0              -0.001000            12.845667   \n",
       "4141                0.0               0.473763            -9.686737   \n",
       "5896                0.0              -1.024438           -11.396500   \n",
       "5211                1.0              -0.007424            -0.463242   \n",
       "\n",
       "      cyclicPositionRoll  collectivePosition  antiTorquePedalPosition  \\\n",
       "2955           -1.968549           42.530020                -7.193882   \n",
       "2956           -1.465167           42.635708                -3.533979   \n",
       "2957           -0.783667           42.660000                -2.734980   \n",
       "2958            1.319098           42.664294                -1.857176   \n",
       "2959            1.604640           42.654960                -0.870780   \n",
       "...                  ...                 ...                      ...   \n",
       "3437           -0.371907           36.697860                12.539791   \n",
       "3125            7.716824            4.049000                -3.374000   \n",
       "4141          -12.696368           35.067974                -3.308553   \n",
       "5896           -1.275312           31.362188               -11.479781   \n",
       "5211           -2.748758            3.596000               -16.399000   \n",
       "\n",
       "      throttlePosition   e1Torque   e2Torque  hover  \n",
       "2955         52.264863  52.443392  52.443392      1  \n",
       "2956         52.550687  53.252729  53.252729      1  \n",
       "2957         52.451216  53.174941  53.174941      1  \n",
       "2958         52.303235  52.797627  52.797627      1  \n",
       "2959         52.173660  52.451680  52.451680      1  \n",
       "...                ...        ...        ...    ...  \n",
       "3437         46.546233  40.240605  40.240605      0  \n",
       "3125         43.881510  34.930059  34.930059      0  \n",
       "4141         48.568579  44.789842  44.789842      0  \n",
       "5896         43.705687  33.701500  33.701500      0  \n",
       "5211         45.216636  37.466424  37.466424      0  \n",
       "\n",
       "[2504 rows x 42 columns]"
      ]
     },
     "execution_count": 97,
     "metadata": {},
     "output_type": "execute_result"
    }
   ],
   "source": [
    "merged3"
   ]
  },
  {
   "cell_type": "code",
   "execution_count": 98,
   "metadata": {},
   "outputs": [],
   "source": [
    "# Split the data into X and y\n",
    "x3 = merged3[model_features]   \n",
    "y3 = merged3['hover']"
   ]
  },
  {
   "cell_type": "code",
   "execution_count": 99,
   "metadata": {},
   "outputs": [],
   "source": [
    "x3_train, x3_test, y3_train, y3_test = train_test_split(x3, y3, test_size = 0.3, random_state = 0)"
   ]
  },
  {
   "cell_type": "code",
   "execution_count": 100,
   "metadata": {},
   "outputs": [
    {
     "name": "stdout",
     "output_type": "stream",
     "text": [
      "880\n",
      "872\n",
      "0.4977168949771689\n"
     ]
    }
   ],
   "source": [
    "total = 0\n",
    "h = 0\n",
    "non_h = 0\n",
    "for i in y3_train:\n",
    "    if i == 1:\n",
    "        h += 1\n",
    "    else:\n",
    "        non_h += 1\n",
    "    total += 1\n",
    "    \n",
    "print(h)\n",
    "print(non_h)\n",
    "print(non_h/total)"
   ]
  },
  {
   "cell_type": "code",
   "execution_count": 101,
   "metadata": {},
   "outputs": [
    {
     "name": "stdout",
     "output_type": "stream",
     "text": [
      "Accuracy of LR classifier on training set: 0.85\n",
      "Accuracy of LR classifier on test set: 0.8497\n"
     ]
    }
   ],
   "source": [
    "#LR standardizing \n",
    "scaler3 = StandardScaler()\n",
    "x3_train = scaler3.fit_transform(x3_train)\n",
    "x3_test = scaler3.transform(x3_test)\n",
    "\n",
    "\n",
    "\n",
    "LR3 = LogisticRegression()    # Bring empty logistic regression model\n",
    "LR3.fit(x3_train,y3_train)                  # Train the model with all data\n",
    "print('Accuracy of LR classifier on training set: {:.2f}'\n",
    "     .format(LR3.score(x3_train, y3_train)))\n",
    "print('Accuracy of LR classifier on test set: {:.4f}'\n",
    "     .format(LR3.score(x3_test, y3_test)))\n"
   ]
  },
  {
   "cell_type": "code",
   "execution_count": 102,
   "metadata": {},
   "outputs": [
    {
     "name": "stdout",
     "output_type": "stream",
     "text": [
      "Hover Taxi Accuracy (train) =  0.8476027397260274\n",
      "Recall =  0.9306818181818182\n",
      "Precision =  0.7990243902439025\n"
     ]
    }
   ],
   "source": [
    "sty3_pred_LR = LR3.predict(x3_train)\n",
    "\n",
    "stLR3_accuracy = metrics.accuracy_score(sty3_pred_LR,y3_train)\n",
    "print('Hover Taxi Accuracy (train) = ',stLR3_accuracy)\n",
    "print('Recall = ',metrics.recall_score(y3_train, sty3_pred_LR))\n",
    "print('Precision = ',metrics.precision_score(y3_train, sty3_pred_LR))"
   ]
  },
  {
   "cell_type": "code",
   "execution_count": 103,
   "metadata": {},
   "outputs": [
    {
     "name": "stdout",
     "output_type": "stream",
     "text": [
      "Hover Taxi Accuracy (test) =  0.8497340425531915\n",
      "Recall =  0.9408602150537635\n",
      "Precision =  0.7936507936507936\n"
     ]
    }
   ],
   "source": [
    "y3_pred_LR = LR3.predict(x3_test)\n",
    "\n",
    "LR3_accuracy = metrics.accuracy_score(y3_pred_LR,y3_test)\n",
    "print('Hover Taxi Accuracy (test) = ',LR3_accuracy)\n",
    "print('Recall = ',metrics.recall_score(y3_test, y3_pred_LR))\n",
    "print('Precision = ',metrics.precision_score(y3_test, y3_pred_LR))"
   ]
  },
  {
   "cell_type": "code",
   "execution_count": 104,
   "metadata": {},
   "outputs": [
    {
     "data": {
      "image/png": "[encoded data removed]",
      "text/plain": [
       "<Figure size 640x480 with 2 Axes>"
      ]
     },
     "metadata": {},
     "output_type": "display_data"
    }
   ],
   "source": [
    "cm3 = metrics.confusion_matrix(y3_test, y3_pred_LR)    # Create a confusion matrix from predicted y and original y value.\n",
    "                                                    \n",
    "ax3= plt.subplot()\n",
    "sns.heatmap(cm3, annot=True, cmap = 'Reds', fmt='.0f', ax=ax3);  \n",
    "# labels, title and ticks\n",
    "ax3.set_xlabel('Predicted labels');ax3.set_ylabel('True labels'); \n",
    "ax3.set_title('Confusion Matrix for Hover Taxis (Training data)')\n",
    "ax3.xaxis.set_ticklabels(['Not_Hover_Taxi', 'Hover_Taxi']); ax3.yaxis.set_ticklabels(['Not_Hover_Taxi', 'Hover_Taxi']);"
   ]
  },
  {
   "cell_type": "code",
   "execution_count": 105,
   "metadata": {},
   "outputs": [],
   "source": [
    "y3_pred_proba = LR3.predict_proba(x3_test)   # Get the probability of LR classification (replace with other classifier results as needed)\n",
    "                                          \n",
    "false_positive_rate3, true_positive_rate3, thresholds3 = metrics.roc_curve(y3_test, y3_pred_proba[:,1])     \n",
    "# Orignally predict_proba returned 2 values for both classes. \n",
    "# So, we picked second one which gives the probability of class 1"
   ]
  },
  {
   "cell_type": "code",
   "execution_count": 106,
   "metadata": {},
   "outputs": [
    {
     "data": {
      "text/plain": [
       "[<matplotlib.lines.Line2D at 0x27439c71940>]"
      ]
     },
     "execution_count": 106,
     "metadata": {},
     "output_type": "execute_result"
    },
    {
     "data": {
      "image/png": "[encoded data removed]",
      "text/plain": [
       "<Figure size 640x480 with 1 Axes>"
      ]
     },
     "metadata": {},
     "output_type": "display_data"
    }
   ],
   "source": [
    "# Plot ROC curve \n",
    "%matplotlib inline  \n",
    "plt.ylabel('True Positive Rate')\n",
    "plt.xlabel('False Positive Rate')\n",
    "plt.title('ROC curve for hover taxis')\n",
    "plt.plot(false_positive_rate3, true_positive_rate3)  \n"
   ]
  },
  {
   "cell_type": "code",
   "execution_count": 107,
   "metadata": {
    "scrolled": true
   },
   "outputs": [
    {
     "name": "stdout",
     "output_type": "stream",
     "text": [
      "AUC curve for hover taxis (LR) = 0.9174872665534806\n"
     ]
    }
   ],
   "source": [
    "# Compute AUC\n",
    "auc3 = metrics.auc(false_positive_rate3, true_positive_rate3)   # metrics also provide the auc area\n",
    "print(\"AUC curve for hover taxis (LR) =\", auc3)"
   ]
  },
  {
   "cell_type": "markdown",
   "metadata": {},
   "source": [
    "### Saving Model"
   ]
  },
  {
   "cell_type": "code",
   "execution_count": 108,
   "metadata": {},
   "outputs": [],
   "source": [
    "pickle.dump(LR3, open('hover_ss2.pkl', 'wb'))"
   ]
  },
  {
   "cell_type": "code",
   "execution_count": 109,
   "metadata": {},
   "outputs": [],
   "source": [
    "pickle.dump(scaler3, open('scaler3_ss.pkl','wb'))"
   ]
  },
  {
   "cell_type": "markdown",
   "metadata": {},
   "source": [
    "### Load new data for validation"
   ]
  },
  {
   "cell_type": "code",
   "execution_count": 110,
   "metadata": {},
   "outputs": [
    {
     "name": "stderr",
     "output_type": "stream",
     "text": [
      "C:\\Users\\fariy\\AppData\\Local\\Temp\\ipykernel_8572\\17026926.py:3: SettingWithCopyWarning: \n",
      "A value is trying to be set on a copy of a slice from a DataFrame.\n",
      "Try using .loc[row_indexer,col_indexer] = value instead\n",
      "\n",
      "See the caveats in the documentation: https://pandas.pydata.org/pandas-docs/stable/user_guide/indexing.html#returning-a-view-versus-a-copy\n",
      "  df_temp['datetime'] = df_temp.datetime.dt.strftime('%Y-%m-%d %H:%M:%S').astype('datetime64[ns]')\n"
     ]
    }
   ],
   "source": [
    "# reading files from 10/20 dataset\n",
    "dfhover = pd.read_csv('SimData_2022.10.20_17.19.15.csv.roar.csv',\n",
    "                parse_dates = {'datetime': ['date', 'time']},\n",
    "                low_memory=False)\n",
    "dfhover = df_transformation(dfhover)"
   ]
  },
  {
   "cell_type": "code",
   "execution_count": 111,
   "metadata": {},
   "outputs": [],
   "source": [
    "dfhover['hover'] = 0\n",
    "\n",
    "dfhover.loc[(dfhover['datetime'].between('2022-10-20 21:42:00' , '2022-10-20 21:46:30' , inclusive='both')),['hover']] = 1\n",
    "dfhover.loc[(dfhover['datetime'].between('2022-10-20 21:50:00' , '2022-10-20 21:52:05' , inclusive='both')),['hover']] = 1\n",
    "dfhover.loc[(dfhover['datetime'].between('2022-10-20 21:54:00' , '2022-10-20 21:56:45' , inclusive='both')),['hover']] = 1\n",
    "dfhover.loc[(dfhover['datetime'].between('2022-10-20 21:58:00' , '2022-10-20 22:00:08' , inclusive='both')),['hover']] = 1\n"
   ]
  },
  {
   "cell_type": "code",
   "execution_count": 112,
   "metadata": {},
   "outputs": [],
   "source": [
    "# Split the data into X and y\n",
    "X3 = dfhover[model_features]   \n",
    "Y3 = dfhover['hover']"
   ]
  },
  {
   "cell_type": "markdown",
   "metadata": {},
   "source": [
    "### Load pickle"
   ]
  },
  {
   "cell_type": "code",
   "execution_count": 113,
   "metadata": {},
   "outputs": [],
   "source": [
    "LR3_loaded = pickle.load(open('hover_ss2.pkl', 'rb'))\n",
    "scaler3_loaded = pickle.load(open('scaler3_ss.pkl','rb'))"
   ]
  },
  {
   "cell_type": "code",
   "execution_count": 114,
   "metadata": {},
   "outputs": [],
   "source": [
    "# LR\n",
    "\n",
    "x3_valid = scaler3_loaded.transform(X3)"
   ]
  },
  {
   "cell_type": "code",
   "execution_count": 115,
   "metadata": {},
   "outputs": [
    {
     "name": "stdout",
     "output_type": "stream",
     "text": [
      "Accuracy of Model:: 0.8526187576126675\n"
     ]
    }
   ],
   "source": [
    "validation3_LR = LR3_loaded.predict(x3_valid)\n",
    "print(\"Accuracy of Model::\",accuracy_score(Y3,validation3_LR))"
   ]
  },
  {
   "cell_type": "code",
   "execution_count": 116,
   "metadata": {},
   "outputs": [
    {
     "name": "stdout",
     "output_type": "stream",
     "text": [
      "Hover Taxi accuracy (validation) =  0.8526187576126675\n",
      "Recall =  0.9884393063583815\n",
      "Precision =  0.65832531280077\n"
     ]
    }
   ],
   "source": [
    "y3_pred_LR = LR3.predict(x3_valid)\n",
    "\n",
    "LR10_accuracy = metrics.accuracy_score(y3_pred_LR,Y3)\n",
    "print('Hover Taxi accuracy (validation) = ', LR10_accuracy)\n",
    "print('Recall = ',metrics.recall_score(Y3, y3_pred_LR))\n",
    "print('Precision = ',metrics.precision_score(Y3, y3_pred_LR))"
   ]
  },
  {
   "cell_type": "code",
   "execution_count": 117,
   "metadata": {},
   "outputs": [
    {
     "data": {
      "image/png": "[encoded data removed]",
      "text/plain": [
       "<Figure size 640x480 with 2 Axes>"
      ]
     },
     "metadata": {},
     "output_type": "display_data"
    }
   ],
   "source": [
    "CM3 = metrics.confusion_matrix(Y3, y3_pred_LR)    # Create a confusion matrix from predicted y and original y value.\n",
    "                                                                \n",
    "AX3= plt.subplot()\n",
    "sns.heatmap(CM3, annot=True, cmap = 'Reds', fmt='.0f', ax=AX3); \n",
    "\n",
    "# labels, title and ticks\n",
    "AX3.set_xlabel('Predicted labels');AX3.set_ylabel('True labels'); \n",
    "AX3.set_title('Confusion Matrix for Hover Taxis (Validation data)')\n",
    "AX3.xaxis.set_ticklabels(['Not_Hover_Taxi', 'Hover_Taxi']); AX3.yaxis.set_ticklabels(['Not_Hover_Taxi', 'Hover_Taxi']);"
   ]
  },
  {
   "cell_type": "code",
   "execution_count": null,
   "metadata": {},
   "outputs": [],
   "source": []
  }
 ],
 "metadata": {
  "kernelspec": {
   "display_name": "Python 3 (ipykernel)",
   "language": "python",
   "name": "python3"
  },
  "language_info": {
   "codemirror_mode": {
    "name": "ipython",
    "version": 3
   },
   "file_extension": ".py",
   "mimetype": "text/x-python",
   "name": "python",
   "nbconvert_exporter": "python",
   "pygments_lexer": "ipython3",
   "version": "3.9.2"
  }
 },
 "nbformat": 4,
 "nbformat_minor": 4
}
