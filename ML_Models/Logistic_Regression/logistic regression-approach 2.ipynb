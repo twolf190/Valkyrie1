{
 "cells": [
  {
   "cell_type": "markdown",
   "metadata": {},
   "source": [
    "Approach 2 for logistic regression - withholding one dataset for validation but utilizing the rest of the datasets for training only with no data partitioning for test set (this frees up more data for training). The traditional approach using the 70/30 training/testing split yielded slightly better results, and using more training data as in this notebook did not make a significant difference. However, this approach might potentially yield better accuracies if more training data is made available in the future."
   ]
  },
  {
   "cell_type": "code",
   "execution_count": null,
   "metadata": {},
   "outputs": [],
   "source": [
    "import pandas as pd\n",
    "import matplotlib.pyplot as plt\n",
    "import seaborn as sns\n",
    "import os\n",
    "import numpy as np\n",
    "import sklearn as sk\n",
    "from sklearn.model_selection import train_test_split   # to split the data\n",
    "from sklearn.linear_model import LogisticRegression    # for logistic regression\n",
    "from sklearn import metrics                            # to create confusion matrix\n",
    "from sklearn.preprocessing import StandardScaler, MinMaxScaler, RobustScaler\n",
    "from sklearn.metrics import accuracy_score\n"
   ]
  },
  {
   "cell_type": "code",
   "execution_count": 2,
   "metadata": {},
   "outputs": [],
   "source": [
    "def df_transformation(df):\n",
    "    df_temp = df[features]\n",
    "    df_temp['datetime'] = df_temp.datetime.dt.strftime('%Y-%m-%d %H:%M:%S').astype('datetime64[ns]')\n",
    "\n",
    "    output = df_temp.groupby(by=[\"datetime\"], dropna=False).mean().reset_index()\n",
    "    \n",
    "    return output "
   ]
  },
  {
   "cell_type": "code",
   "execution_count": 3,
   "metadata": {},
   "outputs": [],
   "source": [
    "# Create a custom function for data transformation\n",
    "\n",
    "features = ['datetime',\n",
    "            'latitude',\n",
    "            'longitude',\n",
    "            'absoluteAltitude',\n",
    "            'magneticHeading',\n",
    "            'trueHeading',\n",
    "            'groundSpeed',\n",
    "            'trueAirspeed',\n",
    "            'pitch',\n",
    "            'roll',\n",
    "            'yaw',\n",
    "            'angleOfAttack',\n",
    "            'flightPathAngle',\n",
    "            'verticalFlightPathAngle',\n",
    "            'horizontalFlightPathAngle',\n",
    "            'rollAcceleration',\n",
    "            'pitchAcceleration',\n",
    "            'yawAcceleration',\n",
    "            'e1N1ng',\n",
    "            'e2N1ng',\n",
    "            'e1N2nf',\n",
    "            'e2N2nf',\n",
    "            'mainRotorRpm',\n",
    "            'tailRotorRpm',\n",
    "            'mainRotorTorque',\n",
    "            'e1Itt',\n",
    "            'e2Itt',\n",
    "            'mainRotorInducedInflow',\n",
    "            'flightDirectorPitch',\n",
    "            'flightDirectorRoll',\n",
    "            'climbOrDescentRate',\n",
    "            'hasWeightOnWheels',\n",
    "            'turnRate to degPerSec',\n",
    "            'cyclicPositionPitch',\n",
    "            'cyclicPositionRoll',\n",
    "            'collectivePosition',\n",
    "            'antiTorquePedalPosition',\n",
    "            'throttlePosition',\n",
    "            'e1Torque',\n",
    "            'e2Torque'\n",
    "           ]"
   ]
  },
  {
   "cell_type": "code",
   "execution_count": 4,
   "metadata": {},
   "outputs": [
    {
     "name": "stderr",
     "output_type": "stream",
     "text": [
      "C:\\Users\\fariy\\AppData\\Local\\Temp\\ipykernel_23644\\17026926.py:3: SettingWithCopyWarning: \n",
      "A value is trying to be set on a copy of a slice from a DataFrame.\n",
      "Try using .loc[row_indexer,col_indexer] = value instead\n",
      "\n",
      "See the caveats in the documentation: https://pandas.pydata.org/pandas-docs/stable/user_guide/indexing.html#returning-a-view-versus-a-copy\n",
      "  df_temp['datetime'] = df_temp.datetime.dt.strftime('%Y-%m-%d %H:%M:%S').astype('datetime64[ns]')\n"
     ]
    }
   ],
   "source": [
    "# reading files from 9/19 dataset\n",
    "df1 = pd.read_csv('SimData_2022.09.19_16.00.36.csv.roar.csv',\n",
    "                 parse_dates = {'datetime': ['date', 'time']},\n",
    "                 low_memory=False)\n",
    "df1 = df_transformation(df1)\n",
    "\n",
    "\n",
    "df2 = pd.read_csv('SimData_2022.09.19_16.38.20.csv.roar.csv',\n",
    "                 parse_dates = {'datetime': ['date', 'time']},\n",
    "                 low_memory=False)\n",
    "df2 = df_transformation(df2)\n",
    "\n",
    "\n",
    "df3 = pd.read_csv('SimData_2022.09.19_17.51.37.csv.roar.csv',\n",
    "                parse_dates = {'datetime': ['date', 'time']},\n",
    "                low_memory=False)\n",
    "df3 = df_transformation(df3)\n",
    "\n",
    "\n",
    "\n",
    "# reading files from 9/20 dataset\n",
    "df4 = pd.read_csv('SimData_2022.09.20_16.22.07.csv.roar.csv',\n",
    "                parse_dates = {'datetime': ['date', 'time']},\n",
    "                low_memory=False)\n",
    "df4 = df_transformation(df4)\n",
    "\n",
    "\n",
    "df5 = pd.read_csv('SimData_2022.09.20_16.28.31.csv.roar.csv',\n",
    "                parse_dates = {'datetime': ['date', 'time']},\n",
    "                low_memory=False)\n",
    "df5 = df_transformation(df5)\n",
    "\n",
    "\n",
    "# reading file from 9/22 dataset\n",
    "df6 = pd.read_csv('SimData_2022.09.22_17.11.56.csv.roar.csv',\n",
    "                parse_dates = {'datetime': ['date', 'time']},\n",
    "                low_memory=False)\n",
    "df6 = df_transformation(df6)\n",
    "\n",
    "\n",
    "# reading file from 10/06 dataset\n",
    "df7 = pd.read_csv('SimData_2022.10.06_09.47.22.csv.roar.csv',\n",
    "                parse_dates = {'datetime': ['date', 'time']},\n",
    "                low_memory=False)\n",
    "df7 = df_transformation(df7)\n",
    "\n",
    "# reading files from 10/20 dataset\n",
    "df8 = pd.read_csv('SimData_2022.10.20_17.19.15.csv.roar.csv',\n",
    "                parse_dates = {'datetime': ['date', 'time']},\n",
    "                low_memory=False)\n",
    "df8 = df_transformation(df8)\n",
    "\n"
   ]
  },
  {
   "cell_type": "markdown",
   "metadata": {},
   "source": [
    "# QUICK STOPS USING DATA FROM 9/19, 9/22, 10/20 TO TRAIN AND 10/6 TO VALIDATE"
   ]
  },
  {
   "cell_type": "code",
   "execution_count": 5,
   "metadata": {},
   "outputs": [],
   "source": [
    "# Dataframe labeling for Quick Stops \n",
    "df_qs = pd.concat([df1, df2, df3, df4, df5, df6, df8]).reset_index()\n",
    "df_qs['Quick_Stop'] = 0\n",
    "\n",
    "df_qs.loc[(df_qs['datetime'].between('2022-09-19 22:00:45' , '2022-09-19 22:01:44' , inclusive='both')),['Quick_Stop']] = 1\n",
    "df_qs.loc[(df_qs['datetime'].between('2022-09-19 22:11:55' , '2022-09-19 22:13:21' , inclusive='both')),['Quick_Stop']] = 1\n",
    "df_qs.loc[(df_qs['datetime'].between('2022-09-22 21:36:30' , '2022-09-22 21:37:10' , inclusive='both')),['Quick_Stop']] = 1\n",
    "df_qs.loc[(df_qs['datetime'].between('2022-09-22 21:39:16' , '2022-09-22 21:39:42' , inclusive='both')),['Quick_Stop']] = 1\n",
    "df_qs.loc[(df_qs['datetime'].between('2022-09-22 21:40:06' , '2022-09-22 21:40:36' , inclusive='both')),['Quick_Stop']] = 1\n",
    "df_qs.loc[(df_qs['datetime'].between('2022-10-20 21:23:30' , '2022-10-20 21:23:54' , inclusive='both')),['Quick_Stop']] = 1\n",
    "df_qs.loc[(df_qs['datetime'].between('2022-10-20 21:24:55' , '2022-10-20 21:25:20' , inclusive='both')),['Quick_Stop']] = 1\n",
    "df_qs.loc[(df_qs['datetime'].between('2022-10-20 21:26:20' , '2022-10-20 21:26:46' , inclusive='both')),['Quick_Stop']] = 1\n",
    "df_qs.loc[(df_qs['datetime'].between('2022-10-20 21:27:47' , '2022-10-20 21:28:05' , inclusive='both')),['Quick_Stop']] = 1\n",
    "df_qs.loc[(df_qs['datetime'].between('2022-10-20 21:29:33' , '2022-10-20 21:29:56' , inclusive='both')),['Quick_Stop']] = 1\n",
    "df_qs.loc[(df_qs['datetime'].between('2022-10-20 21:30:50' , '2022-10-20 21:31:12' , inclusive='both')),['Quick_Stop']] = 1\n",
    "df_qs.loc[(df_qs['datetime'].between('2022-10-20 21:32:20' , '2022-10-20 21:32:40' , inclusive='both')),['Quick_Stop']] = 1\n",
    "df_qs.loc[(df_qs['datetime'].between('2022-10-20 21:33:55' , '2022-10-20 21:34:18' , inclusive='both')),['Quick_Stop']] = 1\n",
    "df_qs.loc[(df_qs['datetime'].between('2022-10-20 21:35:20' , '2022-10-20 21:35:45' , inclusive='both')),['Quick_Stop']] = 1\n",
    "df_qs.loc[(df_qs['datetime'].between('2022-10-20 21:36:45' , '2022-10-20 21:37:11' , inclusive='both')),['Quick_Stop']] = 1\n"
   ]
  },
  {
   "cell_type": "code",
   "execution_count": 6,
   "metadata": {},
   "outputs": [
    {
     "data": {
      "text/plain": [
       "0    9195\n",
       "1     488\n",
       "Name: Quick_Stop, dtype: int64"
      ]
     },
     "execution_count": 6,
     "metadata": {},
     "output_type": "execute_result"
    }
   ],
   "source": [
    "df_qs['Quick_Stop'].value_counts()"
   ]
  },
  {
   "cell_type": "code",
   "execution_count": 7,
   "metadata": {},
   "outputs": [],
   "source": [
    "#call features used in model\n",
    "model_features = ['hasWeightOnWheels',\n",
    "                  'absoluteAltitude',\n",
    "                  'groundSpeed',\n",
    "                  'climbOrDescentRate',\n",
    "                  'cyclicPositionPitch',\n",
    "                  'cyclicPositionRoll',\n",
    "                  'collectivePosition',\n",
    "                  'antiTorquePedalPosition',\n",
    "                  'throttlePosition',\n",
    "                  'e1Torque',\n",
    "                  'e2Torque'\n",
    "                 ]"
   ]
  },
  {
   "cell_type": "code",
   "execution_count": 8,
   "metadata": {},
   "outputs": [],
   "source": [
    "x = df_qs[model_features]\n",
    "y = df_qs['Quick_Stop']"
   ]
  },
  {
   "cell_type": "code",
   "execution_count": 9,
   "metadata": {},
   "outputs": [
    {
     "data": {
      "text/html": [
       "<div>\n",
       "<style scoped>\n",
       "    .dataframe tbody tr th:only-of-type {\n",
       "        vertical-align: middle;\n",
       "    }\n",
       "\n",
       "    .dataframe tbody tr th {\n",
       "        vertical-align: top;\n",
       "    }\n",
       "\n",
       "    .dataframe thead th {\n",
       "        text-align: right;\n",
       "    }\n",
       "</style>\n",
       "<table border=\"1\" class=\"dataframe\">\n",
       "  <thead>\n",
       "    <tr style=\"text-align: right;\">\n",
       "      <th></th>\n",
       "      <th>hasWeightOnWheels</th>\n",
       "      <th>absoluteAltitude</th>\n",
       "      <th>groundSpeed</th>\n",
       "      <th>climbOrDescentRate</th>\n",
       "      <th>cyclicPositionPitch</th>\n",
       "      <th>cyclicPositionRoll</th>\n",
       "      <th>collectivePosition</th>\n",
       "      <th>antiTorquePedalPosition</th>\n",
       "      <th>throttlePosition</th>\n",
       "      <th>e1Torque</th>\n",
       "      <th>e2Torque</th>\n",
       "    </tr>\n",
       "  </thead>\n",
       "  <tbody>\n",
       "    <tr>\n",
       "      <th>0</th>\n",
       "      <td>1.0</td>\n",
       "      <td>0.032500</td>\n",
       "      <td>0.137500</td>\n",
       "      <td>0.582125</td>\n",
       "      <td>24.912250</td>\n",
       "      <td>-4.404250</td>\n",
       "      <td>3.726</td>\n",
       "      <td>-38.213000</td>\n",
       "      <td>7.283500</td>\n",
       "      <td>-5.219500</td>\n",
       "      <td>-5.219500</td>\n",
       "    </tr>\n",
       "    <tr>\n",
       "      <th>1</th>\n",
       "      <td>1.0</td>\n",
       "      <td>0.054773</td>\n",
       "      <td>0.155500</td>\n",
       "      <td>2.061705</td>\n",
       "      <td>0.949909</td>\n",
       "      <td>1.013386</td>\n",
       "      <td>3.726</td>\n",
       "      <td>-38.213000</td>\n",
       "      <td>39.997136</td>\n",
       "      <td>-3.727205</td>\n",
       "      <td>-3.727205</td>\n",
       "    </tr>\n",
       "    <tr>\n",
       "      <th>2</th>\n",
       "      <td>1.0</td>\n",
       "      <td>0.060000</td>\n",
       "      <td>0.018477</td>\n",
       "      <td>1.114295</td>\n",
       "      <td>-0.176841</td>\n",
       "      <td>0.624068</td>\n",
       "      <td>3.726</td>\n",
       "      <td>-38.216068</td>\n",
       "      <td>87.756318</td>\n",
       "      <td>6.978659</td>\n",
       "      <td>6.978659</td>\n",
       "    </tr>\n",
       "    <tr>\n",
       "      <th>3</th>\n",
       "      <td>1.0</td>\n",
       "      <td>0.060000</td>\n",
       "      <td>0.005200</td>\n",
       "      <td>0.181933</td>\n",
       "      <td>0.039356</td>\n",
       "      <td>0.124244</td>\n",
       "      <td>3.726</td>\n",
       "      <td>-38.228200</td>\n",
       "      <td>100.000000</td>\n",
       "      <td>28.398222</td>\n",
       "      <td>28.398222</td>\n",
       "    </tr>\n",
       "    <tr>\n",
       "      <th>4</th>\n",
       "      <td>1.0</td>\n",
       "      <td>0.060000</td>\n",
       "      <td>0.002542</td>\n",
       "      <td>-0.000208</td>\n",
       "      <td>0.065479</td>\n",
       "      <td>0.052958</td>\n",
       "      <td>3.726</td>\n",
       "      <td>-38.282792</td>\n",
       "      <td>100.000000</td>\n",
       "      <td>56.248208</td>\n",
       "      <td>56.248208</td>\n",
       "    </tr>\n",
       "  </tbody>\n",
       "</table>\n",
       "</div>"
      ],
      "text/plain": [
       "   hasWeightOnWheels  absoluteAltitude  groundSpeed  climbOrDescentRate  \\\n",
       "0                1.0          0.032500     0.137500            0.582125   \n",
       "1                1.0          0.054773     0.155500            2.061705   \n",
       "2                1.0          0.060000     0.018477            1.114295   \n",
       "3                1.0          0.060000     0.005200            0.181933   \n",
       "4                1.0          0.060000     0.002542           -0.000208   \n",
       "\n",
       "   cyclicPositionPitch  cyclicPositionRoll  collectivePosition  \\\n",
       "0            24.912250           -4.404250               3.726   \n",
       "1             0.949909            1.013386               3.726   \n",
       "2            -0.176841            0.624068               3.726   \n",
       "3             0.039356            0.124244               3.726   \n",
       "4             0.065479            0.052958               3.726   \n",
       "\n",
       "   antiTorquePedalPosition  throttlePosition   e1Torque   e2Torque  \n",
       "0               -38.213000          7.283500  -5.219500  -5.219500  \n",
       "1               -38.213000         39.997136  -3.727205  -3.727205  \n",
       "2               -38.216068         87.756318   6.978659   6.978659  \n",
       "3               -38.228200        100.000000  28.398222  28.398222  \n",
       "4               -38.282792        100.000000  56.248208  56.248208  "
      ]
     },
     "execution_count": 9,
     "metadata": {},
     "output_type": "execute_result"
    }
   ],
   "source": [
    "x.head()"
   ]
  },
  {
   "cell_type": "code",
   "execution_count": 10,
   "metadata": {},
   "outputs": [
    {
     "data": {
      "text/plain": [
       "0    0\n",
       "1    0\n",
       "2    0\n",
       "3    0\n",
       "4    0\n",
       "Name: Quick_Stop, dtype: int64"
      ]
     },
     "execution_count": 10,
     "metadata": {},
     "output_type": "execute_result"
    }
   ],
   "source": [
    "y.head()"
   ]
  },
  {
   "cell_type": "code",
   "execution_count": 12,
   "metadata": {},
   "outputs": [],
   "source": [
    "# Check the train data\n",
    "\n",
    "total = 0\n",
    "Quick_Stop = 0\n",
    "non_Quick_Stop = 0\n",
    "for i in y:\n",
    "    if i == 1:\n",
    "        Quick_Stop += 1\n",
    "    else:\n",
    "        non_Quick_Stop += 1\n",
    "    total += 1"
   ]
  },
  {
   "cell_type": "code",
   "execution_count": 13,
   "metadata": {},
   "outputs": [
    {
     "name": "stdout",
     "output_type": "stream",
     "text": [
      "488\n",
      "9195\n",
      "0.95\n"
     ]
    }
   ],
   "source": [
    "print(Quick_Stop)\n",
    "print(non_Quick_Stop)\n",
    "print(round(non_Quick_Stop/total,2))"
   ]
  },
  {
   "cell_type": "markdown",
   "metadata": {},
   "source": [
    "Create a balanced dataset & train Logistic regression\n"
   ]
  },
  {
   "cell_type": "code",
   "execution_count": 14,
   "metadata": {},
   "outputs": [],
   "source": [
    "df_qs_train = df_qs[df_qs['Quick_Stop']==1]           # The original rows that have label 1\n",
    "non_df_qs_train = df_qs[df_qs['Quick_Stop']==0]       # The original rows that have label 0"
   ]
  },
  {
   "cell_type": "code",
   "execution_count": 15,
   "metadata": {},
   "outputs": [
    {
     "name": "stdout",
     "output_type": "stream",
     "text": [
      "488\n",
      "9195\n"
     ]
    }
   ],
   "source": [
    "print(len(df_qs_train))\n",
    "print(len(non_df_qs_train))"
   ]
  },
  {
   "cell_type": "code",
   "execution_count": 16,
   "metadata": {},
   "outputs": [],
   "source": [
    "sampled_non_df_qs = non_df_qs_train.sample(n = 488)    # Sample 488 data points from the quick stop data"
   ]
  },
  {
   "cell_type": "code",
   "execution_count": 17,
   "metadata": {},
   "outputs": [
    {
     "name": "stdout",
     "output_type": "stream",
     "text": [
      "488\n",
      "488\n"
     ]
    }
   ],
   "source": [
    "print(len(df_qs_train))\n",
    "print(len(sampled_non_df_qs))"
   ]
  },
  {
   "cell_type": "code",
   "execution_count": 18,
   "metadata": {},
   "outputs": [],
   "source": [
    "merged = pd.concat([df_qs_train, sampled_non_df_qs])     # After class-balancing, concatenating both classes into 1 dataframe"
   ]
  },
  {
   "cell_type": "code",
   "execution_count": 19,
   "metadata": {},
   "outputs": [
    {
     "name": "stdout",
     "output_type": "stream",
     "text": [
      "976\n"
     ]
    }
   ],
   "source": [
    "print(len(merged))"
   ]
  },
  {
   "cell_type": "code",
   "execution_count": 20,
   "metadata": {},
   "outputs": [
    {
     "data": {
      "text/html": [
       "<div>\n",
       "<style scoped>\n",
       "    .dataframe tbody tr th:only-of-type {\n",
       "        vertical-align: middle;\n",
       "    }\n",
       "\n",
       "    .dataframe tbody tr th {\n",
       "        vertical-align: top;\n",
       "    }\n",
       "\n",
       "    .dataframe thead th {\n",
       "        text-align: right;\n",
       "    }\n",
       "</style>\n",
       "<table border=\"1\" class=\"dataframe\">\n",
       "  <thead>\n",
       "    <tr style=\"text-align: right;\">\n",
       "      <th></th>\n",
       "      <th>index</th>\n",
       "      <th>datetime</th>\n",
       "      <th>latitude</th>\n",
       "      <th>longitude</th>\n",
       "      <th>absoluteAltitude</th>\n",
       "      <th>magneticHeading</th>\n",
       "      <th>trueHeading</th>\n",
       "      <th>groundSpeed</th>\n",
       "      <th>trueAirspeed</th>\n",
       "      <th>pitch</th>\n",
       "      <th>...</th>\n",
       "      <th>hasWeightOnWheels</th>\n",
       "      <th>turnRate to degPerSec</th>\n",
       "      <th>cyclicPositionPitch</th>\n",
       "      <th>cyclicPositionRoll</th>\n",
       "      <th>collectivePosition</th>\n",
       "      <th>antiTorquePedalPosition</th>\n",
       "      <th>throttlePosition</th>\n",
       "      <th>e1Torque</th>\n",
       "      <th>e2Torque</th>\n",
       "      <th>Quick_Stop</th>\n",
       "    </tr>\n",
       "  </thead>\n",
       "  <tbody>\n",
       "    <tr>\n",
       "      <th>3173</th>\n",
       "      <td>538</td>\n",
       "      <td>2022-09-19 22:00:45</td>\n",
       "      <td>39.869027</td>\n",
       "      <td>-75.256668</td>\n",
       "      <td>58.814000</td>\n",
       "      <td>175.889820</td>\n",
       "      <td>163.854760</td>\n",
       "      <td>26.245640</td>\n",
       "      <td>26.472019</td>\n",
       "      <td>-1.149760</td>\n",
       "      <td>...</td>\n",
       "      <td>0.0</td>\n",
       "      <td>-1.038940</td>\n",
       "      <td>-19.506000</td>\n",
       "      <td>-12.180060</td>\n",
       "      <td>44.076980</td>\n",
       "      <td>-13.315440</td>\n",
       "      <td>54.298300</td>\n",
       "      <td>57.240800</td>\n",
       "      <td>57.240800</td>\n",
       "      <td>1</td>\n",
       "    </tr>\n",
       "    <tr>\n",
       "      <th>3174</th>\n",
       "      <td>539</td>\n",
       "      <td>2022-09-19 22:00:46</td>\n",
       "      <td>39.868897</td>\n",
       "      <td>-75.256681</td>\n",
       "      <td>64.269200</td>\n",
       "      <td>175.790880</td>\n",
       "      <td>163.755880</td>\n",
       "      <td>28.406860</td>\n",
       "      <td>28.583419</td>\n",
       "      <td>-1.324340</td>\n",
       "      <td>...</td>\n",
       "      <td>0.0</td>\n",
       "      <td>-0.684400</td>\n",
       "      <td>-18.378260</td>\n",
       "      <td>-12.318980</td>\n",
       "      <td>43.792500</td>\n",
       "      <td>-13.447180</td>\n",
       "      <td>54.417980</td>\n",
       "      <td>57.502880</td>\n",
       "      <td>57.502880</td>\n",
       "      <td>1</td>\n",
       "    </tr>\n",
       "    <tr>\n",
       "      <th>3175</th>\n",
       "      <td>540</td>\n",
       "      <td>2022-09-19 22:00:47</td>\n",
       "      <td>39.868759</td>\n",
       "      <td>-75.256688</td>\n",
       "      <td>69.400816</td>\n",
       "      <td>175.941184</td>\n",
       "      <td>163.906184</td>\n",
       "      <td>30.540959</td>\n",
       "      <td>30.705495</td>\n",
       "      <td>-1.287327</td>\n",
       "      <td>...</td>\n",
       "      <td>0.0</td>\n",
       "      <td>-0.348143</td>\n",
       "      <td>-17.434837</td>\n",
       "      <td>-11.388592</td>\n",
       "      <td>43.431571</td>\n",
       "      <td>-11.185776</td>\n",
       "      <td>54.507163</td>\n",
       "      <td>57.832041</td>\n",
       "      <td>57.832041</td>\n",
       "      <td>1</td>\n",
       "    </tr>\n",
       "    <tr>\n",
       "      <th>3176</th>\n",
       "      <td>541</td>\n",
       "      <td>2022-09-19 22:00:48</td>\n",
       "      <td>39.868612</td>\n",
       "      <td>-75.256689</td>\n",
       "      <td>74.831400</td>\n",
       "      <td>177.060120</td>\n",
       "      <td>165.025180</td>\n",
       "      <td>32.817100</td>\n",
       "      <td>33.046779</td>\n",
       "      <td>-1.400080</td>\n",
       "      <td>...</td>\n",
       "      <td>0.0</td>\n",
       "      <td>0.144360</td>\n",
       "      <td>-17.746420</td>\n",
       "      <td>-11.170180</td>\n",
       "      <td>44.359920</td>\n",
       "      <td>-12.769160</td>\n",
       "      <td>55.128120</td>\n",
       "      <td>58.559720</td>\n",
       "      <td>58.559720</td>\n",
       "      <td>1</td>\n",
       "    </tr>\n",
       "    <tr>\n",
       "      <th>3177</th>\n",
       "      <td>542</td>\n",
       "      <td>2022-09-19 22:00:49</td>\n",
       "      <td>39.868455</td>\n",
       "      <td>-75.256685</td>\n",
       "      <td>82.046078</td>\n",
       "      <td>177.944647</td>\n",
       "      <td>165.909667</td>\n",
       "      <td>35.226863</td>\n",
       "      <td>35.570474</td>\n",
       "      <td>-1.765961</td>\n",
       "      <td>...</td>\n",
       "      <td>0.0</td>\n",
       "      <td>0.362627</td>\n",
       "      <td>-16.859510</td>\n",
       "      <td>-10.850255</td>\n",
       "      <td>44.784137</td>\n",
       "      <td>-15.211882</td>\n",
       "      <td>56.737294</td>\n",
       "      <td>62.649000</td>\n",
       "      <td>62.649000</td>\n",
       "      <td>1</td>\n",
       "    </tr>\n",
       "    <tr>\n",
       "      <th>...</th>\n",
       "      <td>...</td>\n",
       "      <td>...</td>\n",
       "      <td>...</td>\n",
       "      <td>...</td>\n",
       "      <td>...</td>\n",
       "      <td>...</td>\n",
       "      <td>...</td>\n",
       "      <td>...</td>\n",
       "      <td>...</td>\n",
       "      <td>...</td>\n",
       "      <td>...</td>\n",
       "      <td>...</td>\n",
       "      <td>...</td>\n",
       "      <td>...</td>\n",
       "      <td>...</td>\n",
       "      <td>...</td>\n",
       "      <td>...</td>\n",
       "      <td>...</td>\n",
       "      <td>...</td>\n",
       "      <td>...</td>\n",
       "      <td>...</td>\n",
       "    </tr>\n",
       "    <tr>\n",
       "      <th>582</th>\n",
       "      <td>582</td>\n",
       "      <td>2022-09-19 20:15:47</td>\n",
       "      <td>39.332251</td>\n",
       "      <td>-74.258695</td>\n",
       "      <td>2061.910000</td>\n",
       "      <td>323.209689</td>\n",
       "      <td>310.798689</td>\n",
       "      <td>131.590444</td>\n",
       "      <td>131.591091</td>\n",
       "      <td>-3.114222</td>\n",
       "      <td>...</td>\n",
       "      <td>0.0</td>\n",
       "      <td>2.724956</td>\n",
       "      <td>-43.305956</td>\n",
       "      <td>-4.706489</td>\n",
       "      <td>49.305000</td>\n",
       "      <td>27.151756</td>\n",
       "      <td>72.225178</td>\n",
       "      <td>88.421489</td>\n",
       "      <td>88.421489</td>\n",
       "      <td>0</td>\n",
       "    </tr>\n",
       "    <tr>\n",
       "      <th>7849</th>\n",
       "      <td>629</td>\n",
       "      <td>2022-10-20 21:31:24</td>\n",
       "      <td>51.477140</td>\n",
       "      <td>-0.465954</td>\n",
       "      <td>176.320714</td>\n",
       "      <td>84.471357</td>\n",
       "      <td>84.240905</td>\n",
       "      <td>27.003667</td>\n",
       "      <td>27.777371</td>\n",
       "      <td>12.773524</td>\n",
       "      <td>...</td>\n",
       "      <td>0.0</td>\n",
       "      <td>-0.382167</td>\n",
       "      <td>-4.285429</td>\n",
       "      <td>17.815643</td>\n",
       "      <td>47.258000</td>\n",
       "      <td>-14.059857</td>\n",
       "      <td>56.976214</td>\n",
       "      <td>63.543905</td>\n",
       "      <td>63.543905</td>\n",
       "      <td>0</td>\n",
       "    </tr>\n",
       "    <tr>\n",
       "      <th>2953</th>\n",
       "      <td>318</td>\n",
       "      <td>2022-09-19 21:57:05</td>\n",
       "      <td>39.871998</td>\n",
       "      <td>-75.244580</td>\n",
       "      <td>4.588980</td>\n",
       "      <td>255.280020</td>\n",
       "      <td>243.237469</td>\n",
       "      <td>5.269327</td>\n",
       "      <td>5.310761</td>\n",
       "      <td>3.822163</td>\n",
       "      <td>...</td>\n",
       "      <td>0.0</td>\n",
       "      <td>-0.350694</td>\n",
       "      <td>-7.140735</td>\n",
       "      <td>-1.215204</td>\n",
       "      <td>42.229327</td>\n",
       "      <td>-7.428306</td>\n",
       "      <td>51.986918</td>\n",
       "      <td>52.174837</td>\n",
       "      <td>52.174837</td>\n",
       "      <td>0</td>\n",
       "    </tr>\n",
       "    <tr>\n",
       "      <th>1210</th>\n",
       "      <td>1210</td>\n",
       "      <td>2022-09-19 20:31:52</td>\n",
       "      <td>39.428740</td>\n",
       "      <td>-74.494335</td>\n",
       "      <td>1310.747959</td>\n",
       "      <td>286.169245</td>\n",
       "      <td>273.843959</td>\n",
       "      <td>130.983531</td>\n",
       "      <td>131.011344</td>\n",
       "      <td>-4.043163</td>\n",
       "      <td>...</td>\n",
       "      <td>0.0</td>\n",
       "      <td>-1.685633</td>\n",
       "      <td>-34.806061</td>\n",
       "      <td>8.448143</td>\n",
       "      <td>47.679000</td>\n",
       "      <td>-43.693143</td>\n",
       "      <td>76.659714</td>\n",
       "      <td>93.738837</td>\n",
       "      <td>93.738837</td>\n",
       "      <td>0</td>\n",
       "    </tr>\n",
       "    <tr>\n",
       "      <th>140</th>\n",
       "      <td>140</td>\n",
       "      <td>2022-09-19 20:08:25</td>\n",
       "      <td>39.358996</td>\n",
       "      <td>-74.434692</td>\n",
       "      <td>0.060000</td>\n",
       "      <td>340.827000</td>\n",
       "      <td>328.488000</td>\n",
       "      <td>0.000000</td>\n",
       "      <td>0.000000</td>\n",
       "      <td>-0.181787</td>\n",
       "      <td>...</td>\n",
       "      <td>1.0</td>\n",
       "      <td>-0.001000</td>\n",
       "      <td>3.402915</td>\n",
       "      <td>-3.645468</td>\n",
       "      <td>3.431085</td>\n",
       "      <td>-50.929362</td>\n",
       "      <td>52.260128</td>\n",
       "      <td>52.405511</td>\n",
       "      <td>52.405511</td>\n",
       "      <td>0</td>\n",
       "    </tr>\n",
       "  </tbody>\n",
       "</table>\n",
       "<p>976 rows × 42 columns</p>\n",
       "</div>"
      ],
      "text/plain": [
       "      index            datetime   latitude  longitude  absoluteAltitude  \\\n",
       "3173    538 2022-09-19 22:00:45  39.869027 -75.256668         58.814000   \n",
       "3174    539 2022-09-19 22:00:46  39.868897 -75.256681         64.269200   \n",
       "3175    540 2022-09-19 22:00:47  39.868759 -75.256688         69.400816   \n",
       "3176    541 2022-09-19 22:00:48  39.868612 -75.256689         74.831400   \n",
       "3177    542 2022-09-19 22:00:49  39.868455 -75.256685         82.046078   \n",
       "...     ...                 ...        ...        ...               ...   \n",
       "582     582 2022-09-19 20:15:47  39.332251 -74.258695       2061.910000   \n",
       "7849    629 2022-10-20 21:31:24  51.477140  -0.465954        176.320714   \n",
       "2953    318 2022-09-19 21:57:05  39.871998 -75.244580          4.588980   \n",
       "1210   1210 2022-09-19 20:31:52  39.428740 -74.494335       1310.747959   \n",
       "140     140 2022-09-19 20:08:25  39.358996 -74.434692          0.060000   \n",
       "\n",
       "      magneticHeading  trueHeading  groundSpeed  trueAirspeed      pitch  ...  \\\n",
       "3173       175.889820   163.854760    26.245640     26.472019  -1.149760  ...   \n",
       "3174       175.790880   163.755880    28.406860     28.583419  -1.324340  ...   \n",
       "3175       175.941184   163.906184    30.540959     30.705495  -1.287327  ...   \n",
       "3176       177.060120   165.025180    32.817100     33.046779  -1.400080  ...   \n",
       "3177       177.944647   165.909667    35.226863     35.570474  -1.765961  ...   \n",
       "...               ...          ...          ...           ...        ...  ...   \n",
       "582        323.209689   310.798689   131.590444    131.591091  -3.114222  ...   \n",
       "7849        84.471357    84.240905    27.003667     27.777371  12.773524  ...   \n",
       "2953       255.280020   243.237469     5.269327      5.310761   3.822163  ...   \n",
       "1210       286.169245   273.843959   130.983531    131.011344  -4.043163  ...   \n",
       "140        340.827000   328.488000     0.000000      0.000000  -0.181787  ...   \n",
       "\n",
       "      hasWeightOnWheels  turnRate to degPerSec  cyclicPositionPitch  \\\n",
       "3173                0.0              -1.038940           -19.506000   \n",
       "3174                0.0              -0.684400           -18.378260   \n",
       "3175                0.0              -0.348143           -17.434837   \n",
       "3176                0.0               0.144360           -17.746420   \n",
       "3177                0.0               0.362627           -16.859510   \n",
       "...                 ...                    ...                  ...   \n",
       "582                 0.0               2.724956           -43.305956   \n",
       "7849                0.0              -0.382167            -4.285429   \n",
       "2953                0.0              -0.350694            -7.140735   \n",
       "1210                0.0              -1.685633           -34.806061   \n",
       "140                 1.0              -0.001000             3.402915   \n",
       "\n",
       "      cyclicPositionRoll  collectivePosition  antiTorquePedalPosition  \\\n",
       "3173          -12.180060           44.076980               -13.315440   \n",
       "3174          -12.318980           43.792500               -13.447180   \n",
       "3175          -11.388592           43.431571               -11.185776   \n",
       "3176          -11.170180           44.359920               -12.769160   \n",
       "3177          -10.850255           44.784137               -15.211882   \n",
       "...                  ...                 ...                      ...   \n",
       "582            -4.706489           49.305000                27.151756   \n",
       "7849           17.815643           47.258000               -14.059857   \n",
       "2953           -1.215204           42.229327                -7.428306   \n",
       "1210            8.448143           47.679000               -43.693143   \n",
       "140            -3.645468            3.431085               -50.929362   \n",
       "\n",
       "      throttlePosition   e1Torque   e2Torque  Quick_Stop  \n",
       "3173         54.298300  57.240800  57.240800           1  \n",
       "3174         54.417980  57.502880  57.502880           1  \n",
       "3175         54.507163  57.832041  57.832041           1  \n",
       "3176         55.128120  58.559720  58.559720           1  \n",
       "3177         56.737294  62.649000  62.649000           1  \n",
       "...                ...        ...        ...         ...  \n",
       "582          72.225178  88.421489  88.421489           0  \n",
       "7849         56.976214  63.543905  63.543905           0  \n",
       "2953         51.986918  52.174837  52.174837           0  \n",
       "1210         76.659714  93.738837  93.738837           0  \n",
       "140          52.260128  52.405511  52.405511           0  \n",
       "\n",
       "[976 rows x 42 columns]"
      ]
     },
     "execution_count": 20,
     "metadata": {},
     "output_type": "execute_result"
    }
   ],
   "source": [
    "merged"
   ]
  },
  {
   "cell_type": "code",
   "execution_count": 21,
   "metadata": {},
   "outputs": [],
   "source": [
    "# Split the data into X and y\n",
    "x = merged[model_features]   \n",
    "y = merged['Quick_Stop']\n"
   ]
  },
  {
   "cell_type": "code",
   "execution_count": 22,
   "metadata": {},
   "outputs": [
    {
     "name": "stdout",
     "output_type": "stream",
     "text": [
      "Accuracy of LR classifier on training set: 0.77\n"
     ]
    }
   ],
   "source": [
    "#LR standardizing \n",
    "scaler = StandardScaler()\n",
    "x = scaler.fit_transform(x)\n",
    "\n",
    "\n",
    "LR = LogisticRegression()    # Bring empty logistic regression model\n",
    "LR.fit(x,y)                  # Train the model with all data\n",
    "print('Accuracy of LR classifier on training set: {:.2f}'\n",
    "     .format(LR.score(x, y)))\n",
    "\n"
   ]
  },
  {
   "cell_type": "code",
   "execution_count": 23,
   "metadata": {},
   "outputs": [
    {
     "name": "stdout",
     "output_type": "stream",
     "text": [
      "488\n",
      "488\n",
      "0.5\n"
     ]
    }
   ],
   "source": [
    "# Checking the training data\n",
    "total = 0\n",
    "Quick_Stop = 0\n",
    "non_Quick_Stop = 0\n",
    "for i in y:\n",
    "    if i == 1:\n",
    "        Quick_Stop += 1\n",
    "    else:\n",
    "        non_Quick_Stop += 1\n",
    "    total += 1\n",
    "    \n",
    "print(Quick_Stop)\n",
    "print(non_Quick_Stop)\n",
    "print(non_Quick_Stop/total)"
   ]
  },
  {
   "cell_type": "code",
   "execution_count": 24,
   "metadata": {},
   "outputs": [
    {
     "name": "stdout",
     "output_type": "stream",
     "text": [
      "Quick Stop accuracy =  0.7674180327868853\n",
      "Recall =  0.8504098360655737\n",
      "Precision =  0.7293497363796133\n"
     ]
    }
   ],
   "source": [
    "y_pred_LR = LR.predict(x)\n",
    "\n",
    "LR_accuracy = metrics.accuracy_score(y_pred_LR,y)\n",
    "print('Quick Stop accuracy = ', LR_accuracy)\n",
    "print('Recall = ',metrics.recall_score(y, y_pred_LR))\n",
    "print('Precision = ',metrics.precision_score(y, y_pred_LR))"
   ]
  },
  {
   "cell_type": "markdown",
   "metadata": {},
   "source": [
    "Visualize the Confusion Matrix"
   ]
  },
  {
   "cell_type": "code",
   "execution_count": 26,
   "metadata": {},
   "outputs": [
    {
     "data": {
      "image/png": "[encoded data removed]",
      "text/plain": [
       "<Figure size 640x480 with 2 Axes>"
      ]
     },
     "metadata": {},
     "output_type": "display_data"
    }
   ],
   "source": [
    "cm = metrics.confusion_matrix(y, y_pred_LR)    # Create a confusion matrix from predicted y and original y value.\n",
    "                                                    \n",
    "            \n",
    "ax= plt.subplot()\n",
    "sns.heatmap(cm, annot=True, cmap = 'Reds', fmt='.0f', ax=ax); \n",
    "\n",
    "# labels, title and ticks\n",
    "ax.set_xlabel('Predicted labels');ax.set_ylabel('True labels'); \n",
    "ax.set_title('Confusion Matrix for Quick Stops (Training data)')\n",
    "ax.xaxis.set_ticklabels(['Not_Quick_Stop', 'Quick_Stop']); ax.yaxis.set_ticklabels(['Not_Quick_Stop', 'Quick_Stop']);"
   ]
  },
  {
   "cell_type": "code",
   "execution_count": 27,
   "metadata": {},
   "outputs": [],
   "source": [
    "y_pred_proba = LR.predict_proba(x)   # Get the probability of LR classification \n",
    "                                          \n",
    "false_positive_rate, true_positive_rate, thresholds = metrics.roc_curve(y, y_pred_proba[:,1])     \n",
    "# Orignally predict_proba returned 2 values for both classes. \n",
    "# So, we picked second one which gives the probability of class 1"
   ]
  },
  {
   "cell_type": "code",
   "execution_count": 28,
   "metadata": {},
   "outputs": [
    {
     "data": {
      "text/plain": [
       "[<matplotlib.lines.Line2D at 0x1ae67163a60>]"
      ]
     },
     "execution_count": 28,
     "metadata": {},
     "output_type": "execute_result"
    },
    {
     "data": {
      "image/png": "[encoded data removed]",
      "text/plain": [
       "<Figure size 640x480 with 1 Axes>"
      ]
     },
     "metadata": {},
     "output_type": "display_data"
    }
   ],
   "source": [
    "# Plot roc curve \n",
    "%matplotlib inline  \n",
    "plt.ylabel('True Positive Rate')\n",
    "plt.xlabel('False Positive Rate')\n",
    "plt.title('ROC curve for quick stops (logistic regression)')\n",
    "plt.plot(false_positive_rate, true_positive_rate)  \n"
   ]
  },
  {
   "cell_type": "code",
   "execution_count": 29,
   "metadata": {},
   "outputs": [
    {
     "name": "stdout",
     "output_type": "stream",
     "text": [
      "AUC for quick stops (LR) = 0.858803916957807\n"
     ]
    }
   ],
   "source": [
    "# Compute AUC\n",
    "auc = metrics.auc(false_positive_rate, true_positive_rate)   # metrics also provide the auc area\n",
    "print(\"AUC for quick stops (LR) =\", auc)"
   ]
  },
  {
   "cell_type": "markdown",
   "metadata": {},
   "source": [
    "### Saving model"
   ]
  },
  {
   "cell_type": "code",
   "execution_count": 30,
   "metadata": {},
   "outputs": [],
   "source": [
    "import pickle"
   ]
  },
  {
   "cell_type": "code",
   "execution_count": 31,
   "metadata": {},
   "outputs": [],
   "source": [
    "pickle.dump(LR, open('quick_ss2.pkl', 'wb'))"
   ]
  },
  {
   "cell_type": "code",
   "execution_count": 32,
   "metadata": {},
   "outputs": [],
   "source": [
    "pickle.dump(scaler, open('scaler_ss.pkl','wb'))"
   ]
  },
  {
   "cell_type": "markdown",
   "metadata": {},
   "source": [
    "### Load new data for validation"
   ]
  },
  {
   "cell_type": "code",
   "execution_count": 33,
   "metadata": {},
   "outputs": [
    {
     "name": "stderr",
     "output_type": "stream",
     "text": [
      "C:\\Users\\fariy\\AppData\\Local\\Temp\\ipykernel_23644\\17026926.py:3: SettingWithCopyWarning: \n",
      "A value is trying to be set on a copy of a slice from a DataFrame.\n",
      "Try using .loc[row_indexer,col_indexer] = value instead\n",
      "\n",
      "See the caveats in the documentation: https://pandas.pydata.org/pandas-docs/stable/user_guide/indexing.html#returning-a-view-versus-a-copy\n",
      "  df_temp['datetime'] = df_temp.datetime.dt.strftime('%Y-%m-%d %H:%M:%S').astype('datetime64[ns]')\n"
     ]
    }
   ],
   "source": [
    "# reading file from 10/06 dataset\n",
    "dfqs = pd.read_csv('SimData_2022.10.06_09.47.22.csv.roar.csv',\n",
    "                parse_dates = {'datetime': ['date', 'time']},\n",
    "                low_memory=False)\n",
    "dfqs = df_transformation(dfqs)"
   ]
  },
  {
   "cell_type": "code",
   "execution_count": 34,
   "metadata": {},
   "outputs": [
    {
     "data": {
      "text/html": [
       "<div>\n",
       "<style scoped>\n",
       "    .dataframe tbody tr th:only-of-type {\n",
       "        vertical-align: middle;\n",
       "    }\n",
       "\n",
       "    .dataframe tbody tr th {\n",
       "        vertical-align: top;\n",
       "    }\n",
       "\n",
       "    .dataframe thead th {\n",
       "        text-align: right;\n",
       "    }\n",
       "</style>\n",
       "<table border=\"1\" class=\"dataframe\">\n",
       "  <thead>\n",
       "    <tr style=\"text-align: right;\">\n",
       "      <th></th>\n",
       "      <th>datetime</th>\n",
       "      <th>latitude</th>\n",
       "      <th>longitude</th>\n",
       "      <th>absoluteAltitude</th>\n",
       "      <th>magneticHeading</th>\n",
       "      <th>trueHeading</th>\n",
       "      <th>groundSpeed</th>\n",
       "      <th>trueAirspeed</th>\n",
       "      <th>pitch</th>\n",
       "      <th>roll</th>\n",
       "      <th>...</th>\n",
       "      <th>hasWeightOnWheels</th>\n",
       "      <th>turnRate to degPerSec</th>\n",
       "      <th>cyclicPositionPitch</th>\n",
       "      <th>cyclicPositionRoll</th>\n",
       "      <th>collectivePosition</th>\n",
       "      <th>antiTorquePedalPosition</th>\n",
       "      <th>throttlePosition</th>\n",
       "      <th>e1Torque</th>\n",
       "      <th>e2Torque</th>\n",
       "      <th>Quick_Stop</th>\n",
       "    </tr>\n",
       "  </thead>\n",
       "  <tbody>\n",
       "    <tr>\n",
       "      <th>0</th>\n",
       "      <td>2022-10-06 13:49:02</td>\n",
       "      <td>39.464831</td>\n",
       "      <td>-74.565770</td>\n",
       "      <td>0.076316</td>\n",
       "      <td>270.417368</td>\n",
       "      <td>258.116737</td>\n",
       "      <td>0.146368</td>\n",
       "      <td>0.158536</td>\n",
       "      <td>0.716316</td>\n",
       "      <td>-0.245842</td>\n",
       "      <td>...</td>\n",
       "      <td>1.0</td>\n",
       "      <td>-1.099105</td>\n",
       "      <td>-15.622737</td>\n",
       "      <td>-45.371053</td>\n",
       "      <td>3.574000</td>\n",
       "      <td>-7.060158</td>\n",
       "      <td>0.000000</td>\n",
       "      <td>-2.022158</td>\n",
       "      <td>-2.022158</td>\n",
       "      <td>0</td>\n",
       "    </tr>\n",
       "    <tr>\n",
       "      <th>1</th>\n",
       "      <td>2022-10-06 13:49:03</td>\n",
       "      <td>39.464831</td>\n",
       "      <td>-74.565770</td>\n",
       "      <td>0.084419</td>\n",
       "      <td>270.058698</td>\n",
       "      <td>257.757977</td>\n",
       "      <td>0.046674</td>\n",
       "      <td>0.056327</td>\n",
       "      <td>-0.002674</td>\n",
       "      <td>-0.840860</td>\n",
       "      <td>...</td>\n",
       "      <td>1.0</td>\n",
       "      <td>-0.966977</td>\n",
       "      <td>-19.012302</td>\n",
       "      <td>-42.589953</td>\n",
       "      <td>3.574000</td>\n",
       "      <td>-7.059860</td>\n",
       "      <td>0.000000</td>\n",
       "      <td>-1.269047</td>\n",
       "      <td>-1.269047</td>\n",
       "      <td>0</td>\n",
       "    </tr>\n",
       "    <tr>\n",
       "      <th>2</th>\n",
       "      <td>2022-10-06 13:49:04</td>\n",
       "      <td>39.464831</td>\n",
       "      <td>-74.565770</td>\n",
       "      <td>0.105000</td>\n",
       "      <td>270.057300</td>\n",
       "      <td>257.756700</td>\n",
       "      <td>0.007000</td>\n",
       "      <td>0.007924</td>\n",
       "      <td>-0.094025</td>\n",
       "      <td>-1.189075</td>\n",
       "      <td>...</td>\n",
       "      <td>1.0</td>\n",
       "      <td>-0.653625</td>\n",
       "      <td>-14.741175</td>\n",
       "      <td>-41.667850</td>\n",
       "      <td>3.577050</td>\n",
       "      <td>-6.958850</td>\n",
       "      <td>0.000000</td>\n",
       "      <td>-0.567350</td>\n",
       "      <td>-0.567350</td>\n",
       "      <td>0</td>\n",
       "    </tr>\n",
       "    <tr>\n",
       "      <th>3</th>\n",
       "      <td>2022-10-06 13:49:05</td>\n",
       "      <td>39.464831</td>\n",
       "      <td>-74.565770</td>\n",
       "      <td>0.105581</td>\n",
       "      <td>270.066093</td>\n",
       "      <td>257.765419</td>\n",
       "      <td>0.004023</td>\n",
       "      <td>0.004905</td>\n",
       "      <td>-0.071186</td>\n",
       "      <td>-1.184349</td>\n",
       "      <td>...</td>\n",
       "      <td>1.0</td>\n",
       "      <td>-0.397023</td>\n",
       "      <td>-9.655767</td>\n",
       "      <td>-40.678442</td>\n",
       "      <td>3.578000</td>\n",
       "      <td>-6.874140</td>\n",
       "      <td>0.000000</td>\n",
       "      <td>-0.056791</td>\n",
       "      <td>-0.056791</td>\n",
       "      <td>0</td>\n",
       "    </tr>\n",
       "    <tr>\n",
       "      <th>4</th>\n",
       "      <td>2022-10-06 13:49:06</td>\n",
       "      <td>39.464831</td>\n",
       "      <td>-74.565770</td>\n",
       "      <td>0.098049</td>\n",
       "      <td>270.072756</td>\n",
       "      <td>257.772073</td>\n",
       "      <td>0.007024</td>\n",
       "      <td>0.008670</td>\n",
       "      <td>-0.000659</td>\n",
       "      <td>-1.049683</td>\n",
       "      <td>...</td>\n",
       "      <td>1.0</td>\n",
       "      <td>-0.210390</td>\n",
       "      <td>-3.997976</td>\n",
       "      <td>-39.844268</td>\n",
       "      <td>3.578000</td>\n",
       "      <td>-6.885268</td>\n",
       "      <td>0.000000</td>\n",
       "      <td>0.346756</td>\n",
       "      <td>0.346756</td>\n",
       "      <td>0</td>\n",
       "    </tr>\n",
       "    <tr>\n",
       "      <th>...</th>\n",
       "      <td>...</td>\n",
       "      <td>...</td>\n",
       "      <td>...</td>\n",
       "      <td>...</td>\n",
       "      <td>...</td>\n",
       "      <td>...</td>\n",
       "      <td>...</td>\n",
       "      <td>...</td>\n",
       "      <td>...</td>\n",
       "      <td>...</td>\n",
       "      <td>...</td>\n",
       "      <td>...</td>\n",
       "      <td>...</td>\n",
       "      <td>...</td>\n",
       "      <td>...</td>\n",
       "      <td>...</td>\n",
       "      <td>...</td>\n",
       "      <td>...</td>\n",
       "      <td>...</td>\n",
       "      <td>...</td>\n",
       "      <td>...</td>\n",
       "    </tr>\n",
       "    <tr>\n",
       "      <th>1262</th>\n",
       "      <td>2022-10-06 14:10:04</td>\n",
       "      <td>39.451153</td>\n",
       "      <td>-74.584421</td>\n",
       "      <td>0.080000</td>\n",
       "      <td>196.844319</td>\n",
       "      <td>184.554447</td>\n",
       "      <td>2.005553</td>\n",
       "      <td>2.005634</td>\n",
       "      <td>-0.466787</td>\n",
       "      <td>0.614021</td>\n",
       "      <td>...</td>\n",
       "      <td>1.0</td>\n",
       "      <td>-0.139745</td>\n",
       "      <td>13.603340</td>\n",
       "      <td>26.331340</td>\n",
       "      <td>3.543894</td>\n",
       "      <td>-3.961723</td>\n",
       "      <td>43.922319</td>\n",
       "      <td>34.810319</td>\n",
       "      <td>34.810319</td>\n",
       "      <td>0</td>\n",
       "    </tr>\n",
       "    <tr>\n",
       "      <th>1263</th>\n",
       "      <td>2022-10-06 14:10:05</td>\n",
       "      <td>39.451144</td>\n",
       "      <td>-74.584422</td>\n",
       "      <td>0.089200</td>\n",
       "      <td>196.673220</td>\n",
       "      <td>184.383320</td>\n",
       "      <td>1.988140</td>\n",
       "      <td>1.988127</td>\n",
       "      <td>-0.305220</td>\n",
       "      <td>0.522100</td>\n",
       "      <td>...</td>\n",
       "      <td>1.0</td>\n",
       "      <td>-0.154940</td>\n",
       "      <td>17.764740</td>\n",
       "      <td>26.367820</td>\n",
       "      <td>3.548580</td>\n",
       "      <td>-3.458580</td>\n",
       "      <td>44.113300</td>\n",
       "      <td>35.191540</td>\n",
       "      <td>35.191540</td>\n",
       "      <td>0</td>\n",
       "    </tr>\n",
       "    <tr>\n",
       "      <th>1264</th>\n",
       "      <td>2022-10-06 14:10:06</td>\n",
       "      <td>39.451135</td>\n",
       "      <td>-74.584423</td>\n",
       "      <td>0.093125</td>\n",
       "      <td>196.531375</td>\n",
       "      <td>184.241542</td>\n",
       "      <td>1.986812</td>\n",
       "      <td>1.986784</td>\n",
       "      <td>-0.007250</td>\n",
       "      <td>0.472000</td>\n",
       "      <td>...</td>\n",
       "      <td>1.0</td>\n",
       "      <td>-0.148687</td>\n",
       "      <td>22.141667</td>\n",
       "      <td>25.396271</td>\n",
       "      <td>3.591563</td>\n",
       "      <td>-2.788000</td>\n",
       "      <td>44.298854</td>\n",
       "      <td>35.620792</td>\n",
       "      <td>35.620792</td>\n",
       "      <td>0</td>\n",
       "    </tr>\n",
       "    <tr>\n",
       "      <th>1265</th>\n",
       "      <td>2022-10-06 14:10:07</td>\n",
       "      <td>39.451126</td>\n",
       "      <td>-74.584424</td>\n",
       "      <td>0.102889</td>\n",
       "      <td>196.315511</td>\n",
       "      <td>184.025667</td>\n",
       "      <td>1.969689</td>\n",
       "      <td>1.969667</td>\n",
       "      <td>0.263911</td>\n",
       "      <td>0.424578</td>\n",
       "      <td>...</td>\n",
       "      <td>1.0</td>\n",
       "      <td>-0.172756</td>\n",
       "      <td>26.602311</td>\n",
       "      <td>27.095756</td>\n",
       "      <td>3.590222</td>\n",
       "      <td>-2.788000</td>\n",
       "      <td>44.327689</td>\n",
       "      <td>35.752400</td>\n",
       "      <td>35.752400</td>\n",
       "      <td>0</td>\n",
       "    </tr>\n",
       "    <tr>\n",
       "      <th>1266</th>\n",
       "      <td>2022-10-06 14:10:08</td>\n",
       "      <td>39.451120</td>\n",
       "      <td>-74.584424</td>\n",
       "      <td>0.110000</td>\n",
       "      <td>196.109455</td>\n",
       "      <td>183.819545</td>\n",
       "      <td>1.952091</td>\n",
       "      <td>1.952073</td>\n",
       "      <td>0.445636</td>\n",
       "      <td>0.392273</td>\n",
       "      <td>...</td>\n",
       "      <td>1.0</td>\n",
       "      <td>-0.203818</td>\n",
       "      <td>29.295727</td>\n",
       "      <td>27.346455</td>\n",
       "      <td>3.592455</td>\n",
       "      <td>-2.788000</td>\n",
       "      <td>44.289909</td>\n",
       "      <td>35.700727</td>\n",
       "      <td>35.700727</td>\n",
       "      <td>0</td>\n",
       "    </tr>\n",
       "  </tbody>\n",
       "</table>\n",
       "<p>1267 rows × 41 columns</p>\n",
       "</div>"
      ],
      "text/plain": [
       "                datetime   latitude  longitude  absoluteAltitude  \\\n",
       "0    2022-10-06 13:49:02  39.464831 -74.565770          0.076316   \n",
       "1    2022-10-06 13:49:03  39.464831 -74.565770          0.084419   \n",
       "2    2022-10-06 13:49:04  39.464831 -74.565770          0.105000   \n",
       "3    2022-10-06 13:49:05  39.464831 -74.565770          0.105581   \n",
       "4    2022-10-06 13:49:06  39.464831 -74.565770          0.098049   \n",
       "...                  ...        ...        ...               ...   \n",
       "1262 2022-10-06 14:10:04  39.451153 -74.584421          0.080000   \n",
       "1263 2022-10-06 14:10:05  39.451144 -74.584422          0.089200   \n",
       "1264 2022-10-06 14:10:06  39.451135 -74.584423          0.093125   \n",
       "1265 2022-10-06 14:10:07  39.451126 -74.584424          0.102889   \n",
       "1266 2022-10-06 14:10:08  39.451120 -74.584424          0.110000   \n",
       "\n",
       "      magneticHeading  trueHeading  groundSpeed  trueAirspeed     pitch  \\\n",
       "0          270.417368   258.116737     0.146368      0.158536  0.716316   \n",
       "1          270.058698   257.757977     0.046674      0.056327 -0.002674   \n",
       "2          270.057300   257.756700     0.007000      0.007924 -0.094025   \n",
       "3          270.066093   257.765419     0.004023      0.004905 -0.071186   \n",
       "4          270.072756   257.772073     0.007024      0.008670 -0.000659   \n",
       "...               ...          ...          ...           ...       ...   \n",
       "1262       196.844319   184.554447     2.005553      2.005634 -0.466787   \n",
       "1263       196.673220   184.383320     1.988140      1.988127 -0.305220   \n",
       "1264       196.531375   184.241542     1.986812      1.986784 -0.007250   \n",
       "1265       196.315511   184.025667     1.969689      1.969667  0.263911   \n",
       "1266       196.109455   183.819545     1.952091      1.952073  0.445636   \n",
       "\n",
       "          roll  ...  hasWeightOnWheels  turnRate to degPerSec  \\\n",
       "0    -0.245842  ...                1.0              -1.099105   \n",
       "1    -0.840860  ...                1.0              -0.966977   \n",
       "2    -1.189075  ...                1.0              -0.653625   \n",
       "3    -1.184349  ...                1.0              -0.397023   \n",
       "4    -1.049683  ...                1.0              -0.210390   \n",
       "...        ...  ...                ...                    ...   \n",
       "1262  0.614021  ...                1.0              -0.139745   \n",
       "1263  0.522100  ...                1.0              -0.154940   \n",
       "1264  0.472000  ...                1.0              -0.148687   \n",
       "1265  0.424578  ...                1.0              -0.172756   \n",
       "1266  0.392273  ...                1.0              -0.203818   \n",
       "\n",
       "      cyclicPositionPitch  cyclicPositionRoll  collectivePosition  \\\n",
       "0              -15.622737          -45.371053            3.574000   \n",
       "1              -19.012302          -42.589953            3.574000   \n",
       "2              -14.741175          -41.667850            3.577050   \n",
       "3               -9.655767          -40.678442            3.578000   \n",
       "4               -3.997976          -39.844268            3.578000   \n",
       "...                   ...                 ...                 ...   \n",
       "1262            13.603340           26.331340            3.543894   \n",
       "1263            17.764740           26.367820            3.548580   \n",
       "1264            22.141667           25.396271            3.591563   \n",
       "1265            26.602311           27.095756            3.590222   \n",
       "1266            29.295727           27.346455            3.592455   \n",
       "\n",
       "      antiTorquePedalPosition  throttlePosition   e1Torque   e2Torque  \\\n",
       "0                   -7.060158          0.000000  -2.022158  -2.022158   \n",
       "1                   -7.059860          0.000000  -1.269047  -1.269047   \n",
       "2                   -6.958850          0.000000  -0.567350  -0.567350   \n",
       "3                   -6.874140          0.000000  -0.056791  -0.056791   \n",
       "4                   -6.885268          0.000000   0.346756   0.346756   \n",
       "...                       ...               ...        ...        ...   \n",
       "1262                -3.961723         43.922319  34.810319  34.810319   \n",
       "1263                -3.458580         44.113300  35.191540  35.191540   \n",
       "1264                -2.788000         44.298854  35.620792  35.620792   \n",
       "1265                -2.788000         44.327689  35.752400  35.752400   \n",
       "1266                -2.788000         44.289909  35.700727  35.700727   \n",
       "\n",
       "      Quick_Stop  \n",
       "0              0  \n",
       "1              0  \n",
       "2              0  \n",
       "3              0  \n",
       "4              0  \n",
       "...          ...  \n",
       "1262           0  \n",
       "1263           0  \n",
       "1264           0  \n",
       "1265           0  \n",
       "1266           0  \n",
       "\n",
       "[1267 rows x 41 columns]"
      ]
     },
     "execution_count": 34,
     "metadata": {},
     "output_type": "execute_result"
    }
   ],
   "source": [
    "dfqs['Quick_Stop'] = 0\n",
    "\n",
    "dfqs.loc[(dfqs['datetime'].between('2022-10-06 13:51:10' , '2022-10-06 13:51:42' , inclusive='both')),['Quick_Stop']] = 1\n",
    "dfqs.loc[(dfqs['datetime'].between('2022-10-06 14:04:58' , '2022-10-06 14:05:25' , inclusive='both')),['Quick_Stop']] = 1\n",
    "dfqs.loc[(dfqs['datetime'].between('2022-10-06 14:06:00' , '2022-10-06 14:06:20' , inclusive='both')),['Quick_Stop']] = 1\n",
    "dfqs.loc[(dfqs['datetime'].between('2022-10-06 14:08:02' , '2022-10-06 14:08:26' , inclusive='both')),['Quick_Stop']] = 1\n",
    "\n",
    "dfqs"
   ]
  },
  {
   "cell_type": "code",
   "execution_count": 35,
   "metadata": {},
   "outputs": [
    {
     "data": {
      "text/plain": [
       "0    1160\n",
       "1     107\n",
       "Name: Quick_Stop, dtype: int64"
      ]
     },
     "execution_count": 35,
     "metadata": {},
     "output_type": "execute_result"
    }
   ],
   "source": [
    "dfqs['Quick_Stop'].value_counts()"
   ]
  },
  {
   "cell_type": "code",
   "execution_count": 36,
   "metadata": {},
   "outputs": [],
   "source": [
    "# Split the data into X and y\n",
    "X = dfqs[model_features]   \n",
    "Y = dfqs['Quick_Stop']"
   ]
  },
  {
   "cell_type": "markdown",
   "metadata": {},
   "source": [
    "### Load pickle"
   ]
  },
  {
   "cell_type": "code",
   "execution_count": 37,
   "metadata": {},
   "outputs": [],
   "source": [
    "LR_loaded = pickle.load(open('quick_ss2.pkl', 'rb'))\n",
    "scaler_loaded = pickle.load(open('scaler_ss.pkl','rb'))"
   ]
  },
  {
   "cell_type": "code",
   "execution_count": 38,
   "metadata": {},
   "outputs": [],
   "source": [
    "# LR\n",
    "\n",
    "x_valid = scaler_loaded.transform(X)\n"
   ]
  },
  {
   "cell_type": "code",
   "execution_count": 39,
   "metadata": {},
   "outputs": [
    {
     "name": "stdout",
     "output_type": "stream",
     "text": [
      "Accuracy of Model:: 0.6298342541436464\n"
     ]
    }
   ],
   "source": [
    "validation_LR = LR_loaded.predict(x_valid)\n",
    "print(\"Accuracy of Model::\",accuracy_score(Y,validation_LR))"
   ]
  },
  {
   "cell_type": "code",
   "execution_count": 40,
   "metadata": {},
   "outputs": [
    {
     "name": "stdout",
     "output_type": "stream",
     "text": [
      "Quick Stop accuracy (validation) =  0.6298342541436464\n",
      "Recall =  0.7476635514018691\n",
      "Precision =  0.1532567049808429\n"
     ]
    }
   ],
   "source": [
    "y_pred_LR = LR.predict(x_valid)\n",
    "\n",
    "LR8_accuracy = metrics.accuracy_score(y_pred_LR,Y)\n",
    "print('Quick Stop accuracy (validation) = ', LR8_accuracy)\n",
    "print('Recall = ',metrics.recall_score(Y, y_pred_LR))\n",
    "print('Precision = ',metrics.precision_score(Y, y_pred_LR))"
   ]
  },
  {
   "cell_type": "code",
   "execution_count": 41,
   "metadata": {},
   "outputs": [
    {
     "data": {
      "image/png": "[encoded data removed]",
      "text/plain": [
       "<Figure size 640x480 with 2 Axes>"
      ]
     },
     "metadata": {},
     "output_type": "display_data"
    }
   ],
   "source": [
    "CM = metrics.confusion_matrix(Y, y_pred_LR)    # Create a confusion matrix from predicted y and original y value.\n",
    "                                                                \n",
    "AX= plt.subplot()\n",
    "sns.heatmap(CM, annot=True, cmap = 'Reds', fmt='.0f', ax=AX); \n",
    "\n",
    "# labels, title and ticks\n",
    "AX.set_xlabel('Predicted labels');AX.set_ylabel('True labels'); \n",
    "AX.set_title('Confusion Matrix for Quick Stops (Validation data)')\n",
    "AX.xaxis.set_ticklabels(['Not_Quick_Stop', 'Quick_Stop']); AX.yaxis.set_ticklabels(['Not_Quick_Stop', 'Quick_Stop']);"
   ]
  },
  {
   "cell_type": "markdown",
   "metadata": {},
   "source": [
    "# SURFACE TAXIS USING DATA FROM 9/19, 9/20, 9/22, 10/6 TO TRAIN AND 10/27 TO VALIDATE"
   ]
  },
  {
   "cell_type": "code",
   "execution_count": 42,
   "metadata": {},
   "outputs": [],
   "source": [
    "# Dataframe labeling for Surface Taxis\n",
    "df_surface = pd.concat([df1, df2, df3, df4, df5, df6, df7]).reset_index()\n",
    "df_surface['Surface_Taxi'] = 0\n",
    "\n",
    "df_surface.loc[(df_surface['datetime'].between('2022-09-19 21:53:50' , '2022-09-19 21:55:55' , inclusive='both')),['Surface_Taxi']] = 1\n",
    "df_surface.loc[(df_surface['datetime'].between('2022-09-19 22:04:00' , '2022-09-19 22:06:39' , inclusive='both')),['Surface_Taxi']] = 1\n",
    "df_surface.loc[(df_surface['datetime'].between('2022-09-20 20:25:40' , '2022-09-20 20:27:54' , inclusive='both')),['Surface_Taxi']] = 1\n",
    "df_surface.loc[(df_surface['datetime'].between('2022-09-22 21:16:37' , '2022-09-22 21:19:56' , inclusive='both')),['Surface_Taxi']] = 1\n",
    "df_surface.loc[(df_surface['datetime'].between('2022-09-22 21:43:16' , '2022-09-22 21:43:41' , inclusive='both')),['Surface_Taxi']] = 1\n",
    "df_surface.loc[(df_surface['datetime'].between('2022-10-06 13:52:16' , '2022-10-06 13:56:00' , inclusive='both')),['Surface_Taxi']] = 1\n"
   ]
  },
  {
   "cell_type": "code",
   "execution_count": 43,
   "metadata": {},
   "outputs": [
    {
     "data": {
      "text/plain": [
       "0    7615\n",
       "1     872\n",
       "Name: Surface_Taxi, dtype: int64"
      ]
     },
     "execution_count": 43,
     "metadata": {},
     "output_type": "execute_result"
    }
   ],
   "source": [
    "df_surface['Surface_Taxi'].value_counts()"
   ]
  },
  {
   "cell_type": "code",
   "execution_count": 44,
   "metadata": {},
   "outputs": [],
   "source": [
    "x2 = df_surface[model_features]\n",
    "y2 = df_surface['Surface_Taxi']"
   ]
  },
  {
   "cell_type": "code",
   "execution_count": 45,
   "metadata": {},
   "outputs": [
    {
     "name": "stdout",
     "output_type": "stream",
     "text": [
      "Accuracy of LR classifier on training set: 0.96\n"
     ]
    }
   ],
   "source": [
    "#LR standard \n",
    "scaler2 = StandardScaler()\n",
    "x2 = scaler2.fit_transform(x2)\n",
    "\n",
    "LR2 = LogisticRegression()    # Bring empty logistic regression model\n",
    "LR2.fit(x2,y2)      # Train the model with training data\n",
    "print('Accuracy of LR classifier on training set: {:.2f}'\n",
    "     .format(LR2.score(x2, y2)))\n"
   ]
  },
  {
   "cell_type": "code",
   "execution_count": 46,
   "metadata": {},
   "outputs": [],
   "source": [
    "y2_pred_LR = LR2.predict(x2)    # Get predicted y from the logistic regression model"
   ]
  },
  {
   "cell_type": "code",
   "execution_count": 47,
   "metadata": {},
   "outputs": [
    {
     "name": "stdout",
     "output_type": "stream",
     "text": [
      "Classification accuracy =  0.9631200659832685\n",
      "Recall =  0.8600917431192661\n",
      "Precision =  0.7970244420828906\n"
     ]
    }
   ],
   "source": [
    "# Get the classification accuracy, Recall, and Precision with the metrics function.\n",
    "LR2_accuracy = metrics.accuracy_score(y2_pred_LR,y2)\n",
    "print('Classification accuracy = ',LR2_accuracy)\n",
    "print('Recall = ',metrics.recall_score(y2, y2_pred_LR))\n",
    "print('Precision = ',metrics.precision_score(y2, y2_pred_LR))"
   ]
  },
  {
   "cell_type": "code",
   "execution_count": 48,
   "metadata": {},
   "outputs": [],
   "source": [
    "# Check the train data\n",
    "\n",
    "total = 0\n",
    "Surface_Taxi = 0\n",
    "non_Surface_Taxi = 0\n",
    "for i in y2:\n",
    "    if i == 1:\n",
    "        Surface_Taxi += 1\n",
    "    else:\n",
    "        non_Surface_Taxi += 1\n",
    "    total += 1"
   ]
  },
  {
   "cell_type": "code",
   "execution_count": 49,
   "metadata": {},
   "outputs": [
    {
     "name": "stdout",
     "output_type": "stream",
     "text": [
      "872\n",
      "7615\n",
      "0.9\n"
     ]
    }
   ],
   "source": [
    "print(Surface_Taxi)\n",
    "print(non_Surface_Taxi)\n",
    "print(round(non_Surface_Taxi/total,2))"
   ]
  },
  {
   "cell_type": "markdown",
   "metadata": {},
   "source": [
    "Create a balanced dataset & train Logistic regression"
   ]
  },
  {
   "cell_type": "code",
   "execution_count": 50,
   "metadata": {},
   "outputs": [],
   "source": [
    "df_surface_train = df_surface[df_surface['Surface_Taxi']==1]           # The original rows that have label 1\n",
    "non_df_surface_train = df_surface[df_surface['Surface_Taxi']==0]       # The original rows that have label 0"
   ]
  },
  {
   "cell_type": "code",
   "execution_count": 51,
   "metadata": {},
   "outputs": [
    {
     "name": "stdout",
     "output_type": "stream",
     "text": [
      "872\n",
      "7615\n"
     ]
    }
   ],
   "source": [
    "print(len(df_surface_train))\n",
    "print(len(non_df_surface_train))"
   ]
  },
  {
   "cell_type": "code",
   "execution_count": 52,
   "metadata": {},
   "outputs": [],
   "source": [
    "sampled_non_df_surface = non_df_surface_train.sample(n = 872)    # Sample 872 data points from the surface taxi data"
   ]
  },
  {
   "cell_type": "code",
   "execution_count": 53,
   "metadata": {},
   "outputs": [
    {
     "name": "stdout",
     "output_type": "stream",
     "text": [
      "872\n",
      "872\n"
     ]
    }
   ],
   "source": [
    "print(len(df_surface_train))\n",
    "print(len(sampled_non_df_surface))"
   ]
  },
  {
   "cell_type": "code",
   "execution_count": 54,
   "metadata": {},
   "outputs": [],
   "source": [
    "merged2 = pd.concat([df_surface_train, sampled_non_df_surface])     # After balancing, concatenating both classes into 1 dataframe"
   ]
  },
  {
   "cell_type": "code",
   "execution_count": 55,
   "metadata": {},
   "outputs": [
    {
     "name": "stdout",
     "output_type": "stream",
     "text": [
      "1744\n"
     ]
    }
   ],
   "source": [
    "print(len(merged2))"
   ]
  },
  {
   "cell_type": "code",
   "execution_count": 56,
   "metadata": {},
   "outputs": [
    {
     "data": {
      "text/html": [
       "<div>\n",
       "<style scoped>\n",
       "    .dataframe tbody tr th:only-of-type {\n",
       "        vertical-align: middle;\n",
       "    }\n",
       "\n",
       "    .dataframe tbody tr th {\n",
       "        vertical-align: top;\n",
       "    }\n",
       "\n",
       "    .dataframe thead th {\n",
       "        text-align: right;\n",
       "    }\n",
       "</style>\n",
       "<table border=\"1\" class=\"dataframe\">\n",
       "  <thead>\n",
       "    <tr style=\"text-align: right;\">\n",
       "      <th></th>\n",
       "      <th>index</th>\n",
       "      <th>datetime</th>\n",
       "      <th>latitude</th>\n",
       "      <th>longitude</th>\n",
       "      <th>absoluteAltitude</th>\n",
       "      <th>magneticHeading</th>\n",
       "      <th>trueHeading</th>\n",
       "      <th>groundSpeed</th>\n",
       "      <th>trueAirspeed</th>\n",
       "      <th>pitch</th>\n",
       "      <th>...</th>\n",
       "      <th>hasWeightOnWheels</th>\n",
       "      <th>turnRate to degPerSec</th>\n",
       "      <th>cyclicPositionPitch</th>\n",
       "      <th>cyclicPositionRoll</th>\n",
       "      <th>collectivePosition</th>\n",
       "      <th>antiTorquePedalPosition</th>\n",
       "      <th>throttlePosition</th>\n",
       "      <th>e1Torque</th>\n",
       "      <th>e2Torque</th>\n",
       "      <th>Surface_Taxi</th>\n",
       "    </tr>\n",
       "  </thead>\n",
       "  <tbody>\n",
       "    <tr>\n",
       "      <th>2758</th>\n",
       "      <td>123</td>\n",
       "      <td>2022-09-19 21:53:50</td>\n",
       "      <td>39.872826</td>\n",
       "      <td>-75.234782</td>\n",
       "      <td>0.232708</td>\n",
       "      <td>259.489000</td>\n",
       "      <td>247.440354</td>\n",
       "      <td>0.682083</td>\n",
       "      <td>0.684220</td>\n",
       "      <td>-1.061208</td>\n",
       "      <td>...</td>\n",
       "      <td>1.0</td>\n",
       "      <td>0.008646</td>\n",
       "      <td>-20.697396</td>\n",
       "      <td>-4.869979</td>\n",
       "      <td>32.787938</td>\n",
       "      <td>11.191542</td>\n",
       "      <td>42.742437</td>\n",
       "      <td>31.345979</td>\n",
       "      <td>31.345979</td>\n",
       "      <td>1</td>\n",
       "    </tr>\n",
       "    <tr>\n",
       "      <th>2759</th>\n",
       "      <td>124</td>\n",
       "      <td>2022-09-19 21:53:51</td>\n",
       "      <td>39.872824</td>\n",
       "      <td>-75.234788</td>\n",
       "      <td>0.245306</td>\n",
       "      <td>259.937388</td>\n",
       "      <td>247.888714</td>\n",
       "      <td>1.485755</td>\n",
       "      <td>1.485781</td>\n",
       "      <td>-1.190224</td>\n",
       "      <td>...</td>\n",
       "      <td>1.0</td>\n",
       "      <td>0.283837</td>\n",
       "      <td>-24.496102</td>\n",
       "      <td>-0.463061</td>\n",
       "      <td>33.563122</td>\n",
       "      <td>11.287429</td>\n",
       "      <td>45.236265</td>\n",
       "      <td>36.912918</td>\n",
       "      <td>36.912918</td>\n",
       "      <td>1</td>\n",
       "    </tr>\n",
       "    <tr>\n",
       "      <th>2760</th>\n",
       "      <td>125</td>\n",
       "      <td>2022-09-19 21:53:52</td>\n",
       "      <td>39.872820</td>\n",
       "      <td>-75.234799</td>\n",
       "      <td>0.243750</td>\n",
       "      <td>260.249188</td>\n",
       "      <td>248.200521</td>\n",
       "      <td>2.323854</td>\n",
       "      <td>2.323846</td>\n",
       "      <td>-1.215479</td>\n",
       "      <td>...</td>\n",
       "      <td>1.0</td>\n",
       "      <td>0.324771</td>\n",
       "      <td>-23.142354</td>\n",
       "      <td>-0.877667</td>\n",
       "      <td>33.575000</td>\n",
       "      <td>11.824292</td>\n",
       "      <td>44.872375</td>\n",
       "      <td>37.355271</td>\n",
       "      <td>37.355271</td>\n",
       "      <td>1</td>\n",
       "    </tr>\n",
       "    <tr>\n",
       "      <th>2761</th>\n",
       "      <td>126</td>\n",
       "      <td>2022-09-19 21:53:53</td>\n",
       "      <td>39.872816</td>\n",
       "      <td>-75.234814</td>\n",
       "      <td>0.255102</td>\n",
       "      <td>260.700082</td>\n",
       "      <td>248.651551</td>\n",
       "      <td>2.799245</td>\n",
       "      <td>2.799233</td>\n",
       "      <td>-1.244388</td>\n",
       "      <td>...</td>\n",
       "      <td>1.0</td>\n",
       "      <td>0.357286</td>\n",
       "      <td>-22.971490</td>\n",
       "      <td>-1.427184</td>\n",
       "      <td>33.575000</td>\n",
       "      <td>12.283143</td>\n",
       "      <td>43.904286</td>\n",
       "      <td>35.235449</td>\n",
       "      <td>35.235449</td>\n",
       "      <td>1</td>\n",
       "    </tr>\n",
       "    <tr>\n",
       "      <th>2762</th>\n",
       "      <td>127</td>\n",
       "      <td>2022-09-19 21:53:54</td>\n",
       "      <td>39.872811</td>\n",
       "      <td>-75.234831</td>\n",
       "      <td>0.254286</td>\n",
       "      <td>261.131612</td>\n",
       "      <td>249.083061</td>\n",
       "      <td>3.203041</td>\n",
       "      <td>3.203053</td>\n",
       "      <td>-1.211551</td>\n",
       "      <td>...</td>\n",
       "      <td>1.0</td>\n",
       "      <td>0.359000</td>\n",
       "      <td>-22.986388</td>\n",
       "      <td>-1.904898</td>\n",
       "      <td>33.575000</td>\n",
       "      <td>12.019673</td>\n",
       "      <td>43.528714</td>\n",
       "      <td>34.235020</td>\n",
       "      <td>34.235020</td>\n",
       "      <td>1</td>\n",
       "    </tr>\n",
       "    <tr>\n",
       "      <th>...</th>\n",
       "      <td>...</td>\n",
       "      <td>...</td>\n",
       "      <td>...</td>\n",
       "      <td>...</td>\n",
       "      <td>...</td>\n",
       "      <td>...</td>\n",
       "      <td>...</td>\n",
       "      <td>...</td>\n",
       "      <td>...</td>\n",
       "      <td>...</td>\n",
       "      <td>...</td>\n",
       "      <td>...</td>\n",
       "      <td>...</td>\n",
       "      <td>...</td>\n",
       "      <td>...</td>\n",
       "      <td>...</td>\n",
       "      <td>...</td>\n",
       "      <td>...</td>\n",
       "      <td>...</td>\n",
       "      <td>...</td>\n",
       "      <td>...</td>\n",
       "    </tr>\n",
       "    <tr>\n",
       "      <th>5931</th>\n",
       "      <td>798</td>\n",
       "      <td>2022-09-22 21:28:13</td>\n",
       "      <td>20.889012</td>\n",
       "      <td>-156.434000</td>\n",
       "      <td>5.130968</td>\n",
       "      <td>90.299903</td>\n",
       "      <td>99.780710</td>\n",
       "      <td>6.265226</td>\n",
       "      <td>6.268978</td>\n",
       "      <td>7.525419</td>\n",
       "      <td>...</td>\n",
       "      <td>0.0</td>\n",
       "      <td>-2.987839</td>\n",
       "      <td>-10.419742</td>\n",
       "      <td>-3.552323</td>\n",
       "      <td>43.935516</td>\n",
       "      <td>-23.376097</td>\n",
       "      <td>54.068129</td>\n",
       "      <td>56.847742</td>\n",
       "      <td>56.847742</td>\n",
       "      <td>0</td>\n",
       "    </tr>\n",
       "    <tr>\n",
       "      <th>3225</th>\n",
       "      <td>590</td>\n",
       "      <td>2022-09-19 22:01:37</td>\n",
       "      <td>39.861453</td>\n",
       "      <td>-75.255398</td>\n",
       "      <td>3.755200</td>\n",
       "      <td>132.676440</td>\n",
       "      <td>120.642120</td>\n",
       "      <td>2.764180</td>\n",
       "      <td>2.934846</td>\n",
       "      <td>7.190380</td>\n",
       "      <td>...</td>\n",
       "      <td>0.0</td>\n",
       "      <td>0.172280</td>\n",
       "      <td>-4.606940</td>\n",
       "      <td>3.702660</td>\n",
       "      <td>43.011080</td>\n",
       "      <td>10.195100</td>\n",
       "      <td>52.126280</td>\n",
       "      <td>52.237440</td>\n",
       "      <td>52.237440</td>\n",
       "      <td>0</td>\n",
       "    </tr>\n",
       "    <tr>\n",
       "      <th>4489</th>\n",
       "      <td>164</td>\n",
       "      <td>2022-09-20 20:31:15</td>\n",
       "      <td>39.453150</td>\n",
       "      <td>-74.573786</td>\n",
       "      <td>110.918205</td>\n",
       "      <td>247.369718</td>\n",
       "      <td>235.074846</td>\n",
       "      <td>42.258590</td>\n",
       "      <td>42.273232</td>\n",
       "      <td>-0.265692</td>\n",
       "      <td>...</td>\n",
       "      <td>0.0</td>\n",
       "      <td>-0.692692</td>\n",
       "      <td>-16.329744</td>\n",
       "      <td>-10.454949</td>\n",
       "      <td>40.227000</td>\n",
       "      <td>-17.259718</td>\n",
       "      <td>52.635692</td>\n",
       "      <td>53.185051</td>\n",
       "      <td>53.185051</td>\n",
       "      <td>0</td>\n",
       "    </tr>\n",
       "    <tr>\n",
       "      <th>6378</th>\n",
       "      <td>1245</td>\n",
       "      <td>2022-09-22 21:35:40</td>\n",
       "      <td>20.897349</td>\n",
       "      <td>-156.430076</td>\n",
       "      <td>205.615116</td>\n",
       "      <td>197.544233</td>\n",
       "      <td>207.026186</td>\n",
       "      <td>9.532558</td>\n",
       "      <td>12.107163</td>\n",
       "      <td>9.512674</td>\n",
       "      <td>...</td>\n",
       "      <td>0.0</td>\n",
       "      <td>0.308000</td>\n",
       "      <td>-7.836349</td>\n",
       "      <td>-9.597930</td>\n",
       "      <td>37.964953</td>\n",
       "      <td>5.455070</td>\n",
       "      <td>49.324326</td>\n",
       "      <td>45.840093</td>\n",
       "      <td>45.840093</td>\n",
       "      <td>0</td>\n",
       "    </tr>\n",
       "    <tr>\n",
       "      <th>2475</th>\n",
       "      <td>1120</td>\n",
       "      <td>2022-09-19 20:57:07</td>\n",
       "      <td>39.478156</td>\n",
       "      <td>-74.598178</td>\n",
       "      <td>905.185000</td>\n",
       "      <td>130.315773</td>\n",
       "      <td>118.026864</td>\n",
       "      <td>71.800614</td>\n",
       "      <td>72.565353</td>\n",
       "      <td>1.662682</td>\n",
       "      <td>...</td>\n",
       "      <td>0.0</td>\n",
       "      <td>-0.215500</td>\n",
       "      <td>-10.294295</td>\n",
       "      <td>-0.861955</td>\n",
       "      <td>24.991000</td>\n",
       "      <td>18.520977</td>\n",
       "      <td>43.769455</td>\n",
       "      <td>33.667886</td>\n",
       "      <td>33.667886</td>\n",
       "      <td>0</td>\n",
       "    </tr>\n",
       "  </tbody>\n",
       "</table>\n",
       "<p>1744 rows × 42 columns</p>\n",
       "</div>"
      ],
      "text/plain": [
       "      index            datetime   latitude   longitude  absoluteAltitude  \\\n",
       "2758    123 2022-09-19 21:53:50  39.872826  -75.234782          0.232708   \n",
       "2759    124 2022-09-19 21:53:51  39.872824  -75.234788          0.245306   \n",
       "2760    125 2022-09-19 21:53:52  39.872820  -75.234799          0.243750   \n",
       "2761    126 2022-09-19 21:53:53  39.872816  -75.234814          0.255102   \n",
       "2762    127 2022-09-19 21:53:54  39.872811  -75.234831          0.254286   \n",
       "...     ...                 ...        ...         ...               ...   \n",
       "5931    798 2022-09-22 21:28:13  20.889012 -156.434000          5.130968   \n",
       "3225    590 2022-09-19 22:01:37  39.861453  -75.255398          3.755200   \n",
       "4489    164 2022-09-20 20:31:15  39.453150  -74.573786        110.918205   \n",
       "6378   1245 2022-09-22 21:35:40  20.897349 -156.430076        205.615116   \n",
       "2475   1120 2022-09-19 20:57:07  39.478156  -74.598178        905.185000   \n",
       "\n",
       "      magneticHeading  trueHeading  groundSpeed  trueAirspeed     pitch  ...  \\\n",
       "2758       259.489000   247.440354     0.682083      0.684220 -1.061208  ...   \n",
       "2759       259.937388   247.888714     1.485755      1.485781 -1.190224  ...   \n",
       "2760       260.249188   248.200521     2.323854      2.323846 -1.215479  ...   \n",
       "2761       260.700082   248.651551     2.799245      2.799233 -1.244388  ...   \n",
       "2762       261.131612   249.083061     3.203041      3.203053 -1.211551  ...   \n",
       "...               ...          ...          ...           ...       ...  ...   \n",
       "5931        90.299903    99.780710     6.265226      6.268978  7.525419  ...   \n",
       "3225       132.676440   120.642120     2.764180      2.934846  7.190380  ...   \n",
       "4489       247.369718   235.074846    42.258590     42.273232 -0.265692  ...   \n",
       "6378       197.544233   207.026186     9.532558     12.107163  9.512674  ...   \n",
       "2475       130.315773   118.026864    71.800614     72.565353  1.662682  ...   \n",
       "\n",
       "      hasWeightOnWheels  turnRate to degPerSec  cyclicPositionPitch  \\\n",
       "2758                1.0               0.008646           -20.697396   \n",
       "2759                1.0               0.283837           -24.496102   \n",
       "2760                1.0               0.324771           -23.142354   \n",
       "2761                1.0               0.357286           -22.971490   \n",
       "2762                1.0               0.359000           -22.986388   \n",
       "...                 ...                    ...                  ...   \n",
       "5931                0.0              -2.987839           -10.419742   \n",
       "3225                0.0               0.172280            -4.606940   \n",
       "4489                0.0              -0.692692           -16.329744   \n",
       "6378                0.0               0.308000            -7.836349   \n",
       "2475                0.0              -0.215500           -10.294295   \n",
       "\n",
       "      cyclicPositionRoll  collectivePosition  antiTorquePedalPosition  \\\n",
       "2758           -4.869979           32.787938                11.191542   \n",
       "2759           -0.463061           33.563122                11.287429   \n",
       "2760           -0.877667           33.575000                11.824292   \n",
       "2761           -1.427184           33.575000                12.283143   \n",
       "2762           -1.904898           33.575000                12.019673   \n",
       "...                  ...                 ...                      ...   \n",
       "5931           -3.552323           43.935516               -23.376097   \n",
       "3225            3.702660           43.011080                10.195100   \n",
       "4489          -10.454949           40.227000               -17.259718   \n",
       "6378           -9.597930           37.964953                 5.455070   \n",
       "2475           -0.861955           24.991000                18.520977   \n",
       "\n",
       "      throttlePosition   e1Torque   e2Torque  Surface_Taxi  \n",
       "2758         42.742437  31.345979  31.345979             1  \n",
       "2759         45.236265  36.912918  36.912918             1  \n",
       "2760         44.872375  37.355271  37.355271             1  \n",
       "2761         43.904286  35.235449  35.235449             1  \n",
       "2762         43.528714  34.235020  34.235020             1  \n",
       "...                ...        ...        ...           ...  \n",
       "5931         54.068129  56.847742  56.847742             0  \n",
       "3225         52.126280  52.237440  52.237440             0  \n",
       "4489         52.635692  53.185051  53.185051             0  \n",
       "6378         49.324326  45.840093  45.840093             0  \n",
       "2475         43.769455  33.667886  33.667886             0  \n",
       "\n",
       "[1744 rows x 42 columns]"
      ]
     },
     "execution_count": 56,
     "metadata": {},
     "output_type": "execute_result"
    }
   ],
   "source": [
    "merged2"
   ]
  },
  {
   "cell_type": "code",
   "execution_count": 57,
   "metadata": {},
   "outputs": [],
   "source": [
    "# Split the data into X and y\n",
    "x2 = merged2[model_features]   \n",
    "y2 = merged2['Surface_Taxi']"
   ]
  },
  {
   "cell_type": "code",
   "execution_count": 58,
   "metadata": {},
   "outputs": [
    {
     "name": "stdout",
     "output_type": "stream",
     "text": [
      "872\n",
      "872\n",
      "0.5\n"
     ]
    }
   ],
   "source": [
    "total = 0\n",
    "Surface_Taxi = 0\n",
    "non_Surface_Taxi = 0\n",
    "for i in y2:\n",
    "    if i == 1:\n",
    "        Surface_Taxi += 1\n",
    "    else:\n",
    "        non_Surface_Taxi += 1\n",
    "    total += 1\n",
    "    \n",
    "print(Surface_Taxi)\n",
    "print(non_Surface_Taxi)\n",
    "print(non_Surface_Taxi/total)"
   ]
  },
  {
   "cell_type": "code",
   "execution_count": 59,
   "metadata": {},
   "outputs": [
    {
     "name": "stdout",
     "output_type": "stream",
     "text": [
      "Accuracy of LR classifier on training set: 0.93\n"
     ]
    }
   ],
   "source": [
    "#LR standardizing \n",
    "scaler2 = StandardScaler()\n",
    "x2 = scaler2.fit_transform(x2)\n",
    "\n",
    "\n",
    "LR2 = LogisticRegression()    # Bring empty logistic regression model\n",
    "LR2.fit(x2,y2)                  # Train the model with all data\n",
    "print('Accuracy of LR classifier on training set: {:.2f}'\n",
    "     .format(LR2.score(x2, y2)))\n"
   ]
  },
  {
   "cell_type": "code",
   "execution_count": 60,
   "metadata": {},
   "outputs": [
    {
     "name": "stdout",
     "output_type": "stream",
     "text": [
      "Surface Taxi accuracy (training) =  0.9323394495412844\n",
      "Recall =  0.9174311926605505\n",
      "Precision =  0.9456264775413712\n"
     ]
    }
   ],
   "source": [
    "y2_pred_LR = LR2.predict(x2)\n",
    "\n",
    "LR2_accuracy = metrics.accuracy_score(y2_pred_LR,y2)\n",
    "print('Surface Taxi accuracy (training) = ', LR2_accuracy)\n",
    "print('Recall = ',metrics.recall_score(y2, y2_pred_LR))\n",
    "print('Precision = ',metrics.precision_score(y2, y2_pred_LR))"
   ]
  },
  {
   "cell_type": "code",
   "execution_count": 61,
   "metadata": {},
   "outputs": [
    {
     "data": {
      "image/png": "[encoded data removed]",
      "text/plain": [
       "<Figure size 640x480 with 2 Axes>"
      ]
     },
     "metadata": {},
     "output_type": "display_data"
    }
   ],
   "source": [
    "cm2 = metrics.confusion_matrix(y2, y2_pred_LR)    # Create a confusion matrix from predicted y and original y value.\n",
    "                                                    \n",
    "           \n",
    "ax2= plt.subplot()\n",
    "sns.heatmap(cm2, annot=True, cmap = 'Reds', fmt='.0f', ax=ax2);  \n",
    "\n",
    "# labels, title and ticks\n",
    "ax2.set_xlabel('Predicted labels');ax2.set_ylabel('True labels'); \n",
    "ax2.set_title('Confusion Matrix for Surface Taxis (Training data)')\n",
    "ax2.xaxis.set_ticklabels(['Not_Surface_Taxi', 'Surface_Taxi']); ax2.yaxis.set_ticklabels(['Not_Surface_Taxi', 'Surface_Taxi']);"
   ]
  },
  {
   "cell_type": "code",
   "execution_count": 62,
   "metadata": {},
   "outputs": [],
   "source": [
    "y2_pred_proba = LR2.predict_proba(x2)   # Get the probability of LR classification \n",
    "                                          \n",
    "false_positive_rate2, true_positive_rate2, thresholds2 = metrics.roc_curve(y2, y2_pred_proba[:,1])     \n",
    "# Orignally predict_proba returned 2 values for both classes. \n",
    "# So, we picked second one which gives the probability of class 1"
   ]
  },
  {
   "cell_type": "code",
   "execution_count": 63,
   "metadata": {},
   "outputs": [
    {
     "data": {
      "text/plain": [
       "[<matplotlib.lines.Line2D at 0x1ae6703c940>]"
      ]
     },
     "execution_count": 63,
     "metadata": {},
     "output_type": "execute_result"
    },
    {
     "data": {
      "image/png": "[encoded data removed]",
      "text/plain": [
       "<Figure size 640x480 with 1 Axes>"
      ]
     },
     "metadata": {},
     "output_type": "display_data"
    }
   ],
   "source": [
    "# Plot ROC curve\n",
    "%matplotlib inline  \n",
    "plt.ylabel('True Positive Rate')\n",
    "plt.xlabel('False Positive Rate')\n",
    "plt.title('ROC curve for surface taxis (logistic regression)')\n",
    "plt.plot(false_positive_rate2, true_positive_rate2)  \n"
   ]
  },
  {
   "cell_type": "code",
   "execution_count": 64,
   "metadata": {
    "scrolled": true
   },
   "outputs": [
    {
     "name": "stdout",
     "output_type": "stream",
     "text": [
      "AUC for surface taxis (LR) = 0.9810056497769548\n"
     ]
    }
   ],
   "source": [
    "# Compute AUC\n",
    "auc2 = metrics.auc(false_positive_rate2, true_positive_rate2)   # metrics also provide the auc area\n",
    "print(\"AUC for surface taxis (LR) =\", auc2)"
   ]
  },
  {
   "cell_type": "markdown",
   "metadata": {},
   "source": [
    "### Saving Model"
   ]
  },
  {
   "cell_type": "code",
   "execution_count": 65,
   "metadata": {},
   "outputs": [],
   "source": [
    "pickle.dump(LR2, open('surface_ss2.pkl', 'wb'))"
   ]
  },
  {
   "cell_type": "code",
   "execution_count": 66,
   "metadata": {},
   "outputs": [],
   "source": [
    "pickle.dump(scaler2, open('scaler2_ss.pkl','wb'))"
   ]
  },
  {
   "cell_type": "markdown",
   "metadata": {},
   "source": [
    "### Load new data for validation "
   ]
  },
  {
   "cell_type": "code",
   "execution_count": 67,
   "metadata": {},
   "outputs": [
    {
     "name": "stderr",
     "output_type": "stream",
     "text": [
      "C:\\Users\\fariy\\AppData\\Local\\Temp\\ipykernel_23644\\17026926.py:3: SettingWithCopyWarning: \n",
      "A value is trying to be set on a copy of a slice from a DataFrame.\n",
      "Try using .loc[row_indexer,col_indexer] = value instead\n",
      "\n",
      "See the caveats in the documentation: https://pandas.pydata.org/pandas-docs/stable/user_guide/indexing.html#returning-a-view-versus-a-copy\n",
      "  df_temp['datetime'] = df_temp.datetime.dt.strftime('%Y-%m-%d %H:%M:%S').astype('datetime64[ns]')\n"
     ]
    }
   ],
   "source": [
    "# reading files from 10/27 dataset\n",
    "dfsurface = pd.read_csv('SimData_2022.10.27_17.55.06.csv.roar.csv',\n",
    "                parse_dates = {'datetime': ['date', 'time']},\n",
    "                low_memory=False)\n",
    "dfsurface = df_transformation(dfsurface)"
   ]
  },
  {
   "cell_type": "code",
   "execution_count": 68,
   "metadata": {},
   "outputs": [],
   "source": [
    "dfsurface['Surface_Taxi'] = 0\n",
    "\n",
    "dfsurface.loc[(dfsurface['datetime'].between('2022-10-27 21:57:45' , '2022-10-27 21:59:45' , inclusive='both')),['Surface_Taxi']] = 1\n",
    "dfsurface.loc[(dfsurface['datetime'].between('2022-10-27 22:00:30' , '2022-10-27 22:04:55' , inclusive='both')),['Surface_Taxi']] = 1\n",
    "dfsurface.loc[(dfsurface['datetime'].between('2022-10-27 22:06:00' , '2022-10-27 22:07:59' , inclusive='both')),['Surface_Taxi']] = 1\n",
    "dfsurface.loc[(dfsurface['datetime'].between('2022-10-27 22:09:03' , '2022-10-27 22:11:12' , inclusive='both')),['Surface_Taxi']] = 1\n",
    "dfsurface.loc[(dfsurface['datetime'].between('2022-10-27 22:13:30' , '2022-10-27 22:17:58' , inclusive='both')),['Surface_Taxi']] = 1"
   ]
  },
  {
   "cell_type": "code",
   "execution_count": 69,
   "metadata": {},
   "outputs": [],
   "source": [
    "# Split the data into X and y\n",
    "X2 = dfsurface[model_features]   \n",
    "Y2 = dfsurface['Surface_Taxi']"
   ]
  },
  {
   "cell_type": "markdown",
   "metadata": {},
   "source": [
    "### Load pickle"
   ]
  },
  {
   "cell_type": "code",
   "execution_count": 70,
   "metadata": {},
   "outputs": [],
   "source": [
    "LR2_loaded = pickle.load(open('surface_ss2.pkl', 'rb'))\n",
    "scaler2_loaded = pickle.load(open('scaler2_ss.pkl','rb'))"
   ]
  },
  {
   "cell_type": "code",
   "execution_count": 71,
   "metadata": {},
   "outputs": [],
   "source": [
    "# LR\n",
    "\n",
    "x2_valid = scaler2_loaded.transform(X2)\n"
   ]
  },
  {
   "cell_type": "code",
   "execution_count": 72,
   "metadata": {},
   "outputs": [
    {
     "name": "stdout",
     "output_type": "stream",
     "text": [
      "Accuracy of Model:: 0.9717713479181369\n"
     ]
    }
   ],
   "source": [
    "validation2_LR = LR2_loaded.predict(x2_valid)\n",
    "print(\"Accuracy of Model::\",accuracy_score(Y2,validation2_LR))"
   ]
  },
  {
   "cell_type": "code",
   "execution_count": 73,
   "metadata": {},
   "outputs": [
    {
     "name": "stdout",
     "output_type": "stream",
     "text": [
      "Surface Taxi accuracy (validation) =  0.9717713479181369\n",
      "Recall =  0.9834437086092715\n",
      "Precision =  0.972707423580786\n"
     ]
    }
   ],
   "source": [
    "y2_pred_LR = LR2.predict(x2_valid)\n",
    "\n",
    "LR9_accuracy = metrics.accuracy_score(y2_pred_LR,Y2)\n",
    "print('Surface Taxi accuracy (validation) = ', LR9_accuracy)\n",
    "print('Recall = ',metrics.recall_score(Y2, y2_pred_LR))\n",
    "print('Precision = ',metrics.precision_score(Y2, y2_pred_LR))"
   ]
  },
  {
   "cell_type": "code",
   "execution_count": 74,
   "metadata": {},
   "outputs": [
    {
     "data": {
      "image/png": "[encoded data removed]",
      "text/plain": [
       "<Figure size 640x480 with 2 Axes>"
      ]
     },
     "metadata": {},
     "output_type": "display_data"
    }
   ],
   "source": [
    "CM2 = metrics.confusion_matrix(Y2, y2_pred_LR)    # Create a confusion matrix from predicted y and original y value.\n",
    "            \n",
    "AX2= plt.subplot()\n",
    "sns.heatmap(CM2, annot=True, cmap = 'Reds', fmt='.0f', ax=AX2); \n",
    "\n",
    "# labels, title and ticks\n",
    "AX2.set_xlabel('Predicted labels');AX2.set_ylabel('True labels'); \n",
    "AX2.set_title('Confusion Matrix for Surface Taxi (Validation data)')\n",
    "AX2.xaxis.set_ticklabels(['Not_Surface_Taxi', 'Surface_Taxi']); AX2.yaxis.set_ticklabels(['Not_Surface_Taxi', 'Surface_Taxi']);"
   ]
  },
  {
   "cell_type": "markdown",
   "metadata": {},
   "source": [
    "# HOVER TAXIS USING DATA FROM 9/19, 9/20, 9/22, 10/6 TO TRAIN AND 10/20 TO VALIDATE"
   ]
  },
  {
   "cell_type": "code",
   "execution_count": 75,
   "metadata": {},
   "outputs": [],
   "source": [
    "# Dataframe labeling for Hover Taxis\n",
    "df_h = pd.concat([df1,df2,df3,df4,df5,df6,df7]).reset_index()\n",
    "df_h['hover'] = 0\n",
    "\n",
    "df_h.loc[(df_h['datetime'].between('2022-09-19 21:57:07' , '2022-09-19 21:59:20' , inclusive='both')),['hover']] = 1\n",
    "df_h.loc[(df_h['datetime'].between('2022-09-19 22:08:15' , '2022-09-19 22:10:24' , inclusive='both')),['hover']] = 1\n",
    "df_h.loc[(df_h['datetime'].between('2022-09-20 20:28:44' , '2022-09-20 20:30:06' , inclusive='both')),['hover']] = 1\n",
    "df_h.loc[(df_h['datetime'].between('2022-09-20 20:30:31' , '2022-09-20 20:32:16' , inclusive='both')),['hover']] = 1\n",
    "df_h.loc[(df_h['datetime'].between('2022-09-20 20:32:39' , '2022-09-20 20:34:06' , inclusive='both')),['hover']] = 1\n",
    "df_h.loc[(df_h['datetime'].between('2022-09-20 20:34:50' , '2022-09-20 20:36:51' , inclusive='both')),['hover']] = 1\n",
    "df_h.loc[(df_h['datetime'].between('2022-09-22 21:20:41' , '2022-09-22 21:23:56' , inclusive='both')),['hover']] = 1\n",
    "df_h.loc[(df_h['datetime'].between('2022-09-22 21:28:35' , '2022-09-22 21:29:46' , inclusive='both')),['hover']] = 1\n",
    "df_h.loc[(df_h['datetime'].between('2022-09-22 21:44:09' , '2022-09-22 21:45:31' , inclusive='both')),['hover']] = 1\n",
    "df_h.loc[(df_h['datetime'].between('2022-10-06 13:56:43' , '2022-10-06 14:00:40' , inclusive='both')),['hover']] = 1\n"
   ]
  },
  {
   "cell_type": "code",
   "execution_count": 76,
   "metadata": {},
   "outputs": [
    {
     "data": {
      "text/plain": [
       "0    7235\n",
       "1    1252\n",
       "Name: hover, dtype: int64"
      ]
     },
     "execution_count": 76,
     "metadata": {},
     "output_type": "execute_result"
    }
   ],
   "source": [
    "df_h['hover'].value_counts()"
   ]
  },
  {
   "cell_type": "code",
   "execution_count": 77,
   "metadata": {},
   "outputs": [],
   "source": [
    "X3 = df_h[model_features]\n",
    "y3 = df_h['hover']"
   ]
  },
  {
   "cell_type": "code",
   "execution_count": 78,
   "metadata": {},
   "outputs": [],
   "source": [
    "# Check the train data\n",
    "\n",
    "total = 0\n",
    "h = 0\n",
    "non_h = 0\n",
    "for i in y3:\n",
    "    if i == 1:\n",
    "        h += 1\n",
    "    else:\n",
    "        non_h += 1\n",
    "    total += 1"
   ]
  },
  {
   "cell_type": "code",
   "execution_count": 79,
   "metadata": {},
   "outputs": [
    {
     "name": "stdout",
     "output_type": "stream",
     "text": [
      "1252\n",
      "7235\n",
      "0.85\n"
     ]
    }
   ],
   "source": [
    "print(h)\n",
    "print(non_h)\n",
    "print(round(non_h/total,2))"
   ]
  },
  {
   "cell_type": "markdown",
   "metadata": {},
   "source": [
    "Create a balanced dataset & train Logistic regression"
   ]
  },
  {
   "cell_type": "code",
   "execution_count": 80,
   "metadata": {},
   "outputs": [],
   "source": [
    "df_h_train = df_h[df_h['hover']==1]           # The original rows that have label 1\n",
    "non_df_h_train = df_h[df_h['hover']==0]       # The original rows that have label 0"
   ]
  },
  {
   "cell_type": "code",
   "execution_count": 81,
   "metadata": {},
   "outputs": [
    {
     "name": "stdout",
     "output_type": "stream",
     "text": [
      "1252\n",
      "7235\n"
     ]
    }
   ],
   "source": [
    "print(len(df_h_train))\n",
    "print(len(non_df_h_train))"
   ]
  },
  {
   "cell_type": "code",
   "execution_count": 82,
   "metadata": {},
   "outputs": [],
   "source": [
    "sampled_non_df_h = non_df_h_train.sample(n = 1252)    # Sample 1252 data points from the hover taxi data"
   ]
  },
  {
   "cell_type": "code",
   "execution_count": 83,
   "metadata": {},
   "outputs": [
    {
     "name": "stdout",
     "output_type": "stream",
     "text": [
      "1252\n",
      "1252\n"
     ]
    }
   ],
   "source": [
    "print(len(df_h_train))\n",
    "print(len(sampled_non_df_h))"
   ]
  },
  {
   "cell_type": "code",
   "execution_count": 84,
   "metadata": {},
   "outputs": [],
   "source": [
    "merged3 = pd.concat([df_h_train, sampled_non_df_h])     # After balancing, concatenating  both classes into 1 dataframe"
   ]
  },
  {
   "cell_type": "code",
   "execution_count": 85,
   "metadata": {},
   "outputs": [
    {
     "name": "stdout",
     "output_type": "stream",
     "text": [
      "2504\n"
     ]
    }
   ],
   "source": [
    "print(len(merged3))"
   ]
  },
  {
   "cell_type": "code",
   "execution_count": 86,
   "metadata": {},
   "outputs": [
    {
     "data": {
      "text/html": [
       "<div>\n",
       "<style scoped>\n",
       "    .dataframe tbody tr th:only-of-type {\n",
       "        vertical-align: middle;\n",
       "    }\n",
       "\n",
       "    .dataframe tbody tr th {\n",
       "        vertical-align: top;\n",
       "    }\n",
       "\n",
       "    .dataframe thead th {\n",
       "        text-align: right;\n",
       "    }\n",
       "</style>\n",
       "<table border=\"1\" class=\"dataframe\">\n",
       "  <thead>\n",
       "    <tr style=\"text-align: right;\">\n",
       "      <th></th>\n",
       "      <th>index</th>\n",
       "      <th>datetime</th>\n",
       "      <th>latitude</th>\n",
       "      <th>longitude</th>\n",
       "      <th>absoluteAltitude</th>\n",
       "      <th>magneticHeading</th>\n",
       "      <th>trueHeading</th>\n",
       "      <th>groundSpeed</th>\n",
       "      <th>trueAirspeed</th>\n",
       "      <th>pitch</th>\n",
       "      <th>...</th>\n",
       "      <th>hasWeightOnWheels</th>\n",
       "      <th>turnRate to degPerSec</th>\n",
       "      <th>cyclicPositionPitch</th>\n",
       "      <th>cyclicPositionRoll</th>\n",
       "      <th>collectivePosition</th>\n",
       "      <th>antiTorquePedalPosition</th>\n",
       "      <th>throttlePosition</th>\n",
       "      <th>e1Torque</th>\n",
       "      <th>e2Torque</th>\n",
       "      <th>hover</th>\n",
       "    </tr>\n",
       "  </thead>\n",
       "  <tbody>\n",
       "    <tr>\n",
       "      <th>2955</th>\n",
       "      <td>320</td>\n",
       "      <td>2022-09-19 21:57:07</td>\n",
       "      <td>39.872003</td>\n",
       "      <td>-75.244645</td>\n",
       "      <td>3.048627</td>\n",
       "      <td>254.362216</td>\n",
       "      <td>242.319608</td>\n",
       "      <td>5.605137</td>\n",
       "      <td>5.609278</td>\n",
       "      <td>3.657137</td>\n",
       "      <td>...</td>\n",
       "      <td>0.0</td>\n",
       "      <td>-0.442196</td>\n",
       "      <td>-4.921765</td>\n",
       "      <td>-1.968549</td>\n",
       "      <td>42.530020</td>\n",
       "      <td>-7.193882</td>\n",
       "      <td>52.264863</td>\n",
       "      <td>52.443392</td>\n",
       "      <td>52.443392</td>\n",
       "      <td>1</td>\n",
       "    </tr>\n",
       "    <tr>\n",
       "      <th>2956</th>\n",
       "      <td>321</td>\n",
       "      <td>2022-09-19 21:57:08</td>\n",
       "      <td>39.871999</td>\n",
       "      <td>-75.244679</td>\n",
       "      <td>3.037708</td>\n",
       "      <td>254.180958</td>\n",
       "      <td>242.138375</td>\n",
       "      <td>5.810917</td>\n",
       "      <td>5.811935</td>\n",
       "      <td>4.162687</td>\n",
       "      <td>...</td>\n",
       "      <td>0.0</td>\n",
       "      <td>-0.323062</td>\n",
       "      <td>-6.295167</td>\n",
       "      <td>-1.465167</td>\n",
       "      <td>42.635708</td>\n",
       "      <td>-3.533979</td>\n",
       "      <td>52.550687</td>\n",
       "      <td>53.252729</td>\n",
       "      <td>53.252729</td>\n",
       "      <td>1</td>\n",
       "    </tr>\n",
       "    <tr>\n",
       "      <th>2957</th>\n",
       "      <td>322</td>\n",
       "      <td>2022-09-19 21:57:09</td>\n",
       "      <td>39.871991</td>\n",
       "      <td>-75.244714</td>\n",
       "      <td>3.308431</td>\n",
       "      <td>254.661020</td>\n",
       "      <td>242.618333</td>\n",
       "      <td>6.050529</td>\n",
       "      <td>6.053990</td>\n",
       "      <td>4.328373</td>\n",
       "      <td>...</td>\n",
       "      <td>0.0</td>\n",
       "      <td>0.065843</td>\n",
       "      <td>-6.191294</td>\n",
       "      <td>-0.783667</td>\n",
       "      <td>42.660000</td>\n",
       "      <td>-2.734980</td>\n",
       "      <td>52.451216</td>\n",
       "      <td>53.174941</td>\n",
       "      <td>53.174941</td>\n",
       "      <td>1</td>\n",
       "    </tr>\n",
       "    <tr>\n",
       "      <th>2958</th>\n",
       "      <td>323</td>\n",
       "      <td>2022-09-19 21:57:10</td>\n",
       "      <td>39.871981</td>\n",
       "      <td>-75.244749</td>\n",
       "      <td>3.645294</td>\n",
       "      <td>255.137765</td>\n",
       "      <td>243.095275</td>\n",
       "      <td>6.369373</td>\n",
       "      <td>6.372433</td>\n",
       "      <td>4.275510</td>\n",
       "      <td>...</td>\n",
       "      <td>0.0</td>\n",
       "      <td>0.341706</td>\n",
       "      <td>-6.662549</td>\n",
       "      <td>1.319098</td>\n",
       "      <td>42.664294</td>\n",
       "      <td>-1.857176</td>\n",
       "      <td>52.303235</td>\n",
       "      <td>52.797627</td>\n",
       "      <td>52.797627</td>\n",
       "      <td>1</td>\n",
       "    </tr>\n",
       "    <tr>\n",
       "      <th>2959</th>\n",
       "      <td>324</td>\n",
       "      <td>2022-09-19 21:57:11</td>\n",
       "      <td>39.871969</td>\n",
       "      <td>-75.244787</td>\n",
       "      <td>3.964400</td>\n",
       "      <td>256.115300</td>\n",
       "      <td>244.072780</td>\n",
       "      <td>6.803520</td>\n",
       "      <td>6.806314</td>\n",
       "      <td>4.166440</td>\n",
       "      <td>...</td>\n",
       "      <td>0.0</td>\n",
       "      <td>1.034800</td>\n",
       "      <td>-6.927800</td>\n",
       "      <td>1.604640</td>\n",
       "      <td>42.654960</td>\n",
       "      <td>-0.870780</td>\n",
       "      <td>52.173660</td>\n",
       "      <td>52.451680</td>\n",
       "      <td>52.451680</td>\n",
       "      <td>1</td>\n",
       "    </tr>\n",
       "    <tr>\n",
       "      <th>...</th>\n",
       "      <td>...</td>\n",
       "      <td>...</td>\n",
       "      <td>...</td>\n",
       "      <td>...</td>\n",
       "      <td>...</td>\n",
       "      <td>...</td>\n",
       "      <td>...</td>\n",
       "      <td>...</td>\n",
       "      <td>...</td>\n",
       "      <td>...</td>\n",
       "      <td>...</td>\n",
       "      <td>...</td>\n",
       "      <td>...</td>\n",
       "      <td>...</td>\n",
       "      <td>...</td>\n",
       "      <td>...</td>\n",
       "      <td>...</td>\n",
       "      <td>...</td>\n",
       "      <td>...</td>\n",
       "      <td>...</td>\n",
       "      <td>...</td>\n",
       "    </tr>\n",
       "    <tr>\n",
       "      <th>2712</th>\n",
       "      <td>77</td>\n",
       "      <td>2022-09-19 21:53:04</td>\n",
       "      <td>39.872849</td>\n",
       "      <td>-75.234791</td>\n",
       "      <td>0.160000</td>\n",
       "      <td>1.050717</td>\n",
       "      <td>349.002065</td>\n",
       "      <td>0.004522</td>\n",
       "      <td>0.004675</td>\n",
       "      <td>1.682717</td>\n",
       "      <td>...</td>\n",
       "      <td>0.0</td>\n",
       "      <td>-0.045804</td>\n",
       "      <td>33.367522</td>\n",
       "      <td>-20.900130</td>\n",
       "      <td>3.632000</td>\n",
       "      <td>-4.585000</td>\n",
       "      <td>44.229978</td>\n",
       "      <td>35.611522</td>\n",
       "      <td>35.611522</td>\n",
       "      <td>0</td>\n",
       "    </tr>\n",
       "    <tr>\n",
       "      <th>2783</th>\n",
       "      <td>148</td>\n",
       "      <td>2022-09-19 21:54:15</td>\n",
       "      <td>39.872672</td>\n",
       "      <td>-75.235416</td>\n",
       "      <td>0.384286</td>\n",
       "      <td>265.732347</td>\n",
       "      <td>253.684204</td>\n",
       "      <td>4.738959</td>\n",
       "      <td>4.739159</td>\n",
       "      <td>-1.762122</td>\n",
       "      <td>...</td>\n",
       "      <td>1.0</td>\n",
       "      <td>-0.491163</td>\n",
       "      <td>-32.998816</td>\n",
       "      <td>-3.660082</td>\n",
       "      <td>36.263531</td>\n",
       "      <td>-1.335041</td>\n",
       "      <td>46.207653</td>\n",
       "      <td>39.016735</td>\n",
       "      <td>39.016735</td>\n",
       "      <td>0</td>\n",
       "    </tr>\n",
       "    <tr>\n",
       "      <th>5133</th>\n",
       "      <td>0</td>\n",
       "      <td>2022-09-22 21:14:55</td>\n",
       "      <td>20.889361</td>\n",
       "      <td>-156.436185</td>\n",
       "      <td>0.038182</td>\n",
       "      <td>26.052182</td>\n",
       "      <td>35.532727</td>\n",
       "      <td>0.354818</td>\n",
       "      <td>0.368740</td>\n",
       "      <td>0.393182</td>\n",
       "      <td>...</td>\n",
       "      <td>1.0</td>\n",
       "      <td>0.084545</td>\n",
       "      <td>13.319182</td>\n",
       "      <td>13.292091</td>\n",
       "      <td>3.722000</td>\n",
       "      <td>74.884000</td>\n",
       "      <td>8.871364</td>\n",
       "      <td>-5.665000</td>\n",
       "      <td>-5.665000</td>\n",
       "      <td>0</td>\n",
       "    </tr>\n",
       "    <tr>\n",
       "      <th>6733</th>\n",
       "      <td>1600</td>\n",
       "      <td>2022-09-22 21:41:35</td>\n",
       "      <td>20.903704</td>\n",
       "      <td>-156.425491</td>\n",
       "      <td>0.762750</td>\n",
       "      <td>199.588550</td>\n",
       "      <td>209.071275</td>\n",
       "      <td>16.143250</td>\n",
       "      <td>16.143871</td>\n",
       "      <td>3.109375</td>\n",
       "      <td>...</td>\n",
       "      <td>0.0</td>\n",
       "      <td>1.207700</td>\n",
       "      <td>-5.945225</td>\n",
       "      <td>-3.820275</td>\n",
       "      <td>38.352100</td>\n",
       "      <td>-2.270725</td>\n",
       "      <td>48.340475</td>\n",
       "      <td>43.814300</td>\n",
       "      <td>43.814300</td>\n",
       "      <td>0</td>\n",
       "    </tr>\n",
       "    <tr>\n",
       "      <th>7676</th>\n",
       "      <td>456</td>\n",
       "      <td>2022-10-06 13:56:38</td>\n",
       "      <td>39.454508</td>\n",
       "      <td>-74.570424</td>\n",
       "      <td>0.227857</td>\n",
       "      <td>58.220667</td>\n",
       "      <td>45.924000</td>\n",
       "      <td>0.419952</td>\n",
       "      <td>0.420494</td>\n",
       "      <td>-1.985238</td>\n",
       "      <td>...</td>\n",
       "      <td>1.0</td>\n",
       "      <td>0.033690</td>\n",
       "      <td>-97.775929</td>\n",
       "      <td>4.515690</td>\n",
       "      <td>3.513262</td>\n",
       "      <td>-2.560643</td>\n",
       "      <td>44.220548</td>\n",
       "      <td>35.520357</td>\n",
       "      <td>35.520357</td>\n",
       "      <td>0</td>\n",
       "    </tr>\n",
       "  </tbody>\n",
       "</table>\n",
       "<p>2504 rows × 42 columns</p>\n",
       "</div>"
      ],
      "text/plain": [
       "      index            datetime   latitude   longitude  absoluteAltitude  \\\n",
       "2955    320 2022-09-19 21:57:07  39.872003  -75.244645          3.048627   \n",
       "2956    321 2022-09-19 21:57:08  39.871999  -75.244679          3.037708   \n",
       "2957    322 2022-09-19 21:57:09  39.871991  -75.244714          3.308431   \n",
       "2958    323 2022-09-19 21:57:10  39.871981  -75.244749          3.645294   \n",
       "2959    324 2022-09-19 21:57:11  39.871969  -75.244787          3.964400   \n",
       "...     ...                 ...        ...         ...               ...   \n",
       "2712     77 2022-09-19 21:53:04  39.872849  -75.234791          0.160000   \n",
       "2783    148 2022-09-19 21:54:15  39.872672  -75.235416          0.384286   \n",
       "5133      0 2022-09-22 21:14:55  20.889361 -156.436185          0.038182   \n",
       "6733   1600 2022-09-22 21:41:35  20.903704 -156.425491          0.762750   \n",
       "7676    456 2022-10-06 13:56:38  39.454508  -74.570424          0.227857   \n",
       "\n",
       "      magneticHeading  trueHeading  groundSpeed  trueAirspeed     pitch  ...  \\\n",
       "2955       254.362216   242.319608     5.605137      5.609278  3.657137  ...   \n",
       "2956       254.180958   242.138375     5.810917      5.811935  4.162687  ...   \n",
       "2957       254.661020   242.618333     6.050529      6.053990  4.328373  ...   \n",
       "2958       255.137765   243.095275     6.369373      6.372433  4.275510  ...   \n",
       "2959       256.115300   244.072780     6.803520      6.806314  4.166440  ...   \n",
       "...               ...          ...          ...           ...       ...  ...   \n",
       "2712         1.050717   349.002065     0.004522      0.004675  1.682717  ...   \n",
       "2783       265.732347   253.684204     4.738959      4.739159 -1.762122  ...   \n",
       "5133        26.052182    35.532727     0.354818      0.368740  0.393182  ...   \n",
       "6733       199.588550   209.071275    16.143250     16.143871  3.109375  ...   \n",
       "7676        58.220667    45.924000     0.419952      0.420494 -1.985238  ...   \n",
       "\n",
       "      hasWeightOnWheels  turnRate to degPerSec  cyclicPositionPitch  \\\n",
       "2955                0.0              -0.442196            -4.921765   \n",
       "2956                0.0              -0.323062            -6.295167   \n",
       "2957                0.0               0.065843            -6.191294   \n",
       "2958                0.0               0.341706            -6.662549   \n",
       "2959                0.0               1.034800            -6.927800   \n",
       "...                 ...                    ...                  ...   \n",
       "2712                0.0              -0.045804            33.367522   \n",
       "2783                1.0              -0.491163           -32.998816   \n",
       "5133                1.0               0.084545            13.319182   \n",
       "6733                0.0               1.207700            -5.945225   \n",
       "7676                1.0               0.033690           -97.775929   \n",
       "\n",
       "      cyclicPositionRoll  collectivePosition  antiTorquePedalPosition  \\\n",
       "2955           -1.968549           42.530020                -7.193882   \n",
       "2956           -1.465167           42.635708                -3.533979   \n",
       "2957           -0.783667           42.660000                -2.734980   \n",
       "2958            1.319098           42.664294                -1.857176   \n",
       "2959            1.604640           42.654960                -0.870780   \n",
       "...                  ...                 ...                      ...   \n",
       "2712          -20.900130            3.632000                -4.585000   \n",
       "2783           -3.660082           36.263531                -1.335041   \n",
       "5133           13.292091            3.722000                74.884000   \n",
       "6733           -3.820275           38.352100                -2.270725   \n",
       "7676            4.515690            3.513262                -2.560643   \n",
       "\n",
       "      throttlePosition   e1Torque   e2Torque  hover  \n",
       "2955         52.264863  52.443392  52.443392      1  \n",
       "2956         52.550687  53.252729  53.252729      1  \n",
       "2957         52.451216  53.174941  53.174941      1  \n",
       "2958         52.303235  52.797627  52.797627      1  \n",
       "2959         52.173660  52.451680  52.451680      1  \n",
       "...                ...        ...        ...    ...  \n",
       "2712         44.229978  35.611522  35.611522      0  \n",
       "2783         46.207653  39.016735  39.016735      0  \n",
       "5133          8.871364  -5.665000  -5.665000      0  \n",
       "6733         48.340475  43.814300  43.814300      0  \n",
       "7676         44.220548  35.520357  35.520357      0  \n",
       "\n",
       "[2504 rows x 42 columns]"
      ]
     },
     "execution_count": 86,
     "metadata": {},
     "output_type": "execute_result"
    }
   ],
   "source": [
    "merged3"
   ]
  },
  {
   "cell_type": "code",
   "execution_count": 87,
   "metadata": {},
   "outputs": [],
   "source": [
    "# Split the data into X and y\n",
    "x3 = merged3[model_features]   \n",
    "y3 = merged3['hover']"
   ]
  },
  {
   "cell_type": "code",
   "execution_count": 88,
   "metadata": {},
   "outputs": [
    {
     "name": "stdout",
     "output_type": "stream",
     "text": [
      "1252\n",
      "1252\n",
      "0.5\n"
     ]
    }
   ],
   "source": [
    "total = 0\n",
    "h = 0\n",
    "non_h = 0\n",
    "for i in y3:\n",
    "    if i == 1:\n",
    "        h += 1\n",
    "    else:\n",
    "        non_h += 1\n",
    "    total += 1\n",
    "    \n",
    "print(h)\n",
    "print(non_h)\n",
    "print(non_h/total)"
   ]
  },
  {
   "cell_type": "code",
   "execution_count": 89,
   "metadata": {},
   "outputs": [
    {
     "name": "stdout",
     "output_type": "stream",
     "text": [
      "Accuracy of LR classifier on training set: 0.85\n"
     ]
    }
   ],
   "source": [
    "#LR standardizing \n",
    "scaler3 = StandardScaler()\n",
    "x3 = scaler3.fit_transform(x3)\n",
    "\n",
    "\n",
    "LR3 = LogisticRegression()    # Bring empty logistic regression model\n",
    "LR3.fit(x3,y3)                  # Train the model with all data\n",
    "print('Accuracy of LR classifier on training set: {:.2f}'\n",
    "     .format(LR3.score(x3, y3)))\n"
   ]
  },
  {
   "cell_type": "code",
   "execution_count": 90,
   "metadata": {},
   "outputs": [
    {
     "name": "stdout",
     "output_type": "stream",
     "text": [
      "Hover Taxi Accuracy (training) =  0.8498402555910544\n",
      "Recall =  0.950479233226837\n",
      "Precision =  0.7912234042553191\n"
     ]
    }
   ],
   "source": [
    "y3_pred_LR = LR3.predict(x3)\n",
    "\n",
    "LR3_accuracy = metrics.accuracy_score(y3_pred_LR,y3)\n",
    "print('Hover Taxi Accuracy (training) = ',LR3_accuracy)\n",
    "print('Recall = ',metrics.recall_score(y3, y3_pred_LR))\n",
    "print('Precision = ',metrics.precision_score(y3, y3_pred_LR))"
   ]
  },
  {
   "cell_type": "code",
   "execution_count": 91,
   "metadata": {},
   "outputs": [
    {
     "data": {
      "image/png": "[encoded data removed]",
      "text/plain": [
       "<Figure size 640x480 with 2 Axes>"
      ]
     },
     "metadata": {},
     "output_type": "display_data"
    }
   ],
   "source": [
    "cm3 = metrics.confusion_matrix(y3, y3_pred_LR)    # Create a confusion matrix from predicted y and original y value.\n",
    "                                                    \n",
    "\n",
    "ax3= plt.subplot()\n",
    "sns.heatmap(cm3, annot=True, cmap = 'Reds', fmt='.0f', ax=ax3);  \n",
    "# labels, title and ticks\n",
    "ax3.set_xlabel('Predicted labels');ax3.set_ylabel('True labels'); \n",
    "ax3.set_title('Confusion Matrix for Hover Taxis (Training data)')\n",
    "ax3.xaxis.set_ticklabels(['Not_Hover_Taxi', 'Hover_Taxi']); ax3.yaxis.set_ticklabels(['Not_Hover_Taxi', 'Hover_Taxi']);"
   ]
  },
  {
   "cell_type": "code",
   "execution_count": 92,
   "metadata": {},
   "outputs": [],
   "source": [
    "y3_pred_proba = LR3.predict_proba(x3)   # Get the probability of LR classification (replace with other classifier results as needed)\n",
    "                                          \n",
    "false_positive_rate3, true_positive_rate3, thresholds3 = metrics.roc_curve(y3, y3_pred_proba[:,1])     \n",
    "# Orignally predict_proba returned 2 values for both classes. \n",
    "# So, we picked second one which gives the probability of class 1"
   ]
  },
  {
   "cell_type": "code",
   "execution_count": 93,
   "metadata": {},
   "outputs": [
    {
     "data": {
      "text/plain": [
       "[<matplotlib.lines.Line2D at 0x1ae62c943d0>]"
      ]
     },
     "execution_count": 93,
     "metadata": {},
     "output_type": "execute_result"
    },
    {
     "data": {
      "image/png": "[encoded data removed]",
      "text/plain": [
       "<Figure size 640x480 with 1 Axes>"
      ]
     },
     "metadata": {},
     "output_type": "display_data"
    }
   ],
   "source": [
    "# Plot ROC curve \n",
    "%matplotlib inline  \n",
    "plt.ylabel('True Positive Rate')\n",
    "plt.xlabel('False Positive Rate')\n",
    "plt.title('ROC curve for hover taxis (logistic regression)')\n",
    "plt.plot(false_positive_rate3, true_positive_rate3)  \n"
   ]
  },
  {
   "cell_type": "code",
   "execution_count": 94,
   "metadata": {
    "scrolled": true
   },
   "outputs": [
    {
     "name": "stdout",
     "output_type": "stream",
     "text": [
      "AUC curve for hover taxis (LR) = 0.9284550470046646\n"
     ]
    }
   ],
   "source": [
    "# Compute AUC\n",
    "auc3 = metrics.auc(false_positive_rate3, true_positive_rate3)   # metrics also provide the auc area\n",
    "print(\"AUC curve for hover taxis (LR) =\", auc3)"
   ]
  },
  {
   "cell_type": "markdown",
   "metadata": {},
   "source": [
    "### Saving Model"
   ]
  },
  {
   "cell_type": "code",
   "execution_count": 95,
   "metadata": {},
   "outputs": [],
   "source": [
    "pickle.dump(LR3, open('hover_ss2.pkl', 'wb'))"
   ]
  },
  {
   "cell_type": "code",
   "execution_count": 96,
   "metadata": {},
   "outputs": [],
   "source": [
    "pickle.dump(scaler3, open('scaler3_ss.pkl','wb'))"
   ]
  },
  {
   "cell_type": "markdown",
   "metadata": {},
   "source": [
    "### Load new data for validation"
   ]
  },
  {
   "cell_type": "code",
   "execution_count": 97,
   "metadata": {},
   "outputs": [
    {
     "name": "stderr",
     "output_type": "stream",
     "text": [
      "C:\\Users\\fariy\\AppData\\Local\\Temp\\ipykernel_23644\\17026926.py:3: SettingWithCopyWarning: \n",
      "A value is trying to be set on a copy of a slice from a DataFrame.\n",
      "Try using .loc[row_indexer,col_indexer] = value instead\n",
      "\n",
      "See the caveats in the documentation: https://pandas.pydata.org/pandas-docs/stable/user_guide/indexing.html#returning-a-view-versus-a-copy\n",
      "  df_temp['datetime'] = df_temp.datetime.dt.strftime('%Y-%m-%d %H:%M:%S').astype('datetime64[ns]')\n"
     ]
    }
   ],
   "source": [
    "# reading files from 10/20 dataset\n",
    "dfhover = pd.read_csv('SimData_2022.10.20_17.19.15.csv.roar.csv',\n",
    "                parse_dates = {'datetime': ['date', 'time']},\n",
    "                low_memory=False)\n",
    "dfhover = df_transformation(dfhover)"
   ]
  },
  {
   "cell_type": "code",
   "execution_count": 98,
   "metadata": {},
   "outputs": [
    {
     "data": {
      "text/html": [
       "<div>\n",
       "<style scoped>\n",
       "    .dataframe tbody tr th:only-of-type {\n",
       "        vertical-align: middle;\n",
       "    }\n",
       "\n",
       "    .dataframe tbody tr th {\n",
       "        vertical-align: top;\n",
       "    }\n",
       "\n",
       "    .dataframe thead th {\n",
       "        text-align: right;\n",
       "    }\n",
       "</style>\n",
       "<table border=\"1\" class=\"dataframe\">\n",
       "  <thead>\n",
       "    <tr style=\"text-align: right;\">\n",
       "      <th></th>\n",
       "      <th>datetime</th>\n",
       "      <th>latitude</th>\n",
       "      <th>longitude</th>\n",
       "      <th>absoluteAltitude</th>\n",
       "      <th>magneticHeading</th>\n",
       "      <th>trueHeading</th>\n",
       "      <th>groundSpeed</th>\n",
       "      <th>trueAirspeed</th>\n",
       "      <th>pitch</th>\n",
       "      <th>roll</th>\n",
       "      <th>...</th>\n",
       "      <th>hasWeightOnWheels</th>\n",
       "      <th>turnRate to degPerSec</th>\n",
       "      <th>cyclicPositionPitch</th>\n",
       "      <th>cyclicPositionRoll</th>\n",
       "      <th>collectivePosition</th>\n",
       "      <th>antiTorquePedalPosition</th>\n",
       "      <th>throttlePosition</th>\n",
       "      <th>e1Torque</th>\n",
       "      <th>e2Torque</th>\n",
       "      <th>hover</th>\n",
       "    </tr>\n",
       "  </thead>\n",
       "  <tbody>\n",
       "    <tr>\n",
       "      <th>0</th>\n",
       "      <td>2022-10-20 21:19:29</td>\n",
       "      <td>51.462292</td>\n",
       "      <td>-0.451407</td>\n",
       "      <td>0.020000</td>\n",
       "      <td>89.739556</td>\n",
       "      <td>89.516000</td>\n",
       "      <td>0.321667</td>\n",
       "      <td>0.329948</td>\n",
       "      <td>0.619333</td>\n",
       "      <td>0.785556</td>\n",
       "      <td>...</td>\n",
       "      <td>1.0</td>\n",
       "      <td>0.044000</td>\n",
       "      <td>-0.418556</td>\n",
       "      <td>-8.537667</td>\n",
       "      <td>3.595667</td>\n",
       "      <td>-9.838111</td>\n",
       "      <td>0.000000</td>\n",
       "      <td>-5.374333</td>\n",
       "      <td>-5.374333</td>\n",
       "      <td>0</td>\n",
       "    </tr>\n",
       "    <tr>\n",
       "      <th>1</th>\n",
       "      <td>2022-10-20 21:19:30</td>\n",
       "      <td>51.462292</td>\n",
       "      <td>-0.451407</td>\n",
       "      <td>0.051351</td>\n",
       "      <td>89.347595</td>\n",
       "      <td>89.123865</td>\n",
       "      <td>0.040459</td>\n",
       "      <td>0.043540</td>\n",
       "      <td>0.671757</td>\n",
       "      <td>0.586081</td>\n",
       "      <td>...</td>\n",
       "      <td>1.0</td>\n",
       "      <td>-0.126703</td>\n",
       "      <td>0.530730</td>\n",
       "      <td>0.700162</td>\n",
       "      <td>3.612054</td>\n",
       "      <td>-9.851946</td>\n",
       "      <td>0.000000</td>\n",
       "      <td>-4.986000</td>\n",
       "      <td>-4.986000</td>\n",
       "      <td>0</td>\n",
       "    </tr>\n",
       "    <tr>\n",
       "      <th>2</th>\n",
       "      <td>2022-10-20 21:19:31</td>\n",
       "      <td>51.462292</td>\n",
       "      <td>-0.451407</td>\n",
       "      <td>0.060000</td>\n",
       "      <td>89.505306</td>\n",
       "      <td>89.281556</td>\n",
       "      <td>0.002278</td>\n",
       "      <td>0.002567</td>\n",
       "      <td>0.675694</td>\n",
       "      <td>0.557528</td>\n",
       "      <td>...</td>\n",
       "      <td>1.0</td>\n",
       "      <td>-0.034167</td>\n",
       "      <td>0.606722</td>\n",
       "      <td>-0.132028</td>\n",
       "      <td>3.548028</td>\n",
       "      <td>-9.858083</td>\n",
       "      <td>0.000000</td>\n",
       "      <td>-2.689556</td>\n",
       "      <td>-2.689556</td>\n",
       "      <td>0</td>\n",
       "    </tr>\n",
       "    <tr>\n",
       "      <th>3</th>\n",
       "      <td>2022-10-20 21:19:32</td>\n",
       "      <td>51.462292</td>\n",
       "      <td>-0.451407</td>\n",
       "      <td>0.060000</td>\n",
       "      <td>89.540108</td>\n",
       "      <td>89.316351</td>\n",
       "      <td>0.001054</td>\n",
       "      <td>0.002066</td>\n",
       "      <td>0.676405</td>\n",
       "      <td>0.554432</td>\n",
       "      <td>...</td>\n",
       "      <td>1.0</td>\n",
       "      <td>-0.010919</td>\n",
       "      <td>0.579514</td>\n",
       "      <td>-0.028351</td>\n",
       "      <td>3.575892</td>\n",
       "      <td>-9.864270</td>\n",
       "      <td>0.000000</td>\n",
       "      <td>-1.498676</td>\n",
       "      <td>-1.498676</td>\n",
       "      <td>0</td>\n",
       "    </tr>\n",
       "    <tr>\n",
       "      <th>4</th>\n",
       "      <td>2022-10-20 21:19:33</td>\n",
       "      <td>51.462292</td>\n",
       "      <td>-0.451407</td>\n",
       "      <td>0.060000</td>\n",
       "      <td>89.555083</td>\n",
       "      <td>89.331528</td>\n",
       "      <td>0.000944</td>\n",
       "      <td>0.001596</td>\n",
       "      <td>0.676694</td>\n",
       "      <td>0.552472</td>\n",
       "      <td>...</td>\n",
       "      <td>1.0</td>\n",
       "      <td>-0.002639</td>\n",
       "      <td>0.897722</td>\n",
       "      <td>-0.031250</td>\n",
       "      <td>3.579389</td>\n",
       "      <td>-10.675278</td>\n",
       "      <td>0.000000</td>\n",
       "      <td>-0.702167</td>\n",
       "      <td>-0.702167</td>\n",
       "      <td>0</td>\n",
       "    </tr>\n",
       "    <tr>\n",
       "      <th>...</th>\n",
       "      <td>...</td>\n",
       "      <td>...</td>\n",
       "      <td>...</td>\n",
       "      <td>...</td>\n",
       "      <td>...</td>\n",
       "      <td>...</td>\n",
       "      <td>...</td>\n",
       "      <td>...</td>\n",
       "      <td>...</td>\n",
       "      <td>...</td>\n",
       "      <td>...</td>\n",
       "      <td>...</td>\n",
       "      <td>...</td>\n",
       "      <td>...</td>\n",
       "      <td>...</td>\n",
       "      <td>...</td>\n",
       "      <td>...</td>\n",
       "      <td>...</td>\n",
       "      <td>...</td>\n",
       "      <td>...</td>\n",
       "      <td>...</td>\n",
       "    </tr>\n",
       "    <tr>\n",
       "      <th>2458</th>\n",
       "      <td>2022-10-20 22:01:53</td>\n",
       "      <td>51.472413</td>\n",
       "      <td>-0.467716</td>\n",
       "      <td>0.120000</td>\n",
       "      <td>255.100974</td>\n",
       "      <td>254.870000</td>\n",
       "      <td>0.000000</td>\n",
       "      <td>0.000000</td>\n",
       "      <td>0.877949</td>\n",
       "      <td>0.023000</td>\n",
       "      <td>...</td>\n",
       "      <td>1.0</td>\n",
       "      <td>-0.000359</td>\n",
       "      <td>30.270026</td>\n",
       "      <td>-6.240692</td>\n",
       "      <td>3.732000</td>\n",
       "      <td>1.643385</td>\n",
       "      <td>43.994000</td>\n",
       "      <td>35.081795</td>\n",
       "      <td>35.081795</td>\n",
       "      <td>0</td>\n",
       "    </tr>\n",
       "    <tr>\n",
       "      <th>2459</th>\n",
       "      <td>2022-10-20 22:01:54</td>\n",
       "      <td>51.472413</td>\n",
       "      <td>-0.467716</td>\n",
       "      <td>0.120000</td>\n",
       "      <td>254.911056</td>\n",
       "      <td>254.680306</td>\n",
       "      <td>0.046278</td>\n",
       "      <td>0.046263</td>\n",
       "      <td>0.885250</td>\n",
       "      <td>0.015194</td>\n",
       "      <td>...</td>\n",
       "      <td>1.0</td>\n",
       "      <td>-0.065611</td>\n",
       "      <td>30.119806</td>\n",
       "      <td>-6.162111</td>\n",
       "      <td>3.732000</td>\n",
       "      <td>1.636833</td>\n",
       "      <td>13.442528</td>\n",
       "      <td>16.198861</td>\n",
       "      <td>16.198861</td>\n",
       "      <td>0</td>\n",
       "    </tr>\n",
       "    <tr>\n",
       "      <th>2460</th>\n",
       "      <td>2022-10-20 22:01:55</td>\n",
       "      <td>51.472413</td>\n",
       "      <td>-0.467716</td>\n",
       "      <td>0.120000</td>\n",
       "      <td>253.661000</td>\n",
       "      <td>253.430270</td>\n",
       "      <td>0.037622</td>\n",
       "      <td>0.038063</td>\n",
       "      <td>0.881405</td>\n",
       "      <td>0.024730</td>\n",
       "      <td>...</td>\n",
       "      <td>1.0</td>\n",
       "      <td>-0.421027</td>\n",
       "      <td>30.729297</td>\n",
       "      <td>-6.434946</td>\n",
       "      <td>3.739324</td>\n",
       "      <td>1.657459</td>\n",
       "      <td>0.000000</td>\n",
       "      <td>-4.099730</td>\n",
       "      <td>-4.099730</td>\n",
       "      <td>0</td>\n",
       "    </tr>\n",
       "    <tr>\n",
       "      <th>2461</th>\n",
       "      <td>2022-10-20 22:01:56</td>\n",
       "      <td>51.472413</td>\n",
       "      <td>-0.467716</td>\n",
       "      <td>0.120000</td>\n",
       "      <td>253.704162</td>\n",
       "      <td>253.473459</td>\n",
       "      <td>0.005973</td>\n",
       "      <td>0.006037</td>\n",
       "      <td>0.801757</td>\n",
       "      <td>0.031649</td>\n",
       "      <td>...</td>\n",
       "      <td>1.0</td>\n",
       "      <td>-0.233838</td>\n",
       "      <td>30.979135</td>\n",
       "      <td>-6.213486</td>\n",
       "      <td>3.756514</td>\n",
       "      <td>1.886703</td>\n",
       "      <td>0.000000</td>\n",
       "      <td>-2.887649</td>\n",
       "      <td>-2.887649</td>\n",
       "      <td>0</td>\n",
       "    </tr>\n",
       "    <tr>\n",
       "      <th>2462</th>\n",
       "      <td>2022-10-20 22:01:57</td>\n",
       "      <td>51.472413</td>\n",
       "      <td>-0.467716</td>\n",
       "      <td>0.120000</td>\n",
       "      <td>253.766231</td>\n",
       "      <td>253.535654</td>\n",
       "      <td>0.003000</td>\n",
       "      <td>0.003099</td>\n",
       "      <td>0.758308</td>\n",
       "      <td>0.030923</td>\n",
       "      <td>...</td>\n",
       "      <td>1.0</td>\n",
       "      <td>-0.132462</td>\n",
       "      <td>31.245692</td>\n",
       "      <td>-6.242000</td>\n",
       "      <td>3.737077</td>\n",
       "      <td>1.759808</td>\n",
       "      <td>0.000000</td>\n",
       "      <td>-1.827846</td>\n",
       "      <td>-1.827846</td>\n",
       "      <td>0</td>\n",
       "    </tr>\n",
       "  </tbody>\n",
       "</table>\n",
       "<p>2463 rows × 41 columns</p>\n",
       "</div>"
      ],
      "text/plain": [
       "                datetime   latitude  longitude  absoluteAltitude  \\\n",
       "0    2022-10-20 21:19:29  51.462292  -0.451407          0.020000   \n",
       "1    2022-10-20 21:19:30  51.462292  -0.451407          0.051351   \n",
       "2    2022-10-20 21:19:31  51.462292  -0.451407          0.060000   \n",
       "3    2022-10-20 21:19:32  51.462292  -0.451407          0.060000   \n",
       "4    2022-10-20 21:19:33  51.462292  -0.451407          0.060000   \n",
       "...                  ...        ...        ...               ...   \n",
       "2458 2022-10-20 22:01:53  51.472413  -0.467716          0.120000   \n",
       "2459 2022-10-20 22:01:54  51.472413  -0.467716          0.120000   \n",
       "2460 2022-10-20 22:01:55  51.472413  -0.467716          0.120000   \n",
       "2461 2022-10-20 22:01:56  51.472413  -0.467716          0.120000   \n",
       "2462 2022-10-20 22:01:57  51.472413  -0.467716          0.120000   \n",
       "\n",
       "      magneticHeading  trueHeading  groundSpeed  trueAirspeed     pitch  \\\n",
       "0           89.739556    89.516000     0.321667      0.329948  0.619333   \n",
       "1           89.347595    89.123865     0.040459      0.043540  0.671757   \n",
       "2           89.505306    89.281556     0.002278      0.002567  0.675694   \n",
       "3           89.540108    89.316351     0.001054      0.002066  0.676405   \n",
       "4           89.555083    89.331528     0.000944      0.001596  0.676694   \n",
       "...               ...          ...          ...           ...       ...   \n",
       "2458       255.100974   254.870000     0.000000      0.000000  0.877949   \n",
       "2459       254.911056   254.680306     0.046278      0.046263  0.885250   \n",
       "2460       253.661000   253.430270     0.037622      0.038063  0.881405   \n",
       "2461       253.704162   253.473459     0.005973      0.006037  0.801757   \n",
       "2462       253.766231   253.535654     0.003000      0.003099  0.758308   \n",
       "\n",
       "          roll  ...  hasWeightOnWheels  turnRate to degPerSec  \\\n",
       "0     0.785556  ...                1.0               0.044000   \n",
       "1     0.586081  ...                1.0              -0.126703   \n",
       "2     0.557528  ...                1.0              -0.034167   \n",
       "3     0.554432  ...                1.0              -0.010919   \n",
       "4     0.552472  ...                1.0              -0.002639   \n",
       "...        ...  ...                ...                    ...   \n",
       "2458  0.023000  ...                1.0              -0.000359   \n",
       "2459  0.015194  ...                1.0              -0.065611   \n",
       "2460  0.024730  ...                1.0              -0.421027   \n",
       "2461  0.031649  ...                1.0              -0.233838   \n",
       "2462  0.030923  ...                1.0              -0.132462   \n",
       "\n",
       "      cyclicPositionPitch  cyclicPositionRoll  collectivePosition  \\\n",
       "0               -0.418556           -8.537667            3.595667   \n",
       "1                0.530730            0.700162            3.612054   \n",
       "2                0.606722           -0.132028            3.548028   \n",
       "3                0.579514           -0.028351            3.575892   \n",
       "4                0.897722           -0.031250            3.579389   \n",
       "...                   ...                 ...                 ...   \n",
       "2458            30.270026           -6.240692            3.732000   \n",
       "2459            30.119806           -6.162111            3.732000   \n",
       "2460            30.729297           -6.434946            3.739324   \n",
       "2461            30.979135           -6.213486            3.756514   \n",
       "2462            31.245692           -6.242000            3.737077   \n",
       "\n",
       "      antiTorquePedalPosition  throttlePosition   e1Torque   e2Torque  hover  \n",
       "0                   -9.838111          0.000000  -5.374333  -5.374333      0  \n",
       "1                   -9.851946          0.000000  -4.986000  -4.986000      0  \n",
       "2                   -9.858083          0.000000  -2.689556  -2.689556      0  \n",
       "3                   -9.864270          0.000000  -1.498676  -1.498676      0  \n",
       "4                  -10.675278          0.000000  -0.702167  -0.702167      0  \n",
       "...                       ...               ...        ...        ...    ...  \n",
       "2458                 1.643385         43.994000  35.081795  35.081795      0  \n",
       "2459                 1.636833         13.442528  16.198861  16.198861      0  \n",
       "2460                 1.657459          0.000000  -4.099730  -4.099730      0  \n",
       "2461                 1.886703          0.000000  -2.887649  -2.887649      0  \n",
       "2462                 1.759808          0.000000  -1.827846  -1.827846      0  \n",
       "\n",
       "[2463 rows x 41 columns]"
      ]
     },
     "execution_count": 98,
     "metadata": {},
     "output_type": "execute_result"
    }
   ],
   "source": [
    "dfhover['hover'] = 0\n",
    "\n",
    "dfhover.loc[(dfhover['datetime'].between('2022-10-20 21:42:00' , '2022-10-20 21:46:30' , inclusive='both')),['hover']] = 1\n",
    "dfhover.loc[(dfhover['datetime'].between('2022-10-20 21:50:00' , '2022-10-20 21:52:05' , inclusive='both')),['hover']] = 1\n",
    "dfhover.loc[(dfhover['datetime'].between('2022-10-20 21:54:00' , '2022-10-20 21:56:45' , inclusive='both')),['hover']] = 1\n",
    "dfhover.loc[(dfhover['datetime'].between('2022-10-20 21:58:00' , '2022-10-20 22:00:08' , inclusive='both')),['hover']] = 1\n",
    "dfhover"
   ]
  },
  {
   "cell_type": "code",
   "execution_count": 99,
   "metadata": {},
   "outputs": [],
   "source": [
    "# Split the data into X and y\n",
    "X3 = dfhover[model_features]   \n",
    "Y3 = dfhover['hover']"
   ]
  },
  {
   "cell_type": "markdown",
   "metadata": {},
   "source": [
    "### Load pickle"
   ]
  },
  {
   "cell_type": "code",
   "execution_count": 100,
   "metadata": {},
   "outputs": [],
   "source": [
    "LR3_loaded = pickle.load(open('hover_ss2.pkl', 'rb'))\n",
    "scaler3_loaded = pickle.load(open('scaler3_ss.pkl','rb'))"
   ]
  },
  {
   "cell_type": "code",
   "execution_count": 101,
   "metadata": {},
   "outputs": [],
   "source": [
    "# LR\n",
    "\n",
    "x3_valid = scaler3_loaded.transform(X3)"
   ]
  },
  {
   "cell_type": "code",
   "execution_count": 102,
   "metadata": {},
   "outputs": [
    {
     "name": "stdout",
     "output_type": "stream",
     "text": [
      "Accuracy of Model:: 0.8660170523751523\n"
     ]
    }
   ],
   "source": [
    "validation3_LR = LR3_loaded.predict(x3_valid)\n",
    "print(\"Accuracy of Model::\",accuracy_score(Y3,validation3_LR))"
   ]
  },
  {
   "cell_type": "code",
   "execution_count": 103,
   "metadata": {},
   "outputs": [
    {
     "name": "stdout",
     "output_type": "stream",
     "text": [
      "Hover Taxi accuracy (validation) =  0.8660170523751523\n",
      "Recall =  0.9869942196531792\n",
      "Precision =  0.6802788844621513\n"
     ]
    }
   ],
   "source": [
    "y3_pred_LR = LR3.predict(x3_valid)\n",
    "\n",
    "LR10_accuracy = metrics.accuracy_score(y3_pred_LR,Y3)\n",
    "print('Hover Taxi accuracy (validation) = ', LR10_accuracy)\n",
    "print('Recall = ',metrics.recall_score(Y3, y3_pred_LR))\n",
    "print('Precision = ',metrics.precision_score(Y3, y3_pred_LR))"
   ]
  },
  {
   "cell_type": "code",
   "execution_count": 104,
   "metadata": {},
   "outputs": [
    {
     "data": {
      "image/png": "[encoded data removed]",
      "text/plain": [
       "<Figure size 640x480 with 2 Axes>"
      ]
     },
     "metadata": {},
     "output_type": "display_data"
    }
   ],
   "source": [
    "CM3 = metrics.confusion_matrix(Y3, y3_pred_LR)    # Create a confusion matrix from predicted y and original y value.\n",
    "                                                    \n",
    "           \n",
    "AX3= plt.subplot()\n",
    "sns.heatmap(CM3, annot=True, cmap = 'Reds', fmt='.0f', ax=AX3); \n",
    "\n",
    "# labels, title and ticks\n",
    "AX3.set_xlabel('Predicted labels');AX3.set_ylabel('True labels'); \n",
    "AX3.set_title('Confusion Matrix for Hover Taxis (Validation data)')\n",
    "AX3.xaxis.set_ticklabels(['Not_Hover_Taxi', 'Hover_Taxi']); AX3.yaxis.set_ticklabels(['Not_Hover_Taxi', 'Hover_Taxi']);"
   ]
  },
  {
   "cell_type": "code",
   "execution_count": null,
   "metadata": {},
   "outputs": [],
   "source": []
  }
 ],
 "metadata": {
  "kernelspec": {
   "display_name": "Python 3 (ipykernel)",
   "language": "python",
   "name": "python3"
  },
  "language_info": {
   "codemirror_mode": {
    "name": "ipython",
    "version": 3
   },
   "file_extension": ".py",
   "mimetype": "text/x-python",
   "name": "python",
   "nbconvert_exporter": "python",
   "pygments_lexer": "ipython3",
   "version": "3.9.2"
  }
 },
 "nbformat": 4,
 "nbformat_minor": 4
}
